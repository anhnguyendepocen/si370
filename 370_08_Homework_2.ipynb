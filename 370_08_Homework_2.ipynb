{
 "cells": [
  {
   "cell_type": "markdown",
   "metadata": {},
   "source": [
    "# SI 370 - Homework #2: Visualization"
   ]
  },
  {
   "cell_type": "markdown",
   "metadata": {},
   "source": [
    "Imagine you are employed as a data scientist Olympic Studies Centre, whose mission is \"to share Olympic knowledge with professionals and researchers through providing information, giving access to our unique collections, enabling research and stimulating intellectual exchange\" (https://www.olympic.org/olympic-studies-centre).\n",
    "\n",
    "You are tasked to create visualizations of historical Olympic data that reflect your exploration of the data.\n",
    "In addition, you have been asked to create an interactive visualization that would be suitable for use by \n",
    "someone without a data science background but who is interested in the history of Olympic performance.\n",
    "\n",
    "This homework assignment consists of three main parts:\n",
    "1. Question Formulation\n",
    "2. Seaborn and Bokeh Visualizations\n",
    "3. Advanced Visualization using Bokeh\n",
    "\n",
    "You will be using the same data set(s) you used in the first homework assignment, available via  https://www.kaggle.com/heesoo37/120-years-of-olympic-history-athletes-and-results.  You are allowed to \n",
    "use adjunct data sets (such as the one that was used for the Bonus Question in Homework #1), although you\n",
    "are not required to do so.\n",
    "\n",
    "\n",
    "## 1. Question Forumulation (6 points)\n",
    "\n",
    "Being able to formulate good questions is an important aspect of exploratory data analysis.  This part\n",
    "of the homework provides an opportunity for you to practice developing this skill.\n",
    "\n",
    "Generate three (3) authentic exploratory questions about the data, similar in nature to what was asked in the previous homework assignment's questions 5, 6, and the Bonus Question.  When contemplating which questions to pose, keep in mind that you should generate questions that can be answered using visualizations of the data.  Questions should be chosen to allow you to demonstrate your ability to both manipulate data and visualize it.  Selecting overly simplistic questions (e.g. \"What is the median age of female swimmers\") will not earn full points.\n",
    "\n",
    "Questions should start with \"I wonder...\".  For example:  \"I wonder how the number of different events in the Summer Olympics has changed over time\".\n",
    "\n",
    "We suggest working on question formulation in teams during class and asking peers and the teaching team for feedback.  You should also feel free to circle back after you work on your visualizations to rephrase or reframe your questions.\n",
    "\n",
    "\n",
    "## 2. Seaborn and Bokeh Visualizations (20 points)\n",
    "Create one or more Seaborn-based **and** one or more Bokeh-based visualizations that can provide visual answers to the questions you posed in the previous section.  A total of *at least* four (4) visualizations should be used, including one from each of Seaborn and Bokeh. If you create more than four visualizations, the best four will be\n",
    "counted.  The following rubric will be used for each visualization:\n",
    "\n",
    "* 5 points: Excellent visualization that goes beyond the basics covered in class.  Clear understanding of the visualization toolkit's functionality, typically learned from studying the documentation and/or examples from other sources.\n",
    "* 4 points: Good visualization that uses basic charting and plotting functions as covered in class.\n",
    "* 3 points: Acceptable visualization with some errors or omissions.  \n",
    "* 2 points: Perfunctory attempt at creating a visualization.\n",
    "\n",
    "\n",
    "## 3. Adapting the ```Gapminder``` Visualization (4 points)\n",
    "Use some of the functionality from the Bokeh-based Gapminder visualization (detailed below) to create an interactive visualization that allows a user to explore the Olympics data set.  This section should also be driven by an overarching question that seeks to understand the relationship between two or more variables.  You must state this question as part of your answer to this section.\n",
    "\n",
    "To create your interactive visualization, think about the number of variables that you want to present, along with the number of modalities that are available to you.  For example, in the Gapminder demo, there are three continuous variables (Children per woman, Life expectancy at birth, and Population) and two categorical variables (continent and year).  You don't need to use that many variables but you should be aware that you have quite a few options.\n",
    "\n",
    "The number of points awarded for this section will be based on the degree to which your visualization allows the user (in this case, Chris and Minje) to explore your data while attempting to answer your question.  The following rubric will be used:\n",
    "\n",
    "* 4 points: Excellent work that allows deep and thorough exploration of the data and that can reveal otherwise invisible features (\"surprises\").\n",
    "* 2 points: Acceptable work that uses one advanced feature from the Gapminder visualization.\n",
    "* 1 points: At least you tried!\n",
    "\n",
    "You should create a new notebook for this homework.  The notebook\n",
    "should conform to PEP-8 and \"Elements of Style\" guidelines.  The final notebook should represent your own original\n",
    "work, although you are encouraged to work in groups while formulating questions and general approaches to\n",
    "visualizations."
   ]
  },
  {
   "cell_type": "markdown",
   "metadata": {},
   "source": [
    "The remainder of this notebook is based on the Gapminder visualization tutorial https://rebeccabilbro.github.io/interactive-viz-bokeh/, which is a Bokeh-based implementation of\n",
    "Prof. Hans Rosling's famous [TED talk](https://www.ted.com/talks/hans_rosling_shows_the_best_stats_you_ve_ever_seen).\n",
    "\n",
    "You are encouraged to study that page for more information about how the following code works."
   ]
  },
  {
   "cell_type": "code",
   "execution_count": null,
   "metadata": {},
   "outputs": [],
   "source": [
    "import numpy as np\n",
    "import pandas as pd\n",
    "\n",
    "from bokeh.layouts import layout\n",
    "from bokeh.layouts import widgetbox\n",
    "\n",
    "from bokeh.embed import file_html\n",
    "\n",
    "from bokeh.io import show\n",
    "from bokeh.io import output_notebook\n",
    "\n",
    "from bokeh.models import Text\n",
    "from bokeh.models import Plot\n",
    "from bokeh.models import Slider\n",
    "from bokeh.models import Circle\n",
    "from bokeh.models import Range1d\n",
    "from bokeh.models import CustomJS\n",
    "from bokeh.models import HoverTool\n",
    "from bokeh.models import LinearAxis\n",
    "from bokeh.models import ColumnDataSource\n",
    "from bokeh.models import SingleIntervalTicker\n",
    "\n",
    "from bokeh.palettes import Spectral6"
   ]
  },
  {
   "cell_type": "code",
   "execution_count": null,
   "metadata": {},
   "outputs": [],
   "source": [
    "output_notebook()"
   ]
  },
  {
   "cell_type": "markdown",
   "metadata": {},
   "source": [
    "First we will load each of the datasets with the process_data() function and do a bit of clean up:"
   ]
  },
  {
   "cell_type": "code",
   "execution_count": null,
   "metadata": {},
   "outputs": [],
   "source": [
    "def process_data():\n",
    "    fertility = pd.read_csv('data/gapminder_fertility.csv')\n",
    "    regions = pd.read_csv('data/gapminder_regions.csv')\n",
    "    population = pd.read_csv('data/gapminder_population.csv')\n",
    "    life_expect = pd.read_csv('data/gapminder_life_expectancy.csv')\n",
    "\n",
    "    fertility = fertility.set_index('Country')\n",
    "    regions = regions.set_index('Country')\n",
    "    population = population.set_index('Country')\n",
    "    life_expect = life_expect.set_index('Country')\n",
    "    \n",
    "    # Make the column names ints not strings for handling\n",
    "    columns     = list(fertility.columns)\n",
    "    years       = list(range(int(columns[0]), int(columns[-1])))\n",
    "    rename_dict = dict(zip(columns, years))\n",
    "\n",
    "    fertility   = fertility.rename(columns=rename_dict)\n",
    "    life_expect = life_expect.rename(columns=rename_dict)\n",
    "    population  = population.rename(columns=rename_dict)\n",
    "    regions     = regions.rename(columns=rename_dict)\n",
    "\n",
    "    # Turn population into bubble sizes.\n",
    "    # Use min_size and factor to tweak.\n",
    "    scaling  = 200\n",
    "    pop_size = np.sqrt(population / np.pi) / scaling\n",
    "    min_size = 3\n",
    "    pop_size = pop_size.where(\n",
    "                  pop_size >= min_size\n",
    "                  ).fillna(min_size)\n",
    "\n",
    "    # Use pandas categories and categorize & color the regions\n",
    "    regions.Group = regions.Group.astype('category')\n",
    "    regions_list  = list(regions.Group.cat.categories)\n",
    "\n",
    "    def get_color(r):\n",
    "        return Spectral6[regions_list.index(r.Group)]\n",
    "\n",
    "    regions['region_color'] = regions.apply(get_color, axis=1)\n",
    "\n",
    "    return (fertility, life_expect, pop_size,\n",
    "        regions, years, regions_list)"
   ]
  },
  {
   "cell_type": "markdown",
   "metadata": {},
   "source": [
    "Next we will add each of our sources to the sources dictionary, where each key is the name of the year (prefaced with an underscore) and each value is a dataframe with the aggregated values for that year.\n",
    "\n",
    "Note that we needed the prefixing as JavaScript objects cannot begin with a number."
   ]
  },
  {
   "cell_type": "code",
   "execution_count": null,
   "metadata": {},
   "outputs": [],
   "source": [
    "(fertility_df, life_expect_df,\n",
    "pop_size_df, regions_df, years, regions) = process_data()\n",
    "\n",
    "sources = {}\n",
    "\n",
    "region_color      = regions_df['region_color']\n",
    "region_color.name = 'region_color'\n",
    "\n",
    "for year in years:\n",
    "    fertility       = fertility_df[year]\n",
    "    fertility.name  = 'fertility'\n",
    "    life            = life_expect_df[year]\n",
    "    life.name       = 'life'\n",
    "    population      = pop_size_df[year]\n",
    "    population.name = 'population'\n",
    "\n",
    "    new_df = pd.concat(\n",
    "                [fertility, life, population, region_color],\n",
    "                axis=1, sort=False\n",
    "    )\n",
    "    sources['_' + str(year)] = ColumnDataSource(new_df)"
   ]
  },
  {
   "cell_type": "markdown",
   "metadata": {},
   "source": [
    "Later we will be able to pass this sources dictionary to the JavaScript Callback. In so doing, we will find that in our JavaScript we have objects named by year that refer to a corresponding ColumnDataSource.\n",
    "\n",
    "We can also create a corresponding dict_of_sources object, where the keys are integers and the values are the references to our ColumnDataSources from above:"
   ]
  },
  {
   "cell_type": "code",
   "execution_count": null,
   "metadata": {},
   "outputs": [],
   "source": [
    "dict_of_sources = dict(zip(\n",
    "                      [x for x in years],\n",
    "                      ['_%s' % x for x in years])\n",
    "                      )\n",
    "\n",
    "js_source_array = str(dict_of_sources).replace(\"'\", \"\")"
   ]
  },
  {
   "cell_type": "markdown",
   "metadata": {},
   "source": [
    "First we need to create a Plot object. We’ll start with a basic frame, only specifying things like plot height, width, and ranges for the axes."
   ]
  },
  {
   "cell_type": "code",
   "execution_count": null,
   "metadata": {},
   "outputs": [],
   "source": [
    "xdr  = Range1d(1, 9)\n",
    "ydr  = Range1d(20, 100)\n",
    "plot = Plot(\n",
    "    x_range=xdr,\n",
    "    y_range=ydr,\n",
    "    plot_width=800,\n",
    "    plot_height=400,\n",
    "    outline_line_color=None,\n",
    "    toolbar_location=None,\n",
    "    min_border=20,\n",
    ")"
   ]
  },
  {
   "cell_type": "markdown",
   "metadata": {},
   "source": [
    "If you were to call show() here, what would you expect to see? Bokeh’s API works in much the same way as Matplotlib’s, meaning that we can imagine our digital canvas in the same way we would imagine a traditional fabric canvas. As we add new elements to our plot object, we are adding new layers of information onto our canvas that will appear as overlays (unless they explicitly reset some earlier-set parameter). So far we have only created the plot object, so if we were to show() it at this phase, we would get… a blank canvas!"
   ]
  },
  {
   "cell_type": "markdown",
   "metadata": {},
   "source": [
    "Next we can make some stylistic modifications to the plot axes (e.g. by specifying the text font, size, and color, and by adding labels), to make the plot look more like the one in Hans Rosling’s video."
   ]
  },
  {
   "cell_type": "code",
   "execution_count": null,
   "metadata": {},
   "outputs": [],
   "source": [
    "AXIS_FORMATS = dict(\n",
    "    minor_tick_in=None,\n",
    "    minor_tick_out=None,\n",
    "    major_tick_in=None,\n",
    "    major_label_text_font_size=\"10pt\",\n",
    "    major_label_text_font_style=\"normal\",\n",
    "    axis_label_text_font_size=\"10pt\",\n",
    "\n",
    "    axis_line_color='#AAAAAA',\n",
    "    major_tick_line_color='#AAAAAA',\n",
    "    major_label_text_color='#666666',\n",
    "\n",
    "    major_tick_line_cap=\"round\",\n",
    "    axis_line_cap=\"round\",\n",
    "    axis_line_width=1,\n",
    "    major_tick_line_width=1,\n",
    ")\n",
    "\n",
    "xaxis = LinearAxis(\n",
    "    ticker     = SingleIntervalTicker(interval=1),\n",
    "    axis_label = \"Children per woman (total fertility)\",\n",
    "    **AXIS_FORMATS\n",
    ")\n",
    "yaxis = LinearAxis(\n",
    "    ticker     = SingleIntervalTicker(interval=20),\n",
    "    axis_label = \"Life expectancy at birth (years)\",\n",
    "    **AXIS_FORMATS\n",
    ")   \n",
    "\n",
    "plot.add_layout(xaxis, 'below')\n",
    "plot.add_layout(yaxis, 'left')\n",
    "\n",
    "show(plot)"
   ]
  },
  {
   "cell_type": "markdown",
   "metadata": {},
   "source": [
    "One of the features of Rosling’s animation is that the year appears as the text background of the plot. We will add this feature to our plot first so it will be layered below all the other glyphs."
   ]
  },
  {
   "cell_type": "code",
   "execution_count": null,
   "metadata": {},
   "outputs": [],
   "source": [
    "text_source = ColumnDataSource({'year': ['%s' % years[0]]})\n",
    "text        = Text(\n",
    "                  x=2, y=35, text='year',\n",
    "                  text_font_size='150pt',\n",
    "                  text_color='#EEEEEE'\n",
    "                  )\n",
    "plot.add_glyph(text_source, text)\n",
    "\n",
    "show(plot)"
   ]
  },
  {
   "cell_type": "markdown",
   "metadata": {},
   "source": [
    "Next we will add the bubbles using Bokeh’s Circle glyph. We start from the first year of data, which is our source that drives the circles (the other sources will be used later)."
   ]
  },
  {
   "cell_type": "code",
   "execution_count": null,
   "metadata": {},
   "outputs": [],
   "source": [
    "# Add the circle\n",
    "renderer_source = sources['_%s' % years[0]]\n",
    "circle_glyph    = Circle(\n",
    "                    x='fertility', y='life',\n",
    "                    size='population', fill_alpha=0.8,\n",
    "                    fill_color='region_color',\n",
    "                    line_color='#7c7e71',\n",
    "                    line_width=0.5, line_alpha=0.5\n",
    "                    )\n",
    "\n",
    "circle_renderer = plot.add_glyph(renderer_source, circle_glyph)\n",
    "\n",
    "show(plot)"
   ]
  },
  {
   "cell_type": "code",
   "execution_count": null,
   "metadata": {},
   "outputs": [],
   "source": [
    "# Add hover for the circle (not other plot elements)\n",
    "tooltips = \"@index\"\n",
    "plot.add_tools(HoverTool(\n",
    "                  tooltips=tooltips,\n",
    "                  renderers=[circle_renderer]\n",
    "                  )\n",
    "              )\n",
    "\n",
    "show(plot)"
   ]
  },
  {
   "cell_type": "markdown",
   "metadata": {},
   "source": [
    "Next we will manually build a legend for our plot by adding circles and texts to the upper-righthand portion:"
   ]
  },
  {
   "cell_type": "code",
   "execution_count": null,
   "metadata": {},
   "outputs": [],
   "source": [
    "text_x = 7\n",
    "text_y = 95\n",
    "for i, region in enumerate(regions):\n",
    "    plot.add_glyph(Text(\n",
    "                      x=text_x, y=text_y,\n",
    "                      text=[region],\n",
    "                      text_font_size='10pt',\n",
    "                      text_color='#666666'\n",
    "                      )\n",
    "                  )\n",
    "    plot.add_glyph(Circle(\n",
    "                      x=text_x - 0.1,\n",
    "                      y=text_y + 2,\n",
    "                      fill_color=Spectral6[i],\n",
    "                      line_color=None,\n",
    "                      fill_alpha=0.8,\n",
    "                      size=10,\n",
    "                      )\n",
    "                  )\n",
    "    text_y = text_y - 5\n",
    "    \n",
    "show(plot)"
   ]
  },
  {
   "cell_type": "markdown",
   "metadata": {},
   "source": [
    "Next we add the slider widget and the JavaScript callback code, which changes the data of the renderer_source (powering the bubbles / circles) and the data of the text_source (powering our background text). After we’ve set() the data we need to trigger() a change. slider, renderer_source, text_source are all available because we add them as args to Callback.\n",
    "\n",
    "It is the combination of sources = %s % (js_source_array) in the JavaScript and Callback(args = sources...) that provides the ability to look-up, by year, the JavaScript version of our Python-made ColumnDataSource."
   ]
  },
  {
   "cell_type": "code",
   "execution_count": null,
   "metadata": {},
   "outputs": [],
   "source": [
    "# Add the slider\n",
    "code = \"\"\"\n",
    "    var year = slider.value,\n",
    "        sources = %s,\n",
    "        new_source_data = sources[year].data;\n",
    "    renderer_source.data = new_source_data;\n",
    "    text_source.data = {'year': [String(year)]};\n",
    "\"\"\" % js_source_array\n",
    "\n",
    "callback = CustomJS(args=sources, code=code)\n",
    "slider   = Slider(\n",
    "              start=years[0], end=years[-1],\n",
    "              value=1, step=1, title=\"Year\",\n",
    "              callback=callback\n",
    "              )\n",
    "callback.args[\"renderer_source\"] = renderer_source\n",
    "callback.args[\"text_source\"] = text_source\n",
    "callback.args[\"slider\"] = slider"
   ]
  },
  {
   "cell_type": "code",
   "execution_count": null,
   "metadata": {
    "scrolled": true
   },
   "outputs": [],
   "source": [
    "# In order to see what our slider widget looks like by itself, we can call show(widgetbox(slider)):\n",
    "show(widgetbox(slider))"
   ]
  },
  {
   "cell_type": "markdown",
   "metadata": {},
   "source": [
    "Last but not least, we put the chart and the slider together in a layout, which we can display inline in a notebook by calling show(layout([[plot], [slider]], sizing_mode='scale_width')):"
   ]
  },
  {
   "cell_type": "code",
   "execution_count": null,
   "metadata": {
    "scrolled": true
   },
   "outputs": [],
   "source": [
    "show(layout([[plot], [slider]], sizing_mode='scale_width'))"
   ]
  },
  {
   "cell_type": "code",
   "execution_count": null,
   "metadata": {},
   "outputs": [],
   "source": []
  }
 ],
 "metadata": {
  "kernelspec": {
   "display_name": "Python 3",
   "language": "python",
   "name": "python3"
  },
  "language_info": {
   "codemirror_mode": {
    "name": "ipython",
    "version": 3
   },
   "file_extension": ".py",
   "mimetype": "text/x-python",
   "name": "python",
   "nbconvert_exporter": "python",
   "pygments_lexer": "ipython3",
   "version": "3.7.3"
  }
 },
 "nbformat": 4,
 "nbformat_minor": 2
}
