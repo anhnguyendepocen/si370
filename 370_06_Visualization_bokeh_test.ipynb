{
 "cells": [
  {
   "cell_type": "code",
   "execution_count": 2,
   "metadata": {},
   "outputs": [],
   "source": [
    "# based on https://realpython.com/python-data-visualization-bokeh/\n",
    "from bokeh.plotting import figure\n",
    "import numpy as np\n",
    "import pandas as pd\n",
    "from bokeh.io import show, output_notebook"
   ]
  },
  {
   "cell_type": "markdown",
   "metadata": {},
   "source": [
    "## 1. Opening a template with Bokeh"
   ]
  },
  {
   "cell_type": "code",
   "execution_count": 3,
   "metadata": {},
   "outputs": [],
   "source": [
    "# open empty template\n",
    "fig = figure()\n",
    "show(fig)"
   ]
  },
  {
   "cell_type": "code",
   "execution_count": 4,
   "metadata": {},
   "outputs": [
    {
     "data": {
      "text/html": [
       "\n",
       "    <div class=\"bk-root\">\n",
       "        <a href=\"https://bokeh.pydata.org\" target=\"_blank\" class=\"bk-logo bk-logo-small bk-logo-notebook\"></a>\n",
       "        <span id=\"1092\">Loading BokehJS ...</span>\n",
       "    </div>"
      ]
     },
     "metadata": {},
     "output_type": "display_data"
    },
    {
     "data": {
      "application/javascript": [
       "\n",
       "(function(root) {\n",
       "  function now() {\n",
       "    return new Date();\n",
       "  }\n",
       "\n",
       "  var force = true;\n",
       "\n",
       "  if (typeof (root._bokeh_onload_callbacks) === \"undefined\" || force === true) {\n",
       "    root._bokeh_onload_callbacks = [];\n",
       "    root._bokeh_is_loading = undefined;\n",
       "  }\n",
       "\n",
       "  var JS_MIME_TYPE = 'application/javascript';\n",
       "  var HTML_MIME_TYPE = 'text/html';\n",
       "  var EXEC_MIME_TYPE = 'application/vnd.bokehjs_exec.v0+json';\n",
       "  var CLASS_NAME = 'output_bokeh rendered_html';\n",
       "\n",
       "  /**\n",
       "   * Render data to the DOM node\n",
       "   */\n",
       "  function render(props, node) {\n",
       "    var script = document.createElement(\"script\");\n",
       "    node.appendChild(script);\n",
       "  }\n",
       "\n",
       "  /**\n",
       "   * Handle when an output is cleared or removed\n",
       "   */\n",
       "  function handleClearOutput(event, handle) {\n",
       "    var cell = handle.cell;\n",
       "\n",
       "    var id = cell.output_area._bokeh_element_id;\n",
       "    var server_id = cell.output_area._bokeh_server_id;\n",
       "    // Clean up Bokeh references\n",
       "    if (id != null && id in Bokeh.index) {\n",
       "      Bokeh.index[id].model.document.clear();\n",
       "      delete Bokeh.index[id];\n",
       "    }\n",
       "\n",
       "    if (server_id !== undefined) {\n",
       "      // Clean up Bokeh references\n",
       "      var cmd = \"from bokeh.io.state import curstate; print(curstate().uuid_to_server['\" + server_id + \"'].get_sessions()[0].document.roots[0]._id)\";\n",
       "      cell.notebook.kernel.execute(cmd, {\n",
       "        iopub: {\n",
       "          output: function(msg) {\n",
       "            var id = msg.content.text.trim();\n",
       "            if (id in Bokeh.index) {\n",
       "              Bokeh.index[id].model.document.clear();\n",
       "              delete Bokeh.index[id];\n",
       "            }\n",
       "          }\n",
       "        }\n",
       "      });\n",
       "      // Destroy server and session\n",
       "      var cmd = \"import bokeh.io.notebook as ion; ion.destroy_server('\" + server_id + \"')\";\n",
       "      cell.notebook.kernel.execute(cmd);\n",
       "    }\n",
       "  }\n",
       "\n",
       "  /**\n",
       "   * Handle when a new output is added\n",
       "   */\n",
       "  function handleAddOutput(event, handle) {\n",
       "    var output_area = handle.output_area;\n",
       "    var output = handle.output;\n",
       "\n",
       "    // limit handleAddOutput to display_data with EXEC_MIME_TYPE content only\n",
       "    if ((output.output_type != \"display_data\") || (!output.data.hasOwnProperty(EXEC_MIME_TYPE))) {\n",
       "      return\n",
       "    }\n",
       "\n",
       "    var toinsert = output_area.element.find(\".\" + CLASS_NAME.split(' ')[0]);\n",
       "\n",
       "    if (output.metadata[EXEC_MIME_TYPE][\"id\"] !== undefined) {\n",
       "      toinsert[toinsert.length - 1].firstChild.textContent = output.data[JS_MIME_TYPE];\n",
       "      // store reference to embed id on output_area\n",
       "      output_area._bokeh_element_id = output.metadata[EXEC_MIME_TYPE][\"id\"];\n",
       "    }\n",
       "    if (output.metadata[EXEC_MIME_TYPE][\"server_id\"] !== undefined) {\n",
       "      var bk_div = document.createElement(\"div\");\n",
       "      bk_div.innerHTML = output.data[HTML_MIME_TYPE];\n",
       "      var script_attrs = bk_div.children[0].attributes;\n",
       "      for (var i = 0; i < script_attrs.length; i++) {\n",
       "        toinsert[toinsert.length - 1].firstChild.setAttribute(script_attrs[i].name, script_attrs[i].value);\n",
       "      }\n",
       "      // store reference to server id on output_area\n",
       "      output_area._bokeh_server_id = output.metadata[EXEC_MIME_TYPE][\"server_id\"];\n",
       "    }\n",
       "  }\n",
       "\n",
       "  function register_renderer(events, OutputArea) {\n",
       "\n",
       "    function append_mime(data, metadata, element) {\n",
       "      // create a DOM node to render to\n",
       "      var toinsert = this.create_output_subarea(\n",
       "        metadata,\n",
       "        CLASS_NAME,\n",
       "        EXEC_MIME_TYPE\n",
       "      );\n",
       "      this.keyboard_manager.register_events(toinsert);\n",
       "      // Render to node\n",
       "      var props = {data: data, metadata: metadata[EXEC_MIME_TYPE]};\n",
       "      render(props, toinsert[toinsert.length - 1]);\n",
       "      element.append(toinsert);\n",
       "      return toinsert\n",
       "    }\n",
       "\n",
       "    /* Handle when an output is cleared or removed */\n",
       "    events.on('clear_output.CodeCell', handleClearOutput);\n",
       "    events.on('delete.Cell', handleClearOutput);\n",
       "\n",
       "    /* Handle when a new output is added */\n",
       "    events.on('output_added.OutputArea', handleAddOutput);\n",
       "\n",
       "    /**\n",
       "     * Register the mime type and append_mime function with output_area\n",
       "     */\n",
       "    OutputArea.prototype.register_mime_type(EXEC_MIME_TYPE, append_mime, {\n",
       "      /* Is output safe? */\n",
       "      safe: true,\n",
       "      /* Index of renderer in `output_area.display_order` */\n",
       "      index: 0\n",
       "    });\n",
       "  }\n",
       "\n",
       "  // register the mime type if in Jupyter Notebook environment and previously unregistered\n",
       "  if (root.Jupyter !== undefined) {\n",
       "    var events = require('base/js/events');\n",
       "    var OutputArea = require('notebook/js/outputarea').OutputArea;\n",
       "\n",
       "    if (OutputArea.prototype.mime_types().indexOf(EXEC_MIME_TYPE) == -1) {\n",
       "      register_renderer(events, OutputArea);\n",
       "    }\n",
       "  }\n",
       "\n",
       "  \n",
       "  if (typeof (root._bokeh_timeout) === \"undefined\" || force === true) {\n",
       "    root._bokeh_timeout = Date.now() + 5000;\n",
       "    root._bokeh_failed_load = false;\n",
       "  }\n",
       "\n",
       "  var NB_LOAD_WARNING = {'data': {'text/html':\n",
       "     \"<div style='background-color: #fdd'>\\n\"+\n",
       "     \"<p>\\n\"+\n",
       "     \"BokehJS does not appear to have successfully loaded. If loading BokehJS from CDN, this \\n\"+\n",
       "     \"may be due to a slow or bad network connection. Possible fixes:\\n\"+\n",
       "     \"</p>\\n\"+\n",
       "     \"<ul>\\n\"+\n",
       "     \"<li>re-rerun `output_notebook()` to attempt to load from CDN again, or</li>\\n\"+\n",
       "     \"<li>use INLINE resources instead, as so:</li>\\n\"+\n",
       "     \"</ul>\\n\"+\n",
       "     \"<code>\\n\"+\n",
       "     \"from bokeh.resources import INLINE\\n\"+\n",
       "     \"output_notebook(resources=INLINE)\\n\"+\n",
       "     \"</code>\\n\"+\n",
       "     \"</div>\"}};\n",
       "\n",
       "  function display_loaded() {\n",
       "    var el = document.getElementById(\"1092\");\n",
       "    if (el != null) {\n",
       "      el.textContent = \"BokehJS is loading...\";\n",
       "    }\n",
       "    if (root.Bokeh !== undefined) {\n",
       "      if (el != null) {\n",
       "        el.textContent = \"BokehJS \" + root.Bokeh.version + \" successfully loaded.\";\n",
       "      }\n",
       "    } else if (Date.now() < root._bokeh_timeout) {\n",
       "      setTimeout(display_loaded, 100)\n",
       "    }\n",
       "  }\n",
       "\n",
       "\n",
       "  function run_callbacks() {\n",
       "    try {\n",
       "      root._bokeh_onload_callbacks.forEach(function(callback) { callback() });\n",
       "    }\n",
       "    finally {\n",
       "      delete root._bokeh_onload_callbacks\n",
       "    }\n",
       "    console.info(\"Bokeh: all callbacks have finished\");\n",
       "  }\n",
       "\n",
       "  function load_libs(js_urls, callback) {\n",
       "    root._bokeh_onload_callbacks.push(callback);\n",
       "    if (root._bokeh_is_loading > 0) {\n",
       "      console.log(\"Bokeh: BokehJS is being loaded, scheduling callback at\", now());\n",
       "      return null;\n",
       "    }\n",
       "    if (js_urls == null || js_urls.length === 0) {\n",
       "      run_callbacks();\n",
       "      return null;\n",
       "    }\n",
       "    console.log(\"Bokeh: BokehJS not loaded, scheduling load and callback at\", now());\n",
       "    root._bokeh_is_loading = js_urls.length;\n",
       "    for (var i = 0; i < js_urls.length; i++) {\n",
       "      var url = js_urls[i];\n",
       "      var s = document.createElement('script');\n",
       "      s.src = url;\n",
       "      s.async = false;\n",
       "      s.onreadystatechange = s.onload = function() {\n",
       "        root._bokeh_is_loading--;\n",
       "        if (root._bokeh_is_loading === 0) {\n",
       "          console.log(\"Bokeh: all BokehJS libraries loaded\");\n",
       "          run_callbacks()\n",
       "        }\n",
       "      };\n",
       "      s.onerror = function() {\n",
       "        console.warn(\"failed to load library \" + url);\n",
       "      };\n",
       "      console.log(\"Bokeh: injecting script tag for BokehJS library: \", url);\n",
       "      document.getElementsByTagName(\"head\")[0].appendChild(s);\n",
       "    }\n",
       "  };var element = document.getElementById(\"1092\");\n",
       "  if (element == null) {\n",
       "    console.log(\"Bokeh: ERROR: autoload.js configured with elementid '1092' but no matching script tag was found. \")\n",
       "    return false;\n",
       "  }\n",
       "\n",
       "  var js_urls = [\"https://cdn.pydata.org/bokeh/release/bokeh-1.0.4.min.js\", \"https://cdn.pydata.org/bokeh/release/bokeh-widgets-1.0.4.min.js\", \"https://cdn.pydata.org/bokeh/release/bokeh-tables-1.0.4.min.js\", \"https://cdn.pydata.org/bokeh/release/bokeh-gl-1.0.4.min.js\"];\n",
       "\n",
       "  var inline_js = [\n",
       "    function(Bokeh) {\n",
       "      Bokeh.set_log_level(\"info\");\n",
       "    },\n",
       "    \n",
       "    function(Bokeh) {\n",
       "      \n",
       "    },\n",
       "    function(Bokeh) {\n",
       "      console.log(\"Bokeh: injecting CSS: https://cdn.pydata.org/bokeh/release/bokeh-1.0.4.min.css\");\n",
       "      Bokeh.embed.inject_css(\"https://cdn.pydata.org/bokeh/release/bokeh-1.0.4.min.css\");\n",
       "      console.log(\"Bokeh: injecting CSS: https://cdn.pydata.org/bokeh/release/bokeh-widgets-1.0.4.min.css\");\n",
       "      Bokeh.embed.inject_css(\"https://cdn.pydata.org/bokeh/release/bokeh-widgets-1.0.4.min.css\");\n",
       "      console.log(\"Bokeh: injecting CSS: https://cdn.pydata.org/bokeh/release/bokeh-tables-1.0.4.min.css\");\n",
       "      Bokeh.embed.inject_css(\"https://cdn.pydata.org/bokeh/release/bokeh-tables-1.0.4.min.css\");\n",
       "    }\n",
       "  ];\n",
       "\n",
       "  function run_inline_js() {\n",
       "    \n",
       "    if ((root.Bokeh !== undefined) || (force === true)) {\n",
       "      for (var i = 0; i < inline_js.length; i++) {\n",
       "        inline_js[i].call(root, root.Bokeh);\n",
       "      }if (force === true) {\n",
       "        display_loaded();\n",
       "      }} else if (Date.now() < root._bokeh_timeout) {\n",
       "      setTimeout(run_inline_js, 100);\n",
       "    } else if (!root._bokeh_failed_load) {\n",
       "      console.log(\"Bokeh: BokehJS failed to load within specified timeout.\");\n",
       "      root._bokeh_failed_load = true;\n",
       "    } else if (force !== true) {\n",
       "      var cell = $(document.getElementById(\"1092\")).parents('.cell').data().cell;\n",
       "      cell.output_area.append_execute_result(NB_LOAD_WARNING)\n",
       "    }\n",
       "\n",
       "  }\n",
       "\n",
       "  if (root._bokeh_is_loading === 0) {\n",
       "    console.log(\"Bokeh: BokehJS loaded, going straight to plotting\");\n",
       "    run_inline_js();\n",
       "  } else {\n",
       "    load_libs(js_urls, function() {\n",
       "      console.log(\"Bokeh: BokehJS plotting callback run at\", now());\n",
       "      run_inline_js();\n",
       "    });\n",
       "  }\n",
       "}(window));"
      ],
      "application/vnd.bokehjs_load.v0+json": "\n(function(root) {\n  function now() {\n    return new Date();\n  }\n\n  var force = true;\n\n  if (typeof (root._bokeh_onload_callbacks) === \"undefined\" || force === true) {\n    root._bokeh_onload_callbacks = [];\n    root._bokeh_is_loading = undefined;\n  }\n\n  \n\n  \n  if (typeof (root._bokeh_timeout) === \"undefined\" || force === true) {\n    root._bokeh_timeout = Date.now() + 5000;\n    root._bokeh_failed_load = false;\n  }\n\n  var NB_LOAD_WARNING = {'data': {'text/html':\n     \"<div style='background-color: #fdd'>\\n\"+\n     \"<p>\\n\"+\n     \"BokehJS does not appear to have successfully loaded. If loading BokehJS from CDN, this \\n\"+\n     \"may be due to a slow or bad network connection. Possible fixes:\\n\"+\n     \"</p>\\n\"+\n     \"<ul>\\n\"+\n     \"<li>re-rerun `output_notebook()` to attempt to load from CDN again, or</li>\\n\"+\n     \"<li>use INLINE resources instead, as so:</li>\\n\"+\n     \"</ul>\\n\"+\n     \"<code>\\n\"+\n     \"from bokeh.resources import INLINE\\n\"+\n     \"output_notebook(resources=INLINE)\\n\"+\n     \"</code>\\n\"+\n     \"</div>\"}};\n\n  function display_loaded() {\n    var el = document.getElementById(\"1092\");\n    if (el != null) {\n      el.textContent = \"BokehJS is loading...\";\n    }\n    if (root.Bokeh !== undefined) {\n      if (el != null) {\n        el.textContent = \"BokehJS \" + root.Bokeh.version + \" successfully loaded.\";\n      }\n    } else if (Date.now() < root._bokeh_timeout) {\n      setTimeout(display_loaded, 100)\n    }\n  }\n\n\n  function run_callbacks() {\n    try {\n      root._bokeh_onload_callbacks.forEach(function(callback) { callback() });\n    }\n    finally {\n      delete root._bokeh_onload_callbacks\n    }\n    console.info(\"Bokeh: all callbacks have finished\");\n  }\n\n  function load_libs(js_urls, callback) {\n    root._bokeh_onload_callbacks.push(callback);\n    if (root._bokeh_is_loading > 0) {\n      console.log(\"Bokeh: BokehJS is being loaded, scheduling callback at\", now());\n      return null;\n    }\n    if (js_urls == null || js_urls.length === 0) {\n      run_callbacks();\n      return null;\n    }\n    console.log(\"Bokeh: BokehJS not loaded, scheduling load and callback at\", now());\n    root._bokeh_is_loading = js_urls.length;\n    for (var i = 0; i < js_urls.length; i++) {\n      var url = js_urls[i];\n      var s = document.createElement('script');\n      s.src = url;\n      s.async = false;\n      s.onreadystatechange = s.onload = function() {\n        root._bokeh_is_loading--;\n        if (root._bokeh_is_loading === 0) {\n          console.log(\"Bokeh: all BokehJS libraries loaded\");\n          run_callbacks()\n        }\n      };\n      s.onerror = function() {\n        console.warn(\"failed to load library \" + url);\n      };\n      console.log(\"Bokeh: injecting script tag for BokehJS library: \", url);\n      document.getElementsByTagName(\"head\")[0].appendChild(s);\n    }\n  };var element = document.getElementById(\"1092\");\n  if (element == null) {\n    console.log(\"Bokeh: ERROR: autoload.js configured with elementid '1092' but no matching script tag was found. \")\n    return false;\n  }\n\n  var js_urls = [\"https://cdn.pydata.org/bokeh/release/bokeh-1.0.4.min.js\", \"https://cdn.pydata.org/bokeh/release/bokeh-widgets-1.0.4.min.js\", \"https://cdn.pydata.org/bokeh/release/bokeh-tables-1.0.4.min.js\", \"https://cdn.pydata.org/bokeh/release/bokeh-gl-1.0.4.min.js\"];\n\n  var inline_js = [\n    function(Bokeh) {\n      Bokeh.set_log_level(\"info\");\n    },\n    \n    function(Bokeh) {\n      \n    },\n    function(Bokeh) {\n      console.log(\"Bokeh: injecting CSS: https://cdn.pydata.org/bokeh/release/bokeh-1.0.4.min.css\");\n      Bokeh.embed.inject_css(\"https://cdn.pydata.org/bokeh/release/bokeh-1.0.4.min.css\");\n      console.log(\"Bokeh: injecting CSS: https://cdn.pydata.org/bokeh/release/bokeh-widgets-1.0.4.min.css\");\n      Bokeh.embed.inject_css(\"https://cdn.pydata.org/bokeh/release/bokeh-widgets-1.0.4.min.css\");\n      console.log(\"Bokeh: injecting CSS: https://cdn.pydata.org/bokeh/release/bokeh-tables-1.0.4.min.css\");\n      Bokeh.embed.inject_css(\"https://cdn.pydata.org/bokeh/release/bokeh-tables-1.0.4.min.css\");\n    }\n  ];\n\n  function run_inline_js() {\n    \n    if ((root.Bokeh !== undefined) || (force === true)) {\n      for (var i = 0; i < inline_js.length; i++) {\n        inline_js[i].call(root, root.Bokeh);\n      }if (force === true) {\n        display_loaded();\n      }} else if (Date.now() < root._bokeh_timeout) {\n      setTimeout(run_inline_js, 100);\n    } else if (!root._bokeh_failed_load) {\n      console.log(\"Bokeh: BokehJS failed to load within specified timeout.\");\n      root._bokeh_failed_load = true;\n    } else if (force !== true) {\n      var cell = $(document.getElementById(\"1092\")).parents('.cell').data().cell;\n      cell.output_area.append_execute_result(NB_LOAD_WARNING)\n    }\n\n  }\n\n  if (root._bokeh_is_loading === 0) {\n    console.log(\"Bokeh: BokehJS loaded, going straight to plotting\");\n    run_inline_js();\n  } else {\n    load_libs(js_urls, function() {\n      console.log(\"Bokeh: BokehJS plotting callback run at\", now());\n      run_inline_js();\n    });\n  }\n}(window));"
     },
     "metadata": {},
     "output_type": "display_data"
    }
   ],
   "source": [
    "# previous slide didn't show anything: need this function to run on jupyter\n",
    "output_notebook()"
   ]
  },
  {
   "cell_type": "code",
   "execution_count": 5,
   "metadata": {},
   "outputs": [
    {
     "data": {
      "text/html": [
       "\n",
       "\n",
       "\n",
       "\n",
       "\n",
       "\n",
       "  <div class=\"bk-root\" id=\"fecc3df1-1ba4-4759-8cac-ca5246577934\" data-root-id=\"1093\"></div>\n"
      ]
     },
     "metadata": {},
     "output_type": "display_data"
    },
    {
     "data": {
      "application/javascript": [
       "(function(root) {\n",
       "  function embed_document(root) {\n",
       "    \n",
       "  var docs_json = {\"40d1d9c4-7ee4-492f-ad02-d24de44d179c\":{\"roots\":{\"references\":[{\"attributes\":{\"below\":[{\"id\":\"1102\",\"type\":\"LinearAxis\"}],\"left\":[{\"id\":\"1107\",\"type\":\"LinearAxis\"}],\"renderers\":[{\"id\":\"1102\",\"type\":\"LinearAxis\"},{\"id\":\"1106\",\"type\":\"Grid\"},{\"id\":\"1107\",\"type\":\"LinearAxis\"},{\"id\":\"1111\",\"type\":\"Grid\"},{\"id\":\"1120\",\"type\":\"BoxAnnotation\"}],\"title\":{\"id\":\"1128\",\"type\":\"Title\"},\"toolbar\":{\"id\":\"1118\",\"type\":\"Toolbar\"},\"x_range\":{\"id\":\"1094\",\"type\":\"DataRange1d\"},\"x_scale\":{\"id\":\"1098\",\"type\":\"LinearScale\"},\"y_range\":{\"id\":\"1096\",\"type\":\"DataRange1d\"},\"y_scale\":{\"id\":\"1100\",\"type\":\"LinearScale\"}},\"id\":\"1093\",\"subtype\":\"Figure\",\"type\":\"Plot\"},{\"attributes\":{},\"id\":\"1113\",\"type\":\"WheelZoomTool\"},{\"attributes\":{},\"id\":\"1098\",\"type\":\"LinearScale\"},{\"attributes\":{\"active_drag\":\"auto\",\"active_inspect\":\"auto\",\"active_multi\":null,\"active_scroll\":\"auto\",\"active_tap\":\"auto\",\"tools\":[{\"id\":\"1112\",\"type\":\"PanTool\"},{\"id\":\"1113\",\"type\":\"WheelZoomTool\"},{\"id\":\"1114\",\"type\":\"BoxZoomTool\"},{\"id\":\"1115\",\"type\":\"SaveTool\"},{\"id\":\"1116\",\"type\":\"ResetTool\"},{\"id\":\"1117\",\"type\":\"HelpTool\"}]},\"id\":\"1118\",\"type\":\"Toolbar\"},{\"attributes\":{\"callback\":null},\"id\":\"1096\",\"type\":\"DataRange1d\"},{\"attributes\":{},\"id\":\"1116\",\"type\":\"ResetTool\"},{\"attributes\":{\"callback\":null},\"id\":\"1094\",\"type\":\"DataRange1d\"},{\"attributes\":{},\"id\":\"1117\",\"type\":\"HelpTool\"},{\"attributes\":{},\"id\":\"1108\",\"type\":\"BasicTicker\"},{\"attributes\":{\"formatter\":{\"id\":\"1131\",\"type\":\"BasicTickFormatter\"},\"plot\":{\"id\":\"1093\",\"subtype\":\"Figure\",\"type\":\"Plot\"},\"ticker\":{\"id\":\"1108\",\"type\":\"BasicTicker\"}},\"id\":\"1107\",\"type\":\"LinearAxis\"},{\"attributes\":{},\"id\":\"1131\",\"type\":\"BasicTickFormatter\"},{\"attributes\":{},\"id\":\"1112\",\"type\":\"PanTool\"},{\"attributes\":{\"plot\":{\"id\":\"1093\",\"subtype\":\"Figure\",\"type\":\"Plot\"},\"ticker\":{\"id\":\"1103\",\"type\":\"BasicTicker\"}},\"id\":\"1106\",\"type\":\"Grid\"},{\"attributes\":{},\"id\":\"1103\",\"type\":\"BasicTicker\"},{\"attributes\":{\"bottom_units\":\"screen\",\"fill_alpha\":{\"value\":0.5},\"fill_color\":{\"value\":\"lightgrey\"},\"left_units\":\"screen\",\"level\":\"overlay\",\"line_alpha\":{\"value\":1.0},\"line_color\":{\"value\":\"black\"},\"line_dash\":[4,4],\"line_width\":{\"value\":2},\"plot\":null,\"render_mode\":\"css\",\"right_units\":\"screen\",\"top_units\":\"screen\"},\"id\":\"1120\",\"type\":\"BoxAnnotation\"},{\"attributes\":{\"formatter\":{\"id\":\"1129\",\"type\":\"BasicTickFormatter\"},\"plot\":{\"id\":\"1093\",\"subtype\":\"Figure\",\"type\":\"Plot\"},\"ticker\":{\"id\":\"1103\",\"type\":\"BasicTicker\"}},\"id\":\"1102\",\"type\":\"LinearAxis\"},{\"attributes\":{\"plot\":null,\"text\":\"\"},\"id\":\"1128\",\"type\":\"Title\"},{\"attributes\":{\"overlay\":{\"id\":\"1120\",\"type\":\"BoxAnnotation\"}},\"id\":\"1114\",\"type\":\"BoxZoomTool\"},{\"attributes\":{},\"id\":\"1129\",\"type\":\"BasicTickFormatter\"},{\"attributes\":{},\"id\":\"1115\",\"type\":\"SaveTool\"},{\"attributes\":{\"dimension\":1,\"plot\":{\"id\":\"1093\",\"subtype\":\"Figure\",\"type\":\"Plot\"},\"ticker\":{\"id\":\"1108\",\"type\":\"BasicTicker\"}},\"id\":\"1111\",\"type\":\"Grid\"},{\"attributes\":{},\"id\":\"1100\",\"type\":\"LinearScale\"}],\"root_ids\":[\"1093\"]},\"title\":\"Bokeh Application\",\"version\":\"1.0.4\"}};\n",
       "  var render_items = [{\"docid\":\"40d1d9c4-7ee4-492f-ad02-d24de44d179c\",\"roots\":{\"1093\":\"fecc3df1-1ba4-4759-8cac-ca5246577934\"}}];\n",
       "  root.Bokeh.embed.embed_items_notebook(docs_json, render_items);\n",
       "\n",
       "  }\n",
       "  if (root.Bokeh !== undefined) {\n",
       "    embed_document(root);\n",
       "  } else {\n",
       "    var attempts = 0;\n",
       "    var timer = setInterval(function(root) {\n",
       "      if (root.Bokeh !== undefined) {\n",
       "        embed_document(root);\n",
       "        clearInterval(timer);\n",
       "      }\n",
       "      attempts++;\n",
       "      if (attempts > 100) {\n",
       "        console.log(\"Bokeh: ERROR: Unable to run BokehJS code because BokehJS library is missing\");\n",
       "        clearInterval(timer);\n",
       "      }\n",
       "    }, 10, root)\n",
       "  }\n",
       "})(window);"
      ],
      "application/vnd.bokehjs_exec.v0+json": ""
     },
     "metadata": {
      "application/vnd.bokehjs_exec.v0+json": {
       "id": "1093"
      }
     },
     "output_type": "display_data"
    }
   ],
   "source": [
    "# now open it again\n",
    "fig = figure()\n",
    "show(fig)"
   ]
  },
  {
   "cell_type": "markdown",
   "metadata": {},
   "source": [
    "## 2. Creating a scatter plot with Bokeh"
   ]
  },
  {
   "cell_type": "code",
   "execution_count": 24,
   "metadata": {},
   "outputs": [
    {
     "data": {
      "text/html": [
       "\n",
       "\n",
       "\n",
       "\n",
       "\n",
       "\n",
       "  <div class=\"bk-root\" id=\"23d47016-9b6e-47d9-bc5d-958d01349635\" data-root-id=\"2558\"></div>\n"
      ]
     },
     "metadata": {},
     "output_type": "display_data"
    },
    {
     "data": {
      "application/javascript": [
       "(function(root) {\n",
       "  function embed_document(root) {\n",
       "    \n",
       "  var docs_json = {\"5627d53a-1742-4011-bfc5-761ff2905ee8\":{\"roots\":{\"references\":[{\"attributes\":{\"below\":[{\"id\":\"2567\",\"type\":\"LinearAxis\"}],\"left\":[{\"id\":\"2572\",\"type\":\"LinearAxis\"}],\"plot_height\":400,\"plot_width\":400,\"renderers\":[{\"id\":\"2567\",\"type\":\"LinearAxis\"},{\"id\":\"2571\",\"type\":\"Grid\"},{\"id\":\"2572\",\"type\":\"LinearAxis\"},{\"id\":\"2576\",\"type\":\"Grid\"},{\"id\":\"2585\",\"type\":\"BoxAnnotation\"},{\"id\":\"2595\",\"type\":\"GlyphRenderer\"}],\"title\":{\"id\":\"2666\",\"type\":\"Title\"},\"toolbar\":{\"id\":\"2583\",\"type\":\"Toolbar\"},\"x_range\":{\"id\":\"2559\",\"type\":\"DataRange1d\"},\"x_scale\":{\"id\":\"2563\",\"type\":\"LinearScale\"},\"y_range\":{\"id\":\"2561\",\"type\":\"DataRange1d\"},\"y_scale\":{\"id\":\"2565\",\"type\":\"LinearScale\"}},\"id\":\"2558\",\"subtype\":\"Figure\",\"type\":\"Plot\"},{\"attributes\":{\"fill_alpha\":{\"value\":0.5},\"fill_color\":{\"value\":\"orange\"},\"line_color\":{\"value\":\"navy\"},\"size\":{\"units\":\"screen\",\"value\":15},\"x\":{\"field\":\"x\"},\"y\":{\"field\":\"y\"}},\"id\":\"2593\",\"type\":\"Circle\"},{\"attributes\":{\"plot\":null,\"text\":\"\"},\"id\":\"2666\",\"type\":\"Title\"},{\"attributes\":{},\"id\":\"2582\",\"type\":\"HelpTool\"},{\"attributes\":{},\"id\":\"2669\",\"type\":\"BasicTickFormatter\"},{\"attributes\":{\"callback\":null,\"data\":{\"x\":[1,2,3,4,5],\"y\":[6,7,2,4,5]},\"selected\":{\"id\":\"2672\",\"type\":\"Selection\"},\"selection_policy\":{\"id\":\"2671\",\"type\":\"UnionRenderers\"}},\"id\":\"2592\",\"type\":\"ColumnDataSource\"},{\"attributes\":{},\"id\":\"2667\",\"type\":\"BasicTickFormatter\"},{\"attributes\":{},\"id\":\"2563\",\"type\":\"LinearScale\"},{\"attributes\":{\"plot\":{\"id\":\"2558\",\"subtype\":\"Figure\",\"type\":\"Plot\"},\"ticker\":{\"id\":\"2568\",\"type\":\"BasicTicker\"}},\"id\":\"2571\",\"type\":\"Grid\"},{\"attributes\":{},\"id\":\"2671\",\"type\":\"UnionRenderers\"},{\"attributes\":{\"overlay\":{\"id\":\"2585\",\"type\":\"BoxAnnotation\"}},\"id\":\"2579\",\"type\":\"BoxZoomTool\"},{\"attributes\":{\"callback\":null},\"id\":\"2559\",\"type\":\"DataRange1d\"},{\"attributes\":{\"bottom_units\":\"screen\",\"fill_alpha\":{\"value\":0.5},\"fill_color\":{\"value\":\"lightgrey\"},\"left_units\":\"screen\",\"level\":\"overlay\",\"line_alpha\":{\"value\":1.0},\"line_color\":{\"value\":\"black\"},\"line_dash\":[4,4],\"line_width\":{\"value\":2},\"plot\":null,\"render_mode\":\"css\",\"right_units\":\"screen\",\"top_units\":\"screen\"},\"id\":\"2585\",\"type\":\"BoxAnnotation\"},{\"attributes\":{},\"id\":\"2578\",\"type\":\"WheelZoomTool\"},{\"attributes\":{},\"id\":\"2580\",\"type\":\"SaveTool\"},{\"attributes\":{},\"id\":\"2577\",\"type\":\"PanTool\"},{\"attributes\":{},\"id\":\"2568\",\"type\":\"BasicTicker\"},{\"attributes\":{\"data_source\":{\"id\":\"2592\",\"type\":\"ColumnDataSource\"},\"glyph\":{\"id\":\"2593\",\"type\":\"Circle\"},\"hover_glyph\":null,\"muted_glyph\":null,\"nonselection_glyph\":{\"id\":\"2594\",\"type\":\"Circle\"},\"selection_glyph\":null,\"view\":{\"id\":\"2596\",\"type\":\"CDSView\"}},\"id\":\"2595\",\"type\":\"GlyphRenderer\"},{\"attributes\":{\"fill_alpha\":{\"value\":0.1},\"fill_color\":{\"value\":\"#1f77b4\"},\"line_alpha\":{\"value\":0.1},\"line_color\":{\"value\":\"#1f77b4\"},\"size\":{\"units\":\"screen\",\"value\":15},\"x\":{\"field\":\"x\"},\"y\":{\"field\":\"y\"}},\"id\":\"2594\",\"type\":\"Circle\"},{\"attributes\":{\"source\":{\"id\":\"2592\",\"type\":\"ColumnDataSource\"}},\"id\":\"2596\",\"type\":\"CDSView\"},{\"attributes\":{},\"id\":\"2672\",\"type\":\"Selection\"},{\"attributes\":{\"dimension\":1,\"plot\":{\"id\":\"2558\",\"subtype\":\"Figure\",\"type\":\"Plot\"},\"ticker\":{\"id\":\"2573\",\"type\":\"BasicTicker\"}},\"id\":\"2576\",\"type\":\"Grid\"},{\"attributes\":{\"formatter\":{\"id\":\"2667\",\"type\":\"BasicTickFormatter\"},\"plot\":{\"id\":\"2558\",\"subtype\":\"Figure\",\"type\":\"Plot\"},\"ticker\":{\"id\":\"2568\",\"type\":\"BasicTicker\"}},\"id\":\"2567\",\"type\":\"LinearAxis\"},{\"attributes\":{},\"id\":\"2573\",\"type\":\"BasicTicker\"},{\"attributes\":{},\"id\":\"2565\",\"type\":\"LinearScale\"},{\"attributes\":{\"formatter\":{\"id\":\"2669\",\"type\":\"BasicTickFormatter\"},\"plot\":{\"id\":\"2558\",\"subtype\":\"Figure\",\"type\":\"Plot\"},\"ticker\":{\"id\":\"2573\",\"type\":\"BasicTicker\"}},\"id\":\"2572\",\"type\":\"LinearAxis\"},{\"attributes\":{\"callback\":null},\"id\":\"2561\",\"type\":\"DataRange1d\"},{\"attributes\":{\"active_drag\":\"auto\",\"active_inspect\":\"auto\",\"active_multi\":null,\"active_scroll\":\"auto\",\"active_tap\":\"auto\",\"tools\":[{\"id\":\"2577\",\"type\":\"PanTool\"},{\"id\":\"2578\",\"type\":\"WheelZoomTool\"},{\"id\":\"2579\",\"type\":\"BoxZoomTool\"},{\"id\":\"2580\",\"type\":\"SaveTool\"},{\"id\":\"2581\",\"type\":\"ResetTool\"},{\"id\":\"2582\",\"type\":\"HelpTool\"}]},\"id\":\"2583\",\"type\":\"Toolbar\"},{\"attributes\":{},\"id\":\"2581\",\"type\":\"ResetTool\"}],\"root_ids\":[\"2558\"]},\"title\":\"Bokeh Application\",\"version\":\"1.0.4\"}};\n",
       "  var render_items = [{\"docid\":\"5627d53a-1742-4011-bfc5-761ff2905ee8\",\"roots\":{\"2558\":\"23d47016-9b6e-47d9-bc5d-958d01349635\"}}];\n",
       "  root.Bokeh.embed.embed_items_notebook(docs_json, render_items);\n",
       "\n",
       "  }\n",
       "  if (root.Bokeh !== undefined) {\n",
       "    embed_document(root);\n",
       "  } else {\n",
       "    var attempts = 0;\n",
       "    var timer = setInterval(function(root) {\n",
       "      if (root.Bokeh !== undefined) {\n",
       "        embed_document(root);\n",
       "        clearInterval(timer);\n",
       "      }\n",
       "      attempts++;\n",
       "      if (attempts > 100) {\n",
       "        console.log(\"Bokeh: ERROR: Unable to run BokehJS code because BokehJS library is missing\");\n",
       "        clearInterval(timer);\n",
       "      }\n",
       "    }, 10, root)\n",
       "  }\n",
       "})(window);"
      ],
      "application/vnd.bokehjs_exec.v0+json": ""
     },
     "metadata": {
      "application/vnd.bokehjs_exec.v0+json": {
       "id": "2558"
      }
     },
     "output_type": "display_data"
    }
   ],
   "source": [
    "# create a new plot with default tools, using figure\n",
    "p = figure(plot_width=400, plot_height=400)\n",
    "\n",
    "# add a circle renderer with x and y coordinates, size, color, and alpha\n",
    "p.circle([1, 2, 3, 4, 5], [6, 7, 2, 4, 5], size=15, line_color=\"navy\", fill_color=\"orange\", fill_alpha=0.5)\n",
    "\n",
    "show(p) # show the results"
   ]
  },
  {
   "cell_type": "code",
   "execution_count": 30,
   "metadata": {},
   "outputs": [
    {
     "data": {
      "text/html": [
       "\n",
       "\n",
       "\n",
       "\n",
       "\n",
       "\n",
       "  <div class=\"bk-root\" id=\"50f66a89-70d1-4bea-9707-7e6eaf00d6e8\" data-root-id=\"3326\"></div>\n"
      ]
     },
     "metadata": {},
     "output_type": "display_data"
    },
    {
     "data": {
      "application/javascript": [
       "(function(root) {\n",
       "  function embed_document(root) {\n",
       "    \n",
       "  var docs_json = {\"aa9714bf-164e-407d-b181-ddd392edece7\":{\"roots\":{\"references\":[{\"attributes\":{\"below\":[{\"id\":\"3335\",\"type\":\"LinearAxis\"}],\"left\":[{\"id\":\"3340\",\"type\":\"LinearAxis\"}],\"plot_height\":400,\"plot_width\":400,\"renderers\":[{\"id\":\"3335\",\"type\":\"LinearAxis\"},{\"id\":\"3339\",\"type\":\"Grid\"},{\"id\":\"3340\",\"type\":\"LinearAxis\"},{\"id\":\"3344\",\"type\":\"Grid\"},{\"id\":\"3353\",\"type\":\"BoxAnnotation\"},{\"id\":\"3363\",\"type\":\"GlyphRenderer\"}],\"title\":{\"id\":\"3470\",\"type\":\"Title\"},\"toolbar\":{\"id\":\"3351\",\"type\":\"Toolbar\"},\"x_range\":{\"id\":\"3327\",\"type\":\"DataRange1d\"},\"x_scale\":{\"id\":\"3331\",\"type\":\"LinearScale\"},\"y_range\":{\"id\":\"3329\",\"type\":\"DataRange1d\"},\"y_scale\":{\"id\":\"3333\",\"type\":\"LinearScale\"}},\"id\":\"3326\",\"subtype\":\"Figure\",\"type\":\"Plot\"},{\"attributes\":{\"plot\":{\"id\":\"3326\",\"subtype\":\"Figure\",\"type\":\"Plot\"},\"ticker\":{\"id\":\"3336\",\"type\":\"BasicTicker\"}},\"id\":\"3339\",\"type\":\"Grid\"},{\"attributes\":{\"dimension\":1,\"plot\":{\"id\":\"3326\",\"subtype\":\"Figure\",\"type\":\"Plot\"},\"ticker\":{\"id\":\"3341\",\"type\":\"BasicTicker\"}},\"id\":\"3344\",\"type\":\"Grid\"},{\"attributes\":{\"fill_alpha\":{\"value\":0.6},\"fill_color\":{\"value\":\"firebrick\"},\"line_alpha\":{\"value\":0.6},\"line_color\":{\"value\":\"firebrick\"},\"size\":{\"field\":\"size\",\"units\":\"screen\"},\"x\":{\"field\":\"x\"},\"y\":{\"field\":\"y\"}},\"id\":\"3361\",\"type\":\"CircleX\"},{\"attributes\":{},\"id\":\"3336\",\"type\":\"BasicTicker\"},{\"attributes\":{},\"id\":\"3471\",\"type\":\"BasicTickFormatter\"},{\"attributes\":{\"fill_alpha\":{\"value\":0.1},\"fill_color\":{\"value\":\"#1f77b4\"},\"line_alpha\":{\"value\":0.1},\"line_color\":{\"value\":\"#1f77b4\"},\"size\":{\"field\":\"size\",\"units\":\"screen\"},\"x\":{\"field\":\"x\"},\"y\":{\"field\":\"y\"}},\"id\":\"3362\",\"type\":\"CircleX\"},{\"attributes\":{},\"id\":\"3345\",\"type\":\"PanTool\"},{\"attributes\":{\"callback\":null},\"id\":\"3327\",\"type\":\"DataRange1d\"},{\"attributes\":{},\"id\":\"3346\",\"type\":\"WheelZoomTool\"},{\"attributes\":{},\"id\":\"3333\",\"type\":\"LinearScale\"},{\"attributes\":{\"callback\":null,\"data\":{\"size\":[10,15,20,25,30],\"x\":[1,2,3,4,5],\"y\":[6,7,2,4,5]},\"selected\":{\"id\":\"3476\",\"type\":\"Selection\"},\"selection_policy\":{\"id\":\"3475\",\"type\":\"UnionRenderers\"}},\"id\":\"3360\",\"type\":\"ColumnDataSource\"},{\"attributes\":{\"overlay\":{\"id\":\"3353\",\"type\":\"BoxAnnotation\"}},\"id\":\"3347\",\"type\":\"BoxZoomTool\"},{\"attributes\":{\"plot\":null,\"text\":\"\"},\"id\":\"3470\",\"type\":\"Title\"},{\"attributes\":{},\"id\":\"3348\",\"type\":\"SaveTool\"},{\"attributes\":{},\"id\":\"3349\",\"type\":\"ResetTool\"},{\"attributes\":{},\"id\":\"3350\",\"type\":\"HelpTool\"},{\"attributes\":{},\"id\":\"3475\",\"type\":\"UnionRenderers\"},{\"attributes\":{\"active_drag\":\"auto\",\"active_inspect\":\"auto\",\"active_multi\":null,\"active_scroll\":\"auto\",\"active_tap\":\"auto\",\"tools\":[{\"id\":\"3345\",\"type\":\"PanTool\"},{\"id\":\"3346\",\"type\":\"WheelZoomTool\"},{\"id\":\"3347\",\"type\":\"BoxZoomTool\"},{\"id\":\"3348\",\"type\":\"SaveTool\"},{\"id\":\"3349\",\"type\":\"ResetTool\"},{\"id\":\"3350\",\"type\":\"HelpTool\"}]},\"id\":\"3351\",\"type\":\"Toolbar\"},{\"attributes\":{\"data_source\":{\"id\":\"3360\",\"type\":\"ColumnDataSource\"},\"glyph\":{\"id\":\"3361\",\"type\":\"CircleX\"},\"hover_glyph\":null,\"muted_glyph\":null,\"nonselection_glyph\":{\"id\":\"3362\",\"type\":\"CircleX\"},\"selection_glyph\":null,\"view\":{\"id\":\"3364\",\"type\":\"CDSView\"}},\"id\":\"3363\",\"type\":\"GlyphRenderer\"},{\"attributes\":{},\"id\":\"3331\",\"type\":\"LinearScale\"},{\"attributes\":{\"formatter\":{\"id\":\"3473\",\"type\":\"BasicTickFormatter\"},\"plot\":{\"id\":\"3326\",\"subtype\":\"Figure\",\"type\":\"Plot\"},\"ticker\":{\"id\":\"3341\",\"type\":\"BasicTicker\"}},\"id\":\"3340\",\"type\":\"LinearAxis\"},{\"attributes\":{\"bottom_units\":\"screen\",\"fill_alpha\":{\"value\":0.5},\"fill_color\":{\"value\":\"lightgrey\"},\"left_units\":\"screen\",\"level\":\"overlay\",\"line_alpha\":{\"value\":1.0},\"line_color\":{\"value\":\"black\"},\"line_dash\":[4,4],\"line_width\":{\"value\":2},\"plot\":null,\"render_mode\":\"css\",\"right_units\":\"screen\",\"top_units\":\"screen\"},\"id\":\"3353\",\"type\":\"BoxAnnotation\"},{\"attributes\":{\"callback\":null},\"id\":\"3329\",\"type\":\"DataRange1d\"},{\"attributes\":{\"source\":{\"id\":\"3360\",\"type\":\"ColumnDataSource\"}},\"id\":\"3364\",\"type\":\"CDSView\"},{\"attributes\":{},\"id\":\"3473\",\"type\":\"BasicTickFormatter\"},{\"attributes\":{\"formatter\":{\"id\":\"3471\",\"type\":\"BasicTickFormatter\"},\"plot\":{\"id\":\"3326\",\"subtype\":\"Figure\",\"type\":\"Plot\"},\"ticker\":{\"id\":\"3336\",\"type\":\"BasicTicker\"}},\"id\":\"3335\",\"type\":\"LinearAxis\"},{\"attributes\":{},\"id\":\"3476\",\"type\":\"Selection\"},{\"attributes\":{},\"id\":\"3341\",\"type\":\"BasicTicker\"}],\"root_ids\":[\"3326\"]},\"title\":\"Bokeh Application\",\"version\":\"1.0.4\"}};\n",
       "  var render_items = [{\"docid\":\"aa9714bf-164e-407d-b181-ddd392edece7\",\"roots\":{\"3326\":\"50f66a89-70d1-4bea-9707-7e6eaf00d6e8\"}}];\n",
       "  root.Bokeh.embed.embed_items_notebook(docs_json, render_items);\n",
       "\n",
       "  }\n",
       "  if (root.Bokeh !== undefined) {\n",
       "    embed_document(root);\n",
       "  } else {\n",
       "    var attempts = 0;\n",
       "    var timer = setInterval(function(root) {\n",
       "      if (root.Bokeh !== undefined) {\n",
       "        embed_document(root);\n",
       "        clearInterval(timer);\n",
       "      }\n",
       "      attempts++;\n",
       "      if (attempts > 100) {\n",
       "        console.log(\"Bokeh: ERROR: Unable to run BokehJS code because BokehJS library is missing\");\n",
       "        clearInterval(timer);\n",
       "      }\n",
       "    }, 10, root)\n",
       "  }\n",
       "})(window);"
      ],
      "application/vnd.bokehjs_exec.v0+json": ""
     },
     "metadata": {
      "application/vnd.bokehjs_exec.v0+json": {
       "id": "3326"
      }
     },
     "output_type": "display_data"
    }
   ],
   "source": [
    "# create a new plot using different shapes\n",
    "p = figure(plot_width=400, plot_height=400)\n",
    "\n",
    "# add a square renderer with a size, color, alpha, and sizes\n",
    "p.circle_x([1, 2, 3, 4, 5], [6, 7, 2, 4, 5], size=[10, 15, 20, 25, 30], color=\"firebrick\", alpha=0.6)\n",
    "\n",
    "show(p) # show the results"
   ]
  },
  {
   "cell_type": "markdown",
   "metadata": {},
   "source": [
    "There are many different marker types available in Bokeh\n",
    "\n",
    "- asterisk()\n",
    "\n",
    "- circle()\n",
    "\n",
    "- circle_cross()\n",
    "\n",
    "- circle_x()\n",
    "\n",
    "- cross()\n",
    "\n",
    "- diamond()\n",
    "\n",
    "- diamond_cross()\n",
    "\n",
    "- hex()\n",
    "\n",
    "- inverted_triangle()\n",
    "\n",
    "- square()\n",
    "\n",
    "- square_cross()\n",
    "\n",
    "- square_x()\n",
    "\n",
    "- triangle()\n",
    "\n",
    "- x()"
   ]
  },
  {
   "cell_type": "markdown",
   "metadata": {},
   "source": [
    "## 3. Creating a line plot with Bokeh"
   ]
  },
  {
   "cell_type": "code",
   "execution_count": 35,
   "metadata": {},
   "outputs": [
    {
     "data": {
      "text/html": [
       "\n",
       "\n",
       "\n",
       "\n",
       "\n",
       "\n",
       "  <div class=\"bk-root\" id=\"8b92bfc4-a460-4d2d-9fa3-5d473609f836\" data-root-id=\"3743\"></div>\n"
      ]
     },
     "metadata": {},
     "output_type": "display_data"
    },
    {
     "data": {
      "application/javascript": [
       "(function(root) {\n",
       "  function embed_document(root) {\n",
       "    \n",
       "  var docs_json = {\"7153f239-9d1b-4b06-b946-73e3d74bfaf9\":{\"roots\":{\"references\":[{\"attributes\":{\"below\":[{\"id\":\"3753\",\"type\":\"LinearAxis\"}],\"left\":[{\"id\":\"3758\",\"type\":\"LinearAxis\"}],\"plot_height\":400,\"plot_width\":400,\"renderers\":[{\"id\":\"3753\",\"type\":\"LinearAxis\"},{\"id\":\"3757\",\"type\":\"Grid\"},{\"id\":\"3758\",\"type\":\"LinearAxis\"},{\"id\":\"3762\",\"type\":\"Grid\"},{\"id\":\"3771\",\"type\":\"BoxAnnotation\"},{\"id\":\"3781\",\"type\":\"GlyphRenderer\"}],\"title\":{\"id\":\"3742\",\"type\":\"Title\"},\"toolbar\":{\"id\":\"3769\",\"type\":\"Toolbar\"},\"x_range\":{\"id\":\"3745\",\"type\":\"DataRange1d\"},\"x_scale\":{\"id\":\"3749\",\"type\":\"LinearScale\"},\"y_range\":{\"id\":\"3747\",\"type\":\"DataRange1d\"},\"y_scale\":{\"id\":\"3751\",\"type\":\"LinearScale\"}},\"id\":\"3743\",\"subtype\":\"Figure\",\"type\":\"Plot\"},{\"attributes\":{\"callback\":null,\"data\":{\"x\":[1,2,3,4,5],\"y\":[6,7,2,4,5]},\"selected\":{\"id\":\"3910\",\"type\":\"Selection\"},\"selection_policy\":{\"id\":\"3909\",\"type\":\"UnionRenderers\"}},\"id\":\"3778\",\"type\":\"ColumnDataSource\"},{\"attributes\":{\"plot\":null,\"text\":\"My Line Plot\"},\"id\":\"3742\",\"type\":\"Title\"},{\"attributes\":{},\"id\":\"3767\",\"type\":\"ResetTool\"},{\"attributes\":{},\"id\":\"3768\",\"type\":\"HelpTool\"},{\"attributes\":{\"callback\":null},\"id\":\"3745\",\"type\":\"DataRange1d\"},{\"attributes\":{\"active_drag\":\"auto\",\"active_inspect\":\"auto\",\"active_multi\":null,\"active_scroll\":\"auto\",\"active_tap\":\"auto\",\"tools\":[{\"id\":\"3763\",\"type\":\"PanTool\"},{\"id\":\"3764\",\"type\":\"WheelZoomTool\"},{\"id\":\"3765\",\"type\":\"BoxZoomTool\"},{\"id\":\"3766\",\"type\":\"SaveTool\"},{\"id\":\"3767\",\"type\":\"ResetTool\"},{\"id\":\"3768\",\"type\":\"HelpTool\"}]},\"id\":\"3769\",\"type\":\"Toolbar\"},{\"attributes\":{\"callback\":null},\"id\":\"3747\",\"type\":\"DataRange1d\"},{\"attributes\":{},\"id\":\"3909\",\"type\":\"UnionRenderers\"},{\"attributes\":{},\"id\":\"3749\",\"type\":\"LinearScale\"},{\"attributes\":{},\"id\":\"3751\",\"type\":\"LinearScale\"},{\"attributes\":{\"formatter\":{\"id\":\"3905\",\"type\":\"BasicTickFormatter\"},\"plot\":{\"id\":\"3743\",\"subtype\":\"Figure\",\"type\":\"Plot\"},\"ticker\":{\"id\":\"3754\",\"type\":\"BasicTicker\"}},\"id\":\"3753\",\"type\":\"LinearAxis\"},{\"attributes\":{},\"id\":\"3910\",\"type\":\"Selection\"},{\"attributes\":{},\"id\":\"3754\",\"type\":\"BasicTicker\"},{\"attributes\":{\"plot\":{\"id\":\"3743\",\"subtype\":\"Figure\",\"type\":\"Plot\"},\"ticker\":{\"id\":\"3754\",\"type\":\"BasicTicker\"}},\"id\":\"3757\",\"type\":\"Grid\"},{\"attributes\":{\"formatter\":{\"id\":\"3907\",\"type\":\"BasicTickFormatter\"},\"plot\":{\"id\":\"3743\",\"subtype\":\"Figure\",\"type\":\"Plot\"},\"ticker\":{\"id\":\"3759\",\"type\":\"BasicTicker\"}},\"id\":\"3758\",\"type\":\"LinearAxis\"},{\"attributes\":{\"bottom_units\":\"screen\",\"fill_alpha\":{\"value\":0.5},\"fill_color\":{\"value\":\"lightgrey\"},\"left_units\":\"screen\",\"level\":\"overlay\",\"line_alpha\":{\"value\":1.0},\"line_color\":{\"value\":\"black\"},\"line_dash\":[4,4],\"line_width\":{\"value\":2},\"plot\":null,\"render_mode\":\"css\",\"right_units\":\"screen\",\"top_units\":\"screen\"},\"id\":\"3771\",\"type\":\"BoxAnnotation\"},{\"attributes\":{},\"id\":\"3759\",\"type\":\"BasicTicker\"},{\"attributes\":{},\"id\":\"3907\",\"type\":\"BasicTickFormatter\"},{\"attributes\":{\"dimension\":1,\"plot\":{\"id\":\"3743\",\"subtype\":\"Figure\",\"type\":\"Plot\"},\"ticker\":{\"id\":\"3759\",\"type\":\"BasicTicker\"}},\"id\":\"3762\",\"type\":\"Grid\"},{\"attributes\":{\"line_alpha\":0.1,\"line_color\":\"#1f77b4\",\"line_width\":2,\"x\":{\"field\":\"x\"},\"y\":{\"field\":\"y\"}},\"id\":\"3780\",\"type\":\"Line\"},{\"attributes\":{\"line_color\":\"#1f77b4\",\"line_width\":2,\"x\":{\"field\":\"x\"},\"y\":{\"field\":\"y\"}},\"id\":\"3779\",\"type\":\"Line\"},{\"attributes\":{\"source\":{\"id\":\"3778\",\"type\":\"ColumnDataSource\"}},\"id\":\"3782\",\"type\":\"CDSView\"},{\"attributes\":{\"data_source\":{\"id\":\"3778\",\"type\":\"ColumnDataSource\"},\"glyph\":{\"id\":\"3779\",\"type\":\"Line\"},\"hover_glyph\":null,\"muted_glyph\":null,\"nonselection_glyph\":{\"id\":\"3780\",\"type\":\"Line\"},\"selection_glyph\":null,\"view\":{\"id\":\"3782\",\"type\":\"CDSView\"}},\"id\":\"3781\",\"type\":\"GlyphRenderer\"},{\"attributes\":{},\"id\":\"3763\",\"type\":\"PanTool\"},{\"attributes\":{},\"id\":\"3764\",\"type\":\"WheelZoomTool\"},{\"attributes\":{\"overlay\":{\"id\":\"3771\",\"type\":\"BoxAnnotation\"}},\"id\":\"3765\",\"type\":\"BoxZoomTool\"},{\"attributes\":{},\"id\":\"3905\",\"type\":\"BasicTickFormatter\"},{\"attributes\":{},\"id\":\"3766\",\"type\":\"SaveTool\"}],\"root_ids\":[\"3743\"]},\"title\":\"Bokeh Application\",\"version\":\"1.0.4\"}};\n",
       "  var render_items = [{\"docid\":\"7153f239-9d1b-4b06-b946-73e3d74bfaf9\",\"roots\":{\"3743\":\"8b92bfc4-a460-4d2d-9fa3-5d473609f836\"}}];\n",
       "  root.Bokeh.embed.embed_items_notebook(docs_json, render_items);\n",
       "\n",
       "  }\n",
       "  if (root.Bokeh !== undefined) {\n",
       "    embed_document(root);\n",
       "  } else {\n",
       "    var attempts = 0;\n",
       "    var timer = setInterval(function(root) {\n",
       "      if (root.Bokeh !== undefined) {\n",
       "        embed_document(root);\n",
       "        clearInterval(timer);\n",
       "      }\n",
       "      attempts++;\n",
       "      if (attempts > 100) {\n",
       "        console.log(\"Bokeh: ERROR: Unable to run BokehJS code because BokehJS library is missing\");\n",
       "        clearInterval(timer);\n",
       "      }\n",
       "    }, 10, root)\n",
       "  }\n",
       "})(window);"
      ],
      "application/vnd.bokehjs_exec.v0+json": ""
     },
     "metadata": {
      "application/vnd.bokehjs_exec.v0+json": {
       "id": "3743"
      }
     },
     "output_type": "display_data"
    }
   ],
   "source": [
    "# create a new plot (with a title) using figure\n",
    "p = figure(plot_width=400, plot_height=400, title=\"My Line Plot\")\n",
    "\n",
    "# add a line renderer\n",
    "p.line([1, 2, 3, 4, 5], [6, 7, 2, 4, 5], line_width=2)\n",
    "\n",
    "show(p) # show the results"
   ]
  },
  {
   "cell_type": "code",
   "execution_count": 36,
   "metadata": {},
   "outputs": [
    {
     "data": {
      "text/html": [
       "\n",
       "\n",
       "\n",
       "\n",
       "\n",
       "\n",
       "  <div class=\"bk-root\" id=\"11acdae9-01e4-489c-ad64-0e819b07b7fc\" data-root-id=\"3960\"></div>\n"
      ]
     },
     "metadata": {},
     "output_type": "display_data"
    },
    {
     "data": {
      "application/javascript": [
       "(function(root) {\n",
       "  function embed_document(root) {\n",
       "    \n",
       "  var docs_json = {\"0ed86f0e-92b7-4ac5-a33b-b061f7a6a3ee\":{\"roots\":{\"references\":[{\"attributes\":{\"below\":[{\"id\":\"3969\",\"type\":\"LinearAxis\"}],\"left\":[{\"id\":\"3974\",\"type\":\"LinearAxis\"}],\"plot_height\":400,\"plot_width\":400,\"renderers\":[{\"id\":\"3969\",\"type\":\"LinearAxis\"},{\"id\":\"3973\",\"type\":\"Grid\"},{\"id\":\"3974\",\"type\":\"LinearAxis\"},{\"id\":\"3978\",\"type\":\"Grid\"},{\"id\":\"3987\",\"type\":\"BoxAnnotation\"},{\"id\":\"3997\",\"type\":\"GlyphRenderer\"},{\"id\":\"4002\",\"type\":\"GlyphRenderer\"}],\"title\":{\"id\":\"4134\",\"type\":\"Title\"},\"toolbar\":{\"id\":\"3985\",\"type\":\"Toolbar\"},\"x_range\":{\"id\":\"3961\",\"type\":\"DataRange1d\"},\"x_scale\":{\"id\":\"3965\",\"type\":\"LinearScale\"},\"y_range\":{\"id\":\"3963\",\"type\":\"DataRange1d\"},\"y_scale\":{\"id\":\"3967\",\"type\":\"LinearScale\"}},\"id\":\"3960\",\"subtype\":\"Figure\",\"type\":\"Plot\"},{\"attributes\":{},\"id\":\"4141\",\"type\":\"UnionRenderers\"},{\"attributes\":{\"fill_alpha\":{\"value\":0.1},\"fill_color\":{\"value\":\"#1f77b4\"},\"line_alpha\":{\"value\":0.1},\"line_color\":{\"value\":\"#1f77b4\"},\"size\":{\"units\":\"screen\",\"value\":8},\"x\":{\"field\":\"x\"},\"y\":{\"field\":\"y\"}},\"id\":\"4001\",\"type\":\"Circle\"},{\"attributes\":{},\"id\":\"3965\",\"type\":\"LinearScale\"},{\"attributes\":{\"data_source\":{\"id\":\"3994\",\"type\":\"ColumnDataSource\"},\"glyph\":{\"id\":\"3995\",\"type\":\"Line\"},\"hover_glyph\":null,\"muted_glyph\":null,\"nonselection_glyph\":{\"id\":\"3996\",\"type\":\"Line\"},\"selection_glyph\":null,\"view\":{\"id\":\"3998\",\"type\":\"CDSView\"}},\"id\":\"3997\",\"type\":\"GlyphRenderer\"},{\"attributes\":{\"data_source\":{\"id\":\"3999\",\"type\":\"ColumnDataSource\"},\"glyph\":{\"id\":\"4000\",\"type\":\"Circle\"},\"hover_glyph\":null,\"muted_glyph\":null,\"nonselection_glyph\":{\"id\":\"4001\",\"type\":\"Circle\"},\"selection_glyph\":null,\"view\":{\"id\":\"4003\",\"type\":\"CDSView\"}},\"id\":\"4002\",\"type\":\"GlyphRenderer\"},{\"attributes\":{\"callback\":null},\"id\":\"3963\",\"type\":\"DataRange1d\"},{\"attributes\":{\"callback\":null},\"id\":\"3961\",\"type\":\"DataRange1d\"},{\"attributes\":{\"source\":{\"id\":\"3999\",\"type\":\"ColumnDataSource\"}},\"id\":\"4003\",\"type\":\"CDSView\"},{\"attributes\":{\"formatter\":{\"id\":\"4135\",\"type\":\"BasicTickFormatter\"},\"plot\":{\"id\":\"3960\",\"subtype\":\"Figure\",\"type\":\"Plot\"},\"ticker\":{\"id\":\"3970\",\"type\":\"BasicTicker\"}},\"id\":\"3969\",\"type\":\"LinearAxis\"},{\"attributes\":{},\"id\":\"3967\",\"type\":\"LinearScale\"},{\"attributes\":{},\"id\":\"4135\",\"type\":\"BasicTickFormatter\"},{\"attributes\":{},\"id\":\"4139\",\"type\":\"UnionRenderers\"},{\"attributes\":{},\"id\":\"4142\",\"type\":\"Selection\"},{\"attributes\":{},\"id\":\"3970\",\"type\":\"BasicTicker\"},{\"attributes\":{},\"id\":\"4140\",\"type\":\"Selection\"},{\"attributes\":{\"source\":{\"id\":\"3994\",\"type\":\"ColumnDataSource\"}},\"id\":\"3998\",\"type\":\"CDSView\"},{\"attributes\":{},\"id\":\"3979\",\"type\":\"PanTool\"},{\"attributes\":{\"plot\":null,\"text\":\"\"},\"id\":\"4134\",\"type\":\"Title\"},{\"attributes\":{\"active_drag\":\"auto\",\"active_inspect\":\"auto\",\"active_multi\":null,\"active_scroll\":\"auto\",\"active_tap\":\"auto\",\"tools\":[{\"id\":\"3979\",\"type\":\"PanTool\"},{\"id\":\"3980\",\"type\":\"WheelZoomTool\"},{\"id\":\"3981\",\"type\":\"BoxZoomTool\"},{\"id\":\"3982\",\"type\":\"SaveTool\"},{\"id\":\"3983\",\"type\":\"ResetTool\"},{\"id\":\"3984\",\"type\":\"HelpTool\"}]},\"id\":\"3985\",\"type\":\"Toolbar\"},{\"attributes\":{\"callback\":null,\"data\":{\"x\":[1,2,3,4,5],\"y\":[6,7,8,7,3]},\"selected\":{\"id\":\"4142\",\"type\":\"Selection\"},\"selection_policy\":{\"id\":\"4141\",\"type\":\"UnionRenderers\"}},\"id\":\"3999\",\"type\":\"ColumnDataSource\"},{\"attributes\":{},\"id\":\"4137\",\"type\":\"BasicTickFormatter\"},{\"attributes\":{\"formatter\":{\"id\":\"4137\",\"type\":\"BasicTickFormatter\"},\"plot\":{\"id\":\"3960\",\"subtype\":\"Figure\",\"type\":\"Plot\"},\"ticker\":{\"id\":\"3975\",\"type\":\"BasicTicker\"}},\"id\":\"3974\",\"type\":\"LinearAxis\"},{\"attributes\":{},\"id\":\"3984\",\"type\":\"HelpTool\"},{\"attributes\":{\"callback\":null,\"data\":{\"x\":[1,2,3,4,5],\"y\":[6,7,8,7,3]},\"selected\":{\"id\":\"4140\",\"type\":\"Selection\"},\"selection_policy\":{\"id\":\"4139\",\"type\":\"UnionRenderers\"}},\"id\":\"3994\",\"type\":\"ColumnDataSource\"},{\"attributes\":{},\"id\":\"3982\",\"type\":\"SaveTool\"},{\"attributes\":{\"line_alpha\":0.1,\"line_color\":\"#1f77b4\",\"line_width\":2,\"x\":{\"field\":\"x\"},\"y\":{\"field\":\"y\"}},\"id\":\"3996\",\"type\":\"Line\"},{\"attributes\":{},\"id\":\"3975\",\"type\":\"BasicTicker\"},{\"attributes\":{\"dimension\":1,\"plot\":{\"id\":\"3960\",\"subtype\":\"Figure\",\"type\":\"Plot\"},\"ticker\":{\"id\":\"3975\",\"type\":\"BasicTicker\"}},\"id\":\"3978\",\"type\":\"Grid\"},{\"attributes\":{\"fill_color\":{\"value\":\"white\"},\"line_color\":{\"value\":\"#1f77b4\"},\"size\":{\"units\":\"screen\",\"value\":8},\"x\":{\"field\":\"x\"},\"y\":{\"field\":\"y\"}},\"id\":\"4000\",\"type\":\"Circle\"},{\"attributes\":{\"plot\":{\"id\":\"3960\",\"subtype\":\"Figure\",\"type\":\"Plot\"},\"ticker\":{\"id\":\"3970\",\"type\":\"BasicTicker\"}},\"id\":\"3973\",\"type\":\"Grid\"},{\"attributes\":{},\"id\":\"3980\",\"type\":\"WheelZoomTool\"},{\"attributes\":{\"overlay\":{\"id\":\"3987\",\"type\":\"BoxAnnotation\"}},\"id\":\"3981\",\"type\":\"BoxZoomTool\"},{\"attributes\":{},\"id\":\"3983\",\"type\":\"ResetTool\"},{\"attributes\":{\"bottom_units\":\"screen\",\"fill_alpha\":{\"value\":0.5},\"fill_color\":{\"value\":\"lightgrey\"},\"left_units\":\"screen\",\"level\":\"overlay\",\"line_alpha\":{\"value\":1.0},\"line_color\":{\"value\":\"black\"},\"line_dash\":[4,4],\"line_width\":{\"value\":2},\"plot\":null,\"render_mode\":\"css\",\"right_units\":\"screen\",\"top_units\":\"screen\"},\"id\":\"3987\",\"type\":\"BoxAnnotation\"},{\"attributes\":{\"line_color\":\"#1f77b4\",\"line_width\":2,\"x\":{\"field\":\"x\"},\"y\":{\"field\":\"y\"}},\"id\":\"3995\",\"type\":\"Line\"}],\"root_ids\":[\"3960\"]},\"title\":\"Bokeh Application\",\"version\":\"1.0.4\"}};\n",
       "  var render_items = [{\"docid\":\"0ed86f0e-92b7-4ac5-a33b-b061f7a6a3ee\",\"roots\":{\"3960\":\"11acdae9-01e4-489c-ad64-0e819b07b7fc\"}}];\n",
       "  root.Bokeh.embed.embed_items_notebook(docs_json, render_items);\n",
       "\n",
       "  }\n",
       "  if (root.Bokeh !== undefined) {\n",
       "    embed_document(root);\n",
       "  } else {\n",
       "    var attempts = 0;\n",
       "    var timer = setInterval(function(root) {\n",
       "      if (root.Bokeh !== undefined) {\n",
       "        embed_document(root);\n",
       "        clearInterval(timer);\n",
       "      }\n",
       "      attempts++;\n",
       "      if (attempts > 100) {\n",
       "        console.log(\"Bokeh: ERROR: Unable to run BokehJS code because BokehJS library is missing\");\n",
       "        clearInterval(timer);\n",
       "      }\n",
       "    }, 10, root)\n",
       "  }\n",
       "})(window);"
      ],
      "application/vnd.bokehjs_exec.v0+json": ""
     },
     "metadata": {
      "application/vnd.bokehjs_exec.v0+json": {
       "id": "3960"
      }
     },
     "output_type": "display_data"
    }
   ],
   "source": [
    "# combine both line and circle plots\n",
    "\n",
    "# set up some data\n",
    "x = [1, 2, 3, 4, 5]\n",
    "y = [6, 7, 8, 7, 3]\n",
    "\n",
    "# create a new plot with figure\n",
    "p = figure(plot_width=400, plot_height=400)\n",
    "\n",
    "# add both a line and circles on the same plot\n",
    "p.line(x, y, line_width=2)\n",
    "p.circle(x, y, fill_color=\"white\", size=8)\n",
    "\n",
    "show(p) # show the results"
   ]
  },
  {
   "cell_type": "code",
   "execution_count": 88,
   "metadata": {},
   "outputs": [],
   "source": [
    "import numpy as np\n",
    "x = np.linspace(0, 20, 200)\n",
    "y = np.sin(x)"
   ]
  },
  {
   "cell_type": "code",
   "execution_count": 89,
   "metadata": {},
   "outputs": [
    {
     "data": {
      "text/html": [
       "\n",
       "\n",
       "\n",
       "\n",
       "\n",
       "\n",
       "  <div class=\"bk-root\" id=\"826a60d9-907f-48e3-bf46-05588c673a75\" data-root-id=\"18366\"></div>\n"
      ]
     },
     "metadata": {},
     "output_type": "display_data"
    },
    {
     "data": {
      "application/javascript": [
       "(function(root) {\n",
       "  function embed_document(root) {\n",
       "    \n",
       "  var docs_json = {\"bd02a267-fe05-4434-8b25-05cf969cc799\":{\"roots\":{\"references\":[{\"attributes\":{\"below\":[{\"id\":\"18375\",\"type\":\"LinearAxis\"}],\"left\":[{\"id\":\"18380\",\"type\":\"LinearAxis\"}],\"plot_height\":400,\"plot_width\":800,\"renderers\":[{\"id\":\"18375\",\"type\":\"LinearAxis\"},{\"id\":\"18379\",\"type\":\"Grid\"},{\"id\":\"18380\",\"type\":\"LinearAxis\"},{\"id\":\"18384\",\"type\":\"Grid\"},{\"id\":\"18393\",\"type\":\"BoxAnnotation\"},{\"id\":\"18403\",\"type\":\"GlyphRenderer\"}],\"title\":{\"id\":\"18867\",\"type\":\"Title\"},\"toolbar\":{\"id\":\"18391\",\"type\":\"Toolbar\"},\"x_range\":{\"id\":\"18367\",\"type\":\"DataRange1d\"},\"x_scale\":{\"id\":\"18371\",\"type\":\"LinearScale\"},\"y_range\":{\"id\":\"18369\",\"type\":\"DataRange1d\"},\"y_scale\":{\"id\":\"18373\",\"type\":\"LinearScale\"}},\"id\":\"18366\",\"subtype\":\"Figure\",\"type\":\"Plot\"},{\"attributes\":{},\"id\":\"18870\",\"type\":\"BasicTickFormatter\"},{\"attributes\":{\"line_alpha\":0.1,\"line_color\":\"#1f77b4\",\"line_width\":2,\"x\":{\"field\":\"x\"},\"y\":{\"field\":\"y\"}},\"id\":\"18402\",\"type\":\"Line\"},{\"attributes\":{},\"id\":\"18390\",\"type\":\"HelpTool\"},{\"attributes\":{},\"id\":\"18873\",\"type\":\"Selection\"},{\"attributes\":{\"formatter\":{\"id\":\"18868\",\"type\":\"BasicTickFormatter\"},\"plot\":{\"id\":\"18366\",\"subtype\":\"Figure\",\"type\":\"Plot\"},\"ticker\":{\"id\":\"18376\",\"type\":\"BasicTicker\"}},\"id\":\"18375\",\"type\":\"LinearAxis\"},{\"attributes\":{\"plot\":{\"id\":\"18366\",\"subtype\":\"Figure\",\"type\":\"Plot\"},\"ticker\":{\"id\":\"18376\",\"type\":\"BasicTicker\"}},\"id\":\"18379\",\"type\":\"Grid\"},{\"attributes\":{\"source\":{\"id\":\"18400\",\"type\":\"ColumnDataSource\"}},\"id\":\"18404\",\"type\":\"CDSView\"},{\"attributes\":{},\"id\":\"18371\",\"type\":\"LinearScale\"},{\"attributes\":{},\"id\":\"18373\",\"type\":\"LinearScale\"},{\"attributes\":{},\"id\":\"18872\",\"type\":\"UnionRenderers\"},{\"attributes\":{},\"id\":\"18385\",\"type\":\"PanTool\"},{\"attributes\":{},\"id\":\"18388\",\"type\":\"SaveTool\"},{\"attributes\":{\"plot\":null,\"text\":\"\"},\"id\":\"18867\",\"type\":\"Title\"},{\"attributes\":{\"dimension\":1,\"plot\":{\"id\":\"18366\",\"subtype\":\"Figure\",\"type\":\"Plot\"},\"ticker\":{\"id\":\"18381\",\"type\":\"BasicTicker\"}},\"id\":\"18384\",\"type\":\"Grid\"},{\"attributes\":{\"data_source\":{\"id\":\"18400\",\"type\":\"ColumnDataSource\"},\"glyph\":{\"id\":\"18401\",\"type\":\"Line\"},\"hover_glyph\":null,\"muted_glyph\":null,\"nonselection_glyph\":{\"id\":\"18402\",\"type\":\"Line\"},\"selection_glyph\":null,\"view\":{\"id\":\"18404\",\"type\":\"CDSView\"}},\"id\":\"18403\",\"type\":\"GlyphRenderer\"},{\"attributes\":{},\"id\":\"18381\",\"type\":\"BasicTicker\"},{\"attributes\":{},\"id\":\"18386\",\"type\":\"WheelZoomTool\"},{\"attributes\":{\"overlay\":{\"id\":\"18393\",\"type\":\"BoxAnnotation\"}},\"id\":\"18387\",\"type\":\"BoxZoomTool\"},{\"attributes\":{\"callback\":null},\"id\":\"18369\",\"type\":\"DataRange1d\"},{\"attributes\":{\"active_drag\":\"auto\",\"active_inspect\":\"auto\",\"active_multi\":null,\"active_scroll\":\"auto\",\"active_tap\":\"auto\",\"tools\":[{\"id\":\"18385\",\"type\":\"PanTool\"},{\"id\":\"18386\",\"type\":\"WheelZoomTool\"},{\"id\":\"18387\",\"type\":\"BoxZoomTool\"},{\"id\":\"18388\",\"type\":\"SaveTool\"},{\"id\":\"18389\",\"type\":\"ResetTool\"},{\"id\":\"18390\",\"type\":\"HelpTool\"}]},\"id\":\"18391\",\"type\":\"Toolbar\"},{\"attributes\":{\"line_color\":\"#1f77b4\",\"line_width\":2,\"x\":{\"field\":\"x\"},\"y\":{\"field\":\"y\"}},\"id\":\"18401\",\"type\":\"Line\"},{\"attributes\":{\"callback\":null,\"data\":{\"x\":{\"__ndarray__\":\"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\",\"dtype\":\"float64\",\"shape\":[200]},\"y\":{\"__ndarray__\":\"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\",\"dtype\":\"float64\",\"shape\":[200]}},\"selected\":{\"id\":\"18873\",\"type\":\"Selection\"},\"selection_policy\":{\"id\":\"18872\",\"type\":\"UnionRenderers\"}},\"id\":\"18400\",\"type\":\"ColumnDataSource\"},{\"attributes\":{},\"id\":\"18389\",\"type\":\"ResetTool\"},{\"attributes\":{},\"id\":\"18868\",\"type\":\"BasicTickFormatter\"},{\"attributes\":{\"formatter\":{\"id\":\"18870\",\"type\":\"BasicTickFormatter\"},\"plot\":{\"id\":\"18366\",\"subtype\":\"Figure\",\"type\":\"Plot\"},\"ticker\":{\"id\":\"18381\",\"type\":\"BasicTicker\"}},\"id\":\"18380\",\"type\":\"LinearAxis\"},{\"attributes\":{\"bottom_units\":\"screen\",\"fill_alpha\":{\"value\":0.5},\"fill_color\":{\"value\":\"lightgrey\"},\"left_units\":\"screen\",\"level\":\"overlay\",\"line_alpha\":{\"value\":1.0},\"line_color\":{\"value\":\"black\"},\"line_dash\":[4,4],\"line_width\":{\"value\":2},\"plot\":null,\"render_mode\":\"css\",\"right_units\":\"screen\",\"top_units\":\"screen\"},\"id\":\"18393\",\"type\":\"BoxAnnotation\"},{\"attributes\":{\"callback\":null},\"id\":\"18367\",\"type\":\"DataRange1d\"},{\"attributes\":{},\"id\":\"18376\",\"type\":\"BasicTicker\"}],\"root_ids\":[\"18366\"]},\"title\":\"Bokeh Application\",\"version\":\"1.0.4\"}};\n",
       "  var render_items = [{\"docid\":\"bd02a267-fe05-4434-8b25-05cf969cc799\",\"roots\":{\"18366\":\"826a60d9-907f-48e3-bf46-05588c673a75\"}}];\n",
       "  root.Bokeh.embed.embed_items_notebook(docs_json, render_items);\n",
       "\n",
       "  }\n",
       "  if (root.Bokeh !== undefined) {\n",
       "    embed_document(root);\n",
       "  } else {\n",
       "    var attempts = 0;\n",
       "    var timer = setInterval(function(root) {\n",
       "      if (root.Bokeh !== undefined) {\n",
       "        embed_document(root);\n",
       "        clearInterval(timer);\n",
       "      }\n",
       "      attempts++;\n",
       "      if (attempts > 100) {\n",
       "        console.log(\"Bokeh: ERROR: Unable to run BokehJS code because BokehJS library is missing\");\n",
       "        clearInterval(timer);\n",
       "      }\n",
       "    }, 10, root)\n",
       "  }\n",
       "})(window);"
      ],
      "application/vnd.bokehjs_exec.v0+json": ""
     },
     "metadata": {
      "application/vnd.bokehjs_exec.v0+json": {
       "id": "18366"
      }
     },
     "output_type": "display_data"
    }
   ],
   "source": [
    "# create a new plot with figure\n",
    "p = figure(plot_width=800, plot_height=400)\n",
    "\n",
    "# add both a line and circles on the same plot\n",
    "p.line(x, y, line_width=2)\n",
    "# p.circle(X, Y, fill_color=\"white\", size=8)\n",
    "\n",
    "show(p) # show the results"
   ]
  },
  {
   "cell_type": "markdown",
   "metadata": {},
   "source": [
    "## 4. Using the Hover function in Bokeh"
   ]
  },
  {
   "cell_type": "code",
   "execution_count": 71,
   "metadata": {},
   "outputs": [
    {
     "name": "stdout",
     "output_type": "stream",
     "text": [
      "['setosa' 'versicolor' 'virginica']\n"
     ]
    },
    {
     "data": {
      "text/html": [
       "<div>\n",
       "<style scoped>\n",
       "    .dataframe tbody tr th:only-of-type {\n",
       "        vertical-align: middle;\n",
       "    }\n",
       "\n",
       "    .dataframe tbody tr th {\n",
       "        vertical-align: top;\n",
       "    }\n",
       "\n",
       "    .dataframe thead th {\n",
       "        text-align: right;\n",
       "    }\n",
       "</style>\n",
       "<table border=\"1\" class=\"dataframe\">\n",
       "  <thead>\n",
       "    <tr style=\"text-align: right;\">\n",
       "      <th></th>\n",
       "      <th>sepal_length</th>\n",
       "      <th>sepal_width</th>\n",
       "      <th>petal_length</th>\n",
       "      <th>petal_width</th>\n",
       "      <th>species</th>\n",
       "    </tr>\n",
       "  </thead>\n",
       "  <tbody>\n",
       "    <tr>\n",
       "      <th>0</th>\n",
       "      <td>5.1</td>\n",
       "      <td>3.5</td>\n",
       "      <td>1.4</td>\n",
       "      <td>0.2</td>\n",
       "      <td>setosa</td>\n",
       "    </tr>\n",
       "    <tr>\n",
       "      <th>1</th>\n",
       "      <td>4.9</td>\n",
       "      <td>3.0</td>\n",
       "      <td>1.4</td>\n",
       "      <td>0.2</td>\n",
       "      <td>setosa</td>\n",
       "    </tr>\n",
       "    <tr>\n",
       "      <th>2</th>\n",
       "      <td>4.7</td>\n",
       "      <td>3.2</td>\n",
       "      <td>1.3</td>\n",
       "      <td>0.2</td>\n",
       "      <td>setosa</td>\n",
       "    </tr>\n",
       "    <tr>\n",
       "      <th>3</th>\n",
       "      <td>4.6</td>\n",
       "      <td>3.1</td>\n",
       "      <td>1.5</td>\n",
       "      <td>0.2</td>\n",
       "      <td>setosa</td>\n",
       "    </tr>\n",
       "    <tr>\n",
       "      <th>4</th>\n",
       "      <td>5.0</td>\n",
       "      <td>3.6</td>\n",
       "      <td>1.4</td>\n",
       "      <td>0.2</td>\n",
       "      <td>setosa</td>\n",
       "    </tr>\n",
       "  </tbody>\n",
       "</table>\n",
       "</div>"
      ],
      "text/plain": [
       "   sepal_length  sepal_width  petal_length  petal_width species\n",
       "0           5.1          3.5           1.4          0.2  setosa\n",
       "1           4.9          3.0           1.4          0.2  setosa\n",
       "2           4.7          3.2           1.3          0.2  setosa\n",
       "3           4.6          3.1           1.5          0.2  setosa\n",
       "4           5.0          3.6           1.4          0.2  setosa"
      ]
     },
     "execution_count": 71,
     "metadata": {},
     "output_type": "execute_result"
    }
   ],
   "source": [
    "# start by loading the iris dataset\n",
    "import seaborn as sns\n",
    "df = sns.load_dataset('iris')\n",
    "print(df['species'].unique())\n",
    "df.head()"
   ]
  },
  {
   "cell_type": "code",
   "execution_count": 72,
   "metadata": {},
   "outputs": [
    {
     "data": {
      "text/html": [
       "\n",
       "\n",
       "\n",
       "\n",
       "\n",
       "\n",
       "  <div class=\"bk-root\" id=\"8a87ffe6-b1f0-47a7-8b6e-8266c15ca9a6\" data-root-id=\"12602\"></div>\n"
      ]
     },
     "metadata": {},
     "output_type": "display_data"
    },
    {
     "data": {
      "application/javascript": [
       "(function(root) {\n",
       "  function embed_document(root) {\n",
       "    \n",
       "  var docs_json = {\"3d66553c-54bd-4000-a81c-a988a2e07f04\":{\"roots\":{\"references\":[{\"attributes\":{\"below\":[{\"id\":\"12611\",\"type\":\"LinearAxis\"}],\"left\":[{\"id\":\"12616\",\"type\":\"LinearAxis\"}],\"plot_height\":400,\"plot_width\":400,\"renderers\":[{\"id\":\"12611\",\"type\":\"LinearAxis\"},{\"id\":\"12615\",\"type\":\"Grid\"},{\"id\":\"12616\",\"type\":\"LinearAxis\"},{\"id\":\"12620\",\"type\":\"Grid\"},{\"id\":\"12629\",\"type\":\"BoxAnnotation\"},{\"id\":\"12640\",\"type\":\"GlyphRenderer\"}],\"title\":{\"id\":\"12999\",\"type\":\"Title\"},\"toolbar\":{\"id\":\"12627\",\"type\":\"Toolbar\"},\"x_range\":{\"id\":\"12603\",\"type\":\"DataRange1d\"},\"x_scale\":{\"id\":\"12607\",\"type\":\"LinearScale\"},\"y_range\":{\"id\":\"12605\",\"type\":\"DataRange1d\"},\"y_scale\":{\"id\":\"12609\",\"type\":\"LinearScale\"}},\"id\":\"12602\",\"subtype\":\"Figure\",\"type\":\"Plot\"},{\"attributes\":{},\"id\":\"12626\",\"type\":\"HelpTool\"},{\"attributes\":{\"active_drag\":\"auto\",\"active_inspect\":\"auto\",\"active_multi\":null,\"active_scroll\":\"auto\",\"active_tap\":\"auto\",\"tools\":[{\"id\":\"12621\",\"type\":\"PanTool\"},{\"id\":\"12622\",\"type\":\"WheelZoomTool\"},{\"id\":\"12623\",\"type\":\"BoxZoomTool\"},{\"id\":\"12624\",\"type\":\"SaveTool\"},{\"id\":\"12625\",\"type\":\"ResetTool\"},{\"id\":\"12626\",\"type\":\"HelpTool\"}]},\"id\":\"12627\",\"type\":\"Toolbar\"},{\"attributes\":{\"bottom_units\":\"screen\",\"fill_alpha\":{\"value\":0.5},\"fill_color\":{\"value\":\"lightgrey\"},\"left_units\":\"screen\",\"level\":\"overlay\",\"line_alpha\":{\"value\":1.0},\"line_color\":{\"value\":\"black\"},\"line_dash\":[4,4],\"line_width\":{\"value\":2},\"plot\":null,\"render_mode\":\"css\",\"right_units\":\"screen\",\"top_units\":\"screen\"},\"id\":\"12629\",\"type\":\"BoxAnnotation\"},{\"attributes\":{\"plot\":null,\"text\":\"\"},\"id\":\"12999\",\"type\":\"Title\"},{\"attributes\":{\"dimension\":1,\"plot\":{\"id\":\"12602\",\"subtype\":\"Figure\",\"type\":\"Plot\"},\"ticker\":{\"id\":\"12617\",\"type\":\"BasicTicker\"}},\"id\":\"12620\",\"type\":\"Grid\"},{\"attributes\":{},\"id\":\"12622\",\"type\":\"WheelZoomTool\"},{\"attributes\":{\"data_source\":{\"id\":\"12636\",\"type\":\"ColumnDataSource\"},\"glyph\":{\"id\":\"12638\",\"type\":\"Circle\"},\"hover_glyph\":null,\"muted_glyph\":null,\"nonselection_glyph\":{\"id\":\"12639\",\"type\":\"Circle\"},\"selection_glyph\":null,\"view\":{\"id\":\"12641\",\"type\":\"CDSView\"}},\"id\":\"12640\",\"type\":\"GlyphRenderer\"},{\"attributes\":{},\"id\":\"12607\",\"type\":\"LinearScale\"},{\"attributes\":{\"fill_alpha\":{\"value\":0.1},\"fill_color\":{\"value\":\"#1f77b4\"},\"line_alpha\":{\"value\":0.1},\"line_color\":{\"value\":\"#1f77b4\"},\"x\":{\"field\":\"petal_length\"},\"y\":{\"field\":\"petal_width\"}},\"id\":\"12639\",\"type\":\"Circle\"},{\"attributes\":{},\"id\":\"12609\",\"type\":\"LinearScale\"},{\"attributes\":{\"source\":{\"id\":\"12636\",\"type\":\"ColumnDataSource\"}},\"id\":\"12641\",\"type\":\"CDSView\"},{\"attributes\":{\"formatter\":{\"id\":\"13000\",\"type\":\"BasicTickFormatter\"},\"plot\":{\"id\":\"12602\",\"subtype\":\"Figure\",\"type\":\"Plot\"},\"ticker\":{\"id\":\"12612\",\"type\":\"BasicTicker\"}},\"id\":\"12611\",\"type\":\"LinearAxis\"},{\"attributes\":{\"callback\":null,\"data\":{\"index\":[0,1,2,3,4,5,6,7,8,9,10,11,12,13,14,15,16,17,18,19,20,21,22,23,24,25,26,27,28,29,30,31,32,33,34,35,36,37,38,39,40,41,42,43,44,45,46,47,48,49,50,51,52,53,54,55,56,57,58,59,60,61,62,63,64,65,66,67,68,69,70,71,72,73,74,75,76,77,78,79,80,81,82,83,84,85,86,87,88,89,90,91,92,93,94,95,96,97,98,99,100,101,102,103,104,105,106,107,108,109,110,111,112,113,114,115,116,117,118,119,120,121,122,123,124,125,126,127,128,129,130,131,132,133,134,135,136,137,138,139,140,141,142,143,144,145,146,147,148,149],\"petal_length\":{\"__ndarray__\":\"ZmZmZmZm9j9mZmZmZmb2P83MzMzMzPQ/AAAAAAAA+D9mZmZmZmb2PzMzMzMzM/s/ZmZmZmZm9j8AAAAAAAD4P2ZmZmZmZvY/AAAAAAAA+D8AAAAAAAD4P5qZmZmZmfk/ZmZmZmZm9j+amZmZmZnxPzMzMzMzM/M/AAAAAAAA+D/NzMzMzMz0P2ZmZmZmZvY/MzMzMzMz+z8AAAAAAAD4PzMzMzMzM/s/AAAAAAAA+D8AAAAAAADwPzMzMzMzM/s/ZmZmZmZm/j+amZmZmZn5P5qZmZmZmfk/AAAAAAAA+D9mZmZmZmb2P5qZmZmZmfk/mpmZmZmZ+T8AAAAAAAD4PwAAAAAAAPg/ZmZmZmZm9j8AAAAAAAD4PzMzMzMzM/M/zczMzMzM9D9mZmZmZmb2P83MzMzMzPQ/AAAAAAAA+D/NzMzMzMz0P83MzMzMzPQ/zczMzMzM9D+amZmZmZn5P2ZmZmZmZv4/ZmZmZmZm9j+amZmZmZn5P2ZmZmZmZvY/AAAAAAAA+D9mZmZmZmb2P83MzMzMzBJAAAAAAAAAEkCamZmZmZkTQAAAAAAAABBAZmZmZmZmEkAAAAAAAAASQM3MzMzMzBJAZmZmZmZmCkBmZmZmZmYSQDMzMzMzMw9AAAAAAAAADEDNzMzMzMwQQAAAAAAAABBAzczMzMzMEkDNzMzMzMwMQJqZmZmZmRFAAAAAAAAAEkBmZmZmZmYQQAAAAAAAABJAMzMzMzMzD0AzMzMzMzMTQAAAAAAAABBAmpmZmZmZE0DNzMzMzMwSQDMzMzMzMxFAmpmZmZmZEUAzMzMzMzMTQAAAAAAAABRAAAAAAAAAEkAAAAAAAAAMQGZmZmZmZg5AmpmZmZmZDUAzMzMzMzMPQGZmZmZmZhRAAAAAAAAAEkAAAAAAAAASQM3MzMzMzBJAmpmZmZmZEUBmZmZmZmYQQAAAAAAAABBAmpmZmZmZEUBmZmZmZmYSQAAAAAAAABBAZmZmZmZmCkDNzMzMzMwQQM3MzMzMzBBAzczMzMzMEEAzMzMzMzMRQAAAAAAAAAhAZmZmZmZmEEAAAAAAAAAYQGZmZmZmZhRAmpmZmZmZF0BmZmZmZmYWQDMzMzMzMxdAZmZmZmZmGkAAAAAAAAASQDMzMzMzMxlAMzMzMzMzF0BmZmZmZmYYQGZmZmZmZhRAMzMzMzMzFUAAAAAAAAAWQAAAAAAAABRAZmZmZmZmFEAzMzMzMzMVQAAAAAAAABZAzczMzMzMGkCamZmZmZkbQAAAAAAAABRAzczMzMzMFkCamZmZmZkTQM3MzMzMzBpAmpmZmZmZE0DNzMzMzMwWQAAAAAAAABhAMzMzMzMzE0CamZmZmZkTQGZmZmZmZhZAMzMzMzMzF0BmZmZmZmYYQJqZmZmZmRlAZmZmZmZmFkBmZmZmZmYUQGZmZmZmZhZAZmZmZmZmGEBmZmZmZmYWQAAAAAAAABZAMzMzMzMzE0CamZmZmZkVQGZmZmZmZhZAZmZmZmZmFEBmZmZmZmYUQJqZmZmZmRdAzczMzMzMFkDNzMzMzMwUQAAAAAAAABRAzczMzMzMFECamZmZmZkVQGZmZmZmZhRA\",\"dtype\":\"float64\",\"shape\":[150]},\"petal_width\":{\"__ndarray__\":\"mpmZmZmZyT+amZmZmZnJP5qZmZmZmck/mpmZmZmZyT+amZmZmZnJP5qZmZmZmdk/MzMzMzMz0z+amZmZmZnJP5qZmZmZmck/mpmZmZmZuT+amZmZmZnJP5qZmZmZmck/mpmZmZmZuT+amZmZmZm5P5qZmZmZmck/mpmZmZmZ2T+amZmZmZnZPzMzMzMzM9M/MzMzMzMz0z8zMzMzMzPTP5qZmZmZmck/mpmZmZmZ2T+amZmZmZnJPwAAAAAAAOA/mpmZmZmZyT+amZmZmZnJP5qZmZmZmdk/mpmZmZmZyT+amZmZmZnJP5qZmZmZmck/mpmZmZmZyT+amZmZmZnZP5qZmZmZmbk/mpmZmZmZyT+amZmZmZnJP5qZmZmZmck/mpmZmZmZyT+amZmZmZm5P5qZmZmZmck/mpmZmZmZyT8zMzMzMzPTPzMzMzMzM9M/mpmZmZmZyT8zMzMzMzPjP5qZmZmZmdk/MzMzMzMz0z+amZmZmZnJP5qZmZmZmck/mpmZmZmZyT+amZmZmZnJP2ZmZmZmZvY/AAAAAAAA+D8AAAAAAAD4P83MzMzMzPQ/AAAAAAAA+D/NzMzMzMz0P5qZmZmZmfk/AAAAAAAA8D/NzMzMzMz0P2ZmZmZmZvY/AAAAAAAA8D8AAAAAAAD4PwAAAAAAAPA/ZmZmZmZm9j/NzMzMzMz0P2ZmZmZmZvY/AAAAAAAA+D8AAAAAAADwPwAAAAAAAPg/mpmZmZmZ8T/NzMzMzMz8P83MzMzMzPQ/AAAAAAAA+D8zMzMzMzPzP83MzMzMzPQ/ZmZmZmZm9j9mZmZmZmb2PzMzMzMzM/s/AAAAAAAA+D8AAAAAAADwP5qZmZmZmfE/AAAAAAAA8D8zMzMzMzPzP5qZmZmZmfk/AAAAAAAA+D+amZmZmZn5PwAAAAAAAPg/zczMzMzM9D/NzMzMzMz0P83MzMzMzPQ/MzMzMzMz8z9mZmZmZmb2PzMzMzMzM/M/AAAAAAAA8D/NzMzMzMz0PzMzMzMzM/M/zczMzMzM9D/NzMzMzMz0P5qZmZmZmfE/zczMzMzM9D8AAAAAAAAEQGZmZmZmZv4/zczMzMzMAEDNzMzMzMz8P5qZmZmZmQFAzczMzMzMAEAzMzMzMzP7P83MzMzMzPw/zczMzMzM/D8AAAAAAAAEQAAAAAAAAABAZmZmZmZm/j/NzMzMzMwAQAAAAAAAAABAMzMzMzMzA0BmZmZmZmYCQM3MzMzMzPw/mpmZmZmZAUBmZmZmZmYCQAAAAAAAAPg/ZmZmZmZmAkAAAAAAAAAAQAAAAAAAAABAzczMzMzM/D/NzMzMzMwAQM3MzMzMzPw/zczMzMzM/D/NzMzMzMz8P83MzMzMzABAmpmZmZmZ+T9mZmZmZmb+PwAAAAAAAABAmpmZmZmZAUAAAAAAAAD4P2ZmZmZmZvY/ZmZmZmZmAkAzMzMzMzMDQM3MzMzMzPw/zczMzMzM/D/NzMzMzMwAQDMzMzMzMwNAZmZmZmZmAkBmZmZmZmb+P2ZmZmZmZgJAAAAAAAAABEBmZmZmZmYCQGZmZmZmZv4/AAAAAAAAAEBmZmZmZmYCQM3MzMzMzPw/\",\"dtype\":\"float64\",\"shape\":[150]},\"sepal_length\":{\"__ndarray__\":\"ZmZmZmZmFECamZmZmZkTQM3MzMzMzBJAZmZmZmZmEkAAAAAAAAAUQJqZmZmZmRVAZmZmZmZmEkAAAAAAAAAUQJqZmZmZmRFAmpmZmZmZE0CamZmZmZkVQDMzMzMzMxNAMzMzMzMzE0AzMzMzMzMRQDMzMzMzMxdAzczMzMzMFkCamZmZmZkVQGZmZmZmZhRAzczMzMzMFkBmZmZmZmYUQJqZmZmZmRVAZmZmZmZmFEBmZmZmZmYSQGZmZmZmZhRAMzMzMzMzE0AAAAAAAAAUQAAAAAAAABRAzczMzMzMFEDNzMzMzMwUQM3MzMzMzBJAMzMzMzMzE0CamZmZmZkVQM3MzMzMzBRAAAAAAAAAFkCamZmZmZkTQAAAAAAAABRAAAAAAAAAFkCamZmZmZkTQJqZmZmZmRFAZmZmZmZmFEAAAAAAAAAUQAAAAAAAABJAmpmZmZmZEUAAAAAAAAAUQGZmZmZmZhRAMzMzMzMzE0BmZmZmZmYUQGZmZmZmZhJAMzMzMzMzFUAAAAAAAAAUQAAAAAAAABxAmpmZmZmZGUCamZmZmZkbQAAAAAAAABZAAAAAAAAAGkDNzMzMzMwWQDMzMzMzMxlAmpmZmZmZE0BmZmZmZmYaQM3MzMzMzBRAAAAAAAAAFECamZmZmZkXQAAAAAAAABhAZmZmZmZmGEBmZmZmZmYWQM3MzMzMzBpAZmZmZmZmFkAzMzMzMzMXQM3MzMzMzBhAZmZmZmZmFkCamZmZmZkXQGZmZmZmZhhAMzMzMzMzGUBmZmZmZmYYQJqZmZmZmRlAZmZmZmZmGkAzMzMzMzMbQM3MzMzMzBpAAAAAAAAAGEDNzMzMzMwWQAAAAAAAABZAAAAAAAAAFkAzMzMzMzMXQAAAAAAAABhAmpmZmZmZFUAAAAAAAAAYQM3MzMzMzBpAMzMzMzMzGUBmZmZmZmYWQAAAAAAAABZAAAAAAAAAFkBmZmZmZmYYQDMzMzMzMxdAAAAAAAAAFEBmZmZmZmYWQM3MzMzMzBZAzczMzMzMFkDNzMzMzMwYQGZmZmZmZhRAzczMzMzMFkAzMzMzMzMZQDMzMzMzMxdAZmZmZmZmHEAzMzMzMzMZQAAAAAAAABpAZmZmZmZmHkCamZmZmZkTQDMzMzMzMx1AzczMzMzMGkDNzMzMzMwcQAAAAAAAABpAmpmZmZmZGUAzMzMzMzMbQM3MzMzMzBZAMzMzMzMzF0CamZmZmZkZQAAAAAAAABpAzczMzMzMHkDNzMzMzMweQAAAAAAAABhAmpmZmZmZG0BmZmZmZmYWQM3MzMzMzB5AMzMzMzMzGUDNzMzMzMwaQM3MzMzMzBxAzczMzMzMGEBmZmZmZmYYQJqZmZmZmRlAzczMzMzMHECamZmZmZkdQJqZmZmZmR9AmpmZmZmZGUAzMzMzMzMZQGZmZmZmZhhAzczMzMzMHkAzMzMzMzMZQJqZmZmZmRlAAAAAAAAAGECamZmZmZkbQM3MzMzMzBpAmpmZmZmZG0AzMzMzMzMXQDMzMzMzMxtAzczMzMzMGkDNzMzMzMwaQDMzMzMzMxlAAAAAAAAAGkDNzMzMzMwYQJqZmZmZmRdA\",\"dtype\":\"float64\",\"shape\":[150]},\"sepal_width\":{\"__ndarray__\":\"AAAAAAAADEAAAAAAAAAIQJqZmZmZmQlAzczMzMzMCEDNzMzMzMwMQDMzMzMzMw9AMzMzMzMzC0AzMzMzMzMLQDMzMzMzMwdAzczMzMzMCECamZmZmZkNQDMzMzMzMwtAAAAAAAAACEAAAAAAAAAIQAAAAAAAABBAmpmZmZmZEUAzMzMzMzMPQAAAAAAAAAxAZmZmZmZmDkBmZmZmZmYOQDMzMzMzMwtAmpmZmZmZDUDNzMzMzMwMQGZmZmZmZgpAMzMzMzMzC0AAAAAAAAAIQDMzMzMzMwtAAAAAAAAADEAzMzMzMzMLQJqZmZmZmQlAzczMzMzMCEAzMzMzMzMLQGZmZmZmZhBAzczMzMzMEEDNzMzMzMwIQJqZmZmZmQlAAAAAAAAADEDNzMzMzMwMQAAAAAAAAAhAMzMzMzMzC0AAAAAAAAAMQGZmZmZmZgJAmpmZmZmZCUAAAAAAAAAMQGZmZmZmZg5AAAAAAAAACEBmZmZmZmYOQJqZmZmZmQlAmpmZmZmZDUBmZmZmZmYKQJqZmZmZmQlAmpmZmZmZCUDNzMzMzMwIQGZmZmZmZgJAZmZmZmZmBkBmZmZmZmYGQGZmZmZmZgpAMzMzMzMzA0AzMzMzMzMHQJqZmZmZmQVAAAAAAAAAAEAAAAAAAAAIQJqZmZmZmQFAMzMzMzMzB0AzMzMzMzMHQM3MzMzMzAhAAAAAAAAACECamZmZmZkFQJqZmZmZmQFAAAAAAAAABECamZmZmZkJQGZmZmZmZgZAAAAAAAAABEBmZmZmZmYGQDMzMzMzMwdAAAAAAAAACEBmZmZmZmYGQAAAAAAAAAhAMzMzMzMzB0DNzMzMzMwEQDMzMzMzMwNAMzMzMzMzA0CamZmZmZkFQJqZmZmZmQVAAAAAAAAACEAzMzMzMzMLQM3MzMzMzAhAZmZmZmZmAkAAAAAAAAAIQAAAAAAAAARAzczMzMzMBEAAAAAAAAAIQM3MzMzMzARAZmZmZmZmAkCamZmZmZkFQAAAAAAAAAhAMzMzMzMzB0AzMzMzMzMHQAAAAAAAAARAZmZmZmZmBkBmZmZmZmYKQJqZmZmZmQVAAAAAAAAACEAzMzMzMzMHQAAAAAAAAAhAAAAAAAAACEAAAAAAAAAEQDMzMzMzMwdAAAAAAAAABEDNzMzMzMwMQJqZmZmZmQlAmpmZmZmZBUAAAAAAAAAIQAAAAAAAAARAZmZmZmZmBkCamZmZmZkJQAAAAAAAAAhAZmZmZmZmDkDNzMzMzMwEQJqZmZmZmQFAmpmZmZmZCUBmZmZmZmYGQGZmZmZmZgZAmpmZmZmZBUBmZmZmZmYKQJqZmZmZmQlAZmZmZmZmBkAAAAAAAAAIQGZmZmZmZgZAAAAAAAAACEBmZmZmZmYGQGZmZmZmZg5AZmZmZmZmBkBmZmZmZmYGQM3MzMzMzARAAAAAAAAACEAzMzMzMzMLQM3MzMzMzAhAAAAAAAAACEDNzMzMzMwIQM3MzMzMzAhAzczMzMzMCECamZmZmZkFQJqZmZmZmQlAZmZmZmZmCkAAAAAAAAAIQAAAAAAAAARAAAAAAAAACEAzMzMzMzMLQAAAAAAAAAhA\",\"dtype\":\"float64\",\"shape\":[150]},\"species\":[\"setosa\",\"setosa\",\"setosa\",\"setosa\",\"setosa\",\"setosa\",\"setosa\",\"setosa\",\"setosa\",\"setosa\",\"setosa\",\"setosa\",\"setosa\",\"setosa\",\"setosa\",\"setosa\",\"setosa\",\"setosa\",\"setosa\",\"setosa\",\"setosa\",\"setosa\",\"setosa\",\"setosa\",\"setosa\",\"setosa\",\"setosa\",\"setosa\",\"setosa\",\"setosa\",\"setosa\",\"setosa\",\"setosa\",\"setosa\",\"setosa\",\"setosa\",\"setosa\",\"setosa\",\"setosa\",\"setosa\",\"setosa\",\"setosa\",\"setosa\",\"setosa\",\"setosa\",\"setosa\",\"setosa\",\"setosa\",\"setosa\",\"setosa\",\"versicolor\",\"versicolor\",\"versicolor\",\"versicolor\",\"versicolor\",\"versicolor\",\"versicolor\",\"versicolor\",\"versicolor\",\"versicolor\",\"versicolor\",\"versicolor\",\"versicolor\",\"versicolor\",\"versicolor\",\"versicolor\",\"versicolor\",\"versicolor\",\"versicolor\",\"versicolor\",\"versicolor\",\"versicolor\",\"versicolor\",\"versicolor\",\"versicolor\",\"versicolor\",\"versicolor\",\"versicolor\",\"versicolor\",\"versicolor\",\"versicolor\",\"versicolor\",\"versicolor\",\"versicolor\",\"versicolor\",\"versicolor\",\"versicolor\",\"versicolor\",\"versicolor\",\"versicolor\",\"versicolor\",\"versicolor\",\"versicolor\",\"versicolor\",\"versicolor\",\"versicolor\",\"versicolor\",\"versicolor\",\"versicolor\",\"versicolor\",\"virginica\",\"virginica\",\"virginica\",\"virginica\",\"virginica\",\"virginica\",\"virginica\",\"virginica\",\"virginica\",\"virginica\",\"virginica\",\"virginica\",\"virginica\",\"virginica\",\"virginica\",\"virginica\",\"virginica\",\"virginica\",\"virginica\",\"virginica\",\"virginica\",\"virginica\",\"virginica\",\"virginica\",\"virginica\",\"virginica\",\"virginica\",\"virginica\",\"virginica\",\"virginica\",\"virginica\",\"virginica\",\"virginica\",\"virginica\",\"virginica\",\"virginica\",\"virginica\",\"virginica\",\"virginica\",\"virginica\",\"virginica\",\"virginica\",\"virginica\",\"virginica\",\"virginica\",\"virginica\",\"virginica\",\"virginica\",\"virginica\",\"virginica\"]},\"selected\":{\"id\":\"13005\",\"type\":\"Selection\"},\"selection_policy\":{\"id\":\"13004\",\"type\":\"UnionRenderers\"}},\"id\":\"12636\",\"type\":\"ColumnDataSource\"},{\"attributes\":{},\"id\":\"12624\",\"type\":\"SaveTool\"},{\"attributes\":{},\"id\":\"13000\",\"type\":\"BasicTickFormatter\"},{\"attributes\":{\"fill_color\":{\"value\":\"#1f77b4\"},\"line_color\":{\"value\":\"#1f77b4\"},\"x\":{\"field\":\"petal_length\"},\"y\":{\"field\":\"petal_width\"}},\"id\":\"12638\",\"type\":\"Circle\"},{\"attributes\":{\"formatter\":{\"id\":\"13002\",\"type\":\"BasicTickFormatter\"},\"plot\":{\"id\":\"12602\",\"subtype\":\"Figure\",\"type\":\"Plot\"},\"ticker\":{\"id\":\"12617\",\"type\":\"BasicTicker\"}},\"id\":\"12616\",\"type\":\"LinearAxis\"},{\"attributes\":{},\"id\":\"13002\",\"type\":\"BasicTickFormatter\"},{\"attributes\":{},\"id\":\"12612\",\"type\":\"BasicTicker\"},{\"attributes\":{},\"id\":\"13004\",\"type\":\"UnionRenderers\"},{\"attributes\":{\"plot\":{\"id\":\"12602\",\"subtype\":\"Figure\",\"type\":\"Plot\"},\"ticker\":{\"id\":\"12612\",\"type\":\"BasicTicker\"}},\"id\":\"12615\",\"type\":\"Grid\"},{\"attributes\":{},\"id\":\"13005\",\"type\":\"Selection\"},{\"attributes\":{},\"id\":\"12625\",\"type\":\"ResetTool\"},{\"attributes\":{\"callback\":null},\"id\":\"12605\",\"type\":\"DataRange1d\"},{\"attributes\":{},\"id\":\"12617\",\"type\":\"BasicTicker\"},{\"attributes\":{\"callback\":null},\"id\":\"12603\",\"type\":\"DataRange1d\"},{\"attributes\":{},\"id\":\"12621\",\"type\":\"PanTool\"},{\"attributes\":{\"overlay\":{\"id\":\"12629\",\"type\":\"BoxAnnotation\"}},\"id\":\"12623\",\"type\":\"BoxZoomTool\"}],\"root_ids\":[\"12602\"]},\"title\":\"Bokeh Application\",\"version\":\"1.0.4\"}};\n",
       "  var render_items = [{\"docid\":\"3d66553c-54bd-4000-a81c-a988a2e07f04\",\"roots\":{\"12602\":\"8a87ffe6-b1f0-47a7-8b6e-8266c15ca9a6\"}}];\n",
       "  root.Bokeh.embed.embed_items_notebook(docs_json, render_items);\n",
       "\n",
       "  }\n",
       "  if (root.Bokeh !== undefined) {\n",
       "    embed_document(root);\n",
       "  } else {\n",
       "    var attempts = 0;\n",
       "    var timer = setInterval(function(root) {\n",
       "      if (root.Bokeh !== undefined) {\n",
       "        embed_document(root);\n",
       "        clearInterval(timer);\n",
       "      }\n",
       "      attempts++;\n",
       "      if (attempts > 100) {\n",
       "        console.log(\"Bokeh: ERROR: Unable to run BokehJS code because BokehJS library is missing\");\n",
       "        clearInterval(timer);\n",
       "      }\n",
       "    }, 10, root)\n",
       "  }\n",
       "})(window);"
      ],
      "application/vnd.bokehjs_exec.v0+json": ""
     },
     "metadata": {
      "application/vnd.bokehjs_exec.v0+json": {
       "id": "12602"
      }
     },
     "output_type": "display_data"
    }
   ],
   "source": [
    "p = figure(plot_width=400, plot_height=400)\n",
    "p.circle('petal_length', 'petal_width', source=df)\n",
    "show(p)"
   ]
  },
  {
   "cell_type": "code",
   "execution_count": 77,
   "metadata": {},
   "outputs": [
    {
     "data": {
      "text/html": [
       "\n",
       "\n",
       "\n",
       "\n",
       "\n",
       "\n",
       "  <div class=\"bk-root\" id=\"694bd0bd-3746-4667-81cc-e4cec01e049c\" data-root-id=\"15049\"></div>\n"
      ]
     },
     "metadata": {},
     "output_type": "display_data"
    },
    {
     "data": {
      "application/javascript": [
       "(function(root) {\n",
       "  function embed_document(root) {\n",
       "    \n",
       "  var docs_json = {\"6ba802ef-a6eb-4648-b26e-3b19d41a3150\":{\"roots\":{\"references\":[{\"attributes\":{\"below\":[{\"id\":\"15058\",\"type\":\"LinearAxis\"}],\"left\":[{\"id\":\"15063\",\"type\":\"LinearAxis\"}],\"plot_height\":400,\"plot_width\":400,\"renderers\":[{\"id\":\"15058\",\"type\":\"LinearAxis\"},{\"id\":\"15062\",\"type\":\"Grid\"},{\"id\":\"15063\",\"type\":\"LinearAxis\"},{\"id\":\"15067\",\"type\":\"Grid\"},{\"id\":\"15076\",\"type\":\"BoxAnnotation\"},{\"id\":\"15087\",\"type\":\"GlyphRenderer\"},{\"id\":\"15093\",\"type\":\"GlyphRenderer\"},{\"id\":\"15099\",\"type\":\"GlyphRenderer\"}],\"title\":{\"id\":\"15509\",\"type\":\"Title\"},\"toolbar\":{\"id\":\"15074\",\"type\":\"Toolbar\"},\"x_range\":{\"id\":\"15050\",\"type\":\"DataRange1d\"},\"x_scale\":{\"id\":\"15054\",\"type\":\"LinearScale\"},\"y_range\":{\"id\":\"15052\",\"type\":\"DataRange1d\"},\"y_scale\":{\"id\":\"15056\",\"type\":\"LinearScale\"}},\"id\":\"15049\",\"subtype\":\"Figure\",\"type\":\"Plot\"},{\"attributes\":{\"data_source\":{\"id\":\"15089\",\"type\":\"ColumnDataSource\"},\"glyph\":{\"id\":\"15091\",\"type\":\"Circle\"},\"hover_glyph\":null,\"muted_glyph\":null,\"nonselection_glyph\":{\"id\":\"15092\",\"type\":\"Circle\"},\"selection_glyph\":null,\"view\":{\"id\":\"15094\",\"type\":\"CDSView\"}},\"id\":\"15093\",\"type\":\"GlyphRenderer\"},{\"attributes\":{\"fill_alpha\":{\"value\":0.1},\"fill_color\":{\"value\":\"#1f77b4\"},\"line_alpha\":{\"value\":0.1},\"line_color\":{\"value\":\"#1f77b4\"},\"x\":{\"field\":\"petal_length\"},\"y\":{\"field\":\"petal_width\"}},\"id\":\"15092\",\"type\":\"Circle\"},{\"attributes\":{\"dimension\":1,\"plot\":{\"id\":\"15049\",\"subtype\":\"Figure\",\"type\":\"Plot\"},\"ticker\":{\"id\":\"15064\",\"type\":\"BasicTicker\"}},\"id\":\"15067\",\"type\":\"Grid\"},{\"attributes\":{},\"id\":\"15072\",\"type\":\"ResetTool\"},{\"attributes\":{\"source\":{\"id\":\"15089\",\"type\":\"ColumnDataSource\"}},\"id\":\"15094\",\"type\":\"CDSView\"},{\"attributes\":{},\"id\":\"15059\",\"type\":\"BasicTicker\"},{\"attributes\":{},\"id\":\"15514\",\"type\":\"UnionRenderers\"},{\"attributes\":{\"fill_color\":{\"value\":\"blue\"},\"line_color\":{\"value\":\"blue\"},\"x\":{\"field\":\"petal_length\"},\"y\":{\"field\":\"petal_width\"}},\"id\":\"15091\",\"type\":\"Circle\"},{\"attributes\":{},\"id\":\"15518\",\"type\":\"UnionRenderers\"},{\"attributes\":{},\"id\":\"15071\",\"type\":\"SaveTool\"},{\"attributes\":{},\"id\":\"15515\",\"type\":\"Selection\"},{\"attributes\":{\"callback\":null},\"id\":\"15052\",\"type\":\"DataRange1d\"},{\"attributes\":{\"fill_alpha\":{\"value\":0.1},\"fill_color\":{\"value\":\"#1f77b4\"},\"line_alpha\":{\"value\":0.1},\"line_color\":{\"value\":\"#1f77b4\"},\"x\":{\"field\":\"petal_length\"},\"y\":{\"field\":\"petal_width\"}},\"id\":\"15086\",\"type\":\"Circle\"},{\"attributes\":{\"data_source\":{\"id\":\"15095\",\"type\":\"ColumnDataSource\"},\"glyph\":{\"id\":\"15097\",\"type\":\"Circle\"},\"hover_glyph\":null,\"muted_glyph\":null,\"nonselection_glyph\":{\"id\":\"15098\",\"type\":\"Circle\"},\"selection_glyph\":null,\"view\":{\"id\":\"15100\",\"type\":\"CDSView\"}},\"id\":\"15099\",\"type\":\"GlyphRenderer\"},{\"attributes\":{\"callback\":null},\"id\":\"15050\",\"type\":\"DataRange1d\"},{\"attributes\":{\"callback\":null,\"data\":{\"index\":[100,101,102,103,104,105,106,107,108,109,110,111,112,113,114,115,116,117,118,119,120,121,122,123,124,125,126,127,128,129,130,131,132,133,134,135,136,137,138,139,140,141,142,143,144,145,146,147,148,149],\"petal_length\":{\"__ndarray__\":\"AAAAAAAAGEBmZmZmZmYUQJqZmZmZmRdAZmZmZmZmFkAzMzMzMzMXQGZmZmZmZhpAAAAAAAAAEkAzMzMzMzMZQDMzMzMzMxdAZmZmZmZmGEBmZmZmZmYUQDMzMzMzMxVAAAAAAAAAFkAAAAAAAAAUQGZmZmZmZhRAMzMzMzMzFUAAAAAAAAAWQM3MzMzMzBpAmpmZmZmZG0AAAAAAAAAUQM3MzMzMzBZAmpmZmZmZE0DNzMzMzMwaQJqZmZmZmRNAzczMzMzMFkAAAAAAAAAYQDMzMzMzMxNAmpmZmZmZE0BmZmZmZmYWQDMzMzMzMxdAZmZmZmZmGECamZmZmZkZQGZmZmZmZhZAZmZmZmZmFEBmZmZmZmYWQGZmZmZmZhhAZmZmZmZmFkAAAAAAAAAWQDMzMzMzMxNAmpmZmZmZFUBmZmZmZmYWQGZmZmZmZhRAZmZmZmZmFECamZmZmZkXQM3MzMzMzBZAzczMzMzMFEAAAAAAAAAUQM3MzMzMzBRAmpmZmZmZFUBmZmZmZmYUQA==\",\"dtype\":\"float64\",\"shape\":[50]},\"petal_width\":{\"__ndarray__\":\"AAAAAAAABEBmZmZmZmb+P83MzMzMzABAzczMzMzM/D+amZmZmZkBQM3MzMzMzABAMzMzMzMz+z/NzMzMzMz8P83MzMzMzPw/AAAAAAAABEAAAAAAAAAAQGZmZmZmZv4/zczMzMzMAEAAAAAAAAAAQDMzMzMzMwNAZmZmZmZmAkDNzMzMzMz8P5qZmZmZmQFAZmZmZmZmAkAAAAAAAAD4P2ZmZmZmZgJAAAAAAAAAAEAAAAAAAAAAQM3MzMzMzPw/zczMzMzMAEDNzMzMzMz8P83MzMzMzPw/zczMzMzM/D/NzMzMzMwAQJqZmZmZmfk/ZmZmZmZm/j8AAAAAAAAAQJqZmZmZmQFAAAAAAAAA+D9mZmZmZmb2P2ZmZmZmZgJAMzMzMzMzA0DNzMzMzMz8P83MzMzMzPw/zczMzMzMAEAzMzMzMzMDQGZmZmZmZgJAZmZmZmZm/j9mZmZmZmYCQAAAAAAAAARAZmZmZmZmAkBmZmZmZmb+PwAAAAAAAABAZmZmZmZmAkDNzMzMzMz8Pw==\",\"dtype\":\"float64\",\"shape\":[50]},\"sepal_length\":{\"__ndarray__\":\"MzMzMzMzGUAzMzMzMzMXQGZmZmZmZhxAMzMzMzMzGUAAAAAAAAAaQGZmZmZmZh5AmpmZmZmZE0AzMzMzMzMdQM3MzMzMzBpAzczMzMzMHEAAAAAAAAAaQJqZmZmZmRlAMzMzMzMzG0DNzMzMzMwWQDMzMzMzMxdAmpmZmZmZGUAAAAAAAAAaQM3MzMzMzB5AzczMzMzMHkAAAAAAAAAYQJqZmZmZmRtAZmZmZmZmFkDNzMzMzMweQDMzMzMzMxlAzczMzMzMGkDNzMzMzMwcQM3MzMzMzBhAZmZmZmZmGECamZmZmZkZQM3MzMzMzBxAmpmZmZmZHUCamZmZmZkfQJqZmZmZmRlAMzMzMzMzGUBmZmZmZmYYQM3MzMzMzB5AMzMzMzMzGUCamZmZmZkZQAAAAAAAABhAmpmZmZmZG0DNzMzMzMwaQJqZmZmZmRtAMzMzMzMzF0AzMzMzMzMbQM3MzMzMzBpAzczMzMzMGkAzMzMzMzMZQAAAAAAAABpAzczMzMzMGECamZmZmZkXQA==\",\"dtype\":\"float64\",\"shape\":[50]},\"sepal_width\":{\"__ndarray__\":\"ZmZmZmZmCkCamZmZmZkFQAAAAAAAAAhAMzMzMzMzB0AAAAAAAAAIQAAAAAAAAAhAAAAAAAAABEAzMzMzMzMHQAAAAAAAAARAzczMzMzMDECamZmZmZkJQJqZmZmZmQVAAAAAAAAACEAAAAAAAAAEQGZmZmZmZgZAmpmZmZmZCUAAAAAAAAAIQGZmZmZmZg5AzczMzMzMBECamZmZmZkBQJqZmZmZmQlAZmZmZmZmBkBmZmZmZmYGQJqZmZmZmQVAZmZmZmZmCkCamZmZmZkJQGZmZmZmZgZAAAAAAAAACEBmZmZmZmYGQAAAAAAAAAhAZmZmZmZmBkBmZmZmZmYOQGZmZmZmZgZAZmZmZmZmBkDNzMzMzMwEQAAAAAAAAAhAMzMzMzMzC0DNzMzMzMwIQAAAAAAAAAhAzczMzMzMCEDNzMzMzMwIQM3MzMzMzAhAmpmZmZmZBUCamZmZmZkJQGZmZmZmZgpAAAAAAAAACEAAAAAAAAAEQAAAAAAAAAhAMzMzMzMzC0AAAAAAAAAIQA==\",\"dtype\":\"float64\",\"shape\":[50]},\"species\":[\"virginica\",\"virginica\",\"virginica\",\"virginica\",\"virginica\",\"virginica\",\"virginica\",\"virginica\",\"virginica\",\"virginica\",\"virginica\",\"virginica\",\"virginica\",\"virginica\",\"virginica\",\"virginica\",\"virginica\",\"virginica\",\"virginica\",\"virginica\",\"virginica\",\"virginica\",\"virginica\",\"virginica\",\"virginica\",\"virginica\",\"virginica\",\"virginica\",\"virginica\",\"virginica\",\"virginica\",\"virginica\",\"virginica\",\"virginica\",\"virginica\",\"virginica\",\"virginica\",\"virginica\",\"virginica\",\"virginica\",\"virginica\",\"virginica\",\"virginica\",\"virginica\",\"virginica\",\"virginica\",\"virginica\",\"virginica\",\"virginica\",\"virginica\"]},\"selected\":{\"id\":\"15519\",\"type\":\"Selection\"},\"selection_policy\":{\"id\":\"15518\",\"type\":\"UnionRenderers\"}},\"id\":\"15095\",\"type\":\"ColumnDataSource\"},{\"attributes\":{\"formatter\":{\"id\":\"15510\",\"type\":\"BasicTickFormatter\"},\"plot\":{\"id\":\"15049\",\"subtype\":\"Figure\",\"type\":\"Plot\"},\"ticker\":{\"id\":\"15059\",\"type\":\"BasicTicker\"}},\"id\":\"15058\",\"type\":\"LinearAxis\"},{\"attributes\":{\"source\":{\"id\":\"15083\",\"type\":\"ColumnDataSource\"}},\"id\":\"15088\",\"type\":\"CDSView\"},{\"attributes\":{},\"id\":\"15519\",\"type\":\"Selection\"},{\"attributes\":{\"overlay\":{\"id\":\"15076\",\"type\":\"BoxAnnotation\"}},\"id\":\"15070\",\"type\":\"BoxZoomTool\"},{\"attributes\":{},\"id\":\"15517\",\"type\":\"Selection\"},{\"attributes\":{},\"id\":\"15510\",\"type\":\"BasicTickFormatter\"},{\"attributes\":{\"fill_alpha\":{\"value\":0.1},\"fill_color\":{\"value\":\"#1f77b4\"},\"line_alpha\":{\"value\":0.1},\"line_color\":{\"value\":\"#1f77b4\"},\"x\":{\"field\":\"petal_length\"},\"y\":{\"field\":\"petal_width\"}},\"id\":\"15098\",\"type\":\"Circle\"},{\"attributes\":{\"formatter\":{\"id\":\"15512\",\"type\":\"BasicTickFormatter\"},\"plot\":{\"id\":\"15049\",\"subtype\":\"Figure\",\"type\":\"Plot\"},\"ticker\":{\"id\":\"15064\",\"type\":\"BasicTicker\"}},\"id\":\"15063\",\"type\":\"LinearAxis\"},{\"attributes\":{\"fill_color\":{\"value\":\"green\"},\"line_color\":{\"value\":\"green\"},\"x\":{\"field\":\"petal_length\"},\"y\":{\"field\":\"petal_width\"}},\"id\":\"15097\",\"type\":\"Circle\"},{\"attributes\":{},\"id\":\"15069\",\"type\":\"WheelZoomTool\"},{\"attributes\":{\"bottom_units\":\"screen\",\"fill_alpha\":{\"value\":0.5},\"fill_color\":{\"value\":\"lightgrey\"},\"left_units\":\"screen\",\"level\":\"overlay\",\"line_alpha\":{\"value\":1.0},\"line_color\":{\"value\":\"black\"},\"line_dash\":[4,4],\"line_width\":{\"value\":2},\"plot\":null,\"render_mode\":\"css\",\"right_units\":\"screen\",\"top_units\":\"screen\"},\"id\":\"15076\",\"type\":\"BoxAnnotation\"},{\"attributes\":{\"source\":{\"id\":\"15095\",\"type\":\"ColumnDataSource\"}},\"id\":\"15100\",\"type\":\"CDSView\"},{\"attributes\":{\"plot\":{\"id\":\"15049\",\"subtype\":\"Figure\",\"type\":\"Plot\"},\"ticker\":{\"id\":\"15059\",\"type\":\"BasicTicker\"}},\"id\":\"15062\",\"type\":\"Grid\"},{\"attributes\":{},\"id\":\"15516\",\"type\":\"UnionRenderers\"},{\"attributes\":{},\"id\":\"15068\",\"type\":\"PanTool\"},{\"attributes\":{},\"id\":\"15056\",\"type\":\"LinearScale\"},{\"attributes\":{},\"id\":\"15512\",\"type\":\"BasicTickFormatter\"},{\"attributes\":{\"plot\":null,\"text\":\"\"},\"id\":\"15509\",\"type\":\"Title\"},{\"attributes\":{},\"id\":\"15073\",\"type\":\"HelpTool\"},{\"attributes\":{\"data_source\":{\"id\":\"15083\",\"type\":\"ColumnDataSource\"},\"glyph\":{\"id\":\"15085\",\"type\":\"Circle\"},\"hover_glyph\":null,\"muted_glyph\":null,\"nonselection_glyph\":{\"id\":\"15086\",\"type\":\"Circle\"},\"selection_glyph\":null,\"view\":{\"id\":\"15088\",\"type\":\"CDSView\"}},\"id\":\"15087\",\"type\":\"GlyphRenderer\"},{\"attributes\":{\"fill_color\":{\"value\":\"red\"},\"line_color\":{\"value\":\"red\"},\"x\":{\"field\":\"petal_length\"},\"y\":{\"field\":\"petal_width\"}},\"id\":\"15085\",\"type\":\"Circle\"},{\"attributes\":{},\"id\":\"15054\",\"type\":\"LinearScale\"},{\"attributes\":{\"active_drag\":\"auto\",\"active_inspect\":\"auto\",\"active_multi\":null,\"active_scroll\":\"auto\",\"active_tap\":\"auto\",\"tools\":[{\"id\":\"15068\",\"type\":\"PanTool\"},{\"id\":\"15069\",\"type\":\"WheelZoomTool\"},{\"id\":\"15070\",\"type\":\"BoxZoomTool\"},{\"id\":\"15071\",\"type\":\"SaveTool\"},{\"id\":\"15072\",\"type\":\"ResetTool\"},{\"id\":\"15073\",\"type\":\"HelpTool\"}]},\"id\":\"15074\",\"type\":\"Toolbar\"},{\"attributes\":{},\"id\":\"15064\",\"type\":\"BasicTicker\"},{\"attributes\":{\"callback\":null,\"data\":{\"index\":[0,1,2,3,4,5,6,7,8,9,10,11,12,13,14,15,16,17,18,19,20,21,22,23,24,25,26,27,28,29,30,31,32,33,34,35,36,37,38,39,40,41,42,43,44,45,46,47,48,49],\"petal_length\":{\"__ndarray__\":\"ZmZmZmZm9j9mZmZmZmb2P83MzMzMzPQ/AAAAAAAA+D9mZmZmZmb2PzMzMzMzM/s/ZmZmZmZm9j8AAAAAAAD4P2ZmZmZmZvY/AAAAAAAA+D8AAAAAAAD4P5qZmZmZmfk/ZmZmZmZm9j+amZmZmZnxPzMzMzMzM/M/AAAAAAAA+D/NzMzMzMz0P2ZmZmZmZvY/MzMzMzMz+z8AAAAAAAD4PzMzMzMzM/s/AAAAAAAA+D8AAAAAAADwPzMzMzMzM/s/ZmZmZmZm/j+amZmZmZn5P5qZmZmZmfk/AAAAAAAA+D9mZmZmZmb2P5qZmZmZmfk/mpmZmZmZ+T8AAAAAAAD4PwAAAAAAAPg/ZmZmZmZm9j8AAAAAAAD4PzMzMzMzM/M/zczMzMzM9D9mZmZmZmb2P83MzMzMzPQ/AAAAAAAA+D/NzMzMzMz0P83MzMzMzPQ/zczMzMzM9D+amZmZmZn5P2ZmZmZmZv4/ZmZmZmZm9j+amZmZmZn5P2ZmZmZmZvY/AAAAAAAA+D9mZmZmZmb2Pw==\",\"dtype\":\"float64\",\"shape\":[50]},\"petal_width\":{\"__ndarray__\":\"mpmZmZmZyT+amZmZmZnJP5qZmZmZmck/mpmZmZmZyT+amZmZmZnJP5qZmZmZmdk/MzMzMzMz0z+amZmZmZnJP5qZmZmZmck/mpmZmZmZuT+amZmZmZnJP5qZmZmZmck/mpmZmZmZuT+amZmZmZm5P5qZmZmZmck/mpmZmZmZ2T+amZmZmZnZPzMzMzMzM9M/MzMzMzMz0z8zMzMzMzPTP5qZmZmZmck/mpmZmZmZ2T+amZmZmZnJPwAAAAAAAOA/mpmZmZmZyT+amZmZmZnJP5qZmZmZmdk/mpmZmZmZyT+amZmZmZnJP5qZmZmZmck/mpmZmZmZyT+amZmZmZnZP5qZmZmZmbk/mpmZmZmZyT+amZmZmZnJP5qZmZmZmck/mpmZmZmZyT+amZmZmZm5P5qZmZmZmck/mpmZmZmZyT8zMzMzMzPTPzMzMzMzM9M/mpmZmZmZyT8zMzMzMzPjP5qZmZmZmdk/MzMzMzMz0z+amZmZmZnJP5qZmZmZmck/mpmZmZmZyT+amZmZmZnJPw==\",\"dtype\":\"float64\",\"shape\":[50]},\"sepal_length\":{\"__ndarray__\":\"ZmZmZmZmFECamZmZmZkTQM3MzMzMzBJAZmZmZmZmEkAAAAAAAAAUQJqZmZmZmRVAZmZmZmZmEkAAAAAAAAAUQJqZmZmZmRFAmpmZmZmZE0CamZmZmZkVQDMzMzMzMxNAMzMzMzMzE0AzMzMzMzMRQDMzMzMzMxdAzczMzMzMFkCamZmZmZkVQGZmZmZmZhRAzczMzMzMFkBmZmZmZmYUQJqZmZmZmRVAZmZmZmZmFEBmZmZmZmYSQGZmZmZmZhRAMzMzMzMzE0AAAAAAAAAUQAAAAAAAABRAzczMzMzMFEDNzMzMzMwUQM3MzMzMzBJAMzMzMzMzE0CamZmZmZkVQM3MzMzMzBRAAAAAAAAAFkCamZmZmZkTQAAAAAAAABRAAAAAAAAAFkCamZmZmZkTQJqZmZmZmRFAZmZmZmZmFEAAAAAAAAAUQAAAAAAAABJAmpmZmZmZEUAAAAAAAAAUQGZmZmZmZhRAMzMzMzMzE0BmZmZmZmYUQGZmZmZmZhJAMzMzMzMzFUAAAAAAAAAUQA==\",\"dtype\":\"float64\",\"shape\":[50]},\"sepal_width\":{\"__ndarray__\":\"AAAAAAAADEAAAAAAAAAIQJqZmZmZmQlAzczMzMzMCEDNzMzMzMwMQDMzMzMzMw9AMzMzMzMzC0AzMzMzMzMLQDMzMzMzMwdAzczMzMzMCECamZmZmZkNQDMzMzMzMwtAAAAAAAAACEAAAAAAAAAIQAAAAAAAABBAmpmZmZmZEUAzMzMzMzMPQAAAAAAAAAxAZmZmZmZmDkBmZmZmZmYOQDMzMzMzMwtAmpmZmZmZDUDNzMzMzMwMQGZmZmZmZgpAMzMzMzMzC0AAAAAAAAAIQDMzMzMzMwtAAAAAAAAADEAzMzMzMzMLQJqZmZmZmQlAzczMzMzMCEAzMzMzMzMLQGZmZmZmZhBAzczMzMzMEEDNzMzMzMwIQJqZmZmZmQlAAAAAAAAADEDNzMzMzMwMQAAAAAAAAAhAMzMzMzMzC0AAAAAAAAAMQGZmZmZmZgJAmpmZmZmZCUAAAAAAAAAMQGZmZmZmZg5AAAAAAAAACEBmZmZmZmYOQJqZmZmZmQlAmpmZmZmZDUBmZmZmZmYKQA==\",\"dtype\":\"float64\",\"shape\":[50]},\"species\":[\"setosa\",\"setosa\",\"setosa\",\"setosa\",\"setosa\",\"setosa\",\"setosa\",\"setosa\",\"setosa\",\"setosa\",\"setosa\",\"setosa\",\"setosa\",\"setosa\",\"setosa\",\"setosa\",\"setosa\",\"setosa\",\"setosa\",\"setosa\",\"setosa\",\"setosa\",\"setosa\",\"setosa\",\"setosa\",\"setosa\",\"setosa\",\"setosa\",\"setosa\",\"setosa\",\"setosa\",\"setosa\",\"setosa\",\"setosa\",\"setosa\",\"setosa\",\"setosa\",\"setosa\",\"setosa\",\"setosa\",\"setosa\",\"setosa\",\"setosa\",\"setosa\",\"setosa\",\"setosa\",\"setosa\",\"setosa\",\"setosa\",\"setosa\"]},\"selected\":{\"id\":\"15515\",\"type\":\"Selection\"},\"selection_policy\":{\"id\":\"15514\",\"type\":\"UnionRenderers\"}},\"id\":\"15083\",\"type\":\"ColumnDataSource\"},{\"attributes\":{\"callback\":null,\"data\":{\"index\":[50,51,52,53,54,55,56,57,58,59,60,61,62,63,64,65,66,67,68,69,70,71,72,73,74,75,76,77,78,79,80,81,82,83,84,85,86,87,88,89,90,91,92,93,94,95,96,97,98,99],\"petal_length\":{\"__ndarray__\":\"zczMzMzMEkAAAAAAAAASQJqZmZmZmRNAAAAAAAAAEEBmZmZmZmYSQAAAAAAAABJAzczMzMzMEkBmZmZmZmYKQGZmZmZmZhJAMzMzMzMzD0AAAAAAAAAMQM3MzMzMzBBAAAAAAAAAEEDNzMzMzMwSQM3MzMzMzAxAmpmZmZmZEUAAAAAAAAASQGZmZmZmZhBAAAAAAAAAEkAzMzMzMzMPQDMzMzMzMxNAAAAAAAAAEECamZmZmZkTQM3MzMzMzBJAMzMzMzMzEUCamZmZmZkRQDMzMzMzMxNAAAAAAAAAFEAAAAAAAAASQAAAAAAAAAxAZmZmZmZmDkCamZmZmZkNQDMzMzMzMw9AZmZmZmZmFEAAAAAAAAASQAAAAAAAABJAzczMzMzMEkCamZmZmZkRQGZmZmZmZhBAAAAAAAAAEECamZmZmZkRQGZmZmZmZhJAAAAAAAAAEEBmZmZmZmYKQM3MzMzMzBBAzczMzMzMEEDNzMzMzMwQQDMzMzMzMxFAAAAAAAAACEBmZmZmZmYQQA==\",\"dtype\":\"float64\",\"shape\":[50]},\"petal_width\":{\"__ndarray__\":\"ZmZmZmZm9j8AAAAAAAD4PwAAAAAAAPg/zczMzMzM9D8AAAAAAAD4P83MzMzMzPQ/mpmZmZmZ+T8AAAAAAADwP83MzMzMzPQ/ZmZmZmZm9j8AAAAAAADwPwAAAAAAAPg/AAAAAAAA8D9mZmZmZmb2P83MzMzMzPQ/ZmZmZmZm9j8AAAAAAAD4PwAAAAAAAPA/AAAAAAAA+D+amZmZmZnxP83MzMzMzPw/zczMzMzM9D8AAAAAAAD4PzMzMzMzM/M/zczMzMzM9D9mZmZmZmb2P2ZmZmZmZvY/MzMzMzMz+z8AAAAAAAD4PwAAAAAAAPA/mpmZmZmZ8T8AAAAAAADwPzMzMzMzM/M/mpmZmZmZ+T8AAAAAAAD4P5qZmZmZmfk/AAAAAAAA+D/NzMzMzMz0P83MzMzMzPQ/zczMzMzM9D8zMzMzMzPzP2ZmZmZmZvY/MzMzMzMz8z8AAAAAAADwP83MzMzMzPQ/MzMzMzMz8z/NzMzMzMz0P83MzMzMzPQ/mpmZmZmZ8T/NzMzMzMz0Pw==\",\"dtype\":\"float64\",\"shape\":[50]},\"sepal_length\":{\"__ndarray__\":\"AAAAAAAAHECamZmZmZkZQJqZmZmZmRtAAAAAAAAAFkAAAAAAAAAaQM3MzMzMzBZAMzMzMzMzGUCamZmZmZkTQGZmZmZmZhpAzczMzMzMFEAAAAAAAAAUQJqZmZmZmRdAAAAAAAAAGEBmZmZmZmYYQGZmZmZmZhZAzczMzMzMGkBmZmZmZmYWQDMzMzMzMxdAzczMzMzMGEBmZmZmZmYWQJqZmZmZmRdAZmZmZmZmGEAzMzMzMzMZQGZmZmZmZhhAmpmZmZmZGUBmZmZmZmYaQDMzMzMzMxtAzczMzMzMGkAAAAAAAAAYQM3MzMzMzBZAAAAAAAAAFkAAAAAAAAAWQDMzMzMzMxdAAAAAAAAAGECamZmZmZkVQAAAAAAAABhAzczMzMzMGkAzMzMzMzMZQGZmZmZmZhZAAAAAAAAAFkAAAAAAAAAWQGZmZmZmZhhAMzMzMzMzF0AAAAAAAAAUQGZmZmZmZhZAzczMzMzMFkDNzMzMzMwWQM3MzMzMzBhAZmZmZmZmFEDNzMzMzMwWQA==\",\"dtype\":\"float64\",\"shape\":[50]},\"sepal_width\":{\"__ndarray__\":\"mpmZmZmZCUCamZmZmZkJQM3MzMzMzAhAZmZmZmZmAkBmZmZmZmYGQGZmZmZmZgZAZmZmZmZmCkAzMzMzMzMDQDMzMzMzMwdAmpmZmZmZBUAAAAAAAAAAQAAAAAAAAAhAmpmZmZmZAUAzMzMzMzMHQDMzMzMzMwdAzczMzMzMCEAAAAAAAAAIQJqZmZmZmQVAmpmZmZmZAUAAAAAAAAAEQJqZmZmZmQlAZmZmZmZmBkAAAAAAAAAEQGZmZmZmZgZAMzMzMzMzB0AAAAAAAAAIQGZmZmZmZgZAAAAAAAAACEAzMzMzMzMHQM3MzMzMzARAMzMzMzMzA0AzMzMzMzMDQJqZmZmZmQVAmpmZmZmZBUAAAAAAAAAIQDMzMzMzMwtAzczMzMzMCEBmZmZmZmYCQAAAAAAAAAhAAAAAAAAABEDNzMzMzMwEQAAAAAAAAAhAzczMzMzMBEBmZmZmZmYCQJqZmZmZmQVAAAAAAAAACEAzMzMzMzMHQDMzMzMzMwdAAAAAAAAABEBmZmZmZmYGQA==\",\"dtype\":\"float64\",\"shape\":[50]},\"species\":[\"versicolor\",\"versicolor\",\"versicolor\",\"versicolor\",\"versicolor\",\"versicolor\",\"versicolor\",\"versicolor\",\"versicolor\",\"versicolor\",\"versicolor\",\"versicolor\",\"versicolor\",\"versicolor\",\"versicolor\",\"versicolor\",\"versicolor\",\"versicolor\",\"versicolor\",\"versicolor\",\"versicolor\",\"versicolor\",\"versicolor\",\"versicolor\",\"versicolor\",\"versicolor\",\"versicolor\",\"versicolor\",\"versicolor\",\"versicolor\",\"versicolor\",\"versicolor\",\"versicolor\",\"versicolor\",\"versicolor\",\"versicolor\",\"versicolor\",\"versicolor\",\"versicolor\",\"versicolor\",\"versicolor\",\"versicolor\",\"versicolor\",\"versicolor\",\"versicolor\",\"versicolor\",\"versicolor\",\"versicolor\",\"versicolor\",\"versicolor\"]},\"selected\":{\"id\":\"15517\",\"type\":\"Selection\"},\"selection_policy\":{\"id\":\"15516\",\"type\":\"UnionRenderers\"}},\"id\":\"15089\",\"type\":\"ColumnDataSource\"}],\"root_ids\":[\"15049\"]},\"title\":\"Bokeh Application\",\"version\":\"1.0.4\"}};\n",
       "  var render_items = [{\"docid\":\"6ba802ef-a6eb-4648-b26e-3b19d41a3150\",\"roots\":{\"15049\":\"694bd0bd-3746-4667-81cc-e4cec01e049c\"}}];\n",
       "  root.Bokeh.embed.embed_items_notebook(docs_json, render_items);\n",
       "\n",
       "  }\n",
       "  if (root.Bokeh !== undefined) {\n",
       "    embed_document(root);\n",
       "  } else {\n",
       "    var attempts = 0;\n",
       "    var timer = setInterval(function(root) {\n",
       "      if (root.Bokeh !== undefined) {\n",
       "        embed_document(root);\n",
       "        clearInterval(timer);\n",
       "      }\n",
       "      attempts++;\n",
       "      if (attempts > 100) {\n",
       "        console.log(\"Bokeh: ERROR: Unable to run BokehJS code because BokehJS library is missing\");\n",
       "        clearInterval(timer);\n",
       "      }\n",
       "    }, 10, root)\n",
       "  }\n",
       "})(window);"
      ],
      "application/vnd.bokehjs_exec.v0+json": ""
     },
     "metadata": {
      "application/vnd.bokehjs_exec.v0+json": {
       "id": "15049"
      }
     },
     "output_type": "display_data"
    }
   ],
   "source": [
    "# divide into different colors\n",
    "fig = figure(plot_width=400, plot_height=400)\n",
    "fig.circle('petal_length', 'petal_width', source=df[df.species=='setosa'],color='red')\n",
    "fig.circle('petal_length', 'petal_width', source=df[df.species=='versicolor'],color='blue')\n",
    "fig.circle('petal_length', 'petal_width', source=df[df.species=='virginica'],color='green')\n",
    "show(fig)"
   ]
  },
  {
   "cell_type": "code",
   "execution_count": 79,
   "metadata": {},
   "outputs": [],
   "source": [
    "# Specify the selection tools to be made available\n",
    "select_tools = ['box_select', 'lasso_select', 'poly_select', 'tap', 'reset']\n",
    "\n",
    "# Create the figure\n",
    "fig = figure(plot_height=400,\n",
    "             plot_width=600,\n",
    "             x_axis_label='Petal length',\n",
    "             y_axis_label='Petal width',\n",
    "             title='Petal length vs width',\n",
    "             toolbar_location='below',\n",
    "             tools=select_tools)"
   ]
  },
  {
   "cell_type": "code",
   "execution_count": 80,
   "metadata": {
    "scrolled": false
   },
   "outputs": [
    {
     "data": {
      "text/html": [
       "\n",
       "\n",
       "\n",
       "\n",
       "\n",
       "\n",
       "  <div class=\"bk-root\" id=\"fff65b57-7fac-47fa-b678-e7b8bd1a167e\" data-root-id=\"15638\"></div>\n"
      ]
     },
     "metadata": {},
     "output_type": "display_data"
    },
    {
     "data": {
      "application/javascript": [
       "(function(root) {\n",
       "  function embed_document(root) {\n",
       "    \n",
       "  var docs_json = {\"3df1e85c-4137-49c2-9268-402d548c28da\":{\"roots\":{\"references\":[{\"attributes\":{\"below\":[{\"id\":\"15648\",\"type\":\"LinearAxis\"}],\"left\":[{\"id\":\"15653\",\"type\":\"LinearAxis\"}],\"plot_height\":400,\"renderers\":[{\"id\":\"15648\",\"type\":\"LinearAxis\"},{\"id\":\"15652\",\"type\":\"Grid\"},{\"id\":\"15653\",\"type\":\"LinearAxis\"},{\"id\":\"15657\",\"type\":\"Grid\"},{\"id\":\"15663\",\"type\":\"BoxAnnotation\"},{\"id\":\"15666\",\"type\":\"PolyAnnotation\"},{\"id\":\"15669\",\"type\":\"PolyAnnotation\"},{\"id\":\"15679\",\"type\":\"GlyphRenderer\"},{\"id\":\"15685\",\"type\":\"GlyphRenderer\"},{\"id\":\"15691\",\"type\":\"GlyphRenderer\"}],\"title\":{\"id\":\"15637\",\"type\":\"Title\"},\"toolbar\":{\"id\":\"15665\",\"type\":\"Toolbar\"},\"toolbar_location\":\"below\",\"x_range\":{\"id\":\"15640\",\"type\":\"DataRange1d\"},\"x_scale\":{\"id\":\"15644\",\"type\":\"LinearScale\"},\"y_range\":{\"id\":\"15642\",\"type\":\"DataRange1d\"},\"y_scale\":{\"id\":\"15646\",\"type\":\"LinearScale\"}},\"id\":\"15638\",\"subtype\":\"Figure\",\"type\":\"Plot\"},{\"attributes\":{\"callback\":null,\"data\":{\"index\":[100,101,102,103,104,105,106,107,108,109,110,111,112,113,114,115,116,117,118,119,120,121,122,123,124,125,126,127,128,129,130,131,132,133,134,135,136,137,138,139,140,141,142,143,144,145,146,147,148,149],\"petal_length\":{\"__ndarray__\":\"AAAAAAAAGEBmZmZmZmYUQJqZmZmZmRdAZmZmZmZmFkAzMzMzMzMXQGZmZmZmZhpAAAAAAAAAEkAzMzMzMzMZQDMzMzMzMxdAZmZmZmZmGEBmZmZmZmYUQDMzMzMzMxVAAAAAAAAAFkAAAAAAAAAUQGZmZmZmZhRAMzMzMzMzFUAAAAAAAAAWQM3MzMzMzBpAmpmZmZmZG0AAAAAAAAAUQM3MzMzMzBZAmpmZmZmZE0DNzMzMzMwaQJqZmZmZmRNAzczMzMzMFkAAAAAAAAAYQDMzMzMzMxNAmpmZmZmZE0BmZmZmZmYWQDMzMzMzMxdAZmZmZmZmGECamZmZmZkZQGZmZmZmZhZAZmZmZmZmFEBmZmZmZmYWQGZmZmZmZhhAZmZmZmZmFkAAAAAAAAAWQDMzMzMzMxNAmpmZmZmZFUBmZmZmZmYWQGZmZmZmZhRAZmZmZmZmFECamZmZmZkXQM3MzMzMzBZAzczMzMzMFEAAAAAAAAAUQM3MzMzMzBRAmpmZmZmZFUBmZmZmZmYUQA==\",\"dtype\":\"float64\",\"shape\":[50]},\"petal_width\":{\"__ndarray__\":\"AAAAAAAABEBmZmZmZmb+P83MzMzMzABAzczMzMzM/D+amZmZmZkBQM3MzMzMzABAMzMzMzMz+z/NzMzMzMz8P83MzMzMzPw/AAAAAAAABEAAAAAAAAAAQGZmZmZmZv4/zczMzMzMAEAAAAAAAAAAQDMzMzMzMwNAZmZmZmZmAkDNzMzMzMz8P5qZmZmZmQFAZmZmZmZmAkAAAAAAAAD4P2ZmZmZmZgJAAAAAAAAAAEAAAAAAAAAAQM3MzMzMzPw/zczMzMzMAEDNzMzMzMz8P83MzMzMzPw/zczMzMzM/D/NzMzMzMwAQJqZmZmZmfk/ZmZmZmZm/j8AAAAAAAAAQJqZmZmZmQFAAAAAAAAA+D9mZmZmZmb2P2ZmZmZmZgJAMzMzMzMzA0DNzMzMzMz8P83MzMzMzPw/zczMzMzMAEAzMzMzMzMDQGZmZmZmZgJAZmZmZmZm/j9mZmZmZmYCQAAAAAAAAARAZmZmZmZmAkBmZmZmZmb+PwAAAAAAAABAZmZmZmZmAkDNzMzMzMz8Pw==\",\"dtype\":\"float64\",\"shape\":[50]},\"sepal_length\":{\"__ndarray__\":\"MzMzMzMzGUAzMzMzMzMXQGZmZmZmZhxAMzMzMzMzGUAAAAAAAAAaQGZmZmZmZh5AmpmZmZmZE0AzMzMzMzMdQM3MzMzMzBpAzczMzMzMHEAAAAAAAAAaQJqZmZmZmRlAMzMzMzMzG0DNzMzMzMwWQDMzMzMzMxdAmpmZmZmZGUAAAAAAAAAaQM3MzMzMzB5AzczMzMzMHkAAAAAAAAAYQJqZmZmZmRtAZmZmZmZmFkDNzMzMzMweQDMzMzMzMxlAzczMzMzMGkDNzMzMzMwcQM3MzMzMzBhAZmZmZmZmGECamZmZmZkZQM3MzMzMzBxAmpmZmZmZHUCamZmZmZkfQJqZmZmZmRlAMzMzMzMzGUBmZmZmZmYYQM3MzMzMzB5AMzMzMzMzGUCamZmZmZkZQAAAAAAAABhAmpmZmZmZG0DNzMzMzMwaQJqZmZmZmRtAMzMzMzMzF0AzMzMzMzMbQM3MzMzMzBpAzczMzMzMGkAzMzMzMzMZQAAAAAAAABpAzczMzMzMGECamZmZmZkXQA==\",\"dtype\":\"float64\",\"shape\":[50]},\"sepal_width\":{\"__ndarray__\":\"ZmZmZmZmCkCamZmZmZkFQAAAAAAAAAhAMzMzMzMzB0AAAAAAAAAIQAAAAAAAAAhAAAAAAAAABEAzMzMzMzMHQAAAAAAAAARAzczMzMzMDECamZmZmZkJQJqZmZmZmQVAAAAAAAAACEAAAAAAAAAEQGZmZmZmZgZAmpmZmZmZCUAAAAAAAAAIQGZmZmZmZg5AzczMzMzMBECamZmZmZkBQJqZmZmZmQlAZmZmZmZmBkBmZmZmZmYGQJqZmZmZmQVAZmZmZmZmCkCamZmZmZkJQGZmZmZmZgZAAAAAAAAACEBmZmZmZmYGQAAAAAAAAAhAZmZmZmZmBkBmZmZmZmYOQGZmZmZmZgZAZmZmZmZmBkDNzMzMzMwEQAAAAAAAAAhAMzMzMzMzC0DNzMzMzMwIQAAAAAAAAAhAzczMzMzMCEDNzMzMzMwIQM3MzMzMzAhAmpmZmZmZBUCamZmZmZkJQGZmZmZmZgpAAAAAAAAACEAAAAAAAAAEQAAAAAAAAAhAMzMzMzMzC0AAAAAAAAAIQA==\",\"dtype\":\"float64\",\"shape\":[50]},\"species\":[\"virginica\",\"virginica\",\"virginica\",\"virginica\",\"virginica\",\"virginica\",\"virginica\",\"virginica\",\"virginica\",\"virginica\",\"virginica\",\"virginica\",\"virginica\",\"virginica\",\"virginica\",\"virginica\",\"virginica\",\"virginica\",\"virginica\",\"virginica\",\"virginica\",\"virginica\",\"virginica\",\"virginica\",\"virginica\",\"virginica\",\"virginica\",\"virginica\",\"virginica\",\"virginica\",\"virginica\",\"virginica\",\"virginica\",\"virginica\",\"virginica\",\"virginica\",\"virginica\",\"virginica\",\"virginica\",\"virginica\",\"virginica\",\"virginica\",\"virginica\",\"virginica\",\"virginica\",\"virginica\",\"virginica\",\"virginica\",\"virginica\",\"virginica\"]},\"selected\":{\"id\":\"16123\",\"type\":\"Selection\"},\"selection_policy\":{\"id\":\"16122\",\"type\":\"UnionRenderers\"}},\"id\":\"15687\",\"type\":\"ColumnDataSource\"},{\"attributes\":{\"fill_alpha\":{\"value\":0.5},\"fill_color\":{\"value\":\"lightgrey\"},\"level\":\"overlay\",\"line_alpha\":{\"value\":1.0},\"line_color\":{\"value\":\"black\"},\"line_dash\":[4,4],\"line_width\":{\"value\":2},\"plot\":null,\"xs_units\":\"screen\",\"ys_units\":\"screen\"},\"id\":\"15669\",\"type\":\"PolyAnnotation\"},{\"attributes\":{\"data_source\":{\"id\":\"15687\",\"type\":\"ColumnDataSource\"},\"glyph\":{\"id\":\"15689\",\"type\":\"Circle\"},\"hover_glyph\":null,\"muted_glyph\":null,\"nonselection_glyph\":{\"id\":\"15690\",\"type\":\"Circle\"},\"selection_glyph\":null,\"view\":{\"id\":\"15692\",\"type\":\"CDSView\"}},\"id\":\"15691\",\"type\":\"GlyphRenderer\"},{\"attributes\":{\"bottom_units\":\"screen\",\"fill_alpha\":{\"value\":0.5},\"fill_color\":{\"value\":\"lightgrey\"},\"left_units\":\"screen\",\"level\":\"overlay\",\"line_alpha\":{\"value\":1.0},\"line_color\":{\"value\":\"black\"},\"line_dash\":[4,4],\"line_width\":{\"value\":2},\"plot\":null,\"render_mode\":\"css\",\"right_units\":\"screen\",\"top_units\":\"screen\"},\"id\":\"15663\",\"type\":\"BoxAnnotation\"},{\"attributes\":{},\"id\":\"16118\",\"type\":\"UnionRenderers\"},{\"attributes\":{\"plot\":null,\"text\":\"Petal length vs width\"},\"id\":\"15637\",\"type\":\"Title\"},{\"attributes\":{},\"id\":\"16116\",\"type\":\"BasicTickFormatter\"},{\"attributes\":{},\"id\":\"15662\",\"type\":\"ResetTool\"},{\"attributes\":{\"callback\":null},\"id\":\"15661\",\"type\":\"TapTool\"},{\"attributes\":{\"callback\":null,\"overlay\":{\"id\":\"15669\",\"type\":\"PolyAnnotation\"}},\"id\":\"15660\",\"type\":\"PolySelectTool\"},{\"attributes\":{\"source\":{\"id\":\"15675\",\"type\":\"ColumnDataSource\"}},\"id\":\"15680\",\"type\":\"CDSView\"},{\"attributes\":{\"fill_alpha\":{\"value\":0.1},\"fill_color\":{\"value\":\"#1f77b4\"},\"line_alpha\":{\"value\":0.1},\"line_color\":{\"value\":\"#1f77b4\"},\"x\":{\"field\":\"petal_length\"},\"y\":{\"field\":\"petal_width\"}},\"id\":\"15690\",\"type\":\"Circle\"},{\"attributes\":{\"fill_alpha\":{\"value\":0.1},\"fill_color\":{\"value\":\"#1f77b4\"},\"line_alpha\":{\"value\":0.1},\"line_color\":{\"value\":\"#1f77b4\"},\"x\":{\"field\":\"petal_length\"},\"y\":{\"field\":\"petal_width\"}},\"id\":\"15678\",\"type\":\"Circle\"},{\"attributes\":{\"fill_alpha\":{\"value\":0.5},\"fill_color\":{\"value\":\"lightgrey\"},\"level\":\"overlay\",\"line_alpha\":{\"value\":1.0},\"line_color\":{\"value\":\"black\"},\"line_dash\":[4,4],\"line_width\":{\"value\":2},\"plot\":null,\"xs_units\":\"screen\",\"ys_units\":\"screen\"},\"id\":\"15666\",\"type\":\"PolyAnnotation\"},{\"attributes\":{\"callback\":null},\"id\":\"15640\",\"type\":\"DataRange1d\"},{\"attributes\":{\"fill_color\":{\"value\":\"green\"},\"line_color\":{\"value\":\"green\"},\"x\":{\"field\":\"petal_length\"},\"y\":{\"field\":\"petal_width\"}},\"id\":\"15689\",\"type\":\"Circle\"},{\"attributes\":{\"active_drag\":\"auto\",\"active_inspect\":\"auto\",\"active_multi\":null,\"active_scroll\":\"auto\",\"active_tap\":\"auto\",\"tools\":[{\"id\":\"15658\",\"type\":\"BoxSelectTool\"},{\"id\":\"15659\",\"type\":\"LassoSelectTool\"},{\"id\":\"15660\",\"type\":\"PolySelectTool\"},{\"id\":\"15661\",\"type\":\"TapTool\"},{\"id\":\"15662\",\"type\":\"ResetTool\"}]},\"id\":\"15665\",\"type\":\"Toolbar\"},{\"attributes\":{\"source\":{\"id\":\"15687\",\"type\":\"ColumnDataSource\"}},\"id\":\"15692\",\"type\":\"CDSView\"},{\"attributes\":{\"callback\":null,\"overlay\":{\"id\":\"15663\",\"type\":\"BoxAnnotation\"}},\"id\":\"15658\",\"type\":\"BoxSelectTool\"},{\"attributes\":{\"fill_color\":{\"value\":\"red\"},\"line_color\":{\"value\":\"red\"},\"x\":{\"field\":\"petal_length\"},\"y\":{\"field\":\"petal_width\"}},\"id\":\"15677\",\"type\":\"Circle\"},{\"attributes\":{},\"id\":\"16119\",\"type\":\"Selection\"},{\"attributes\":{\"data_source\":{\"id\":\"15681\",\"type\":\"ColumnDataSource\"},\"glyph\":{\"id\":\"15683\",\"type\":\"Circle\"},\"hover_glyph\":null,\"muted_glyph\":null,\"nonselection_glyph\":{\"id\":\"15684\",\"type\":\"Circle\"},\"selection_glyph\":null,\"view\":{\"id\":\"15686\",\"type\":\"CDSView\"}},\"id\":\"15685\",\"type\":\"GlyphRenderer\"},{\"attributes\":{},\"id\":\"16120\",\"type\":\"UnionRenderers\"},{\"attributes\":{},\"id\":\"16114\",\"type\":\"BasicTickFormatter\"},{\"attributes\":{},\"id\":\"15649\",\"type\":\"BasicTicker\"},{\"attributes\":{},\"id\":\"16121\",\"type\":\"Selection\"},{\"attributes\":{\"axis_label\":\"Petal length\",\"formatter\":{\"id\":\"16114\",\"type\":\"BasicTickFormatter\"},\"plot\":{\"id\":\"15638\",\"subtype\":\"Figure\",\"type\":\"Plot\"},\"ticker\":{\"id\":\"15649\",\"type\":\"BasicTicker\"}},\"id\":\"15648\",\"type\":\"LinearAxis\"},{\"attributes\":{},\"id\":\"16122\",\"type\":\"UnionRenderers\"},{\"attributes\":{},\"id\":\"15646\",\"type\":\"LinearScale\"},{\"attributes\":{\"source\":{\"id\":\"15681\",\"type\":\"ColumnDataSource\"}},\"id\":\"15686\",\"type\":\"CDSView\"},{\"attributes\":{},\"id\":\"16123\",\"type\":\"Selection\"},{\"attributes\":{},\"id\":\"15644\",\"type\":\"LinearScale\"},{\"attributes\":{\"callback\":null,\"data\":{\"index\":[50,51,52,53,54,55,56,57,58,59,60,61,62,63,64,65,66,67,68,69,70,71,72,73,74,75,76,77,78,79,80,81,82,83,84,85,86,87,88,89,90,91,92,93,94,95,96,97,98,99],\"petal_length\":{\"__ndarray__\":\"zczMzMzMEkAAAAAAAAASQJqZmZmZmRNAAAAAAAAAEEBmZmZmZmYSQAAAAAAAABJAzczMzMzMEkBmZmZmZmYKQGZmZmZmZhJAMzMzMzMzD0AAAAAAAAAMQM3MzMzMzBBAAAAAAAAAEEDNzMzMzMwSQM3MzMzMzAxAmpmZmZmZEUAAAAAAAAASQGZmZmZmZhBAAAAAAAAAEkAzMzMzMzMPQDMzMzMzMxNAAAAAAAAAEECamZmZmZkTQM3MzMzMzBJAMzMzMzMzEUCamZmZmZkRQDMzMzMzMxNAAAAAAAAAFEAAAAAAAAASQAAAAAAAAAxAZmZmZmZmDkCamZmZmZkNQDMzMzMzMw9AZmZmZmZmFEAAAAAAAAASQAAAAAAAABJAzczMzMzMEkCamZmZmZkRQGZmZmZmZhBAAAAAAAAAEECamZmZmZkRQGZmZmZmZhJAAAAAAAAAEEBmZmZmZmYKQM3MzMzMzBBAzczMzMzMEEDNzMzMzMwQQDMzMzMzMxFAAAAAAAAACEBmZmZmZmYQQA==\",\"dtype\":\"float64\",\"shape\":[50]},\"petal_width\":{\"__ndarray__\":\"ZmZmZmZm9j8AAAAAAAD4PwAAAAAAAPg/zczMzMzM9D8AAAAAAAD4P83MzMzMzPQ/mpmZmZmZ+T8AAAAAAADwP83MzMzMzPQ/ZmZmZmZm9j8AAAAAAADwPwAAAAAAAPg/AAAAAAAA8D9mZmZmZmb2P83MzMzMzPQ/ZmZmZmZm9j8AAAAAAAD4PwAAAAAAAPA/AAAAAAAA+D+amZmZmZnxP83MzMzMzPw/zczMzMzM9D8AAAAAAAD4PzMzMzMzM/M/zczMzMzM9D9mZmZmZmb2P2ZmZmZmZvY/MzMzMzMz+z8AAAAAAAD4PwAAAAAAAPA/mpmZmZmZ8T8AAAAAAADwPzMzMzMzM/M/mpmZmZmZ+T8AAAAAAAD4P5qZmZmZmfk/AAAAAAAA+D/NzMzMzMz0P83MzMzMzPQ/zczMzMzM9D8zMzMzMzPzP2ZmZmZmZvY/MzMzMzMz8z8AAAAAAADwP83MzMzMzPQ/MzMzMzMz8z/NzMzMzMz0P83MzMzMzPQ/mpmZmZmZ8T/NzMzMzMz0Pw==\",\"dtype\":\"float64\",\"shape\":[50]},\"sepal_length\":{\"__ndarray__\":\"AAAAAAAAHECamZmZmZkZQJqZmZmZmRtAAAAAAAAAFkAAAAAAAAAaQM3MzMzMzBZAMzMzMzMzGUCamZmZmZkTQGZmZmZmZhpAzczMzMzMFEAAAAAAAAAUQJqZmZmZmRdAAAAAAAAAGEBmZmZmZmYYQGZmZmZmZhZAzczMzMzMGkBmZmZmZmYWQDMzMzMzMxdAzczMzMzMGEBmZmZmZmYWQJqZmZmZmRdAZmZmZmZmGEAzMzMzMzMZQGZmZmZmZhhAmpmZmZmZGUBmZmZmZmYaQDMzMzMzMxtAzczMzMzMGkAAAAAAAAAYQM3MzMzMzBZAAAAAAAAAFkAAAAAAAAAWQDMzMzMzMxdAAAAAAAAAGECamZmZmZkVQAAAAAAAABhAzczMzMzMGkAzMzMzMzMZQGZmZmZmZhZAAAAAAAAAFkAAAAAAAAAWQGZmZmZmZhhAMzMzMzMzF0AAAAAAAAAUQGZmZmZmZhZAzczMzMzMFkDNzMzMzMwWQM3MzMzMzBhAZmZmZmZmFEDNzMzMzMwWQA==\",\"dtype\":\"float64\",\"shape\":[50]},\"sepal_width\":{\"__ndarray__\":\"mpmZmZmZCUCamZmZmZkJQM3MzMzMzAhAZmZmZmZmAkBmZmZmZmYGQGZmZmZmZgZAZmZmZmZmCkAzMzMzMzMDQDMzMzMzMwdAmpmZmZmZBUAAAAAAAAAAQAAAAAAAAAhAmpmZmZmZAUAzMzMzMzMHQDMzMzMzMwdAzczMzMzMCEAAAAAAAAAIQJqZmZmZmQVAmpmZmZmZAUAAAAAAAAAEQJqZmZmZmQlAZmZmZmZmBkAAAAAAAAAEQGZmZmZmZgZAMzMzMzMzB0AAAAAAAAAIQGZmZmZmZgZAAAAAAAAACEAzMzMzMzMHQM3MzMzMzARAMzMzMzMzA0AzMzMzMzMDQJqZmZmZmQVAmpmZmZmZBUAAAAAAAAAIQDMzMzMzMwtAzczMzMzMCEBmZmZmZmYCQAAAAAAAAAhAAAAAAAAABEDNzMzMzMwEQAAAAAAAAAhAzczMzMzMBEBmZmZmZmYCQJqZmZmZmQVAAAAAAAAACEAzMzMzMzMHQDMzMzMzMwdAAAAAAAAABEBmZmZmZmYGQA==\",\"dtype\":\"float64\",\"shape\":[50]},\"species\":[\"versicolor\",\"versicolor\",\"versicolor\",\"versicolor\",\"versicolor\",\"versicolor\",\"versicolor\",\"versicolor\",\"versicolor\",\"versicolor\",\"versicolor\",\"versicolor\",\"versicolor\",\"versicolor\",\"versicolor\",\"versicolor\",\"versicolor\",\"versicolor\",\"versicolor\",\"versicolor\",\"versicolor\",\"versicolor\",\"versicolor\",\"versicolor\",\"versicolor\",\"versicolor\",\"versicolor\",\"versicolor\",\"versicolor\",\"versicolor\",\"versicolor\",\"versicolor\",\"versicolor\",\"versicolor\",\"versicolor\",\"versicolor\",\"versicolor\",\"versicolor\",\"versicolor\",\"versicolor\",\"versicolor\",\"versicolor\",\"versicolor\",\"versicolor\",\"versicolor\",\"versicolor\",\"versicolor\",\"versicolor\",\"versicolor\",\"versicolor\"]},\"selected\":{\"id\":\"16121\",\"type\":\"Selection\"},\"selection_policy\":{\"id\":\"16120\",\"type\":\"UnionRenderers\"}},\"id\":\"15681\",\"type\":\"ColumnDataSource\"},{\"attributes\":{\"callback\":null},\"id\":\"15642\",\"type\":\"DataRange1d\"},{\"attributes\":{\"callback\":null,\"data\":{\"index\":[0,1,2,3,4,5,6,7,8,9,10,11,12,13,14,15,16,17,18,19,20,21,22,23,24,25,26,27,28,29,30,31,32,33,34,35,36,37,38,39,40,41,42,43,44,45,46,47,48,49],\"petal_length\":{\"__ndarray__\":\"ZmZmZmZm9j9mZmZmZmb2P83MzMzMzPQ/AAAAAAAA+D9mZmZmZmb2PzMzMzMzM/s/ZmZmZmZm9j8AAAAAAAD4P2ZmZmZmZvY/AAAAAAAA+D8AAAAAAAD4P5qZmZmZmfk/ZmZmZmZm9j+amZmZmZnxPzMzMzMzM/M/AAAAAAAA+D/NzMzMzMz0P2ZmZmZmZvY/MzMzMzMz+z8AAAAAAAD4PzMzMzMzM/s/AAAAAAAA+D8AAAAAAADwPzMzMzMzM/s/ZmZmZmZm/j+amZmZmZn5P5qZmZmZmfk/AAAAAAAA+D9mZmZmZmb2P5qZmZmZmfk/mpmZmZmZ+T8AAAAAAAD4PwAAAAAAAPg/ZmZmZmZm9j8AAAAAAAD4PzMzMzMzM/M/zczMzMzM9D9mZmZmZmb2P83MzMzMzPQ/AAAAAAAA+D/NzMzMzMz0P83MzMzMzPQ/zczMzMzM9D+amZmZmZn5P2ZmZmZmZv4/ZmZmZmZm9j+amZmZmZn5P2ZmZmZmZvY/AAAAAAAA+D9mZmZmZmb2Pw==\",\"dtype\":\"float64\",\"shape\":[50]},\"petal_width\":{\"__ndarray__\":\"mpmZmZmZyT+amZmZmZnJP5qZmZmZmck/mpmZmZmZyT+amZmZmZnJP5qZmZmZmdk/MzMzMzMz0z+amZmZmZnJP5qZmZmZmck/mpmZmZmZuT+amZmZmZnJP5qZmZmZmck/mpmZmZmZuT+amZmZmZm5P5qZmZmZmck/mpmZmZmZ2T+amZmZmZnZPzMzMzMzM9M/MzMzMzMz0z8zMzMzMzPTP5qZmZmZmck/mpmZmZmZ2T+amZmZmZnJPwAAAAAAAOA/mpmZmZmZyT+amZmZmZnJP5qZmZmZmdk/mpmZmZmZyT+amZmZmZnJP5qZmZmZmck/mpmZmZmZyT+amZmZmZnZP5qZmZmZmbk/mpmZmZmZyT+amZmZmZnJP5qZmZmZmck/mpmZmZmZyT+amZmZmZm5P5qZmZmZmck/mpmZmZmZyT8zMzMzMzPTPzMzMzMzM9M/mpmZmZmZyT8zMzMzMzPjP5qZmZmZmdk/MzMzMzMz0z+amZmZmZnJP5qZmZmZmck/mpmZmZmZyT+amZmZmZnJPw==\",\"dtype\":\"float64\",\"shape\":[50]},\"sepal_length\":{\"__ndarray__\":\"ZmZmZmZmFECamZmZmZkTQM3MzMzMzBJAZmZmZmZmEkAAAAAAAAAUQJqZmZmZmRVAZmZmZmZmEkAAAAAAAAAUQJqZmZmZmRFAmpmZmZmZE0CamZmZmZkVQDMzMzMzMxNAMzMzMzMzE0AzMzMzMzMRQDMzMzMzMxdAzczMzMzMFkCamZmZmZkVQGZmZmZmZhRAzczMzMzMFkBmZmZmZmYUQJqZmZmZmRVAZmZmZmZmFEBmZmZmZmYSQGZmZmZmZhRAMzMzMzMzE0AAAAAAAAAUQAAAAAAAABRAzczMzMzMFEDNzMzMzMwUQM3MzMzMzBJAMzMzMzMzE0CamZmZmZkVQM3MzMzMzBRAAAAAAAAAFkCamZmZmZkTQAAAAAAAABRAAAAAAAAAFkCamZmZmZkTQJqZmZmZmRFAZmZmZmZmFEAAAAAAAAAUQAAAAAAAABJAmpmZmZmZEUAAAAAAAAAUQGZmZmZmZhRAMzMzMzMzE0BmZmZmZmYUQGZmZmZmZhJAMzMzMzMzFUAAAAAAAAAUQA==\",\"dtype\":\"float64\",\"shape\":[50]},\"sepal_width\":{\"__ndarray__\":\"AAAAAAAADEAAAAAAAAAIQJqZmZmZmQlAzczMzMzMCEDNzMzMzMwMQDMzMzMzMw9AMzMzMzMzC0AzMzMzMzMLQDMzMzMzMwdAzczMzMzMCECamZmZmZkNQDMzMzMzMwtAAAAAAAAACEAAAAAAAAAIQAAAAAAAABBAmpmZmZmZEUAzMzMzMzMPQAAAAAAAAAxAZmZmZmZmDkBmZmZmZmYOQDMzMzMzMwtAmpmZmZmZDUDNzMzMzMwMQGZmZmZmZgpAMzMzMzMzC0AAAAAAAAAIQDMzMzMzMwtAAAAAAAAADEAzMzMzMzMLQJqZmZmZmQlAzczMzMzMCEAzMzMzMzMLQGZmZmZmZhBAzczMzMzMEEDNzMzMzMwIQJqZmZmZmQlAAAAAAAAADEDNzMzMzMwMQAAAAAAAAAhAMzMzMzMzC0AAAAAAAAAMQGZmZmZmZgJAmpmZmZmZCUAAAAAAAAAMQGZmZmZmZg5AAAAAAAAACEBmZmZmZmYOQJqZmZmZmQlAmpmZmZmZDUBmZmZmZmYKQA==\",\"dtype\":\"float64\",\"shape\":[50]},\"species\":[\"setosa\",\"setosa\",\"setosa\",\"setosa\",\"setosa\",\"setosa\",\"setosa\",\"setosa\",\"setosa\",\"setosa\",\"setosa\",\"setosa\",\"setosa\",\"setosa\",\"setosa\",\"setosa\",\"setosa\",\"setosa\",\"setosa\",\"setosa\",\"setosa\",\"setosa\",\"setosa\",\"setosa\",\"setosa\",\"setosa\",\"setosa\",\"setosa\",\"setosa\",\"setosa\",\"setosa\",\"setosa\",\"setosa\",\"setosa\",\"setosa\",\"setosa\",\"setosa\",\"setosa\",\"setosa\",\"setosa\",\"setosa\",\"setosa\",\"setosa\",\"setosa\",\"setosa\",\"setosa\",\"setosa\",\"setosa\",\"setosa\",\"setosa\"]},\"selected\":{\"id\":\"16119\",\"type\":\"Selection\"},\"selection_policy\":{\"id\":\"16118\",\"type\":\"UnionRenderers\"}},\"id\":\"15675\",\"type\":\"ColumnDataSource\"},{\"attributes\":{\"fill_color\":{\"value\":\"blue\"},\"line_color\":{\"value\":\"blue\"},\"x\":{\"field\":\"petal_length\"},\"y\":{\"field\":\"petal_width\"}},\"id\":\"15683\",\"type\":\"Circle\"},{\"attributes\":{\"data_source\":{\"id\":\"15675\",\"type\":\"ColumnDataSource\"},\"glyph\":{\"id\":\"15677\",\"type\":\"Circle\"},\"hover_glyph\":null,\"muted_glyph\":null,\"nonselection_glyph\":{\"id\":\"15678\",\"type\":\"Circle\"},\"selection_glyph\":null,\"view\":{\"id\":\"15680\",\"type\":\"CDSView\"}},\"id\":\"15679\",\"type\":\"GlyphRenderer\"},{\"attributes\":{},\"id\":\"15654\",\"type\":\"BasicTicker\"},{\"attributes\":{\"axis_label\":\"Petal width\",\"formatter\":{\"id\":\"16116\",\"type\":\"BasicTickFormatter\"},\"plot\":{\"id\":\"15638\",\"subtype\":\"Figure\",\"type\":\"Plot\"},\"ticker\":{\"id\":\"15654\",\"type\":\"BasicTicker\"}},\"id\":\"15653\",\"type\":\"LinearAxis\"},{\"attributes\":{\"callback\":null,\"overlay\":{\"id\":\"15666\",\"type\":\"PolyAnnotation\"}},\"id\":\"15659\",\"type\":\"LassoSelectTool\"},{\"attributes\":{\"fill_alpha\":{\"value\":0.1},\"fill_color\":{\"value\":\"#1f77b4\"},\"line_alpha\":{\"value\":0.1},\"line_color\":{\"value\":\"#1f77b4\"},\"x\":{\"field\":\"petal_length\"},\"y\":{\"field\":\"petal_width\"}},\"id\":\"15684\",\"type\":\"Circle\"},{\"attributes\":{\"plot\":{\"id\":\"15638\",\"subtype\":\"Figure\",\"type\":\"Plot\"},\"ticker\":{\"id\":\"15649\",\"type\":\"BasicTicker\"}},\"id\":\"15652\",\"type\":\"Grid\"},{\"attributes\":{\"dimension\":1,\"plot\":{\"id\":\"15638\",\"subtype\":\"Figure\",\"type\":\"Plot\"},\"ticker\":{\"id\":\"15654\",\"type\":\"BasicTicker\"}},\"id\":\"15657\",\"type\":\"Grid\"}],\"root_ids\":[\"15638\"]},\"title\":\"Bokeh Application\",\"version\":\"1.0.4\"}};\n",
       "  var render_items = [{\"docid\":\"3df1e85c-4137-49c2-9268-402d548c28da\",\"roots\":{\"15638\":\"fff65b57-7fac-47fa-b678-e7b8bd1a167e\"}}];\n",
       "  root.Bokeh.embed.embed_items_notebook(docs_json, render_items);\n",
       "\n",
       "  }\n",
       "  if (root.Bokeh !== undefined) {\n",
       "    embed_document(root);\n",
       "  } else {\n",
       "    var attempts = 0;\n",
       "    var timer = setInterval(function(root) {\n",
       "      if (root.Bokeh !== undefined) {\n",
       "        embed_document(root);\n",
       "        clearInterval(timer);\n",
       "      }\n",
       "      attempts++;\n",
       "      if (attempts > 100) {\n",
       "        console.log(\"Bokeh: ERROR: Unable to run BokehJS code because BokehJS library is missing\");\n",
       "        clearInterval(timer);\n",
       "      }\n",
       "    }, 10, root)\n",
       "  }\n",
       "})(window);"
      ],
      "application/vnd.bokehjs_exec.v0+json": ""
     },
     "metadata": {
      "application/vnd.bokehjs_exec.v0+json": {
       "id": "15638"
      }
     },
     "output_type": "display_data"
    }
   ],
   "source": [
    "# plot two types of species\n",
    "fig.circle('petal_length', 'petal_width', source=df[df.species=='setosa'],color='red')\n",
    "fig.circle('petal_length', 'petal_width', source=df[df.species=='versicolor'],color='blue')\n",
    "fig.circle('petal_length', 'petal_width', source=df[df.species=='virginica'],color='green')\n",
    "show(fig)"
   ]
  },
  {
   "cell_type": "code",
   "execution_count": 81,
   "metadata": {},
   "outputs": [
    {
     "data": {
      "text/html": [
       "\n",
       "\n",
       "\n",
       "\n",
       "\n",
       "\n",
       "  <div class=\"bk-root\" id=\"4fe723c7-52b9-4974-acbc-28ada79b3e38\" data-root-id=\"15638\"></div>\n"
      ]
     },
     "metadata": {},
     "output_type": "display_data"
    },
    {
     "data": {
      "application/javascript": [
       "(function(root) {\n",
       "  function embed_document(root) {\n",
       "    \n",
       "  var docs_json = {\"417c81c6-409d-4983-9f47-247f8c0493d1\":{\"roots\":{\"references\":[{\"attributes\":{\"below\":[{\"id\":\"15648\",\"type\":\"LinearAxis\"}],\"left\":[{\"id\":\"15653\",\"type\":\"LinearAxis\"}],\"plot_height\":400,\"renderers\":[{\"id\":\"15648\",\"type\":\"LinearAxis\"},{\"id\":\"15652\",\"type\":\"Grid\"},{\"id\":\"15653\",\"type\":\"LinearAxis\"},{\"id\":\"15657\",\"type\":\"Grid\"},{\"id\":\"15663\",\"type\":\"BoxAnnotation\"},{\"id\":\"15666\",\"type\":\"PolyAnnotation\"},{\"id\":\"15669\",\"type\":\"PolyAnnotation\"},{\"id\":\"15679\",\"type\":\"GlyphRenderer\"},{\"id\":\"15685\",\"type\":\"GlyphRenderer\"},{\"id\":\"15691\",\"type\":\"GlyphRenderer\"}],\"title\":{\"id\":\"15637\",\"type\":\"Title\"},\"toolbar\":{\"id\":\"15665\",\"type\":\"Toolbar\"},\"toolbar_location\":\"below\",\"x_range\":{\"id\":\"15640\",\"type\":\"DataRange1d\"},\"x_scale\":{\"id\":\"15644\",\"type\":\"LinearScale\"},\"y_range\":{\"id\":\"15642\",\"type\":\"DataRange1d\"},\"y_scale\":{\"id\":\"15646\",\"type\":\"LinearScale\"}},\"id\":\"15638\",\"subtype\":\"Figure\",\"type\":\"Plot\"},{\"attributes\":{\"callback\":null,\"data\":{\"index\":[100,101,102,103,104,105,106,107,108,109,110,111,112,113,114,115,116,117,118,119,120,121,122,123,124,125,126,127,128,129,130,131,132,133,134,135,136,137,138,139,140,141,142,143,144,145,146,147,148,149],\"petal_length\":{\"__ndarray__\":\"AAAAAAAAGEBmZmZmZmYUQJqZmZmZmRdAZmZmZmZmFkAzMzMzMzMXQGZmZmZmZhpAAAAAAAAAEkAzMzMzMzMZQDMzMzMzMxdAZmZmZmZmGEBmZmZmZmYUQDMzMzMzMxVAAAAAAAAAFkAAAAAAAAAUQGZmZmZmZhRAMzMzMzMzFUAAAAAAAAAWQM3MzMzMzBpAmpmZmZmZG0AAAAAAAAAUQM3MzMzMzBZAmpmZmZmZE0DNzMzMzMwaQJqZmZmZmRNAzczMzMzMFkAAAAAAAAAYQDMzMzMzMxNAmpmZmZmZE0BmZmZmZmYWQDMzMzMzMxdAZmZmZmZmGECamZmZmZkZQGZmZmZmZhZAZmZmZmZmFEBmZmZmZmYWQGZmZmZmZhhAZmZmZmZmFkAAAAAAAAAWQDMzMzMzMxNAmpmZmZmZFUBmZmZmZmYWQGZmZmZmZhRAZmZmZmZmFECamZmZmZkXQM3MzMzMzBZAzczMzMzMFEAAAAAAAAAUQM3MzMzMzBRAmpmZmZmZFUBmZmZmZmYUQA==\",\"dtype\":\"float64\",\"shape\":[50]},\"petal_width\":{\"__ndarray__\":\"AAAAAAAABEBmZmZmZmb+P83MzMzMzABAzczMzMzM/D+amZmZmZkBQM3MzMzMzABAMzMzMzMz+z/NzMzMzMz8P83MzMzMzPw/AAAAAAAABEAAAAAAAAAAQGZmZmZmZv4/zczMzMzMAEAAAAAAAAAAQDMzMzMzMwNAZmZmZmZmAkDNzMzMzMz8P5qZmZmZmQFAZmZmZmZmAkAAAAAAAAD4P2ZmZmZmZgJAAAAAAAAAAEAAAAAAAAAAQM3MzMzMzPw/zczMzMzMAEDNzMzMzMz8P83MzMzMzPw/zczMzMzM/D/NzMzMzMwAQJqZmZmZmfk/ZmZmZmZm/j8AAAAAAAAAQJqZmZmZmQFAAAAAAAAA+D9mZmZmZmb2P2ZmZmZmZgJAMzMzMzMzA0DNzMzMzMz8P83MzMzMzPw/zczMzMzMAEAzMzMzMzMDQGZmZmZmZgJAZmZmZmZm/j9mZmZmZmYCQAAAAAAAAARAZmZmZmZmAkBmZmZmZmb+PwAAAAAAAABAZmZmZmZmAkDNzMzMzMz8Pw==\",\"dtype\":\"float64\",\"shape\":[50]},\"sepal_length\":{\"__ndarray__\":\"MzMzMzMzGUAzMzMzMzMXQGZmZmZmZhxAMzMzMzMzGUAAAAAAAAAaQGZmZmZmZh5AmpmZmZmZE0AzMzMzMzMdQM3MzMzMzBpAzczMzMzMHEAAAAAAAAAaQJqZmZmZmRlAMzMzMzMzG0DNzMzMzMwWQDMzMzMzMxdAmpmZmZmZGUAAAAAAAAAaQM3MzMzMzB5AzczMzMzMHkAAAAAAAAAYQJqZmZmZmRtAZmZmZmZmFkDNzMzMzMweQDMzMzMzMxlAzczMzMzMGkDNzMzMzMwcQM3MzMzMzBhAZmZmZmZmGECamZmZmZkZQM3MzMzMzBxAmpmZmZmZHUCamZmZmZkfQJqZmZmZmRlAMzMzMzMzGUBmZmZmZmYYQM3MzMzMzB5AMzMzMzMzGUCamZmZmZkZQAAAAAAAABhAmpmZmZmZG0DNzMzMzMwaQJqZmZmZmRtAMzMzMzMzF0AzMzMzMzMbQM3MzMzMzBpAzczMzMzMGkAzMzMzMzMZQAAAAAAAABpAzczMzMzMGECamZmZmZkXQA==\",\"dtype\":\"float64\",\"shape\":[50]},\"sepal_width\":{\"__ndarray__\":\"ZmZmZmZmCkCamZmZmZkFQAAAAAAAAAhAMzMzMzMzB0AAAAAAAAAIQAAAAAAAAAhAAAAAAAAABEAzMzMzMzMHQAAAAAAAAARAzczMzMzMDECamZmZmZkJQJqZmZmZmQVAAAAAAAAACEAAAAAAAAAEQGZmZmZmZgZAmpmZmZmZCUAAAAAAAAAIQGZmZmZmZg5AzczMzMzMBECamZmZmZkBQJqZmZmZmQlAZmZmZmZmBkBmZmZmZmYGQJqZmZmZmQVAZmZmZmZmCkCamZmZmZkJQGZmZmZmZgZAAAAAAAAACEBmZmZmZmYGQAAAAAAAAAhAZmZmZmZmBkBmZmZmZmYOQGZmZmZmZgZAZmZmZmZmBkDNzMzMzMwEQAAAAAAAAAhAMzMzMzMzC0DNzMzMzMwIQAAAAAAAAAhAzczMzMzMCEDNzMzMzMwIQM3MzMzMzAhAmpmZmZmZBUCamZmZmZkJQGZmZmZmZgpAAAAAAAAACEAAAAAAAAAEQAAAAAAAAAhAMzMzMzMzC0AAAAAAAAAIQA==\",\"dtype\":\"float64\",\"shape\":[50]},\"species\":[\"virginica\",\"virginica\",\"virginica\",\"virginica\",\"virginica\",\"virginica\",\"virginica\",\"virginica\",\"virginica\",\"virginica\",\"virginica\",\"virginica\",\"virginica\",\"virginica\",\"virginica\",\"virginica\",\"virginica\",\"virginica\",\"virginica\",\"virginica\",\"virginica\",\"virginica\",\"virginica\",\"virginica\",\"virginica\",\"virginica\",\"virginica\",\"virginica\",\"virginica\",\"virginica\",\"virginica\",\"virginica\",\"virginica\",\"virginica\",\"virginica\",\"virginica\",\"virginica\",\"virginica\",\"virginica\",\"virginica\",\"virginica\",\"virginica\",\"virginica\",\"virginica\",\"virginica\",\"virginica\",\"virginica\",\"virginica\",\"virginica\",\"virginica\"]},\"selected\":{\"id\":\"16123\",\"type\":\"Selection\"},\"selection_policy\":{\"id\":\"16122\",\"type\":\"UnionRenderers\"}},\"id\":\"15687\",\"type\":\"ColumnDataSource\"},{\"attributes\":{\"fill_alpha\":{\"value\":0.5},\"fill_color\":{\"value\":\"lightgrey\"},\"level\":\"overlay\",\"line_alpha\":{\"value\":1.0},\"line_color\":{\"value\":\"black\"},\"line_dash\":[4,4],\"line_width\":{\"value\":2},\"plot\":null,\"xs_units\":\"screen\",\"ys_units\":\"screen\"},\"id\":\"15669\",\"type\":\"PolyAnnotation\"},{\"attributes\":{\"data_source\":{\"id\":\"15687\",\"type\":\"ColumnDataSource\"},\"glyph\":{\"id\":\"15689\",\"type\":\"Circle\"},\"hover_glyph\":null,\"muted_glyph\":null,\"nonselection_glyph\":{\"id\":\"15690\",\"type\":\"Circle\"},\"selection_glyph\":null,\"view\":{\"id\":\"15692\",\"type\":\"CDSView\"}},\"id\":\"15691\",\"type\":\"GlyphRenderer\"},{\"attributes\":{\"bottom_units\":\"screen\",\"fill_alpha\":{\"value\":0.5},\"fill_color\":{\"value\":\"lightgrey\"},\"left_units\":\"screen\",\"level\":\"overlay\",\"line_alpha\":{\"value\":1.0},\"line_color\":{\"value\":\"black\"},\"line_dash\":[4,4],\"line_width\":{\"value\":2},\"plot\":null,\"render_mode\":\"css\",\"right_units\":\"screen\",\"top_units\":\"screen\"},\"id\":\"15663\",\"type\":\"BoxAnnotation\"},{\"attributes\":{},\"id\":\"16118\",\"type\":\"UnionRenderers\"},{\"attributes\":{\"plot\":null,\"text\":\"Petal length vs width\"},\"id\":\"15637\",\"type\":\"Title\"},{\"attributes\":{},\"id\":\"16116\",\"type\":\"BasicTickFormatter\"},{\"attributes\":{},\"id\":\"15662\",\"type\":\"ResetTool\"},{\"attributes\":{\"callback\":null},\"id\":\"15661\",\"type\":\"TapTool\"},{\"attributes\":{\"callback\":null,\"overlay\":{\"id\":\"15669\",\"type\":\"PolyAnnotation\"}},\"id\":\"15660\",\"type\":\"PolySelectTool\"},{\"attributes\":{\"source\":{\"id\":\"15675\",\"type\":\"ColumnDataSource\"}},\"id\":\"15680\",\"type\":\"CDSView\"},{\"attributes\":{\"fill_alpha\":{\"value\":0.1},\"fill_color\":{\"value\":\"#1f77b4\"},\"line_alpha\":{\"value\":0.1},\"line_color\":{\"value\":\"#1f77b4\"},\"x\":{\"field\":\"petal_length\"},\"y\":{\"field\":\"petal_width\"}},\"id\":\"15690\",\"type\":\"Circle\"},{\"attributes\":{\"fill_alpha\":{\"value\":0.1},\"fill_color\":{\"value\":\"#1f77b4\"},\"line_alpha\":{\"value\":0.1},\"line_color\":{\"value\":\"#1f77b4\"},\"x\":{\"field\":\"petal_length\"},\"y\":{\"field\":\"petal_width\"}},\"id\":\"15678\",\"type\":\"Circle\"},{\"attributes\":{\"fill_alpha\":{\"value\":0.5},\"fill_color\":{\"value\":\"lightgrey\"},\"level\":\"overlay\",\"line_alpha\":{\"value\":1.0},\"line_color\":{\"value\":\"black\"},\"line_dash\":[4,4],\"line_width\":{\"value\":2},\"plot\":null,\"xs_units\":\"screen\",\"ys_units\":\"screen\"},\"id\":\"15666\",\"type\":\"PolyAnnotation\"},{\"attributes\":{\"callback\":null},\"id\":\"15640\",\"type\":\"DataRange1d\"},{\"attributes\":{\"fill_color\":{\"value\":\"green\"},\"line_color\":{\"value\":\"green\"},\"x\":{\"field\":\"petal_length\"},\"y\":{\"field\":\"petal_width\"}},\"id\":\"15689\",\"type\":\"Circle\"},{\"attributes\":{\"active_drag\":\"auto\",\"active_inspect\":\"auto\",\"active_multi\":null,\"active_scroll\":\"auto\",\"active_tap\":\"auto\",\"tools\":[{\"id\":\"15658\",\"type\":\"BoxSelectTool\"},{\"id\":\"15659\",\"type\":\"LassoSelectTool\"},{\"id\":\"15660\",\"type\":\"PolySelectTool\"},{\"id\":\"15661\",\"type\":\"TapTool\"},{\"id\":\"15662\",\"type\":\"ResetTool\"},{\"id\":\"16211\",\"type\":\"HoverTool\"}]},\"id\":\"15665\",\"type\":\"Toolbar\"},{\"attributes\":{\"source\":{\"id\":\"15687\",\"type\":\"ColumnDataSource\"}},\"id\":\"15692\",\"type\":\"CDSView\"},{\"attributes\":{\"callback\":null,\"overlay\":{\"id\":\"15663\",\"type\":\"BoxAnnotation\"}},\"id\":\"15658\",\"type\":\"BoxSelectTool\"},{\"attributes\":{\"fill_color\":{\"value\":\"red\"},\"line_color\":{\"value\":\"red\"},\"x\":{\"field\":\"petal_length\"},\"y\":{\"field\":\"petal_width\"}},\"id\":\"15677\",\"type\":\"Circle\"},{\"attributes\":{},\"id\":\"16119\",\"type\":\"Selection\"},{\"attributes\":{\"data_source\":{\"id\":\"15681\",\"type\":\"ColumnDataSource\"},\"glyph\":{\"id\":\"15683\",\"type\":\"Circle\"},\"hover_glyph\":null,\"muted_glyph\":null,\"nonselection_glyph\":{\"id\":\"15684\",\"type\":\"Circle\"},\"selection_glyph\":null,\"view\":{\"id\":\"15686\",\"type\":\"CDSView\"}},\"id\":\"15685\",\"type\":\"GlyphRenderer\"},{\"attributes\":{},\"id\":\"16120\",\"type\":\"UnionRenderers\"},{\"attributes\":{},\"id\":\"16114\",\"type\":\"BasicTickFormatter\"},{\"attributes\":{},\"id\":\"15649\",\"type\":\"BasicTicker\"},{\"attributes\":{},\"id\":\"16121\",\"type\":\"Selection\"},{\"attributes\":{\"axis_label\":\"Petal length\",\"formatter\":{\"id\":\"16114\",\"type\":\"BasicTickFormatter\"},\"plot\":{\"id\":\"15638\",\"subtype\":\"Figure\",\"type\":\"Plot\"},\"ticker\":{\"id\":\"15649\",\"type\":\"BasicTicker\"}},\"id\":\"15648\",\"type\":\"LinearAxis\"},{\"attributes\":{},\"id\":\"16122\",\"type\":\"UnionRenderers\"},{\"attributes\":{},\"id\":\"15646\",\"type\":\"LinearScale\"},{\"attributes\":{\"source\":{\"id\":\"15681\",\"type\":\"ColumnDataSource\"}},\"id\":\"15686\",\"type\":\"CDSView\"},{\"attributes\":{\"callback\":null,\"tooltips\":[[\"Species\",\"@species\"],[\"Petal length\",\"@petal_length\"],[\"Petal width\",\"@petal_width\"]]},\"id\":\"16211\",\"type\":\"HoverTool\"},{\"attributes\":{},\"id\":\"16123\",\"type\":\"Selection\"},{\"attributes\":{},\"id\":\"15644\",\"type\":\"LinearScale\"},{\"attributes\":{\"callback\":null,\"data\":{\"index\":[50,51,52,53,54,55,56,57,58,59,60,61,62,63,64,65,66,67,68,69,70,71,72,73,74,75,76,77,78,79,80,81,82,83,84,85,86,87,88,89,90,91,92,93,94,95,96,97,98,99],\"petal_length\":{\"__ndarray__\":\"zczMzMzMEkAAAAAAAAASQJqZmZmZmRNAAAAAAAAAEEBmZmZmZmYSQAAAAAAAABJAzczMzMzMEkBmZmZmZmYKQGZmZmZmZhJAMzMzMzMzD0AAAAAAAAAMQM3MzMzMzBBAAAAAAAAAEEDNzMzMzMwSQM3MzMzMzAxAmpmZmZmZEUAAAAAAAAASQGZmZmZmZhBAAAAAAAAAEkAzMzMzMzMPQDMzMzMzMxNAAAAAAAAAEECamZmZmZkTQM3MzMzMzBJAMzMzMzMzEUCamZmZmZkRQDMzMzMzMxNAAAAAAAAAFEAAAAAAAAASQAAAAAAAAAxAZmZmZmZmDkCamZmZmZkNQDMzMzMzMw9AZmZmZmZmFEAAAAAAAAASQAAAAAAAABJAzczMzMzMEkCamZmZmZkRQGZmZmZmZhBAAAAAAAAAEECamZmZmZkRQGZmZmZmZhJAAAAAAAAAEEBmZmZmZmYKQM3MzMzMzBBAzczMzMzMEEDNzMzMzMwQQDMzMzMzMxFAAAAAAAAACEBmZmZmZmYQQA==\",\"dtype\":\"float64\",\"shape\":[50]},\"petal_width\":{\"__ndarray__\":\"ZmZmZmZm9j8AAAAAAAD4PwAAAAAAAPg/zczMzMzM9D8AAAAAAAD4P83MzMzMzPQ/mpmZmZmZ+T8AAAAAAADwP83MzMzMzPQ/ZmZmZmZm9j8AAAAAAADwPwAAAAAAAPg/AAAAAAAA8D9mZmZmZmb2P83MzMzMzPQ/ZmZmZmZm9j8AAAAAAAD4PwAAAAAAAPA/AAAAAAAA+D+amZmZmZnxP83MzMzMzPw/zczMzMzM9D8AAAAAAAD4PzMzMzMzM/M/zczMzMzM9D9mZmZmZmb2P2ZmZmZmZvY/MzMzMzMz+z8AAAAAAAD4PwAAAAAAAPA/mpmZmZmZ8T8AAAAAAADwPzMzMzMzM/M/mpmZmZmZ+T8AAAAAAAD4P5qZmZmZmfk/AAAAAAAA+D/NzMzMzMz0P83MzMzMzPQ/zczMzMzM9D8zMzMzMzPzP2ZmZmZmZvY/MzMzMzMz8z8AAAAAAADwP83MzMzMzPQ/MzMzMzMz8z/NzMzMzMz0P83MzMzMzPQ/mpmZmZmZ8T/NzMzMzMz0Pw==\",\"dtype\":\"float64\",\"shape\":[50]},\"sepal_length\":{\"__ndarray__\":\"AAAAAAAAHECamZmZmZkZQJqZmZmZmRtAAAAAAAAAFkAAAAAAAAAaQM3MzMzMzBZAMzMzMzMzGUCamZmZmZkTQGZmZmZmZhpAzczMzMzMFEAAAAAAAAAUQJqZmZmZmRdAAAAAAAAAGEBmZmZmZmYYQGZmZmZmZhZAzczMzMzMGkBmZmZmZmYWQDMzMzMzMxdAzczMzMzMGEBmZmZmZmYWQJqZmZmZmRdAZmZmZmZmGEAzMzMzMzMZQGZmZmZmZhhAmpmZmZmZGUBmZmZmZmYaQDMzMzMzMxtAzczMzMzMGkAAAAAAAAAYQM3MzMzMzBZAAAAAAAAAFkAAAAAAAAAWQDMzMzMzMxdAAAAAAAAAGECamZmZmZkVQAAAAAAAABhAzczMzMzMGkAzMzMzMzMZQGZmZmZmZhZAAAAAAAAAFkAAAAAAAAAWQGZmZmZmZhhAMzMzMzMzF0AAAAAAAAAUQGZmZmZmZhZAzczMzMzMFkDNzMzMzMwWQM3MzMzMzBhAZmZmZmZmFEDNzMzMzMwWQA==\",\"dtype\":\"float64\",\"shape\":[50]},\"sepal_width\":{\"__ndarray__\":\"mpmZmZmZCUCamZmZmZkJQM3MzMzMzAhAZmZmZmZmAkBmZmZmZmYGQGZmZmZmZgZAZmZmZmZmCkAzMzMzMzMDQDMzMzMzMwdAmpmZmZmZBUAAAAAAAAAAQAAAAAAAAAhAmpmZmZmZAUAzMzMzMzMHQDMzMzMzMwdAzczMzMzMCEAAAAAAAAAIQJqZmZmZmQVAmpmZmZmZAUAAAAAAAAAEQJqZmZmZmQlAZmZmZmZmBkAAAAAAAAAEQGZmZmZmZgZAMzMzMzMzB0AAAAAAAAAIQGZmZmZmZgZAAAAAAAAACEAzMzMzMzMHQM3MzMzMzARAMzMzMzMzA0AzMzMzMzMDQJqZmZmZmQVAmpmZmZmZBUAAAAAAAAAIQDMzMzMzMwtAzczMzMzMCEBmZmZmZmYCQAAAAAAAAAhAAAAAAAAABEDNzMzMzMwEQAAAAAAAAAhAzczMzMzMBEBmZmZmZmYCQJqZmZmZmQVAAAAAAAAACEAzMzMzMzMHQDMzMzMzMwdAAAAAAAAABEBmZmZmZmYGQA==\",\"dtype\":\"float64\",\"shape\":[50]},\"species\":[\"versicolor\",\"versicolor\",\"versicolor\",\"versicolor\",\"versicolor\",\"versicolor\",\"versicolor\",\"versicolor\",\"versicolor\",\"versicolor\",\"versicolor\",\"versicolor\",\"versicolor\",\"versicolor\",\"versicolor\",\"versicolor\",\"versicolor\",\"versicolor\",\"versicolor\",\"versicolor\",\"versicolor\",\"versicolor\",\"versicolor\",\"versicolor\",\"versicolor\",\"versicolor\",\"versicolor\",\"versicolor\",\"versicolor\",\"versicolor\",\"versicolor\",\"versicolor\",\"versicolor\",\"versicolor\",\"versicolor\",\"versicolor\",\"versicolor\",\"versicolor\",\"versicolor\",\"versicolor\",\"versicolor\",\"versicolor\",\"versicolor\",\"versicolor\",\"versicolor\",\"versicolor\",\"versicolor\",\"versicolor\",\"versicolor\",\"versicolor\"]},\"selected\":{\"id\":\"16121\",\"type\":\"Selection\"},\"selection_policy\":{\"id\":\"16120\",\"type\":\"UnionRenderers\"}},\"id\":\"15681\",\"type\":\"ColumnDataSource\"},{\"attributes\":{\"callback\":null},\"id\":\"15642\",\"type\":\"DataRange1d\"},{\"attributes\":{\"callback\":null,\"data\":{\"index\":[0,1,2,3,4,5,6,7,8,9,10,11,12,13,14,15,16,17,18,19,20,21,22,23,24,25,26,27,28,29,30,31,32,33,34,35,36,37,38,39,40,41,42,43,44,45,46,47,48,49],\"petal_length\":{\"__ndarray__\":\"ZmZmZmZm9j9mZmZmZmb2P83MzMzMzPQ/AAAAAAAA+D9mZmZmZmb2PzMzMzMzM/s/ZmZmZmZm9j8AAAAAAAD4P2ZmZmZmZvY/AAAAAAAA+D8AAAAAAAD4P5qZmZmZmfk/ZmZmZmZm9j+amZmZmZnxPzMzMzMzM/M/AAAAAAAA+D/NzMzMzMz0P2ZmZmZmZvY/MzMzMzMz+z8AAAAAAAD4PzMzMzMzM/s/AAAAAAAA+D8AAAAAAADwPzMzMzMzM/s/ZmZmZmZm/j+amZmZmZn5P5qZmZmZmfk/AAAAAAAA+D9mZmZmZmb2P5qZmZmZmfk/mpmZmZmZ+T8AAAAAAAD4PwAAAAAAAPg/ZmZmZmZm9j8AAAAAAAD4PzMzMzMzM/M/zczMzMzM9D9mZmZmZmb2P83MzMzMzPQ/AAAAAAAA+D/NzMzMzMz0P83MzMzMzPQ/zczMzMzM9D+amZmZmZn5P2ZmZmZmZv4/ZmZmZmZm9j+amZmZmZn5P2ZmZmZmZvY/AAAAAAAA+D9mZmZmZmb2Pw==\",\"dtype\":\"float64\",\"shape\":[50]},\"petal_width\":{\"__ndarray__\":\"mpmZmZmZyT+amZmZmZnJP5qZmZmZmck/mpmZmZmZyT+amZmZmZnJP5qZmZmZmdk/MzMzMzMz0z+amZmZmZnJP5qZmZmZmck/mpmZmZmZuT+amZmZmZnJP5qZmZmZmck/mpmZmZmZuT+amZmZmZm5P5qZmZmZmck/mpmZmZmZ2T+amZmZmZnZPzMzMzMzM9M/MzMzMzMz0z8zMzMzMzPTP5qZmZmZmck/mpmZmZmZ2T+amZmZmZnJPwAAAAAAAOA/mpmZmZmZyT+amZmZmZnJP5qZmZmZmdk/mpmZmZmZyT+amZmZmZnJP5qZmZmZmck/mpmZmZmZyT+amZmZmZnZP5qZmZmZmbk/mpmZmZmZyT+amZmZmZnJP5qZmZmZmck/mpmZmZmZyT+amZmZmZm5P5qZmZmZmck/mpmZmZmZyT8zMzMzMzPTPzMzMzMzM9M/mpmZmZmZyT8zMzMzMzPjP5qZmZmZmdk/MzMzMzMz0z+amZmZmZnJP5qZmZmZmck/mpmZmZmZyT+amZmZmZnJPw==\",\"dtype\":\"float64\",\"shape\":[50]},\"sepal_length\":{\"__ndarray__\":\"ZmZmZmZmFECamZmZmZkTQM3MzMzMzBJAZmZmZmZmEkAAAAAAAAAUQJqZmZmZmRVAZmZmZmZmEkAAAAAAAAAUQJqZmZmZmRFAmpmZmZmZE0CamZmZmZkVQDMzMzMzMxNAMzMzMzMzE0AzMzMzMzMRQDMzMzMzMxdAzczMzMzMFkCamZmZmZkVQGZmZmZmZhRAzczMzMzMFkBmZmZmZmYUQJqZmZmZmRVAZmZmZmZmFEBmZmZmZmYSQGZmZmZmZhRAMzMzMzMzE0AAAAAAAAAUQAAAAAAAABRAzczMzMzMFEDNzMzMzMwUQM3MzMzMzBJAMzMzMzMzE0CamZmZmZkVQM3MzMzMzBRAAAAAAAAAFkCamZmZmZkTQAAAAAAAABRAAAAAAAAAFkCamZmZmZkTQJqZmZmZmRFAZmZmZmZmFEAAAAAAAAAUQAAAAAAAABJAmpmZmZmZEUAAAAAAAAAUQGZmZmZmZhRAMzMzMzMzE0BmZmZmZmYUQGZmZmZmZhJAMzMzMzMzFUAAAAAAAAAUQA==\",\"dtype\":\"float64\",\"shape\":[50]},\"sepal_width\":{\"__ndarray__\":\"AAAAAAAADEAAAAAAAAAIQJqZmZmZmQlAzczMzMzMCEDNzMzMzMwMQDMzMzMzMw9AMzMzMzMzC0AzMzMzMzMLQDMzMzMzMwdAzczMzMzMCECamZmZmZkNQDMzMzMzMwtAAAAAAAAACEAAAAAAAAAIQAAAAAAAABBAmpmZmZmZEUAzMzMzMzMPQAAAAAAAAAxAZmZmZmZmDkBmZmZmZmYOQDMzMzMzMwtAmpmZmZmZDUDNzMzMzMwMQGZmZmZmZgpAMzMzMzMzC0AAAAAAAAAIQDMzMzMzMwtAAAAAAAAADEAzMzMzMzMLQJqZmZmZmQlAzczMzMzMCEAzMzMzMzMLQGZmZmZmZhBAzczMzMzMEEDNzMzMzMwIQJqZmZmZmQlAAAAAAAAADEDNzMzMzMwMQAAAAAAAAAhAMzMzMzMzC0AAAAAAAAAMQGZmZmZmZgJAmpmZmZmZCUAAAAAAAAAMQGZmZmZmZg5AAAAAAAAACEBmZmZmZmYOQJqZmZmZmQlAmpmZmZmZDUBmZmZmZmYKQA==\",\"dtype\":\"float64\",\"shape\":[50]},\"species\":[\"setosa\",\"setosa\",\"setosa\",\"setosa\",\"setosa\",\"setosa\",\"setosa\",\"setosa\",\"setosa\",\"setosa\",\"setosa\",\"setosa\",\"setosa\",\"setosa\",\"setosa\",\"setosa\",\"setosa\",\"setosa\",\"setosa\",\"setosa\",\"setosa\",\"setosa\",\"setosa\",\"setosa\",\"setosa\",\"setosa\",\"setosa\",\"setosa\",\"setosa\",\"setosa\",\"setosa\",\"setosa\",\"setosa\",\"setosa\",\"setosa\",\"setosa\",\"setosa\",\"setosa\",\"setosa\",\"setosa\",\"setosa\",\"setosa\",\"setosa\",\"setosa\",\"setosa\",\"setosa\",\"setosa\",\"setosa\",\"setosa\",\"setosa\"]},\"selected\":{\"id\":\"16119\",\"type\":\"Selection\"},\"selection_policy\":{\"id\":\"16118\",\"type\":\"UnionRenderers\"}},\"id\":\"15675\",\"type\":\"ColumnDataSource\"},{\"attributes\":{\"fill_color\":{\"value\":\"blue\"},\"line_color\":{\"value\":\"blue\"},\"x\":{\"field\":\"petal_length\"},\"y\":{\"field\":\"petal_width\"}},\"id\":\"15683\",\"type\":\"Circle\"},{\"attributes\":{\"data_source\":{\"id\":\"15675\",\"type\":\"ColumnDataSource\"},\"glyph\":{\"id\":\"15677\",\"type\":\"Circle\"},\"hover_glyph\":null,\"muted_glyph\":null,\"nonselection_glyph\":{\"id\":\"15678\",\"type\":\"Circle\"},\"selection_glyph\":null,\"view\":{\"id\":\"15680\",\"type\":\"CDSView\"}},\"id\":\"15679\",\"type\":\"GlyphRenderer\"},{\"attributes\":{},\"id\":\"15654\",\"type\":\"BasicTicker\"},{\"attributes\":{\"axis_label\":\"Petal width\",\"formatter\":{\"id\":\"16116\",\"type\":\"BasicTickFormatter\"},\"plot\":{\"id\":\"15638\",\"subtype\":\"Figure\",\"type\":\"Plot\"},\"ticker\":{\"id\":\"15654\",\"type\":\"BasicTicker\"}},\"id\":\"15653\",\"type\":\"LinearAxis\"},{\"attributes\":{\"callback\":null,\"overlay\":{\"id\":\"15666\",\"type\":\"PolyAnnotation\"}},\"id\":\"15659\",\"type\":\"LassoSelectTool\"},{\"attributes\":{\"fill_alpha\":{\"value\":0.1},\"fill_color\":{\"value\":\"#1f77b4\"},\"line_alpha\":{\"value\":0.1},\"line_color\":{\"value\":\"#1f77b4\"},\"x\":{\"field\":\"petal_length\"},\"y\":{\"field\":\"petal_width\"}},\"id\":\"15684\",\"type\":\"Circle\"},{\"attributes\":{\"plot\":{\"id\":\"15638\",\"subtype\":\"Figure\",\"type\":\"Plot\"},\"ticker\":{\"id\":\"15649\",\"type\":\"BasicTicker\"}},\"id\":\"15652\",\"type\":\"Grid\"},{\"attributes\":{\"dimension\":1,\"plot\":{\"id\":\"15638\",\"subtype\":\"Figure\",\"type\":\"Plot\"},\"ticker\":{\"id\":\"15654\",\"type\":\"BasicTicker\"}},\"id\":\"15657\",\"type\":\"Grid\"}],\"root_ids\":[\"15638\"]},\"title\":\"Bokeh Application\",\"version\":\"1.0.4\"}};\n",
       "  var render_items = [{\"docid\":\"417c81c6-409d-4983-9f47-247f8c0493d1\",\"roots\":{\"15638\":\"4fe723c7-52b9-4974-acbc-28ada79b3e38\"}}];\n",
       "  root.Bokeh.embed.embed_items_notebook(docs_json, render_items);\n",
       "\n",
       "  }\n",
       "  if (root.Bokeh !== undefined) {\n",
       "    embed_document(root);\n",
       "  } else {\n",
       "    var attempts = 0;\n",
       "    var timer = setInterval(function(root) {\n",
       "      if (root.Bokeh !== undefined) {\n",
       "        embed_document(root);\n",
       "        clearInterval(timer);\n",
       "      }\n",
       "      attempts++;\n",
       "      if (attempts > 100) {\n",
       "        console.log(\"Bokeh: ERROR: Unable to run BokehJS code because BokehJS library is missing\");\n",
       "        clearInterval(timer);\n",
       "      }\n",
       "    }, 10, root)\n",
       "  }\n",
       "})(window);"
      ],
      "application/vnd.bokehjs_exec.v0+json": ""
     },
     "metadata": {
      "application/vnd.bokehjs_exec.v0+json": {
       "id": "15638"
      }
     },
     "output_type": "display_data"
    }
   ],
   "source": [
    "# Format the tooltip so that when hovered, it gives information of the following values\n",
    "tooltips = [\n",
    "            ('Species','@species'),\n",
    "            ('Petal length', '@petal_length'),\n",
    "            ('Petal width', '@petal_width')\n",
    "           ]\n",
    "\n",
    "# Add the HoverTool to the figure\n",
    "fig.add_tools(HoverTool(tooltips=tooltips))\n",
    "\n",
    "# Visualize\n",
    "show(fig)"
   ]
  },
  {
   "cell_type": "markdown",
   "metadata": {},
   "source": [
    "## 5. Adding labels to data points"
   ]
  },
  {
   "cell_type": "code",
   "execution_count": 90,
   "metadata": {},
   "outputs": [
    {
     "data": {
      "text/html": [
       "\n",
       "\n",
       "\n",
       "\n",
       "\n",
       "\n",
       "  <div class=\"bk-root\" id=\"d0058752-0f60-4bab-ae8d-cd124070ea5c\" data-root-id=\"18930\"></div>\n"
      ]
     },
     "metadata": {},
     "output_type": "display_data"
    },
    {
     "data": {
      "application/javascript": [
       "(function(root) {\n",
       "  function embed_document(root) {\n",
       "    \n",
       "  var docs_json = {\"2d5d70d9-92d4-41a2-95fb-3fd801a4c7cb\":{\"roots\":{\"references\":[{\"attributes\":{\"below\":[{\"id\":\"18939\",\"type\":\"LinearAxis\"}],\"left\":[{\"id\":\"18944\",\"type\":\"LinearAxis\"}],\"renderers\":[{\"id\":\"18939\",\"type\":\"LinearAxis\"},{\"id\":\"18943\",\"type\":\"Grid\"},{\"id\":\"18944\",\"type\":\"LinearAxis\"},{\"id\":\"18948\",\"type\":\"Grid\"},{\"id\":\"18957\",\"type\":\"BoxAnnotation\"},{\"id\":\"18967\",\"type\":\"GlyphRenderer\"},{\"id\":\"18969\",\"type\":\"LabelSet\"}],\"title\":{\"id\":\"19442\",\"type\":\"Title\"},\"toolbar\":{\"id\":\"18955\",\"type\":\"Toolbar\"},\"x_range\":{\"id\":\"18931\",\"type\":\"Range1d\"},\"x_scale\":{\"id\":\"18935\",\"type\":\"LinearScale\"},\"y_range\":{\"id\":\"18933\",\"type\":\"DataRange1d\"},\"y_scale\":{\"id\":\"18937\",\"type\":\"LinearScale\"}},\"id\":\"18930\",\"subtype\":\"Figure\",\"type\":\"Plot\"},{\"attributes\":{},\"id\":\"18949\",\"type\":\"PanTool\"},{\"attributes\":{\"active_drag\":\"auto\",\"active_inspect\":\"auto\",\"active_multi\":null,\"active_scroll\":\"auto\",\"active_tap\":\"auto\",\"tools\":[{\"id\":\"18949\",\"type\":\"PanTool\"},{\"id\":\"18950\",\"type\":\"WheelZoomTool\"},{\"id\":\"18951\",\"type\":\"BoxZoomTool\"},{\"id\":\"18952\",\"type\":\"SaveTool\"},{\"id\":\"18953\",\"type\":\"ResetTool\"},{\"id\":\"18954\",\"type\":\"HelpTool\"}]},\"id\":\"18955\",\"type\":\"Toolbar\"},{\"attributes\":{\"data_source\":{\"id\":\"18929\",\"type\":\"ColumnDataSource\"},\"glyph\":{\"id\":\"18965\",\"type\":\"Scatter\"},\"hover_glyph\":null,\"muted_glyph\":null,\"nonselection_glyph\":{\"id\":\"18966\",\"type\":\"Scatter\"},\"selection_glyph\":null,\"view\":{\"id\":\"18968\",\"type\":\"CDSView\"}},\"id\":\"18967\",\"type\":\"GlyphRenderer\"},{\"attributes\":{\"source\":{\"id\":\"18929\",\"type\":\"ColumnDataSource\"}},\"id\":\"18968\",\"type\":\"CDSView\"},{\"attributes\":{},\"id\":\"18953\",\"type\":\"ResetTool\"},{\"attributes\":{\"plot\":{\"id\":\"18930\",\"subtype\":\"Figure\",\"type\":\"Plot\"},\"ticker\":{\"id\":\"18940\",\"type\":\"BasicTicker\"}},\"id\":\"18943\",\"type\":\"Grid\"},{\"attributes\":{\"axis_label\":\"Pressure (lbs)\",\"formatter\":{\"id\":\"19445\",\"type\":\"BasicTickFormatter\"},\"plot\":{\"id\":\"18930\",\"subtype\":\"Figure\",\"type\":\"Plot\"},\"ticker\":{\"id\":\"18945\",\"type\":\"BasicTicker\"}},\"id\":\"18944\",\"type\":\"LinearAxis\"},{\"attributes\":{},\"id\":\"19448\",\"type\":\"Selection\"},{\"attributes\":{},\"id\":\"18935\",\"type\":\"LinearScale\"},{\"attributes\":{\"fill_color\":{\"value\":\"#1f77b4\"},\"line_color\":{\"value\":\"#1f77b4\"},\"size\":{\"units\":\"screen\",\"value\":8},\"x\":{\"field\":\"temp\"},\"y\":{\"field\":\"pressure\"}},\"id\":\"18965\",\"type\":\"Scatter\"},{\"attributes\":{\"callback\":null},\"id\":\"18933\",\"type\":\"DataRange1d\"},{\"attributes\":{\"plot\":null,\"text\":\"\"},\"id\":\"19442\",\"type\":\"Title\"},{\"attributes\":{\"fill_alpha\":{\"value\":0.1},\"fill_color\":{\"value\":\"#1f77b4\"},\"line_alpha\":{\"value\":0.1},\"line_color\":{\"value\":\"#1f77b4\"},\"size\":{\"units\":\"screen\",\"value\":8},\"x\":{\"field\":\"temp\"},\"y\":{\"field\":\"pressure\"}},\"id\":\"18966\",\"type\":\"Scatter\"},{\"attributes\":{\"level\":\"glyph\",\"plot\":{\"id\":\"18930\",\"subtype\":\"Figure\",\"type\":\"Plot\"},\"source\":{\"id\":\"18929\",\"type\":\"ColumnDataSource\"},\"text\":{\"field\":\"names\"},\"x\":{\"field\":\"temp\"},\"x_offset\":{\"value\":5},\"y\":{\"field\":\"pressure\"},\"y_offset\":{\"value\":5}},\"id\":\"18969\",\"type\":\"LabelSet\"},{\"attributes\":{\"bottom_units\":\"screen\",\"fill_alpha\":{\"value\":0.5},\"fill_color\":{\"value\":\"lightgrey\"},\"left_units\":\"screen\",\"level\":\"overlay\",\"line_alpha\":{\"value\":1.0},\"line_color\":{\"value\":\"black\"},\"line_dash\":[4,4],\"line_width\":{\"value\":2},\"plot\":null,\"render_mode\":\"css\",\"right_units\":\"screen\",\"top_units\":\"screen\"},\"id\":\"18957\",\"type\":\"BoxAnnotation\"},{\"attributes\":{},\"id\":\"18940\",\"type\":\"BasicTicker\"},{\"attributes\":{},\"id\":\"18945\",\"type\":\"BasicTicker\"},{\"attributes\":{\"callback\":null,\"data\":{\"names\":[\"A\",\"B\",\"C\",\"D\",\"E\",\"F\"],\"pressure\":[165,189,220,141,260,174],\"temp\":[166,171,172,168,174,162]},\"selected\":{\"id\":\"19448\",\"type\":\"Selection\"},\"selection_policy\":{\"id\":\"19447\",\"type\":\"UnionRenderers\"}},\"id\":\"18929\",\"type\":\"ColumnDataSource\"},{\"attributes\":{\"axis_label\":\"Temperature (C)\",\"formatter\":{\"id\":\"19443\",\"type\":\"BasicTickFormatter\"},\"plot\":{\"id\":\"18930\",\"subtype\":\"Figure\",\"type\":\"Plot\"},\"ticker\":{\"id\":\"18940\",\"type\":\"BasicTicker\"}},\"id\":\"18939\",\"type\":\"LinearAxis\"},{\"attributes\":{},\"id\":\"18937\",\"type\":\"LinearScale\"},{\"attributes\":{},\"id\":\"19443\",\"type\":\"BasicTickFormatter\"},{\"attributes\":{\"callback\":null,\"end\":175,\"start\":160},\"id\":\"18931\",\"type\":\"Range1d\"},{\"attributes\":{},\"id\":\"18950\",\"type\":\"WheelZoomTool\"},{\"attributes\":{},\"id\":\"19447\",\"type\":\"UnionRenderers\"},{\"attributes\":{},\"id\":\"18952\",\"type\":\"SaveTool\"},{\"attributes\":{\"dimension\":1,\"plot\":{\"id\":\"18930\",\"subtype\":\"Figure\",\"type\":\"Plot\"},\"ticker\":{\"id\":\"18945\",\"type\":\"BasicTicker\"}},\"id\":\"18948\",\"type\":\"Grid\"},{\"attributes\":{\"overlay\":{\"id\":\"18957\",\"type\":\"BoxAnnotation\"}},\"id\":\"18951\",\"type\":\"BoxZoomTool\"},{\"attributes\":{},\"id\":\"19445\",\"type\":\"BasicTickFormatter\"},{\"attributes\":{},\"id\":\"18954\",\"type\":\"HelpTool\"}],\"root_ids\":[\"18930\"]},\"title\":\"Bokeh Application\",\"version\":\"1.0.4\"}};\n",
       "  var render_items = [{\"docid\":\"2d5d70d9-92d4-41a2-95fb-3fd801a4c7cb\",\"roots\":{\"18930\":\"d0058752-0f60-4bab-ae8d-cd124070ea5c\"}}];\n",
       "  root.Bokeh.embed.embed_items_notebook(docs_json, render_items);\n",
       "\n",
       "  }\n",
       "  if (root.Bokeh !== undefined) {\n",
       "    embed_document(root);\n",
       "  } else {\n",
       "    var attempts = 0;\n",
       "    var timer = setInterval(function(root) {\n",
       "      if (root.Bokeh !== undefined) {\n",
       "        embed_document(root);\n",
       "        clearInterval(timer);\n",
       "      }\n",
       "      attempts++;\n",
       "      if (attempts > 100) {\n",
       "        console.log(\"Bokeh: ERROR: Unable to run BokehJS code because BokehJS library is missing\");\n",
       "        clearInterval(timer);\n",
       "      }\n",
       "    }, 10, root)\n",
       "  }\n",
       "})(window);"
      ],
      "application/vnd.bokehjs_exec.v0+json": ""
     },
     "metadata": {
      "application/vnd.bokehjs_exec.v0+json": {
       "id": "18930"
      }
     },
     "output_type": "display_data"
    }
   ],
   "source": [
    "from bokeh.plotting import figure\n",
    "from bokeh.models import ColumnDataSource, LabelSet\n",
    "\n",
    "source = ColumnDataSource(data=dict(\n",
    "    temp=[166, 171, 172, 168, 174, 162],\n",
    "    pressure=[165, 189, 220, 141, 260, 174],\n",
    "    names=['A', 'B', 'C', 'D', 'E', 'F']))\n",
    "\n",
    "p = figure(x_range=(160, 175))\n",
    "p.scatter(x='temp', y='pressure', size=8, source=source)\n",
    "p.xaxis.axis_label = 'Temperature (C)'\n",
    "p.yaxis.axis_label = 'Pressure (lbs)'\n",
    "\n",
    "labels = LabelSet(x='temp', y='pressure', text='names', level='glyph',\n",
    "                  x_offset=5, y_offset=5, source=source, render_mode='canvas')\n",
    "\n",
    "\n",
    "p.add_layout(labels)\n",
    "\n",
    "show(p)"
   ]
  },
  {
   "cell_type": "markdown",
   "metadata": {},
   "source": [
    "## 6. Adding legend"
   ]
  },
  {
   "cell_type": "code",
   "execution_count": 91,
   "metadata": {},
   "outputs": [
    {
     "data": {
      "text/html": [
       "\n",
       "\n",
       "\n",
       "\n",
       "\n",
       "\n",
       "  <div class=\"bk-root\" id=\"e5c2b141-be3e-4c1b-8780-c59541838777\" data-root-id=\"19504\"></div>\n"
      ]
     },
     "metadata": {},
     "output_type": "display_data"
    },
    {
     "data": {
      "application/javascript": [
       "(function(root) {\n",
       "  function embed_document(root) {\n",
       "    \n",
       "  var docs_json = {\"9a3ba278-e923-458d-b7e8-cf147b00e280\":{\"roots\":{\"references\":[{\"attributes\":{\"below\":[{\"id\":\"19513\",\"type\":\"LinearAxis\"}],\"left\":[{\"id\":\"19518\",\"type\":\"LinearAxis\"}],\"plot_height\":400,\"renderers\":[{\"id\":\"19513\",\"type\":\"LinearAxis\"},{\"id\":\"19517\",\"type\":\"Grid\"},{\"id\":\"19518\",\"type\":\"LinearAxis\"},{\"id\":\"19522\",\"type\":\"Grid\"},{\"id\":\"19531\",\"type\":\"BoxAnnotation\"},{\"id\":\"19550\",\"type\":\"Legend\"},{\"id\":\"19541\",\"type\":\"GlyphRenderer\"},{\"id\":\"19555\",\"type\":\"GlyphRenderer\"}],\"title\":{\"id\":\"19544\",\"type\":\"Title\"},\"toolbar\":{\"id\":\"19529\",\"type\":\"Toolbar\"},\"x_range\":{\"id\":\"19505\",\"type\":\"DataRange1d\"},\"x_scale\":{\"id\":\"19509\",\"type\":\"LinearScale\"},\"y_range\":{\"id\":\"19507\",\"type\":\"DataRange1d\"},\"y_scale\":{\"id\":\"19511\",\"type\":\"LinearScale\"}},\"id\":\"19504\",\"subtype\":\"Figure\",\"type\":\"Plot\"},{\"attributes\":{\"fill_color\":{\"value\":\"#1f77b4\"},\"line_color\":{\"value\":\"#1f77b4\"},\"x\":{\"field\":\"x\"},\"y\":{\"field\":\"y\"}},\"id\":\"19539\",\"type\":\"Circle\"},{\"attributes\":{\"data_source\":{\"id\":\"19538\",\"type\":\"ColumnDataSource\"},\"glyph\":{\"id\":\"19539\",\"type\":\"Circle\"},\"hover_glyph\":null,\"muted_glyph\":null,\"nonselection_glyph\":{\"id\":\"19540\",\"type\":\"Circle\"},\"selection_glyph\":null,\"view\":{\"id\":\"19542\",\"type\":\"CDSView\"}},\"id\":\"19541\",\"type\":\"GlyphRenderer\"},{\"attributes\":{\"source\":{\"id\":\"19552\",\"type\":\"ColumnDataSource\"}},\"id\":\"19556\",\"type\":\"CDSView\"},{\"attributes\":{},\"id\":\"19519\",\"type\":\"BasicTicker\"},{\"attributes\":{\"line_color\":\"orange\",\"line_dash\":[4,4],\"line_width\":2,\"x\":{\"field\":\"x\"},\"y\":{\"field\":\"y\"}},\"id\":\"19553\",\"type\":\"Line\"},{\"attributes\":{},\"id\":\"19523\",\"type\":\"PanTool\"},{\"attributes\":{\"formatter\":{\"id\":\"19545\",\"type\":\"BasicTickFormatter\"},\"plot\":{\"id\":\"19504\",\"subtype\":\"Figure\",\"type\":\"Plot\"},\"ticker\":{\"id\":\"19514\",\"type\":\"BasicTicker\"}},\"id\":\"19513\",\"type\":\"LinearAxis\"},{\"attributes\":{},\"id\":\"20054\",\"type\":\"UnionRenderers\"},{\"attributes\":{\"dimension\":1,\"plot\":{\"id\":\"19504\",\"subtype\":\"Figure\",\"type\":\"Plot\"},\"ticker\":{\"id\":\"19519\",\"type\":\"BasicTicker\"}},\"id\":\"19522\",\"type\":\"Grid\"},{\"attributes\":{},\"id\":\"19528\",\"type\":\"HelpTool\"},{\"attributes\":{\"label\":{\"value\":\"sin(x)\"},\"renderers\":[{\"id\":\"19541\",\"type\":\"GlyphRenderer\"}]},\"id\":\"19551\",\"type\":\"LegendItem\"},{\"attributes\":{},\"id\":\"19527\",\"type\":\"ResetTool\"},{\"attributes\":{\"plot\":null,\"text\":\"\"},\"id\":\"19544\",\"type\":\"Title\"},{\"attributes\":{\"callback\":null},\"id\":\"19505\",\"type\":\"DataRange1d\"},{\"attributes\":{\"data_source\":{\"id\":\"19552\",\"type\":\"ColumnDataSource\"},\"glyph\":{\"id\":\"19553\",\"type\":\"Line\"},\"hover_glyph\":null,\"muted_glyph\":null,\"nonselection_glyph\":{\"id\":\"19554\",\"type\":\"Line\"},\"selection_glyph\":null,\"view\":{\"id\":\"19556\",\"type\":\"CDSView\"}},\"id\":\"19555\",\"type\":\"GlyphRenderer\"},{\"attributes\":{},\"id\":\"19526\",\"type\":\"SaveTool\"},{\"attributes\":{\"overlay\":{\"id\":\"19531\",\"type\":\"BoxAnnotation\"}},\"id\":\"19525\",\"type\":\"BoxZoomTool\"},{\"attributes\":{\"fill_alpha\":{\"value\":0.1},\"fill_color\":{\"value\":\"#1f77b4\"},\"line_alpha\":{\"value\":0.1},\"line_color\":{\"value\":\"#1f77b4\"},\"x\":{\"field\":\"x\"},\"y\":{\"field\":\"y\"}},\"id\":\"19540\",\"type\":\"Circle\"},{\"attributes\":{},\"id\":\"19509\",\"type\":\"LinearScale\"},{\"attributes\":{},\"id\":\"19564\",\"type\":\"Selection\"},{\"attributes\":{},\"id\":\"19514\",\"type\":\"BasicTicker\"},{\"attributes\":{\"callback\":null},\"id\":\"19507\",\"type\":\"DataRange1d\"},{\"attributes\":{},\"id\":\"19547\",\"type\":\"BasicTickFormatter\"},{\"attributes\":{\"source\":{\"id\":\"19538\",\"type\":\"ColumnDataSource\"}},\"id\":\"19542\",\"type\":\"CDSView\"},{\"attributes\":{},\"id\":\"19563\",\"type\":\"UnionRenderers\"},{\"attributes\":{},\"id\":\"20055\",\"type\":\"Selection\"},{\"attributes\":{\"line_alpha\":0.1,\"line_color\":\"#1f77b4\",\"line_dash\":[4,4],\"line_width\":2,\"x\":{\"field\":\"x\"},\"y\":{\"field\":\"y\"}},\"id\":\"19554\",\"type\":\"Line\"},{\"attributes\":{\"plot\":{\"id\":\"19504\",\"subtype\":\"Figure\",\"type\":\"Plot\"},\"ticker\":{\"id\":\"19514\",\"type\":\"BasicTicker\"}},\"id\":\"19517\",\"type\":\"Grid\"},{\"attributes\":{\"active_drag\":\"auto\",\"active_inspect\":\"auto\",\"active_multi\":null,\"active_scroll\":\"auto\",\"active_tap\":\"auto\",\"tools\":[{\"id\":\"19523\",\"type\":\"PanTool\"},{\"id\":\"19524\",\"type\":\"WheelZoomTool\"},{\"id\":\"19525\",\"type\":\"BoxZoomTool\"},{\"id\":\"19526\",\"type\":\"SaveTool\"},{\"id\":\"19527\",\"type\":\"ResetTool\"},{\"id\":\"19528\",\"type\":\"HelpTool\"}]},\"id\":\"19529\",\"type\":\"Toolbar\"},{\"attributes\":{\"label\":{\"value\":\"2*sin(x)\"},\"renderers\":[{\"id\":\"19555\",\"type\":\"GlyphRenderer\"}]},\"id\":\"19566\",\"type\":\"LegendItem\"},{\"attributes\":{},\"id\":\"19524\",\"type\":\"WheelZoomTool\"},{\"attributes\":{\"bottom_units\":\"screen\",\"fill_alpha\":{\"value\":0.5},\"fill_color\":{\"value\":\"lightgrey\"},\"left_units\":\"screen\",\"level\":\"overlay\",\"line_alpha\":{\"value\":1.0},\"line_color\":{\"value\":\"black\"},\"line_dash\":[4,4],\"line_width\":{\"value\":2},\"plot\":null,\"render_mode\":\"css\",\"right_units\":\"screen\",\"top_units\":\"screen\"},\"id\":\"19531\",\"type\":\"BoxAnnotation\"},{\"attributes\":{},\"id\":\"19511\",\"type\":\"LinearScale\"},{\"attributes\":{\"items\":[{\"id\":\"19551\",\"type\":\"LegendItem\"},{\"id\":\"19566\",\"type\":\"LegendItem\"}],\"plot\":{\"id\":\"19504\",\"subtype\":\"Figure\",\"type\":\"Plot\"}},\"id\":\"19550\",\"type\":\"Legend\"},{\"attributes\":{},\"id\":\"19545\",\"type\":\"BasicTickFormatter\"},{\"attributes\":{\"callback\":null,\"data\":{\"x\":{\"__ndarray__\":\"AAAAAAAAAACRGkt8Vz/AP5EaS3xXP9A/2qdwOgNf2D+RGkt8Vz/gPzXhXVstT+Q/2qdwOgNf6D9+boMZ2W7sP5EaS3xXP/A/433Ua0JH8j814V1bLU/0P4dE50oYV/Y/2qdwOgNf+D8sC/op7mb6P35ugxnZbvw/0NEMCcR2/j+RGkt8Vz8AQDrMD/RMQwFA433Ua0JHAkCML5njN0sDQDXhXVstTwRA3pIi0yJTBUCHROdKGFcGQDD2q8INWwdA2qdwOgNfCECDWTWy+GIJQCwL+inuZgpA1by+oeNqC0B+boMZ2W4MQCcgSJHOcg1A0NEMCcR2DkB5g9GAuXoPQJEaS3xXPxBAZnMtOFLBEEA6zA/0TEMRQA8l8q9HxRFA433Ua0JHEkC41rYnPckSQIwvmeM3SxNAYYh7nzLNE0A14V1bLU8UQAo6QBco0RRA3pIi0yJTFUCz6wSPHdUVQIdE50oYVxZAXJ3JBhPZFkAw9qvCDVsXQAVPjn4I3RdA2qdwOgNfGECuAFP2/eAYQINZNbL4YhlAV7IXbvPkGUAsC/op7mYaQABk3OXo6BpA1by+oeNqG0CpFaFd3uwbQH5ugxnZbhxAUsdl1dPwHEAnIEiRznIdQPt4Kk3J9B1A0NEMCcR2HkCkKu/EvvgeQHmD0YC5eh9ATdyzPLT8H0CRGkt8Vz8gQPtGPNpUgCBAZnMtOFLBIEDQnx6WTwIhQDrMD/RMQyFApPgAUkqEIUAPJfKvR8UhQHlR4w1FBiJA433Ua0JHIkBNqsXJP4giQLjWtic9ySJAIgOohToKI0CML5njN0sjQPZbikE1jCNAYYh7nzLNI0DLtGz9Lw4kQDXhXVstTyRAoA1PuSqQJEAKOkAXKNEkQHRmMXUlEiVA3pIi0yJTJUBJvxMxIJQlQLPrBI8d1SVAHRj27BoWJkCHROdKGFcmQPJw2KgVmCZAXJ3JBhPZJkDGybpkEBonQDD2q8INWydAmyKdIAucJ0AFT45+CN0nQG97f9wFHihA2qdwOgNfKEBE1GGYAKAoQK4AU/b94ChAGC1EVPshKUA=\",\"dtype\":\"float64\",\"shape\":[100]},\"y\":{\"__ndarray__\":\"AAAAAAAAAADwgwJ4LjTQP5qI2QHPEuA/+5MNU1HJ5z8ZTT7q2B3vP0aFmgwa+fI/ABg/lCAV9j+IQCEcMdb4P3fOhmLzMPs/EyzujrQb/T/9Izwlj47+PxccgYyLg/8/g6xao7j2/z9mZrL8O+b/P7+X94FZUv8/xVNiW3I9/j9RB8Ai+6v8P5FWKYlppPo/oSg6uxkv+D/Th2bxK1b1PyZGRbpaJfI/8qg+VZVT7T/4C4p0qOPlP+UppLIiM9w/3FNHxZdVyD/J23zJpD6wv+3ENsZjOdS/wo12/ecH4r/dgWKM2Kjpv2MTsJELcPC/83ixWvXH87+358MBZM72v5eCD4nhdvm/rExY6Hq2+7+TIxAn7YP9vwSssILL1/6/70I4BJ6s/7/vOc8G+P7/vzTGy1KGzf+/3176khQZ/7/C8a4NiuT9vzGcHq/dNPy/l0FFlgER+r+FGZN4xoH3vx8WPFK3kfS/Cli7+O1M8b+HQNqEwoHrv9kfIiFb+OO/gKyggGI52L8EhrXMjDzAvyGGtcyMPMA/jqyggGI52D/gHyIhW/jjP39A2oTCges/DVi7+O1M8T8bFjxSt5H0P4cZk3jGgfc/lUFFlgER+j8ynB6v3TT8P8Hxrg2K5P0/4F76khQZ/z80xstShs3/P+85zwb4/v8/8EI4BJ6s/z8DrLCCy9f+P5UjECftg/0/p0xY6Hq2+z+Vgg+J4Xb5P7fnwwFkzvY/9nixWvXH8z9dE7CRC3DwP9eBYozYqOk/w412/ecH4j/+xDbGYznUP0/bfMmkPrA/+FNHxZdVyL/UKaSyIjPcv+gLinSo4+W/+Kg+VZVT7b8lRkW6WiXyv8+HZvErVvW/pig6uxkv+L+TVimJaaT6v1EHwCL7q/y/xFNiW3I9/r/Al/eBWVL/v2Zmsvw75v+/g6xao7j2/78YHIGMi4P/v/sjPCWPjv6/EyzujrQb/b94zoZi8zD7v4xAIRwx1vi//Bc/lCAV9r9GhZoMGvnyvx9NPurYHe+/65MNU1HJ57+SiNkBzxLgv/GDAnguNNC/B1wUMyam0bw=\",\"dtype\":\"float64\",\"shape\":[100]}},\"selected\":{\"id\":\"20055\",\"type\":\"Selection\"},\"selection_policy\":{\"id\":\"20054\",\"type\":\"UnionRenderers\"}},\"id\":\"19552\",\"type\":\"ColumnDataSource\"},{\"attributes\":{\"callback\":null,\"data\":{\"x\":{\"__ndarray__\":\"AAAAAAAAAACRGkt8Vz/AP5EaS3xXP9A/2qdwOgNf2D+RGkt8Vz/gPzXhXVstT+Q/2qdwOgNf6D9+boMZ2W7sP5EaS3xXP/A/433Ua0JH8j814V1bLU/0P4dE50oYV/Y/2qdwOgNf+D8sC/op7mb6P35ugxnZbvw/0NEMCcR2/j+RGkt8Vz8AQDrMD/RMQwFA433Ua0JHAkCML5njN0sDQDXhXVstTwRA3pIi0yJTBUCHROdKGFcGQDD2q8INWwdA2qdwOgNfCECDWTWy+GIJQCwL+inuZgpA1by+oeNqC0B+boMZ2W4MQCcgSJHOcg1A0NEMCcR2DkB5g9GAuXoPQJEaS3xXPxBAZnMtOFLBEEA6zA/0TEMRQA8l8q9HxRFA433Ua0JHEkC41rYnPckSQIwvmeM3SxNAYYh7nzLNE0A14V1bLU8UQAo6QBco0RRA3pIi0yJTFUCz6wSPHdUVQIdE50oYVxZAXJ3JBhPZFkAw9qvCDVsXQAVPjn4I3RdA2qdwOgNfGECuAFP2/eAYQINZNbL4YhlAV7IXbvPkGUAsC/op7mYaQABk3OXo6BpA1by+oeNqG0CpFaFd3uwbQH5ugxnZbhxAUsdl1dPwHEAnIEiRznIdQPt4Kk3J9B1A0NEMCcR2HkCkKu/EvvgeQHmD0YC5eh9ATdyzPLT8H0CRGkt8Vz8gQPtGPNpUgCBAZnMtOFLBIEDQnx6WTwIhQDrMD/RMQyFApPgAUkqEIUAPJfKvR8UhQHlR4w1FBiJA433Ua0JHIkBNqsXJP4giQLjWtic9ySJAIgOohToKI0CML5njN0sjQPZbikE1jCNAYYh7nzLNI0DLtGz9Lw4kQDXhXVstTyRAoA1PuSqQJEAKOkAXKNEkQHRmMXUlEiVA3pIi0yJTJUBJvxMxIJQlQLPrBI8d1SVAHRj27BoWJkCHROdKGFcmQPJw2KgVmCZAXJ3JBhPZJkDGybpkEBonQDD2q8INWydAmyKdIAucJ0AFT45+CN0nQG97f9wFHihA2qdwOgNfKEBE1GGYAKAoQK4AU/b94ChAGC1EVPshKUA=\",\"dtype\":\"float64\",\"shape\":[100]},\"y\":{\"__ndarray__\":\"AAAAAAAAAADwgwJ4LjTAP5qI2QHPEtA/+5MNU1HJ1z8ZTT7q2B3fP0aFmgwa+eI/ABg/lCAV5j+IQCEcMdboP3fOhmLzMOs/EyzujrQb7T/9Izwlj47uPxccgYyLg+8/g6xao7j27z9mZrL8O+bvP7+X94FZUu8/xVNiW3I97j9RB8Ai+6vsP5FWKYlppOo/oSg6uxkv6D/Th2bxK1blPyZGRbpaJeI/8qg+VZVT3T/4C4p0qOPVP+UppLIiM8w/3FNHxZdVuD/J23zJpD6gv+3ENsZjOcS/wo12/ecH0r/dgWKM2KjZv2MTsJELcOC/83ixWvXH47+358MBZM7mv5eCD4nhdum/rExY6Hq267+TIxAn7YPtvwSssILL1+6/70I4BJ6s77/vOc8G+P7vvzTGy1KGze+/3176khQZ77/C8a4NiuTtvzGcHq/dNOy/l0FFlgER6r+FGZN4xoHnvx8WPFK3keS/Cli7+O1M4b+HQNqEwoHbv9kfIiFb+NO/gKyggGI5yL8EhrXMjDywvyGGtcyMPLA/jqyggGI5yD/gHyIhW/jTP39A2oTCgds/DVi7+O1M4T8bFjxSt5HkP4cZk3jGgec/lUFFlgER6j8ynB6v3TTsP8Hxrg2K5O0/4F76khQZ7z80xstShs3vP+85zwb4/u8/8EI4BJ6s7z8DrLCCy9fuP5UjECftg+0/p0xY6Hq26z+Vgg+J4XbpP7fnwwFkzuY/9nixWvXH4z9dE7CRC3DgP9eBYozYqNk/w412/ecH0j/+xDbGYznEP0/bfMmkPqA/+FNHxZdVuL/UKaSyIjPMv+gLinSo49W/+Kg+VZVT3b8lRkW6WiXiv8+HZvErVuW/pig6uxkv6L+TVimJaaTqv1EHwCL7q+y/xFNiW3I97r/Al/eBWVLvv2Zmsvw75u+/g6xao7j2778YHIGMi4Pvv/sjPCWPju6/EyzujrQb7b94zoZi8zDrv4xAIRwx1ui//Bc/lCAV5r9GhZoMGvnivx9NPurYHd+/65MNU1HJ17+SiNkBzxLQv/GDAnguNMC/B1wUMyamwbw=\",\"dtype\":\"float64\",\"shape\":[100]}},\"selected\":{\"id\":\"19564\",\"type\":\"Selection\"},\"selection_policy\":{\"id\":\"19563\",\"type\":\"UnionRenderers\"}},\"id\":\"19538\",\"type\":\"ColumnDataSource\"},{\"attributes\":{\"formatter\":{\"id\":\"19547\",\"type\":\"BasicTickFormatter\"},\"plot\":{\"id\":\"19504\",\"subtype\":\"Figure\",\"type\":\"Plot\"},\"ticker\":{\"id\":\"19519\",\"type\":\"BasicTicker\"}},\"id\":\"19518\",\"type\":\"LinearAxis\"}],\"root_ids\":[\"19504\"]},\"title\":\"Bokeh Application\",\"version\":\"1.0.4\"}};\n",
       "  var render_items = [{\"docid\":\"9a3ba278-e923-458d-b7e8-cf147b00e280\",\"roots\":{\"19504\":\"e5c2b141-be3e-4c1b-8780-c59541838777\"}}];\n",
       "  root.Bokeh.embed.embed_items_notebook(docs_json, render_items);\n",
       "\n",
       "  }\n",
       "  if (root.Bokeh !== undefined) {\n",
       "    embed_document(root);\n",
       "  } else {\n",
       "    var attempts = 0;\n",
       "    var timer = setInterval(function(root) {\n",
       "      if (root.Bokeh !== undefined) {\n",
       "        embed_document(root);\n",
       "        clearInterval(timer);\n",
       "      }\n",
       "      attempts++;\n",
       "      if (attempts > 100) {\n",
       "        console.log(\"Bokeh: ERROR: Unable to run BokehJS code because BokehJS library is missing\");\n",
       "        clearInterval(timer);\n",
       "      }\n",
       "    }, 10, root)\n",
       "  }\n",
       "})(window);"
      ],
      "application/vnd.bokehjs_exec.v0+json": ""
     },
     "metadata": {
      "application/vnd.bokehjs_exec.v0+json": {
       "id": "19504"
      }
     },
     "output_type": "display_data"
    }
   ],
   "source": [
    "x = np.linspace(0, 4*np.pi, 100)\n",
    "y = np.sin(x)\n",
    "\n",
    "p = figure(height=400)\n",
    "\n",
    "p.circle(x, y, legend=\"sin(x)\")\n",
    "p.line(x, 2*y, legend=\"2*sin(x)\", line_dash=[4, 4], line_color=\"orange\", line_width=2)\n",
    "\n",
    "show(p)"
   ]
  },
  {
   "cell_type": "markdown",
   "metadata": {},
   "source": [
    "## 7. Multiple plots in a row"
   ]
  },
  {
   "cell_type": "code",
   "execution_count": 93,
   "metadata": {},
   "outputs": [
    {
     "data": {
      "text/html": [
       "\n",
       "\n",
       "\n",
       "\n",
       "\n",
       "\n",
       "  <div class=\"bk-root\" id=\"ba569370-6652-49b3-a08a-d791f99f38a7\" data-root-id=\"20274\"></div>\n"
      ]
     },
     "metadata": {},
     "output_type": "display_data"
    },
    {
     "data": {
      "application/javascript": [
       "(function(root) {\n",
       "  function embed_document(root) {\n",
       "    \n",
       "  var docs_json = {\"e9f75a8d-f904-40da-8681-d9d1694dc32e\":{\"roots\":{\"references\":[{\"attributes\":{\"children\":[{\"id\":\"20157\",\"subtype\":\"Figure\",\"type\":\"Plot\"},{\"id\":\"20196\",\"subtype\":\"Figure\",\"type\":\"Plot\"},{\"id\":\"20235\",\"subtype\":\"Figure\",\"type\":\"Plot\"}]},\"id\":\"20274\",\"type\":\"Row\"},{\"attributes\":{},\"id\":\"20242\",\"type\":\"LinearScale\"},{\"attributes\":{\"fill_alpha\":{\"value\":0.1},\"fill_color\":{\"value\":\"#1f77b4\"},\"line_alpha\":{\"value\":0.1},\"line_color\":{\"value\":\"#1f77b4\"},\"size\":{\"units\":\"screen\",\"value\":10},\"x\":{\"field\":\"x\"},\"y\":{\"field\":\"y\"}},\"id\":\"20193\",\"type\":\"Circle\"},{\"attributes\":{\"formatter\":{\"id\":\"20779\",\"type\":\"BasicTickFormatter\"},\"plot\":{\"id\":\"20235\",\"subtype\":\"Figure\",\"type\":\"Plot\"},\"ticker\":{\"id\":\"20245\",\"type\":\"BasicTicker\"}},\"id\":\"20244\",\"type\":\"LinearAxis\"},{\"attributes\":{},\"id\":\"20176\",\"type\":\"PanTool\"},{\"attributes\":{},\"id\":\"20245\",\"type\":\"BasicTicker\"},{\"attributes\":{},\"id\":\"20177\",\"type\":\"WheelZoomTool\"},{\"attributes\":{\"plot\":{\"id\":\"20235\",\"subtype\":\"Figure\",\"type\":\"Plot\"},\"ticker\":{\"id\":\"20245\",\"type\":\"BasicTicker\"}},\"id\":\"20248\",\"type\":\"Grid\"},{\"attributes\":{\"dimension\":1,\"plot\":{\"id\":\"20196\",\"subtype\":\"Figure\",\"type\":\"Plot\"},\"ticker\":{\"id\":\"20211\",\"type\":\"BasicTicker\"}},\"id\":\"20214\",\"type\":\"Grid\"},{\"attributes\":{\"overlay\":{\"id\":\"20184\",\"type\":\"BoxAnnotation\"}},\"id\":\"20178\",\"type\":\"BoxZoomTool\"},{\"attributes\":{\"formatter\":{\"id\":\"20781\",\"type\":\"BasicTickFormatter\"},\"plot\":{\"id\":\"20235\",\"subtype\":\"Figure\",\"type\":\"Plot\"},\"ticker\":{\"id\":\"20250\",\"type\":\"BasicTicker\"}},\"id\":\"20249\",\"type\":\"LinearAxis\"},{\"attributes\":{},\"id\":\"20179\",\"type\":\"SaveTool\"},{\"attributes\":{},\"id\":\"20250\",\"type\":\"BasicTicker\"},{\"attributes\":{},\"id\":\"20180\",\"type\":\"ResetTool\"},{\"attributes\":{\"dimension\":1,\"plot\":{\"id\":\"20235\",\"subtype\":\"Figure\",\"type\":\"Plot\"},\"ticker\":{\"id\":\"20250\",\"type\":\"BasicTicker\"}},\"id\":\"20253\",\"type\":\"Grid\"},{\"attributes\":{},\"id\":\"20181\",\"type\":\"HelpTool\"},{\"attributes\":{\"active_drag\":\"auto\",\"active_inspect\":\"auto\",\"active_multi\":null,\"active_scroll\":\"auto\",\"active_tap\":\"auto\",\"tools\":[{\"id\":\"20176\",\"type\":\"PanTool\"},{\"id\":\"20177\",\"type\":\"WheelZoomTool\"},{\"id\":\"20178\",\"type\":\"BoxZoomTool\"},{\"id\":\"20179\",\"type\":\"SaveTool\"},{\"id\":\"20180\",\"type\":\"ResetTool\"},{\"id\":\"20181\",\"type\":\"HelpTool\"}]},\"id\":\"20182\",\"type\":\"Toolbar\"},{\"attributes\":{\"fill_alpha\":{\"value\":0.1},\"fill_color\":{\"value\":\"#1f77b4\"},\"line_alpha\":{\"value\":0.1},\"line_color\":{\"value\":\"#1f77b4\"},\"size\":{\"units\":\"screen\",\"value\":10},\"x\":{\"field\":\"x\"},\"y\":{\"field\":\"y\"}},\"id\":\"20271\",\"type\":\"Square\"},{\"attributes\":{\"data_source\":{\"id\":\"20191\",\"type\":\"ColumnDataSource\"},\"glyph\":{\"id\":\"20192\",\"type\":\"Circle\"},\"hover_glyph\":null,\"muted_glyph\":null,\"nonselection_glyph\":{\"id\":\"20193\",\"type\":\"Circle\"},\"selection_glyph\":null,\"view\":{\"id\":\"20195\",\"type\":\"CDSView\"}},\"id\":\"20194\",\"type\":\"GlyphRenderer\"},{\"attributes\":{\"fill_alpha\":{\"value\":0.5},\"fill_color\":{\"value\":\"olive\"},\"line_alpha\":{\"value\":0.5},\"line_color\":{\"value\":\"olive\"},\"size\":{\"units\":\"screen\",\"value\":10},\"x\":{\"field\":\"x\"},\"y\":{\"field\":\"y\"}},\"id\":\"20270\",\"type\":\"Square\"},{\"attributes\":{\"bottom_units\":\"screen\",\"fill_alpha\":{\"value\":0.5},\"fill_color\":{\"value\":\"lightgrey\"},\"left_units\":\"screen\",\"level\":\"overlay\",\"line_alpha\":{\"value\":1.0},\"line_color\":{\"value\":\"black\"},\"line_dash\":[4,4],\"line_width\":{\"value\":2},\"plot\":null,\"render_mode\":\"css\",\"right_units\":\"screen\",\"top_units\":\"screen\"},\"id\":\"20184\",\"type\":\"BoxAnnotation\"},{\"attributes\":{},\"id\":\"20254\",\"type\":\"PanTool\"},{\"attributes\":{\"source\":{\"id\":\"20191\",\"type\":\"ColumnDataSource\"}},\"id\":\"20195\",\"type\":\"CDSView\"},{\"attributes\":{},\"id\":\"20255\",\"type\":\"WheelZoomTool\"},{\"attributes\":{\"fill_alpha\":{\"value\":0.1},\"fill_color\":{\"value\":\"#1f77b4\"},\"line_alpha\":{\"value\":0.1},\"line_color\":{\"value\":\"#1f77b4\"},\"size\":{\"units\":\"screen\",\"value\":10},\"x\":{\"field\":\"x\"},\"y\":{\"field\":\"y\"}},\"id\":\"20232\",\"type\":\"Triangle\"},{\"attributes\":{\"overlay\":{\"id\":\"20262\",\"type\":\"BoxAnnotation\"}},\"id\":\"20256\",\"type\":\"BoxZoomTool\"},{\"attributes\":{\"data_source\":{\"id\":\"20230\",\"type\":\"ColumnDataSource\"},\"glyph\":{\"id\":\"20231\",\"type\":\"Triangle\"},\"hover_glyph\":null,\"muted_glyph\":null,\"nonselection_glyph\":{\"id\":\"20232\",\"type\":\"Triangle\"},\"selection_glyph\":null,\"view\":{\"id\":\"20234\",\"type\":\"CDSView\"}},\"id\":\"20233\",\"type\":\"GlyphRenderer\"},{\"attributes\":{},\"id\":\"20257\",\"type\":\"SaveTool\"},{\"attributes\":{\"callback\":null},\"id\":\"20197\",\"type\":\"DataRange1d\"},{\"attributes\":{},\"id\":\"20258\",\"type\":\"ResetTool\"},{\"attributes\":{\"callback\":null},\"id\":\"20199\",\"type\":\"DataRange1d\"},{\"attributes\":{},\"id\":\"20259\",\"type\":\"HelpTool\"},{\"attributes\":{},\"id\":\"20201\",\"type\":\"LinearScale\"},{\"attributes\":{\"active_drag\":\"auto\",\"active_inspect\":\"auto\",\"active_multi\":null,\"active_scroll\":\"auto\",\"active_tap\":\"auto\",\"tools\":[{\"id\":\"20254\",\"type\":\"PanTool\"},{\"id\":\"20255\",\"type\":\"WheelZoomTool\"},{\"id\":\"20256\",\"type\":\"BoxZoomTool\"},{\"id\":\"20257\",\"type\":\"SaveTool\"},{\"id\":\"20258\",\"type\":\"ResetTool\"},{\"id\":\"20259\",\"type\":\"HelpTool\"}]},\"id\":\"20260\",\"type\":\"Toolbar\"},{\"attributes\":{\"plot\":null,\"text\":\"\"},\"id\":\"20768\",\"type\":\"Title\"},{\"attributes\":{\"data_source\":{\"id\":\"20269\",\"type\":\"ColumnDataSource\"},\"glyph\":{\"id\":\"20270\",\"type\":\"Square\"},\"hover_glyph\":null,\"muted_glyph\":null,\"nonselection_glyph\":{\"id\":\"20271\",\"type\":\"Square\"},\"selection_glyph\":null,\"view\":{\"id\":\"20273\",\"type\":\"CDSView\"}},\"id\":\"20272\",\"type\":\"GlyphRenderer\"},{\"attributes\":{\"bottom_units\":\"screen\",\"fill_alpha\":{\"value\":0.5},\"fill_color\":{\"value\":\"lightgrey\"},\"left_units\":\"screen\",\"level\":\"overlay\",\"line_alpha\":{\"value\":1.0},\"line_color\":{\"value\":\"black\"},\"line_dash\":[4,4],\"line_width\":{\"value\":2},\"plot\":null,\"render_mode\":\"css\",\"right_units\":\"screen\",\"top_units\":\"screen\"},\"id\":\"20262\",\"type\":\"BoxAnnotation\"},{\"attributes\":{\"formatter\":{\"id\":\"20775\",\"type\":\"BasicTickFormatter\"},\"plot\":{\"id\":\"20196\",\"subtype\":\"Figure\",\"type\":\"Plot\"},\"ticker\":{\"id\":\"20206\",\"type\":\"BasicTicker\"}},\"id\":\"20205\",\"type\":\"LinearAxis\"},{\"attributes\":{},\"id\":\"20206\",\"type\":\"BasicTicker\"},{\"attributes\":{\"source\":{\"id\":\"20269\",\"type\":\"ColumnDataSource\"}},\"id\":\"20273\",\"type\":\"CDSView\"},{\"attributes\":{\"plot\":{\"id\":\"20196\",\"subtype\":\"Figure\",\"type\":\"Plot\"},\"ticker\":{\"id\":\"20206\",\"type\":\"BasicTicker\"}},\"id\":\"20209\",\"type\":\"Grid\"},{\"attributes\":{},\"id\":\"20203\",\"type\":\"LinearScale\"},{\"attributes\":{\"formatter\":{\"id\":\"20777\",\"type\":\"BasicTickFormatter\"},\"plot\":{\"id\":\"20196\",\"subtype\":\"Figure\",\"type\":\"Plot\"},\"ticker\":{\"id\":\"20211\",\"type\":\"BasicTicker\"}},\"id\":\"20210\",\"type\":\"LinearAxis\"},{\"attributes\":{},\"id\":\"20211\",\"type\":\"BasicTicker\"},{\"attributes\":{\"plot\":null,\"text\":\"\"},\"id\":\"20770\",\"type\":\"Title\"},{\"attributes\":{\"callback\":null,\"data\":{\"x\":[0,1,2,3,4,5,6,7,8,9,10],\"y\":[0,1,2,3,4,5,6,7,8,9,10]},\"selected\":{\"id\":\"20784\",\"type\":\"Selection\"},\"selection_policy\":{\"id\":\"20783\",\"type\":\"UnionRenderers\"}},\"id\":\"20191\",\"type\":\"ColumnDataSource\"},{\"attributes\":{\"callback\":null,\"data\":{\"x\":[0,1,2,3,4,5,6,7,8,9,10],\"y\":[10,9,8,7,6,5,4,3,2,1,0]},\"selected\":{\"id\":\"20787\",\"type\":\"Selection\"},\"selection_policy\":{\"id\":\"20786\",\"type\":\"UnionRenderers\"}},\"id\":\"20230\",\"type\":\"ColumnDataSource\"},{\"attributes\":{},\"id\":\"20216\",\"type\":\"WheelZoomTool\"},{\"attributes\":{},\"id\":\"20771\",\"type\":\"BasicTickFormatter\"},{\"attributes\":{\"overlay\":{\"id\":\"20223\",\"type\":\"BoxAnnotation\"}},\"id\":\"20217\",\"type\":\"BoxZoomTool\"},{\"attributes\":{},\"id\":\"20773\",\"type\":\"BasicTickFormatter\"},{\"attributes\":{\"fill_alpha\":{\"value\":0.5},\"fill_color\":{\"value\":\"firebrick\"},\"line_alpha\":{\"value\":0.5},\"line_color\":{\"value\":\"firebrick\"},\"size\":{\"units\":\"screen\",\"value\":10},\"x\":{\"field\":\"x\"},\"y\":{\"field\":\"y\"}},\"id\":\"20231\",\"type\":\"Triangle\"},{\"attributes\":{\"callback\":null},\"id\":\"20158\",\"type\":\"DataRange1d\"},{\"attributes\":{},\"id\":\"20218\",\"type\":\"SaveTool\"},{\"attributes\":{\"below\":[{\"id\":\"20166\",\"type\":\"LinearAxis\"}],\"left\":[{\"id\":\"20171\",\"type\":\"LinearAxis\"}],\"plot_height\":250,\"plot_width\":250,\"renderers\":[{\"id\":\"20166\",\"type\":\"LinearAxis\"},{\"id\":\"20170\",\"type\":\"Grid\"},{\"id\":\"20171\",\"type\":\"LinearAxis\"},{\"id\":\"20175\",\"type\":\"Grid\"},{\"id\":\"20184\",\"type\":\"BoxAnnotation\"},{\"id\":\"20194\",\"type\":\"GlyphRenderer\"}],\"title\":{\"id\":\"20766\",\"type\":\"Title\"},\"toolbar\":{\"id\":\"20182\",\"type\":\"Toolbar\"},\"x_range\":{\"id\":\"20158\",\"type\":\"DataRange1d\"},\"x_scale\":{\"id\":\"20162\",\"type\":\"LinearScale\"},\"y_range\":{\"id\":\"20160\",\"type\":\"DataRange1d\"},\"y_scale\":{\"id\":\"20164\",\"type\":\"LinearScale\"}},\"id\":\"20157\",\"subtype\":\"Figure\",\"type\":\"Plot\"},{\"attributes\":{},\"id\":\"20775\",\"type\":\"BasicTickFormatter\"},{\"attributes\":{},\"id\":\"20219\",\"type\":\"ResetTool\"},{\"attributes\":{\"callback\":null},\"id\":\"20160\",\"type\":\"DataRange1d\"},{\"attributes\":{},\"id\":\"20777\",\"type\":\"BasicTickFormatter\"},{\"attributes\":{},\"id\":\"20215\",\"type\":\"PanTool\"},{\"attributes\":{},\"id\":\"20220\",\"type\":\"HelpTool\"},{\"attributes\":{},\"id\":\"20162\",\"type\":\"LinearScale\"},{\"attributes\":{},\"id\":\"20779\",\"type\":\"BasicTickFormatter\"},{\"attributes\":{\"active_drag\":\"auto\",\"active_inspect\":\"auto\",\"active_multi\":null,\"active_scroll\":\"auto\",\"active_tap\":\"auto\",\"tools\":[{\"id\":\"20215\",\"type\":\"PanTool\"},{\"id\":\"20216\",\"type\":\"WheelZoomTool\"},{\"id\":\"20217\",\"type\":\"BoxZoomTool\"},{\"id\":\"20218\",\"type\":\"SaveTool\"},{\"id\":\"20219\",\"type\":\"ResetTool\"},{\"id\":\"20220\",\"type\":\"HelpTool\"}]},\"id\":\"20221\",\"type\":\"Toolbar\"},{\"attributes\":{},\"id\":\"20164\",\"type\":\"LinearScale\"},{\"attributes\":{},\"id\":\"20781\",\"type\":\"BasicTickFormatter\"},{\"attributes\":{\"formatter\":{\"id\":\"20771\",\"type\":\"BasicTickFormatter\"},\"plot\":{\"id\":\"20157\",\"subtype\":\"Figure\",\"type\":\"Plot\"},\"ticker\":{\"id\":\"20167\",\"type\":\"BasicTicker\"}},\"id\":\"20166\",\"type\":\"LinearAxis\"},{\"attributes\":{\"bottom_units\":\"screen\",\"fill_alpha\":{\"value\":0.5},\"fill_color\":{\"value\":\"lightgrey\"},\"left_units\":\"screen\",\"level\":\"overlay\",\"line_alpha\":{\"value\":1.0},\"line_color\":{\"value\":\"black\"},\"line_dash\":[4,4],\"line_width\":{\"value\":2},\"plot\":null,\"render_mode\":\"css\",\"right_units\":\"screen\",\"top_units\":\"screen\"},\"id\":\"20223\",\"type\":\"BoxAnnotation\"},{\"attributes\":{},\"id\":\"20783\",\"type\":\"UnionRenderers\"},{\"attributes\":{},\"id\":\"20167\",\"type\":\"BasicTicker\"},{\"attributes\":{\"source\":{\"id\":\"20230\",\"type\":\"ColumnDataSource\"}},\"id\":\"20234\",\"type\":\"CDSView\"},{\"attributes\":{},\"id\":\"20784\",\"type\":\"Selection\"},{\"attributes\":{\"plot\":{\"id\":\"20157\",\"subtype\":\"Figure\",\"type\":\"Plot\"},\"ticker\":{\"id\":\"20167\",\"type\":\"BasicTicker\"}},\"id\":\"20170\",\"type\":\"Grid\"},{\"attributes\":{},\"id\":\"20786\",\"type\":\"UnionRenderers\"},{\"attributes\":{\"callback\":null,\"data\":{\"x\":[0,1,2,3,4,5,6,7,8,9,10],\"y\":[5,4,3,2,1,0,1,2,3,4,5]},\"selected\":{\"id\":\"20790\",\"type\":\"Selection\"},\"selection_policy\":{\"id\":\"20789\",\"type\":\"UnionRenderers\"}},\"id\":\"20269\",\"type\":\"ColumnDataSource\"},{\"attributes\":{\"formatter\":{\"id\":\"20773\",\"type\":\"BasicTickFormatter\"},\"plot\":{\"id\":\"20157\",\"subtype\":\"Figure\",\"type\":\"Plot\"},\"ticker\":{\"id\":\"20172\",\"type\":\"BasicTicker\"}},\"id\":\"20171\",\"type\":\"LinearAxis\"},{\"attributes\":{},\"id\":\"20787\",\"type\":\"Selection\"},{\"attributes\":{\"callback\":null},\"id\":\"20236\",\"type\":\"DataRange1d\"},{\"attributes\":{},\"id\":\"20172\",\"type\":\"BasicTicker\"},{\"attributes\":{},\"id\":\"20789\",\"type\":\"UnionRenderers\"},{\"attributes\":{\"dimension\":1,\"plot\":{\"id\":\"20157\",\"subtype\":\"Figure\",\"type\":\"Plot\"},\"ticker\":{\"id\":\"20172\",\"type\":\"BasicTicker\"}},\"id\":\"20175\",\"type\":\"Grid\"},{\"attributes\":{\"callback\":null},\"id\":\"20238\",\"type\":\"DataRange1d\"},{\"attributes\":{},\"id\":\"20790\",\"type\":\"Selection\"},{\"attributes\":{\"fill_alpha\":{\"value\":0.5},\"fill_color\":{\"value\":\"navy\"},\"line_alpha\":{\"value\":0.5},\"line_color\":{\"value\":\"navy\"},\"size\":{\"units\":\"screen\",\"value\":10},\"x\":{\"field\":\"x\"},\"y\":{\"field\":\"y\"}},\"id\":\"20192\",\"type\":\"Circle\"},{\"attributes\":{},\"id\":\"20240\",\"type\":\"LinearScale\"},{\"attributes\":{\"below\":[{\"id\":\"20244\",\"type\":\"LinearAxis\"}],\"left\":[{\"id\":\"20249\",\"type\":\"LinearAxis\"}],\"plot_height\":250,\"plot_width\":250,\"renderers\":[{\"id\":\"20244\",\"type\":\"LinearAxis\"},{\"id\":\"20248\",\"type\":\"Grid\"},{\"id\":\"20249\",\"type\":\"LinearAxis\"},{\"id\":\"20253\",\"type\":\"Grid\"},{\"id\":\"20262\",\"type\":\"BoxAnnotation\"},{\"id\":\"20272\",\"type\":\"GlyphRenderer\"}],\"title\":{\"id\":\"20770\",\"type\":\"Title\"},\"toolbar\":{\"id\":\"20260\",\"type\":\"Toolbar\"},\"x_range\":{\"id\":\"20236\",\"type\":\"DataRange1d\"},\"x_scale\":{\"id\":\"20240\",\"type\":\"LinearScale\"},\"y_range\":{\"id\":\"20238\",\"type\":\"DataRange1d\"},\"y_scale\":{\"id\":\"20242\",\"type\":\"LinearScale\"}},\"id\":\"20235\",\"subtype\":\"Figure\",\"type\":\"Plot\"},{\"attributes\":{\"below\":[{\"id\":\"20205\",\"type\":\"LinearAxis\"}],\"left\":[{\"id\":\"20210\",\"type\":\"LinearAxis\"}],\"plot_height\":250,\"plot_width\":250,\"renderers\":[{\"id\":\"20205\",\"type\":\"LinearAxis\"},{\"id\":\"20209\",\"type\":\"Grid\"},{\"id\":\"20210\",\"type\":\"LinearAxis\"},{\"id\":\"20214\",\"type\":\"Grid\"},{\"id\":\"20223\",\"type\":\"BoxAnnotation\"},{\"id\":\"20233\",\"type\":\"GlyphRenderer\"}],\"title\":{\"id\":\"20768\",\"type\":\"Title\"},\"toolbar\":{\"id\":\"20221\",\"type\":\"Toolbar\"},\"x_range\":{\"id\":\"20197\",\"type\":\"DataRange1d\"},\"x_scale\":{\"id\":\"20201\",\"type\":\"LinearScale\"},\"y_range\":{\"id\":\"20199\",\"type\":\"DataRange1d\"},\"y_scale\":{\"id\":\"20203\",\"type\":\"LinearScale\"}},\"id\":\"20196\",\"subtype\":\"Figure\",\"type\":\"Plot\"},{\"attributes\":{\"plot\":null,\"text\":\"\"},\"id\":\"20766\",\"type\":\"Title\"}],\"root_ids\":[\"20274\"]},\"title\":\"Bokeh Application\",\"version\":\"1.0.4\"}};\n",
       "  var render_items = [{\"docid\":\"e9f75a8d-f904-40da-8681-d9d1694dc32e\",\"roots\":{\"20274\":\"ba569370-6652-49b3-a08a-d791f99f38a7\"}}];\n",
       "  root.Bokeh.embed.embed_items_notebook(docs_json, render_items);\n",
       "\n",
       "  }\n",
       "  if (root.Bokeh !== undefined) {\n",
       "    embed_document(root);\n",
       "  } else {\n",
       "    var attempts = 0;\n",
       "    var timer = setInterval(function(root) {\n",
       "      if (root.Bokeh !== undefined) {\n",
       "        embed_document(root);\n",
       "        clearInterval(timer);\n",
       "      }\n",
       "      attempts++;\n",
       "      if (attempts > 100) {\n",
       "        console.log(\"Bokeh: ERROR: Unable to run BokehJS code because BokehJS library is missing\");\n",
       "        clearInterval(timer);\n",
       "      }\n",
       "    }, 10, root)\n",
       "  }\n",
       "})(window);"
      ],
      "application/vnd.bokehjs_exec.v0+json": ""
     },
     "metadata": {
      "application/vnd.bokehjs_exec.v0+json": {
       "id": "20274"
      }
     },
     "output_type": "display_data"
    }
   ],
   "source": [
    "from bokeh.layouts import row\n",
    "\n",
    "x = list(range(11))\n",
    "y0, y1, y2 = x, [10-i for i in x], [abs(i-5) for i in x]\n",
    "\n",
    "# create a new plot\n",
    "s1 = figure(width=250, plot_height=250)\n",
    "s1.circle(x, y0, size=10, color=\"navy\", alpha=0.5)\n",
    "\n",
    "# create another one\n",
    "s2 = figure(width=250, height=250)\n",
    "s2.triangle(x, y1, size=10, color=\"firebrick\", alpha=0.5)\n",
    "\n",
    "# create and another\n",
    "s3 = figure(width=250, height=250)\n",
    "s3.square(x, y2, size=10, color=\"olive\", alpha=0.5)\n",
    "\n",
    "# show the results in a row\n",
    "show(row(s1, s2, s3))\n"
   ]
  },
  {
   "cell_type": "code",
   "execution_count": 94,
   "metadata": {},
   "outputs": [
    {
     "data": {
      "text/html": [
       "\n",
       "\n",
       "\n",
       "\n",
       "\n",
       "\n",
       "  <div class=\"bk-root\" id=\"5195f9da-6bc7-4537-9cb6-72e0bd06508f\" data-root-id=\"21104\"></div>\n"
      ]
     },
     "metadata": {},
     "output_type": "display_data"
    },
    {
     "data": {
      "application/javascript": [
       "(function(root) {\n",
       "  function embed_document(root) {\n",
       "    \n",
       "  var docs_json = {\"0a19cd28-b5c5-41d9-b433-c8e78213b4e2\":{\"roots\":{\"references\":[{\"attributes\":{\"children\":[{\"id\":\"21091\",\"type\":\"Row\"},{\"id\":\"21103\",\"type\":\"Row\"}]},\"id\":\"21104\",\"type\":\"Column\"},{\"attributes\":{\"overlay\":{\"id\":\"21020\",\"type\":\"BoxAnnotation\"}},\"id\":\"21014\",\"type\":\"BoxZoomTool\"},{\"attributes\":{\"formatter\":{\"id\":\"21073\",\"type\":\"BasicTickFormatter\"},\"plot\":{\"id\":\"20954\",\"subtype\":\"Figure\",\"type\":\"Plot\"},\"ticker\":{\"id\":\"20964\",\"type\":\"BasicTicker\"}},\"id\":\"20963\",\"type\":\"LinearAxis\"},{\"attributes\":{},\"id\":\"21088\",\"type\":\"Selection\"},{\"attributes\":{},\"id\":\"21015\",\"type\":\"SaveTool\"},{\"attributes\":{},\"id\":\"20964\",\"type\":\"BasicTicker\"},{\"attributes\":{\"children\":[{\"id\":\"21032\",\"subtype\":\"Figure\",\"type\":\"Plot\"},{\"id\":\"21102\",\"type\":\"Spacer\"}]},\"id\":\"21103\",\"type\":\"Row\"},{\"attributes\":{},\"id\":\"21016\",\"type\":\"ResetTool\"},{\"attributes\":{\"plot\":{\"id\":\"20954\",\"subtype\":\"Figure\",\"type\":\"Plot\"},\"ticker\":{\"id\":\"20964\",\"type\":\"BasicTicker\"}},\"id\":\"20967\",\"type\":\"Grid\"},{\"attributes\":{\"plot\":null,\"text\":\"\"},\"id\":\"21093\",\"type\":\"Title\"},{\"attributes\":{},\"id\":\"21017\",\"type\":\"HelpTool\"},{\"attributes\":{\"formatter\":{\"id\":\"21075\",\"type\":\"BasicTickFormatter\"},\"plot\":{\"id\":\"20954\",\"subtype\":\"Figure\",\"type\":\"Plot\"},\"ticker\":{\"id\":\"20969\",\"type\":\"BasicTicker\"}},\"id\":\"20968\",\"type\":\"LinearAxis\"},{\"attributes\":{},\"id\":\"21094\",\"type\":\"BasicTickFormatter\"},{\"attributes\":{\"active_drag\":\"auto\",\"active_inspect\":\"auto\",\"active_multi\":null,\"active_scroll\":\"auto\",\"active_tap\":\"auto\",\"tools\":[{\"id\":\"21012\",\"type\":\"PanTool\"},{\"id\":\"21013\",\"type\":\"WheelZoomTool\"},{\"id\":\"21014\",\"type\":\"BoxZoomTool\"},{\"id\":\"21015\",\"type\":\"SaveTool\"},{\"id\":\"21016\",\"type\":\"ResetTool\"},{\"id\":\"21017\",\"type\":\"HelpTool\"}]},\"id\":\"21018\",\"type\":\"Toolbar\"},{\"attributes\":{},\"id\":\"20969\",\"type\":\"BasicTicker\"},{\"attributes\":{},\"id\":\"21096\",\"type\":\"BasicTickFormatter\"},{\"attributes\":{\"dimension\":1,\"plot\":{\"id\":\"20954\",\"subtype\":\"Figure\",\"type\":\"Plot\"},\"ticker\":{\"id\":\"20969\",\"type\":\"BasicTicker\"}},\"id\":\"20972\",\"type\":\"Grid\"},{\"attributes\":{\"bottom_units\":\"screen\",\"fill_alpha\":{\"value\":0.5},\"fill_color\":{\"value\":\"lightgrey\"},\"left_units\":\"screen\",\"level\":\"overlay\",\"line_alpha\":{\"value\":1.0},\"line_color\":{\"value\":\"black\"},\"line_dash\":[4,4],\"line_width\":{\"value\":2},\"plot\":null,\"render_mode\":\"css\",\"right_units\":\"screen\",\"top_units\":\"screen\"},\"id\":\"21020\",\"type\":\"BoxAnnotation\"},{\"attributes\":{},\"id\":\"21098\",\"type\":\"UnionRenderers\"},{\"attributes\":{\"source\":{\"id\":\"21027\",\"type\":\"ColumnDataSource\"}},\"id\":\"21031\",\"type\":\"CDSView\"},{\"attributes\":{},\"id\":\"21099\",\"type\":\"Selection\"},{\"attributes\":{\"fill_alpha\":{\"value\":0.1},\"fill_color\":{\"value\":\"#1f77b4\"},\"line_alpha\":{\"value\":0.1},\"line_color\":{\"value\":\"#1f77b4\"},\"size\":{\"units\":\"screen\",\"value\":10},\"x\":{\"field\":\"x\"},\"y\":{\"field\":\"y\"}},\"id\":\"20990\",\"type\":\"Circle\"},{\"attributes\":{\"height\":250,\"width\":250},\"id\":\"21102\",\"type\":\"Spacer\"},{\"attributes\":{\"fill_alpha\":{\"value\":0.5},\"fill_color\":{\"value\":\"navy\"},\"line_alpha\":{\"value\":0.5},\"line_color\":{\"value\":\"navy\"},\"size\":{\"units\":\"screen\",\"value\":10},\"x\":{\"field\":\"x\"},\"y\":{\"field\":\"y\"}},\"id\":\"20989\",\"type\":\"Circle\"},{\"attributes\":{\"callback\":null,\"data\":{\"x\":[0,1,2,3,4,5,6,7,8,9,10],\"y\":[5,4,3,2,1,0,1,2,3,4,5]},\"selected\":{\"id\":\"21099\",\"type\":\"Selection\"},\"selection_policy\":{\"id\":\"21098\",\"type\":\"UnionRenderers\"}},\"id\":\"21066\",\"type\":\"ColumnDataSource\"},{\"attributes\":{},\"id\":\"20973\",\"type\":\"PanTool\"},{\"attributes\":{\"callback\":null},\"id\":\"21033\",\"type\":\"DataRange1d\"},{\"attributes\":{},\"id\":\"20974\",\"type\":\"WheelZoomTool\"},{\"attributes\":{\"callback\":null},\"id\":\"21035\",\"type\":\"DataRange1d\"},{\"attributes\":{\"overlay\":{\"id\":\"20981\",\"type\":\"BoxAnnotation\"}},\"id\":\"20975\",\"type\":\"BoxZoomTool\"},{\"attributes\":{},\"id\":\"21037\",\"type\":\"LinearScale\"},{\"attributes\":{},\"id\":\"20976\",\"type\":\"SaveTool\"},{\"attributes\":{},\"id\":\"21039\",\"type\":\"LinearScale\"},{\"attributes\":{},\"id\":\"20977\",\"type\":\"ResetTool\"},{\"attributes\":{},\"id\":\"21042\",\"type\":\"BasicTicker\"},{\"attributes\":{\"formatter\":{\"id\":\"21094\",\"type\":\"BasicTickFormatter\"},\"plot\":{\"id\":\"21032\",\"subtype\":\"Figure\",\"type\":\"Plot\"},\"ticker\":{\"id\":\"21042\",\"type\":\"BasicTicker\"}},\"id\":\"21041\",\"type\":\"LinearAxis\"},{\"attributes\":{},\"id\":\"20978\",\"type\":\"HelpTool\"},{\"attributes\":{\"dimension\":1,\"plot\":{\"id\":\"21032\",\"subtype\":\"Figure\",\"type\":\"Plot\"},\"ticker\":{\"id\":\"21047\",\"type\":\"BasicTicker\"}},\"id\":\"21050\",\"type\":\"Grid\"},{\"attributes\":{\"active_drag\":\"auto\",\"active_inspect\":\"auto\",\"active_multi\":null,\"active_scroll\":\"auto\",\"active_tap\":\"auto\",\"tools\":[{\"id\":\"20973\",\"type\":\"PanTool\"},{\"id\":\"20974\",\"type\":\"WheelZoomTool\"},{\"id\":\"20975\",\"type\":\"BoxZoomTool\"},{\"id\":\"20976\",\"type\":\"SaveTool\"},{\"id\":\"20977\",\"type\":\"ResetTool\"},{\"id\":\"20978\",\"type\":\"HelpTool\"}]},\"id\":\"20979\",\"type\":\"Toolbar\"},{\"attributes\":{\"data_source\":{\"id\":\"20988\",\"type\":\"ColumnDataSource\"},\"glyph\":{\"id\":\"20989\",\"type\":\"Circle\"},\"hover_glyph\":null,\"muted_glyph\":null,\"nonselection_glyph\":{\"id\":\"20990\",\"type\":\"Circle\"},\"selection_glyph\":null,\"view\":{\"id\":\"20992\",\"type\":\"CDSView\"}},\"id\":\"20991\",\"type\":\"GlyphRenderer\"},{\"attributes\":{\"fill_alpha\":{\"value\":0.1},\"fill_color\":{\"value\":\"#1f77b4\"},\"line_alpha\":{\"value\":0.1},\"line_color\":{\"value\":\"#1f77b4\"},\"size\":{\"units\":\"screen\",\"value\":10},\"x\":{\"field\":\"x\"},\"y\":{\"field\":\"y\"}},\"id\":\"21068\",\"type\":\"Square\"},{\"attributes\":{\"plot\":null,\"text\":\"\"},\"id\":\"21082\",\"type\":\"Title\"},{\"attributes\":{\"bottom_units\":\"screen\",\"fill_alpha\":{\"value\":0.5},\"fill_color\":{\"value\":\"lightgrey\"},\"left_units\":\"screen\",\"level\":\"overlay\",\"line_alpha\":{\"value\":1.0},\"line_color\":{\"value\":\"black\"},\"line_dash\":[4,4],\"line_width\":{\"value\":2},\"plot\":null,\"render_mode\":\"css\",\"right_units\":\"screen\",\"top_units\":\"screen\"},\"id\":\"20981\",\"type\":\"BoxAnnotation\"},{\"attributes\":{\"fill_alpha\":{\"value\":0.5},\"fill_color\":{\"value\":\"olive\"},\"line_alpha\":{\"value\":0.5},\"line_color\":{\"value\":\"olive\"},\"size\":{\"units\":\"screen\",\"value\":10},\"x\":{\"field\":\"x\"},\"y\":{\"field\":\"y\"}},\"id\":\"21067\",\"type\":\"Square\"},{\"attributes\":{\"source\":{\"id\":\"20988\",\"type\":\"ColumnDataSource\"}},\"id\":\"20992\",\"type\":\"CDSView\"},{\"attributes\":{},\"id\":\"21051\",\"type\":\"PanTool\"},{\"attributes\":{\"callback\":null,\"data\":{\"x\":[0,1,2,3,4,5,6,7,8,9,10],\"y\":[10,9,8,7,6,5,4,3,2,1,0]},\"selected\":{\"id\":\"21088\",\"type\":\"Selection\"},\"selection_policy\":{\"id\":\"21087\",\"type\":\"UnionRenderers\"}},\"id\":\"21027\",\"type\":\"ColumnDataSource\"},{\"attributes\":{},\"id\":\"21052\",\"type\":\"WheelZoomTool\"},{\"attributes\":{\"plot\":{\"id\":\"21032\",\"subtype\":\"Figure\",\"type\":\"Plot\"},\"ticker\":{\"id\":\"21042\",\"type\":\"BasicTicker\"}},\"id\":\"21045\",\"type\":\"Grid\"},{\"attributes\":{\"overlay\":{\"id\":\"21059\",\"type\":\"BoxAnnotation\"}},\"id\":\"21053\",\"type\":\"BoxZoomTool\"},{\"attributes\":{\"callback\":null},\"id\":\"20994\",\"type\":\"DataRange1d\"},{\"attributes\":{},\"id\":\"21054\",\"type\":\"SaveTool\"},{\"attributes\":{\"callback\":null},\"id\":\"20996\",\"type\":\"DataRange1d\"},{\"attributes\":{},\"id\":\"21055\",\"type\":\"ResetTool\"},{\"attributes\":{},\"id\":\"20998\",\"type\":\"LinearScale\"},{\"attributes\":{},\"id\":\"21056\",\"type\":\"HelpTool\"},{\"attributes\":{},\"id\":\"21000\",\"type\":\"LinearScale\"},{\"attributes\":{\"active_drag\":\"auto\",\"active_inspect\":\"auto\",\"active_multi\":null,\"active_scroll\":\"auto\",\"active_tap\":\"auto\",\"tools\":[{\"id\":\"21051\",\"type\":\"PanTool\"},{\"id\":\"21052\",\"type\":\"WheelZoomTool\"},{\"id\":\"21053\",\"type\":\"BoxZoomTool\"},{\"id\":\"21054\",\"type\":\"SaveTool\"},{\"id\":\"21055\",\"type\":\"ResetTool\"},{\"id\":\"21056\",\"type\":\"HelpTool\"}]},\"id\":\"21057\",\"type\":\"Toolbar\"},{\"attributes\":{\"formatter\":{\"id\":\"21083\",\"type\":\"BasicTickFormatter\"},\"plot\":{\"id\":\"20993\",\"subtype\":\"Figure\",\"type\":\"Plot\"},\"ticker\":{\"id\":\"21003\",\"type\":\"BasicTicker\"}},\"id\":\"21002\",\"type\":\"LinearAxis\"},{\"attributes\":{\"formatter\":{\"id\":\"21096\",\"type\":\"BasicTickFormatter\"},\"plot\":{\"id\":\"21032\",\"subtype\":\"Figure\",\"type\":\"Plot\"},\"ticker\":{\"id\":\"21047\",\"type\":\"BasicTicker\"}},\"id\":\"21046\",\"type\":\"LinearAxis\"},{\"attributes\":{\"data_source\":{\"id\":\"21066\",\"type\":\"ColumnDataSource\"},\"glyph\":{\"id\":\"21067\",\"type\":\"Square\"},\"hover_glyph\":null,\"muted_glyph\":null,\"nonselection_glyph\":{\"id\":\"21068\",\"type\":\"Square\"},\"selection_glyph\":null,\"view\":{\"id\":\"21070\",\"type\":\"CDSView\"}},\"id\":\"21069\",\"type\":\"GlyphRenderer\"},{\"attributes\":{\"bottom_units\":\"screen\",\"fill_alpha\":{\"value\":0.5},\"fill_color\":{\"value\":\"lightgrey\"},\"left_units\":\"screen\",\"level\":\"overlay\",\"line_alpha\":{\"value\":1.0},\"line_color\":{\"value\":\"black\"},\"line_dash\":[4,4],\"line_width\":{\"value\":2},\"plot\":null,\"render_mode\":\"css\",\"right_units\":\"screen\",\"top_units\":\"screen\"},\"id\":\"21059\",\"type\":\"BoxAnnotation\"},{\"attributes\":{},\"id\":\"21003\",\"type\":\"BasicTicker\"},{\"attributes\":{\"plot\":{\"id\":\"20993\",\"subtype\":\"Figure\",\"type\":\"Plot\"},\"ticker\":{\"id\":\"21003\",\"type\":\"BasicTicker\"}},\"id\":\"21006\",\"type\":\"Grid\"},{\"attributes\":{\"source\":{\"id\":\"21066\",\"type\":\"ColumnDataSource\"}},\"id\":\"21070\",\"type\":\"CDSView\"},{\"attributes\":{\"children\":[{\"id\":\"20954\",\"subtype\":\"Figure\",\"type\":\"Plot\"},{\"id\":\"20993\",\"subtype\":\"Figure\",\"type\":\"Plot\"}]},\"id\":\"21091\",\"type\":\"Row\"},{\"attributes\":{\"plot\":null,\"text\":\"\"},\"id\":\"21072\",\"type\":\"Title\"},{\"attributes\":{},\"id\":\"21073\",\"type\":\"BasicTickFormatter\"},{\"attributes\":{},\"id\":\"21008\",\"type\":\"BasicTicker\"},{\"attributes\":{\"dimension\":1,\"plot\":{\"id\":\"20993\",\"subtype\":\"Figure\",\"type\":\"Plot\"},\"ticker\":{\"id\":\"21008\",\"type\":\"BasicTicker\"}},\"id\":\"21011\",\"type\":\"Grid\"},{\"attributes\":{},\"id\":\"21075\",\"type\":\"BasicTickFormatter\"},{\"attributes\":{\"fill_alpha\":{\"value\":0.1},\"fill_color\":{\"value\":\"#1f77b4\"},\"line_alpha\":{\"value\":0.1},\"line_color\":{\"value\":\"#1f77b4\"},\"size\":{\"units\":\"screen\",\"value\":10},\"x\":{\"field\":\"x\"},\"y\":{\"field\":\"y\"}},\"id\":\"21029\",\"type\":\"Triangle\"},{\"attributes\":{},\"id\":\"21077\",\"type\":\"UnionRenderers\"},{\"attributes\":{\"fill_alpha\":{\"value\":0.5},\"fill_color\":{\"value\":\"firebrick\"},\"line_alpha\":{\"value\":0.5},\"line_color\":{\"value\":\"firebrick\"},\"size\":{\"units\":\"screen\",\"value\":10},\"x\":{\"field\":\"x\"},\"y\":{\"field\":\"y\"}},\"id\":\"21028\",\"type\":\"Triangle\"},{\"attributes\":{},\"id\":\"21078\",\"type\":\"Selection\"},{\"attributes\":{\"below\":[{\"id\":\"21041\",\"type\":\"LinearAxis\"}],\"left\":[{\"id\":\"21046\",\"type\":\"LinearAxis\"}],\"plot_height\":250,\"plot_width\":250,\"renderers\":[{\"id\":\"21041\",\"type\":\"LinearAxis\"},{\"id\":\"21045\",\"type\":\"Grid\"},{\"id\":\"21046\",\"type\":\"LinearAxis\"},{\"id\":\"21050\",\"type\":\"Grid\"},{\"id\":\"21059\",\"type\":\"BoxAnnotation\"},{\"id\":\"21069\",\"type\":\"GlyphRenderer\"}],\"title\":{\"id\":\"21093\",\"type\":\"Title\"},\"toolbar\":{\"id\":\"21057\",\"type\":\"Toolbar\"},\"toolbar_location\":null,\"x_range\":{\"id\":\"21033\",\"type\":\"DataRange1d\"},\"x_scale\":{\"id\":\"21037\",\"type\":\"LinearScale\"},\"y_range\":{\"id\":\"21035\",\"type\":\"DataRange1d\"},\"y_scale\":{\"id\":\"21039\",\"type\":\"LinearScale\"}},\"id\":\"21032\",\"subtype\":\"Figure\",\"type\":\"Plot\"},{\"attributes\":{\"data_source\":{\"id\":\"21027\",\"type\":\"ColumnDataSource\"},\"glyph\":{\"id\":\"21028\",\"type\":\"Triangle\"},\"hover_glyph\":null,\"muted_glyph\":null,\"nonselection_glyph\":{\"id\":\"21029\",\"type\":\"Triangle\"},\"selection_glyph\":null,\"view\":{\"id\":\"21031\",\"type\":\"CDSView\"}},\"id\":\"21030\",\"type\":\"GlyphRenderer\"},{\"attributes\":{},\"id\":\"21012\",\"type\":\"PanTool\"},{\"attributes\":{},\"id\":\"21085\",\"type\":\"BasicTickFormatter\"},{\"attributes\":{},\"id\":\"21047\",\"type\":\"BasicTicker\"},{\"attributes\":{},\"id\":\"21013\",\"type\":\"WheelZoomTool\"},{\"attributes\":{},\"id\":\"21087\",\"type\":\"UnionRenderers\"},{\"attributes\":{\"callback\":null},\"id\":\"20957\",\"type\":\"DataRange1d\"},{\"attributes\":{},\"id\":\"20961\",\"type\":\"LinearScale\"},{\"attributes\":{},\"id\":\"21083\",\"type\":\"BasicTickFormatter\"},{\"attributes\":{\"below\":[{\"id\":\"20963\",\"type\":\"LinearAxis\"}],\"left\":[{\"id\":\"20968\",\"type\":\"LinearAxis\"}],\"plot_height\":250,\"plot_width\":250,\"renderers\":[{\"id\":\"20963\",\"type\":\"LinearAxis\"},{\"id\":\"20967\",\"type\":\"Grid\"},{\"id\":\"20968\",\"type\":\"LinearAxis\"},{\"id\":\"20972\",\"type\":\"Grid\"},{\"id\":\"20981\",\"type\":\"BoxAnnotation\"},{\"id\":\"20991\",\"type\":\"GlyphRenderer\"}],\"title\":{\"id\":\"21072\",\"type\":\"Title\"},\"toolbar\":{\"id\":\"20979\",\"type\":\"Toolbar\"},\"toolbar_location\":null,\"x_range\":{\"id\":\"20955\",\"type\":\"DataRange1d\"},\"x_scale\":{\"id\":\"20959\",\"type\":\"LinearScale\"},\"y_range\":{\"id\":\"20957\",\"type\":\"DataRange1d\"},\"y_scale\":{\"id\":\"20961\",\"type\":\"LinearScale\"}},\"id\":\"20954\",\"subtype\":\"Figure\",\"type\":\"Plot\"},{\"attributes\":{\"callback\":null},\"id\":\"20955\",\"type\":\"DataRange1d\"},{\"attributes\":{\"formatter\":{\"id\":\"21085\",\"type\":\"BasicTickFormatter\"},\"plot\":{\"id\":\"20993\",\"subtype\":\"Figure\",\"type\":\"Plot\"},\"ticker\":{\"id\":\"21008\",\"type\":\"BasicTicker\"}},\"id\":\"21007\",\"type\":\"LinearAxis\"},{\"attributes\":{\"callback\":null,\"data\":{\"x\":[0,1,2,3,4,5,6,7,8,9,10],\"y\":[0,1,2,3,4,5,6,7,8,9,10]},\"selected\":{\"id\":\"21078\",\"type\":\"Selection\"},\"selection_policy\":{\"id\":\"21077\",\"type\":\"UnionRenderers\"}},\"id\":\"20988\",\"type\":\"ColumnDataSource\"},{\"attributes\":{\"below\":[{\"id\":\"21002\",\"type\":\"LinearAxis\"}],\"left\":[{\"id\":\"21007\",\"type\":\"LinearAxis\"}],\"plot_height\":250,\"plot_width\":250,\"renderers\":[{\"id\":\"21002\",\"type\":\"LinearAxis\"},{\"id\":\"21006\",\"type\":\"Grid\"},{\"id\":\"21007\",\"type\":\"LinearAxis\"},{\"id\":\"21011\",\"type\":\"Grid\"},{\"id\":\"21020\",\"type\":\"BoxAnnotation\"},{\"id\":\"21030\",\"type\":\"GlyphRenderer\"}],\"title\":{\"id\":\"21082\",\"type\":\"Title\"},\"toolbar\":{\"id\":\"21018\",\"type\":\"Toolbar\"},\"toolbar_location\":null,\"x_range\":{\"id\":\"20994\",\"type\":\"DataRange1d\"},\"x_scale\":{\"id\":\"20998\",\"type\":\"LinearScale\"},\"y_range\":{\"id\":\"20996\",\"type\":\"DataRange1d\"},\"y_scale\":{\"id\":\"21000\",\"type\":\"LinearScale\"}},\"id\":\"20993\",\"subtype\":\"Figure\",\"type\":\"Plot\"},{\"attributes\":{},\"id\":\"20959\",\"type\":\"LinearScale\"}],\"root_ids\":[\"21104\"]},\"title\":\"Bokeh Application\",\"version\":\"1.0.4\"}};\n",
       "  var render_items = [{\"docid\":\"0a19cd28-b5c5-41d9-b433-c8e78213b4e2\",\"roots\":{\"21104\":\"5195f9da-6bc7-4537-9cb6-72e0bd06508f\"}}];\n",
       "  root.Bokeh.embed.embed_items_notebook(docs_json, render_items);\n",
       "\n",
       "  }\n",
       "  if (root.Bokeh !== undefined) {\n",
       "    embed_document(root);\n",
       "  } else {\n",
       "    var attempts = 0;\n",
       "    var timer = setInterval(function(root) {\n",
       "      if (root.Bokeh !== undefined) {\n",
       "        embed_document(root);\n",
       "        clearInterval(timer);\n",
       "      }\n",
       "      attempts++;\n",
       "      if (attempts > 100) {\n",
       "        console.log(\"Bokeh: ERROR: Unable to run BokehJS code because BokehJS library is missing\");\n",
       "        clearInterval(timer);\n",
       "      }\n",
       "    }, 10, root)\n",
       "  }\n",
       "})(window);"
      ],
      "application/vnd.bokehjs_exec.v0+json": ""
     },
     "metadata": {
      "application/vnd.bokehjs_exec.v0+json": {
       "id": "21104"
      }
     },
     "output_type": "display_data"
    }
   ],
   "source": [
    "from bokeh.layouts import gridplot\n",
    "\n",
    "# create a new plot\n",
    "s1 = figure(width=250, plot_height=250)\n",
    "s1.circle(x, y0, size=10, color=\"navy\", alpha=0.5)\n",
    "\n",
    "# create another one\n",
    "s2 = figure(width=250, height=250)\n",
    "s2.triangle(x, y1, size=10, color=\"firebrick\", alpha=0.5)\n",
    "\n",
    "# create and another\n",
    "s3 = figure(width=250, height=250)\n",
    "s3.square(x, y2, size=10, color=\"olive\", alpha=0.5)\n",
    "\n",
    "# put all the plots in a gridplot\n",
    "p = gridplot([[s1, s2], [s3, None]], toolbar_location=None)\n",
    "\n",
    "# show the results\n",
    "show(p)"
   ]
  },
  {
   "cell_type": "markdown",
   "metadata": {},
   "source": [
    "## 8. Linked plots"
   ]
  },
  {
   "cell_type": "code",
   "execution_count": 96,
   "metadata": {},
   "outputs": [
    {
     "data": {
      "text/html": [
       "\n",
       "\n",
       "\n",
       "\n",
       "\n",
       "\n",
       "  <div class=\"bk-root\" id=\"1e8ccf22-4921-4db9-845a-db504a4b4fb1\" data-root-id=\"22754\"></div>\n"
      ]
     },
     "metadata": {},
     "output_type": "display_data"
    },
    {
     "data": {
      "application/javascript": [
       "(function(root) {\n",
       "  function embed_document(root) {\n",
       "    \n",
       "  var docs_json = {\"b3c929c7-8574-4667-a740-572db7445182\":{\"roots\":{\"references\":[{\"attributes\":{\"children\":[{\"id\":\"22753\",\"type\":\"ToolbarBox\"},{\"id\":\"22751\",\"type\":\"Column\"}]},\"id\":\"22754\",\"type\":\"Column\"},{\"attributes\":{\"formatter\":{\"id\":\"22734\",\"type\":\"BasicTickFormatter\"},\"plot\":{\"id\":\"22668\",\"subtype\":\"Figure\",\"type\":\"Plot\"},\"ticker\":{\"id\":\"22676\",\"type\":\"BasicTicker\"}},\"id\":\"22675\",\"type\":\"LinearAxis\"},{\"attributes\":{},\"id\":\"22739\",\"type\":\"Selection\"},{\"attributes\":{\"callback\":null},\"id\":\"22642\",\"type\":\"DataRange1d\"},{\"attributes\":{},\"id\":\"22704\",\"type\":\"BasicTicker\"},{\"attributes\":{\"callback\":null,\"data\":{\"x\":[0,1,2,3,4,5,6,7,8,9],\"y\":[0,1,2,3,4,5,6,7,8,9]},\"selected\":{\"id\":\"22730\",\"type\":\"Selection\"},\"selection_policy\":{\"id\":\"22729\",\"type\":\"UnionRenderers\"}},\"id\":\"22663\",\"type\":\"ColumnDataSource\"},{\"attributes\":{\"plot\":null,\"text\":\"\"},\"id\":\"22742\",\"type\":\"Title\"},{\"attributes\":{},\"id\":\"22676\",\"type\":\"BasicTicker\"},{\"attributes\":{\"plot\":{\"id\":\"22695\",\"subtype\":\"Figure\",\"type\":\"Plot\"},\"ticker\":{\"id\":\"22704\",\"type\":\"BasicTicker\"}},\"id\":\"22707\",\"type\":\"Grid\"},{\"attributes\":{\"plot\":{\"id\":\"22668\",\"subtype\":\"Figure\",\"type\":\"Plot\"},\"ticker\":{\"id\":\"22676\",\"type\":\"BasicTicker\"}},\"id\":\"22679\",\"type\":\"Grid\"},{\"attributes\":{},\"id\":\"22743\",\"type\":\"BasicTickFormatter\"},{\"attributes\":{\"children\":[{\"id\":\"22750\",\"type\":\"Row\"}]},\"id\":\"22751\",\"type\":\"Column\"},{\"attributes\":{\"formatter\":{\"id\":\"22745\",\"type\":\"BasicTickFormatter\"},\"plot\":{\"id\":\"22695\",\"subtype\":\"Figure\",\"type\":\"Plot\"},\"ticker\":{\"id\":\"22709\",\"type\":\"BasicTicker\"}},\"id\":\"22708\",\"type\":\"LinearAxis\"},{\"attributes\":{\"formatter\":{\"id\":\"22736\",\"type\":\"BasicTickFormatter\"},\"plot\":{\"id\":\"22668\",\"subtype\":\"Figure\",\"type\":\"Plot\"},\"ticker\":{\"id\":\"22681\",\"type\":\"BasicTicker\"}},\"id\":\"22680\",\"type\":\"LinearAxis\"},{\"attributes\":{\"formatter\":{\"id\":\"22725\",\"type\":\"BasicTickFormatter\"},\"plot\":{\"id\":\"22639\",\"subtype\":\"Figure\",\"type\":\"Plot\"},\"ticker\":{\"id\":\"22649\",\"type\":\"BasicTicker\"}},\"id\":\"22648\",\"type\":\"LinearAxis\"},{\"attributes\":{},\"id\":\"22709\",\"type\":\"BasicTicker\"},{\"attributes\":{\"children\":[{\"id\":\"22639\",\"subtype\":\"Figure\",\"type\":\"Plot\"},{\"id\":\"22668\",\"subtype\":\"Figure\",\"type\":\"Plot\"},{\"id\":\"22695\",\"subtype\":\"Figure\",\"type\":\"Plot\"}]},\"id\":\"22750\",\"type\":\"Row\"},{\"attributes\":{},\"id\":\"22747\",\"type\":\"UnionRenderers\"},{\"attributes\":{\"dimension\":1,\"plot\":{\"id\":\"22695\",\"subtype\":\"Figure\",\"type\":\"Plot\"},\"ticker\":{\"id\":\"22709\",\"type\":\"BasicTicker\"}},\"id\":\"22712\",\"type\":\"Grid\"},{\"attributes\":{\"dimension\":1,\"plot\":{\"id\":\"22668\",\"subtype\":\"Figure\",\"type\":\"Plot\"},\"ticker\":{\"id\":\"22681\",\"type\":\"BasicTicker\"}},\"id\":\"22684\",\"type\":\"Grid\"},{\"attributes\":{\"formatter\":{\"id\":\"22727\",\"type\":\"BasicTickFormatter\"},\"plot\":{\"id\":\"22639\",\"subtype\":\"Figure\",\"type\":\"Plot\"},\"ticker\":{\"id\":\"22654\",\"type\":\"BasicTicker\"}},\"id\":\"22653\",\"type\":\"LinearAxis\"},{\"attributes\":{},\"id\":\"22745\",\"type\":\"BasicTickFormatter\"},{\"attributes\":{},\"id\":\"22714\",\"type\":\"WheelZoomTool\"},{\"attributes\":{\"fill_alpha\":{\"value\":0.1},\"fill_color\":{\"value\":\"#1f77b4\"},\"line_alpha\":{\"value\":0.1},\"line_color\":{\"value\":\"#1f77b4\"},\"size\":{\"units\":\"screen\",\"value\":10},\"x\":{\"field\":\"x\"},\"y\":{\"field\":\"y\"}},\"id\":\"22720\",\"type\":\"Square\"},{\"attributes\":{\"plot\":{\"id\":\"22639\",\"subtype\":\"Figure\",\"type\":\"Plot\"},\"ticker\":{\"id\":\"22649\",\"type\":\"BasicTicker\"}},\"id\":\"22652\",\"type\":\"Grid\"},{\"attributes\":{},\"id\":\"22701\",\"type\":\"LinearScale\"},{\"attributes\":{\"active_drag\":\"auto\",\"active_inspect\":\"auto\",\"active_multi\":null,\"active_scroll\":\"auto\",\"active_tap\":\"auto\",\"tools\":[{\"id\":\"22685\",\"type\":\"PanTool\"},{\"id\":\"22686\",\"type\":\"WheelZoomTool\"}]},\"id\":\"22687\",\"type\":\"Toolbar\"},{\"attributes\":{\"data_source\":{\"id\":\"22718\",\"type\":\"ColumnDataSource\"},\"glyph\":{\"id\":\"22719\",\"type\":\"Square\"},\"hover_glyph\":null,\"muted_glyph\":null,\"nonselection_glyph\":{\"id\":\"22720\",\"type\":\"Square\"},\"selection_glyph\":null,\"view\":{\"id\":\"22722\",\"type\":\"CDSView\"}},\"id\":\"22721\",\"type\":\"GlyphRenderer\"},{\"attributes\":{},\"id\":\"22654\",\"type\":\"BasicTicker\"},{\"attributes\":{},\"id\":\"22685\",\"type\":\"PanTool\"},{\"attributes\":{},\"id\":\"22649\",\"type\":\"BasicTicker\"},{\"attributes\":{},\"id\":\"22748\",\"type\":\"Selection\"},{\"attributes\":{\"source\":{\"id\":\"22718\",\"type\":\"ColumnDataSource\"}},\"id\":\"22722\",\"type\":\"CDSView\"},{\"attributes\":{},\"id\":\"22686\",\"type\":\"WheelZoomTool\"},{\"attributes\":{\"active_drag\":\"auto\",\"active_inspect\":\"auto\",\"active_multi\":null,\"active_scroll\":\"auto\",\"active_tap\":\"auto\",\"tools\":[{\"id\":\"22658\",\"type\":\"PanTool\"},{\"id\":\"22659\",\"type\":\"WheelZoomTool\"}]},\"id\":\"22660\",\"type\":\"Toolbar\"},{\"attributes\":{\"plot\":null,\"text\":\"\"},\"id\":\"22724\",\"type\":\"Title\"},{\"attributes\":{\"tools\":[{\"id\":\"22658\",\"type\":\"PanTool\"},{\"id\":\"22659\",\"type\":\"WheelZoomTool\"},{\"id\":\"22685\",\"type\":\"PanTool\"},{\"id\":\"22686\",\"type\":\"WheelZoomTool\"},{\"id\":\"22713\",\"type\":\"PanTool\"},{\"id\":\"22714\",\"type\":\"WheelZoomTool\"}]},\"id\":\"22752\",\"type\":\"ProxyToolbar\"},{\"attributes\":{\"below\":[{\"id\":\"22703\",\"type\":\"LinearAxis\"}],\"left\":[{\"id\":\"22708\",\"type\":\"LinearAxis\"}],\"plot_height\":250,\"plot_width\":250,\"renderers\":[{\"id\":\"22703\",\"type\":\"LinearAxis\"},{\"id\":\"22707\",\"type\":\"Grid\"},{\"id\":\"22708\",\"type\":\"LinearAxis\"},{\"id\":\"22712\",\"type\":\"Grid\"},{\"id\":\"22721\",\"type\":\"GlyphRenderer\"}],\"title\":{\"id\":\"22742\",\"type\":\"Title\"},\"toolbar\":{\"id\":\"22715\",\"type\":\"Toolbar\"},\"toolbar_location\":null,\"x_range\":{\"id\":\"22640\",\"type\":\"DataRange1d\"},\"x_scale\":{\"id\":\"22699\",\"type\":\"LinearScale\"},\"y_range\":{\"id\":\"22697\",\"type\":\"DataRange1d\"},\"y_scale\":{\"id\":\"22701\",\"type\":\"LinearScale\"}},\"id\":\"22695\",\"subtype\":\"Figure\",\"type\":\"Plot\"},{\"attributes\":{},\"id\":\"22673\",\"type\":\"LinearScale\"},{\"attributes\":{\"toolbar\":{\"id\":\"22752\",\"type\":\"ProxyToolbar\"},\"toolbar_location\":\"above\"},\"id\":\"22753\",\"type\":\"ToolbarBox\"},{\"attributes\":{\"dimension\":1,\"plot\":{\"id\":\"22639\",\"subtype\":\"Figure\",\"type\":\"Plot\"},\"ticker\":{\"id\":\"22654\",\"type\":\"BasicTicker\"}},\"id\":\"22657\",\"type\":\"Grid\"},{\"attributes\":{},\"id\":\"22725\",\"type\":\"BasicTickFormatter\"},{\"attributes\":{\"data_source\":{\"id\":\"22663\",\"type\":\"ColumnDataSource\"},\"glyph\":{\"id\":\"22664\",\"type\":\"Circle\"},\"hover_glyph\":null,\"muted_glyph\":null,\"nonselection_glyph\":{\"id\":\"22665\",\"type\":\"Circle\"},\"selection_glyph\":null,\"view\":{\"id\":\"22667\",\"type\":\"CDSView\"}},\"id\":\"22666\",\"type\":\"GlyphRenderer\"},{\"attributes\":{\"fill_color\":{\"value\":\"firebrick\"},\"line_color\":{\"value\":\"firebrick\"},\"size\":{\"units\":\"screen\",\"value\":10},\"x\":{\"field\":\"x\"},\"y\":{\"field\":\"y\"}},\"id\":\"22691\",\"type\":\"Triangle\"},{\"attributes\":{},\"id\":\"22713\",\"type\":\"PanTool\"},{\"attributes\":{},\"id\":\"22658\",\"type\":\"PanTool\"},{\"attributes\":{\"formatter\":{\"id\":\"22743\",\"type\":\"BasicTickFormatter\"},\"plot\":{\"id\":\"22695\",\"subtype\":\"Figure\",\"type\":\"Plot\"},\"ticker\":{\"id\":\"22704\",\"type\":\"BasicTicker\"}},\"id\":\"22703\",\"type\":\"LinearAxis\"},{\"attributes\":{\"active_drag\":\"auto\",\"active_inspect\":\"auto\",\"active_multi\":null,\"active_scroll\":\"auto\",\"active_tap\":\"auto\",\"tools\":[{\"id\":\"22713\",\"type\":\"PanTool\"},{\"id\":\"22714\",\"type\":\"WheelZoomTool\"}]},\"id\":\"22715\",\"type\":\"Toolbar\"},{\"attributes\":{},\"id\":\"22727\",\"type\":\"BasicTickFormatter\"},{\"attributes\":{\"fill_alpha\":{\"value\":0.1},\"fill_color\":{\"value\":\"#1f77b4\"},\"line_alpha\":{\"value\":0.1},\"line_color\":{\"value\":\"#1f77b4\"},\"size\":{\"units\":\"screen\",\"value\":10},\"x\":{\"field\":\"x\"},\"y\":{\"field\":\"y\"}},\"id\":\"22692\",\"type\":\"Triangle\"},{\"attributes\":{\"data_source\":{\"id\":\"22690\",\"type\":\"ColumnDataSource\"},\"glyph\":{\"id\":\"22691\",\"type\":\"Triangle\"},\"hover_glyph\":null,\"muted_glyph\":null,\"nonselection_glyph\":{\"id\":\"22692\",\"type\":\"Triangle\"},\"selection_glyph\":null,\"view\":{\"id\":\"22694\",\"type\":\"CDSView\"}},\"id\":\"22693\",\"type\":\"GlyphRenderer\"},{\"attributes\":{\"fill_color\":{\"value\":\"navy\"},\"line_color\":{\"value\":\"navy\"},\"size\":{\"units\":\"screen\",\"value\":10},\"x\":{\"field\":\"x\"},\"y\":{\"field\":\"y\"}},\"id\":\"22664\",\"type\":\"Circle\"},{\"attributes\":{},\"id\":\"22729\",\"type\":\"UnionRenderers\"},{\"attributes\":{\"below\":[{\"id\":\"22675\",\"type\":\"LinearAxis\"}],\"left\":[{\"id\":\"22680\",\"type\":\"LinearAxis\"}],\"plot_height\":250,\"plot_width\":250,\"renderers\":[{\"id\":\"22675\",\"type\":\"LinearAxis\"},{\"id\":\"22679\",\"type\":\"Grid\"},{\"id\":\"22680\",\"type\":\"LinearAxis\"},{\"id\":\"22684\",\"type\":\"Grid\"},{\"id\":\"22693\",\"type\":\"GlyphRenderer\"}],\"title\":{\"id\":\"22733\",\"type\":\"Title\"},\"toolbar\":{\"id\":\"22687\",\"type\":\"Toolbar\"},\"toolbar_location\":null,\"x_range\":{\"id\":\"22640\",\"type\":\"DataRange1d\"},\"x_scale\":{\"id\":\"22671\",\"type\":\"LinearScale\"},\"y_range\":{\"id\":\"22642\",\"type\":\"DataRange1d\"},\"y_scale\":{\"id\":\"22673\",\"type\":\"LinearScale\"}},\"id\":\"22668\",\"subtype\":\"Figure\",\"type\":\"Plot\"},{\"attributes\":{},\"id\":\"22681\",\"type\":\"BasicTicker\"},{\"attributes\":{\"source\":{\"id\":\"22690\",\"type\":\"ColumnDataSource\"}},\"id\":\"22694\",\"type\":\"CDSView\"},{\"attributes\":{},\"id\":\"22730\",\"type\":\"Selection\"},{\"attributes\":{\"plot\":null,\"text\":\"\"},\"id\":\"22733\",\"type\":\"Title\"},{\"attributes\":{\"callback\":null,\"data\":{\"x\":[0,1,2,3,4,5,6,7,8,9],\"y\":[10,9,8,7,6,5,4,3,2,1]},\"selected\":{\"id\":\"22739\",\"type\":\"Selection\"},\"selection_policy\":{\"id\":\"22738\",\"type\":\"UnionRenderers\"}},\"id\":\"22690\",\"type\":\"ColumnDataSource\"},{\"attributes\":{\"fill_color\":{\"value\":\"olive\"},\"line_color\":{\"value\":\"olive\"},\"size\":{\"units\":\"screen\",\"value\":10},\"x\":{\"field\":\"x\"},\"y\":{\"field\":\"y\"}},\"id\":\"22719\",\"type\":\"Square\"},{\"attributes\":{\"source\":{\"id\":\"22663\",\"type\":\"ColumnDataSource\"}},\"id\":\"22667\",\"type\":\"CDSView\"},{\"attributes\":{\"callback\":null},\"id\":\"22697\",\"type\":\"DataRange1d\"},{\"attributes\":{},\"id\":\"22659\",\"type\":\"WheelZoomTool\"},{\"attributes\":{},\"id\":\"22734\",\"type\":\"BasicTickFormatter\"},{\"attributes\":{\"fill_alpha\":{\"value\":0.1},\"fill_color\":{\"value\":\"#1f77b4\"},\"line_alpha\":{\"value\":0.1},\"line_color\":{\"value\":\"#1f77b4\"},\"size\":{\"units\":\"screen\",\"value\":10},\"x\":{\"field\":\"x\"},\"y\":{\"field\":\"y\"}},\"id\":\"22665\",\"type\":\"Circle\"},{\"attributes\":{\"callback\":null,\"data\":{\"x\":[0,1,2,3,4,5,6,7,8,9],\"y\":[5,4,3,2,1,0,1,2,3,4]},\"selected\":{\"id\":\"22748\",\"type\":\"Selection\"},\"selection_policy\":{\"id\":\"22747\",\"type\":\"UnionRenderers\"}},\"id\":\"22718\",\"type\":\"ColumnDataSource\"},{\"attributes\":{\"callback\":null},\"id\":\"22640\",\"type\":\"DataRange1d\"},{\"attributes\":{},\"id\":\"22699\",\"type\":\"LinearScale\"},{\"attributes\":{},\"id\":\"22736\",\"type\":\"BasicTickFormatter\"},{\"attributes\":{\"below\":[{\"id\":\"22648\",\"type\":\"LinearAxis\"}],\"left\":[{\"id\":\"22653\",\"type\":\"LinearAxis\"}],\"plot_height\":250,\"plot_width\":250,\"renderers\":[{\"id\":\"22648\",\"type\":\"LinearAxis\"},{\"id\":\"22652\",\"type\":\"Grid\"},{\"id\":\"22653\",\"type\":\"LinearAxis\"},{\"id\":\"22657\",\"type\":\"Grid\"},{\"id\":\"22666\",\"type\":\"GlyphRenderer\"}],\"title\":{\"id\":\"22724\",\"type\":\"Title\"},\"toolbar\":{\"id\":\"22660\",\"type\":\"Toolbar\"},\"toolbar_location\":null,\"x_range\":{\"id\":\"22640\",\"type\":\"DataRange1d\"},\"x_scale\":{\"id\":\"22644\",\"type\":\"LinearScale\"},\"y_range\":{\"id\":\"22642\",\"type\":\"DataRange1d\"},\"y_scale\":{\"id\":\"22646\",\"type\":\"LinearScale\"}},\"id\":\"22639\",\"subtype\":\"Figure\",\"type\":\"Plot\"},{\"attributes\":{},\"id\":\"22646\",\"type\":\"LinearScale\"},{\"attributes\":{},\"id\":\"22738\",\"type\":\"UnionRenderers\"},{\"attributes\":{},\"id\":\"22671\",\"type\":\"LinearScale\"},{\"attributes\":{},\"id\":\"22644\",\"type\":\"LinearScale\"}],\"root_ids\":[\"22754\"]},\"title\":\"Bokeh Application\",\"version\":\"1.0.4\"}};\n",
       "  var render_items = [{\"docid\":\"b3c929c7-8574-4667-a740-572db7445182\",\"roots\":{\"22754\":\"1e8ccf22-4921-4db9-845a-db504a4b4fb1\"}}];\n",
       "  root.Bokeh.embed.embed_items_notebook(docs_json, render_items);\n",
       "\n",
       "  }\n",
       "  if (root.Bokeh !== undefined) {\n",
       "    embed_document(root);\n",
       "  } else {\n",
       "    var attempts = 0;\n",
       "    var timer = setInterval(function(root) {\n",
       "      if (root.Bokeh !== undefined) {\n",
       "        embed_document(root);\n",
       "        clearInterval(timer);\n",
       "      }\n",
       "      attempts++;\n",
       "      if (attempts > 100) {\n",
       "        console.log(\"Bokeh: ERROR: Unable to run BokehJS code because BokehJS library is missing\");\n",
       "        clearInterval(timer);\n",
       "      }\n",
       "    }, 10, root)\n",
       "  }\n",
       "})(window);"
      ],
      "application/vnd.bokehjs_exec.v0+json": ""
     },
     "metadata": {
      "application/vnd.bokehjs_exec.v0+json": {
       "id": "22754"
      }
     },
     "output_type": "display_data"
    }
   ],
   "source": [
    "from bokeh.layouts import gridplot\n",
    "\n",
    "x = list(range(10))\n",
    "y0, y1, y2 = x, [10-i for i in x], [abs(i-5) for i in x]\n",
    "\n",
    "plot_options = dict(width=250, plot_height=250, tools='pan,wheel_zoom')\n",
    "\n",
    "# create a new plot\n",
    "s1 = figure(**plot_options)\n",
    "s1.circle(x, y0, size=10, color=\"navy\")\n",
    "\n",
    "# create a new plot and share both ranges\n",
    "s2 = figure(x_range=s1.x_range, y_range=s1.y_range, **plot_options)\n",
    "s2.triangle(x, y1, size=10, color=\"firebrick\")\n",
    "\n",
    "# create a new plot and share only one range\n",
    "s3 = figure(x_range=s1.x_range, **plot_options)\n",
    "s3.square(x, y2, size=10, color=\"olive\")\n",
    "\n",
    "p = gridplot([[s1, s2, s3]])\n",
    "\n",
    "# show the results\n",
    "show(p)"
   ]
  },
  {
   "cell_type": "code",
   "execution_count": 97,
   "metadata": {},
   "outputs": [
    {
     "data": {
      "text/html": [
       "\n",
       "\n",
       "\n",
       "\n",
       "\n",
       "\n",
       "  <div class=\"bk-root\" id=\"2d8c0a6a-fd49-4ba6-8a15-280d3a9ae1cb\" data-root-id=\"23588\"></div>\n"
      ]
     },
     "metadata": {},
     "output_type": "display_data"
    },
    {
     "data": {
      "application/javascript": [
       "(function(root) {\n",
       "  function embed_document(root) {\n",
       "    \n",
       "  var docs_json = {\"f5d0e0d4-5e2e-4df1-a39b-640a073cb95a\":{\"roots\":{\"references\":[{\"attributes\":{\"children\":[{\"id\":\"23587\",\"type\":\"ToolbarBox\"},{\"id\":\"23585\",\"type\":\"Column\"}]},\"id\":\"23588\",\"type\":\"Column\"},{\"attributes\":{\"formatter\":{\"id\":\"23566\",\"type\":\"BasicTickFormatter\"},\"plot\":{\"id\":\"23492\",\"subtype\":\"Figure\",\"type\":\"Plot\"},\"ticker\":{\"id\":\"23507\",\"type\":\"BasicTicker\"}},\"id\":\"23506\",\"type\":\"LinearAxis\"},{\"attributes\":{},\"id\":\"23534\",\"type\":\"LinearScale\"},{\"attributes\":{\"bottom_units\":\"screen\",\"fill_alpha\":{\"value\":0.5},\"fill_color\":{\"value\":\"lightgrey\"},\"left_units\":\"screen\",\"level\":\"overlay\",\"line_alpha\":{\"value\":1.0},\"line_color\":{\"value\":\"black\"},\"line_dash\":[4,4],\"line_width\":{\"value\":2},\"plot\":null,\"render_mode\":\"css\",\"right_units\":\"screen\",\"top_units\":\"screen\"},\"id\":\"23514\",\"type\":\"BoxAnnotation\"},{\"attributes\":{\"plot\":null,\"text\":\"\"},\"id\":\"23563\",\"type\":\"Title\"},{\"attributes\":{\"formatter\":{\"id\":\"23575\",\"type\":\"BasicTickFormatter\"},\"plot\":{\"id\":\"23527\",\"subtype\":\"Figure\",\"type\":\"Plot\"},\"ticker\":{\"id\":\"23537\",\"type\":\"BasicTicker\"}},\"id\":\"23536\",\"type\":\"LinearAxis\"},{\"attributes\":{\"dimension\":1,\"plot\":{\"id\":\"23492\",\"subtype\":\"Figure\",\"type\":\"Plot\"},\"ticker\":{\"id\":\"23507\",\"type\":\"BasicTicker\"}},\"id\":\"23510\",\"type\":\"Grid\"},{\"attributes\":{},\"id\":\"23564\",\"type\":\"BasicTickFormatter\"},{\"attributes\":{\"callback\":null,\"overlay\":{\"id\":\"23517\",\"type\":\"PolyAnnotation\"}},\"id\":\"23512\",\"type\":\"LassoSelectTool\"},{\"attributes\":{},\"id\":\"23537\",\"type\":\"BasicTicker\"},{\"attributes\":{\"toolbar\":{\"id\":\"23586\",\"type\":\"ProxyToolbar\"},\"toolbar_location\":\"above\"},\"id\":\"23587\",\"type\":\"ToolbarBox\"},{\"attributes\":{},\"id\":\"23513\",\"type\":\"HelpTool\"},{\"attributes\":{\"plot\":{\"id\":\"23527\",\"subtype\":\"Figure\",\"type\":\"Plot\"},\"ticker\":{\"id\":\"23537\",\"type\":\"BasicTicker\"}},\"id\":\"23540\",\"type\":\"Grid\"},{\"attributes\":{},\"id\":\"23568\",\"type\":\"UnionRenderers\"},{\"attributes\":{\"formatter\":{\"id\":\"23577\",\"type\":\"BasicTickFormatter\"},\"plot\":{\"id\":\"23527\",\"subtype\":\"Figure\",\"type\":\"Plot\"},\"ticker\":{\"id\":\"23542\",\"type\":\"BasicTicker\"}},\"id\":\"23541\",\"type\":\"LinearAxis\"},{\"attributes\":{\"active_drag\":\"auto\",\"active_inspect\":\"auto\",\"active_multi\":null,\"active_scroll\":\"auto\",\"active_tap\":\"auto\",\"tools\":[{\"id\":\"23511\",\"type\":\"BoxSelectTool\"},{\"id\":\"23512\",\"type\":\"LassoSelectTool\"},{\"id\":\"23513\",\"type\":\"HelpTool\"}]},\"id\":\"23516\",\"type\":\"Toolbar\"},{\"attributes\":{},\"id\":\"23542\",\"type\":\"BasicTicker\"},{\"attributes\":{\"fill_color\":{\"value\":\"#1f77b4\"},\"line_color\":{\"value\":\"#1f77b4\"},\"x\":{\"field\":\"x\"},\"y\":{\"field\":\"y0\"}},\"id\":\"23523\",\"type\":\"Circle\"},{\"attributes\":{\"callback\":null,\"overlay\":{\"id\":\"23514\",\"type\":\"BoxAnnotation\"}},\"id\":\"23511\",\"type\":\"BoxSelectTool\"},{\"attributes\":{\"dimension\":1,\"plot\":{\"id\":\"23527\",\"subtype\":\"Figure\",\"type\":\"Plot\"},\"ticker\":{\"id\":\"23542\",\"type\":\"BasicTicker\"}},\"id\":\"23545\",\"type\":\"Grid\"},{\"attributes\":{\"source\":{\"id\":\"23491\",\"type\":\"ColumnDataSource\"}},\"id\":\"23526\",\"type\":\"CDSView\"},{\"attributes\":{\"fill_alpha\":{\"value\":0.5},\"fill_color\":{\"value\":\"lightgrey\"},\"level\":\"overlay\",\"line_alpha\":{\"value\":1.0},\"line_color\":{\"value\":\"black\"},\"line_dash\":[4,4],\"line_width\":{\"value\":2},\"plot\":null,\"xs_units\":\"screen\",\"ys_units\":\"screen\"},\"id\":\"23517\",\"type\":\"PolyAnnotation\"},{\"attributes\":{\"children\":[{\"id\":\"23584\",\"type\":\"Row\"}]},\"id\":\"23585\",\"type\":\"Column\"},{\"attributes\":{\"fill_alpha\":{\"value\":0.1},\"fill_color\":{\"value\":\"#1f77b4\"},\"line_alpha\":{\"value\":0.1},\"line_color\":{\"value\":\"#1f77b4\"},\"x\":{\"field\":\"x\"},\"y\":{\"field\":\"y0\"}},\"id\":\"23524\",\"type\":\"Circle\"},{\"attributes\":{\"callback\":null,\"overlay\":{\"id\":\"23549\",\"type\":\"BoxAnnotation\"}},\"id\":\"23546\",\"type\":\"BoxSelectTool\"},{\"attributes\":{\"children\":[{\"id\":\"23492\",\"subtype\":\"Figure\",\"type\":\"Plot\"},{\"id\":\"23527\",\"subtype\":\"Figure\",\"type\":\"Plot\"}]},\"id\":\"23584\",\"type\":\"Row\"},{\"attributes\":{\"tools\":[{\"id\":\"23511\",\"type\":\"BoxSelectTool\"},{\"id\":\"23512\",\"type\":\"LassoSelectTool\"},{\"id\":\"23513\",\"type\":\"HelpTool\"},{\"id\":\"23546\",\"type\":\"BoxSelectTool\"},{\"id\":\"23547\",\"type\":\"LassoSelectTool\"},{\"id\":\"23548\",\"type\":\"HelpTool\"}]},\"id\":\"23586\",\"type\":\"ProxyToolbar\"},{\"attributes\":{\"callback\":null,\"overlay\":{\"id\":\"23552\",\"type\":\"PolyAnnotation\"}},\"id\":\"23547\",\"type\":\"LassoSelectTool\"},{\"attributes\":{\"formatter\":{\"id\":\"23564\",\"type\":\"BasicTickFormatter\"},\"plot\":{\"id\":\"23492\",\"subtype\":\"Figure\",\"type\":\"Plot\"},\"ticker\":{\"id\":\"23502\",\"type\":\"BasicTicker\"}},\"id\":\"23501\",\"type\":\"LinearAxis\"},{\"attributes\":{},\"id\":\"23548\",\"type\":\"HelpTool\"},{\"attributes\":{},\"id\":\"23566\",\"type\":\"BasicTickFormatter\"},{\"attributes\":{\"bottom_units\":\"screen\",\"fill_alpha\":{\"value\":0.5},\"fill_color\":{\"value\":\"lightgrey\"},\"left_units\":\"screen\",\"level\":\"overlay\",\"line_alpha\":{\"value\":1.0},\"line_color\":{\"value\":\"black\"},\"line_dash\":[4,4],\"line_width\":{\"value\":2},\"plot\":null,\"render_mode\":\"css\",\"right_units\":\"screen\",\"top_units\":\"screen\"},\"id\":\"23549\",\"type\":\"BoxAnnotation\"},{\"attributes\":{},\"id\":\"23499\",\"type\":\"LinearScale\"},{\"attributes\":{\"callback\":null},\"id\":\"23528\",\"type\":\"DataRange1d\"},{\"attributes\":{},\"id\":\"23497\",\"type\":\"LinearScale\"},{\"attributes\":{\"data_source\":{\"id\":\"23491\",\"type\":\"ColumnDataSource\"},\"glyph\":{\"id\":\"23523\",\"type\":\"Circle\"},\"hover_glyph\":null,\"muted_glyph\":null,\"nonselection_glyph\":{\"id\":\"23524\",\"type\":\"Circle\"},\"selection_glyph\":null,\"view\":{\"id\":\"23526\",\"type\":\"CDSView\"}},\"id\":\"23525\",\"type\":\"GlyphRenderer\"},{\"attributes\":{\"callback\":null},\"id\":\"23495\",\"type\":\"DataRange1d\"},{\"attributes\":{},\"id\":\"23577\",\"type\":\"BasicTickFormatter\"},{\"attributes\":{\"active_drag\":\"auto\",\"active_inspect\":\"auto\",\"active_multi\":null,\"active_scroll\":\"auto\",\"active_tap\":\"auto\",\"tools\":[{\"id\":\"23546\",\"type\":\"BoxSelectTool\"},{\"id\":\"23547\",\"type\":\"LassoSelectTool\"},{\"id\":\"23548\",\"type\":\"HelpTool\"}]},\"id\":\"23551\",\"type\":\"Toolbar\"},{\"attributes\":{\"fill_color\":{\"value\":\"#1f77b4\"},\"line_color\":{\"value\":\"#1f77b4\"},\"x\":{\"field\":\"x\"},\"y\":{\"field\":\"y1\"}},\"id\":\"23558\",\"type\":\"Circle\"},{\"attributes\":{},\"id\":\"23569\",\"type\":\"Selection\"},{\"attributes\":{\"fill_alpha\":{\"value\":0.5},\"fill_color\":{\"value\":\"lightgrey\"},\"level\":\"overlay\",\"line_alpha\":{\"value\":1.0},\"line_color\":{\"value\":\"black\"},\"line_dash\":[4,4],\"line_width\":{\"value\":2},\"plot\":null,\"xs_units\":\"screen\",\"ys_units\":\"screen\"},\"id\":\"23552\",\"type\":\"PolyAnnotation\"},{\"attributes\":{\"callback\":null},\"id\":\"23530\",\"type\":\"DataRange1d\"},{\"attributes\":{\"callback\":null,\"data\":{\"x\":[-20,-19,-18,-17,-16,-15,-14,-13,-12,-11,-10,-9,-8,-7,-6,-5,-4,-3,-2,-1,0,1,2,3,4,5,6,7,8,9,10,11,12,13,14,15,16,17,18,19,20],\"y0\":[20,19,18,17,16,15,14,13,12,11,10,9,8,7,6,5,4,3,2,1,0,1,2,3,4,5,6,7,8,9,10,11,12,13,14,15,16,17,18,19,20],\"y1\":[400,361,324,289,256,225,196,169,144,121,100,81,64,49,36,25,16,9,4,1,0,1,4,9,16,25,36,49,64,81,100,121,144,169,196,225,256,289,324,361,400]},\"selected\":{\"id\":\"23569\",\"type\":\"Selection\"},\"selection_policy\":{\"id\":\"23568\",\"type\":\"UnionRenderers\"}},\"id\":\"23491\",\"type\":\"ColumnDataSource\"},{\"attributes\":{\"plot\":{\"id\":\"23492\",\"subtype\":\"Figure\",\"type\":\"Plot\"},\"ticker\":{\"id\":\"23502\",\"type\":\"BasicTicker\"}},\"id\":\"23505\",\"type\":\"Grid\"},{\"attributes\":{\"below\":[{\"id\":\"23501\",\"type\":\"LinearAxis\"}],\"left\":[{\"id\":\"23506\",\"type\":\"LinearAxis\"}],\"plot_height\":300,\"plot_width\":300,\"renderers\":[{\"id\":\"23501\",\"type\":\"LinearAxis\"},{\"id\":\"23505\",\"type\":\"Grid\"},{\"id\":\"23506\",\"type\":\"LinearAxis\"},{\"id\":\"23510\",\"type\":\"Grid\"},{\"id\":\"23514\",\"type\":\"BoxAnnotation\"},{\"id\":\"23517\",\"type\":\"PolyAnnotation\"},{\"id\":\"23525\",\"type\":\"GlyphRenderer\"}],\"title\":{\"id\":\"23563\",\"type\":\"Title\"},\"toolbar\":{\"id\":\"23516\",\"type\":\"Toolbar\"},\"toolbar_location\":null,\"x_range\":{\"id\":\"23493\",\"type\":\"DataRange1d\"},\"x_scale\":{\"id\":\"23497\",\"type\":\"LinearScale\"},\"y_range\":{\"id\":\"23495\",\"type\":\"DataRange1d\"},\"y_scale\":{\"id\":\"23499\",\"type\":\"LinearScale\"}},\"id\":\"23492\",\"subtype\":\"Figure\",\"type\":\"Plot\"},{\"attributes\":{},\"id\":\"23575\",\"type\":\"BasicTickFormatter\"},{\"attributes\":{\"below\":[{\"id\":\"23536\",\"type\":\"LinearAxis\"}],\"left\":[{\"id\":\"23541\",\"type\":\"LinearAxis\"}],\"plot_height\":300,\"plot_width\":300,\"renderers\":[{\"id\":\"23536\",\"type\":\"LinearAxis\"},{\"id\":\"23540\",\"type\":\"Grid\"},{\"id\":\"23541\",\"type\":\"LinearAxis\"},{\"id\":\"23545\",\"type\":\"Grid\"},{\"id\":\"23549\",\"type\":\"BoxAnnotation\"},{\"id\":\"23552\",\"type\":\"PolyAnnotation\"},{\"id\":\"23560\",\"type\":\"GlyphRenderer\"}],\"title\":{\"id\":\"23574\",\"type\":\"Title\"},\"toolbar\":{\"id\":\"23551\",\"type\":\"Toolbar\"},\"toolbar_location\":null,\"x_range\":{\"id\":\"23528\",\"type\":\"DataRange1d\"},\"x_scale\":{\"id\":\"23532\",\"type\":\"LinearScale\"},\"y_range\":{\"id\":\"23530\",\"type\":\"DataRange1d\"},\"y_scale\":{\"id\":\"23534\",\"type\":\"LinearScale\"}},\"id\":\"23527\",\"subtype\":\"Figure\",\"type\":\"Plot\"},{\"attributes\":{},\"id\":\"23502\",\"type\":\"BasicTicker\"},{\"attributes\":{},\"id\":\"23532\",\"type\":\"LinearScale\"},{\"attributes\":{\"fill_alpha\":{\"value\":0.1},\"fill_color\":{\"value\":\"#1f77b4\"},\"line_alpha\":{\"value\":0.1},\"line_color\":{\"value\":\"#1f77b4\"},\"x\":{\"field\":\"x\"},\"y\":{\"field\":\"y1\"}},\"id\":\"23559\",\"type\":\"Circle\"},{\"attributes\":{\"data_source\":{\"id\":\"23491\",\"type\":\"ColumnDataSource\"},\"glyph\":{\"id\":\"23558\",\"type\":\"Circle\"},\"hover_glyph\":null,\"muted_glyph\":null,\"nonselection_glyph\":{\"id\":\"23559\",\"type\":\"Circle\"},\"selection_glyph\":null,\"view\":{\"id\":\"23561\",\"type\":\"CDSView\"}},\"id\":\"23560\",\"type\":\"GlyphRenderer\"},{\"attributes\":{\"plot\":null,\"text\":\"\"},\"id\":\"23574\",\"type\":\"Title\"},{\"attributes\":{\"source\":{\"id\":\"23491\",\"type\":\"ColumnDataSource\"}},\"id\":\"23561\",\"type\":\"CDSView\"},{\"attributes\":{\"callback\":null},\"id\":\"23493\",\"type\":\"DataRange1d\"},{\"attributes\":{},\"id\":\"23507\",\"type\":\"BasicTicker\"}],\"root_ids\":[\"23588\"]},\"title\":\"Bokeh Application\",\"version\":\"1.0.4\"}};\n",
       "  var render_items = [{\"docid\":\"f5d0e0d4-5e2e-4df1-a39b-640a073cb95a\",\"roots\":{\"23588\":\"2d8c0a6a-fd49-4ba6-8a15-280d3a9ae1cb\"}}];\n",
       "  root.Bokeh.embed.embed_items_notebook(docs_json, render_items);\n",
       "\n",
       "  }\n",
       "  if (root.Bokeh !== undefined) {\n",
       "    embed_document(root);\n",
       "  } else {\n",
       "    var attempts = 0;\n",
       "    var timer = setInterval(function(root) {\n",
       "      if (root.Bokeh !== undefined) {\n",
       "        embed_document(root);\n",
       "        clearInterval(timer);\n",
       "      }\n",
       "      attempts++;\n",
       "      if (attempts > 100) {\n",
       "        console.log(\"Bokeh: ERROR: Unable to run BokehJS code because BokehJS library is missing\");\n",
       "        clearInterval(timer);\n",
       "      }\n",
       "    }, 10, root)\n",
       "  }\n",
       "})(window);"
      ],
      "application/vnd.bokehjs_exec.v0+json": ""
     },
     "metadata": {
      "application/vnd.bokehjs_exec.v0+json": {
       "id": "23588"
      }
     },
     "output_type": "display_data"
    }
   ],
   "source": [
    "from bokeh.models import ColumnDataSource\n",
    "\n",
    "x = list(range(-20, 21))\n",
    "y0, y1 = [abs(xx) for xx in x], [xx**2 for xx in x]\n",
    "\n",
    "# create a column data source for the plots to share\n",
    "source = ColumnDataSource(data=dict(x=x, y0=y0, y1=y1))\n",
    "\n",
    "TOOLS = \"box_select,lasso_select,help\"\n",
    "\n",
    "# create a new plot and add a renderer\n",
    "left = figure(tools=TOOLS, width=300, height=300)\n",
    "left.circle('x', 'y0', source=source)\n",
    "\n",
    "# create another new plot and add a renderer\n",
    "right = figure(tools=TOOLS, width=300, height=300)\n",
    "right.circle('x', 'y1', source=source)\n",
    "\n",
    "p = gridplot([[left, right]])\n",
    "\n",
    "show(p)"
   ]
  },
  {
   "cell_type": "markdown",
   "metadata": {},
   "source": [
    "## 9. Custom widget (slider plots)"
   ]
  },
  {
   "cell_type": "code",
   "execution_count": 98,
   "metadata": {},
   "outputs": [
    {
     "data": {
      "text/html": [
       "\n",
       "\n",
       "\n",
       "\n",
       "\n",
       "\n",
       "  <div class=\"bk-root\" id=\"6507db94-c4cd-41ab-862d-c416eb18540b\" data-root-id=\"24352\"></div>\n"
      ]
     },
     "metadata": {},
     "output_type": "display_data"
    },
    {
     "data": {
      "application/javascript": [
       "(function(root) {\n",
       "  function embed_document(root) {\n",
       "    \n",
       "  var docs_json = {\"01c91334-d879-4b12-aeff-6abc7925bdcc\":{\"roots\":{\"references\":[{\"attributes\":{\"children\":[{\"id\":\"24351\",\"type\":\"WidgetBox\"},{\"id\":\"24310\",\"subtype\":\"Figure\",\"type\":\"Plot\"}]},\"id\":\"24352\",\"type\":\"Column\"},{\"attributes\":{\"plot\":{\"id\":\"24310\",\"subtype\":\"Figure\",\"type\":\"Plot\"},\"ticker\":{\"id\":\"24320\",\"type\":\"BasicTicker\"}},\"id\":\"24323\",\"type\":\"Grid\"},{\"attributes\":{\"formatter\":{\"id\":\"24967\",\"type\":\"BasicTickFormatter\"},\"plot\":{\"id\":\"24310\",\"subtype\":\"Figure\",\"type\":\"Plot\"},\"ticker\":{\"id\":\"24325\",\"type\":\"BasicTicker\"}},\"id\":\"24324\",\"type\":\"LinearAxis\"},{\"attributes\":{\"children\":[{\"id\":\"24349\",\"type\":\"Slider\"}]},\"id\":\"24351\",\"type\":\"WidgetBox\"},{\"attributes\":{\"plot\":null,\"text\":\"\"},\"id\":\"24964\",\"type\":\"Title\"},{\"attributes\":{},\"id\":\"24325\",\"type\":\"BasicTicker\"},{\"attributes\":{\"dimension\":1,\"plot\":{\"id\":\"24310\",\"subtype\":\"Figure\",\"type\":\"Plot\"},\"ticker\":{\"id\":\"24325\",\"type\":\"BasicTicker\"}},\"id\":\"24328\",\"type\":\"Grid\"},{\"attributes\":{},\"id\":\"24967\",\"type\":\"BasicTickFormatter\"},{\"attributes\":{\"line_alpha\":0.1,\"line_color\":\"#1f77b4\",\"line_width\":3,\"x\":{\"field\":\"x\"},\"y\":{\"field\":\"y\"}},\"id\":\"24346\",\"type\":\"Line\"},{\"attributes\":{},\"id\":\"24969\",\"type\":\"UnionRenderers\"},{\"attributes\":{\"line_alpha\":0.6,\"line_color\":\"#1f77b4\",\"line_width\":3,\"x\":{\"field\":\"x\"},\"y\":{\"field\":\"y\"}},\"id\":\"24345\",\"type\":\"Line\"},{\"attributes\":{\"below\":[{\"id\":\"24319\",\"type\":\"LinearAxis\"}],\"left\":[{\"id\":\"24324\",\"type\":\"LinearAxis\"}],\"plot_height\":400,\"plot_width\":400,\"renderers\":[{\"id\":\"24319\",\"type\":\"LinearAxis\"},{\"id\":\"24323\",\"type\":\"Grid\"},{\"id\":\"24324\",\"type\":\"LinearAxis\"},{\"id\":\"24328\",\"type\":\"Grid\"},{\"id\":\"24337\",\"type\":\"BoxAnnotation\"},{\"id\":\"24347\",\"type\":\"GlyphRenderer\"}],\"title\":{\"id\":\"24964\",\"type\":\"Title\"},\"toolbar\":{\"id\":\"24335\",\"type\":\"Toolbar\"},\"x_range\":{\"id\":\"24311\",\"type\":\"DataRange1d\"},\"x_scale\":{\"id\":\"24315\",\"type\":\"LinearScale\"},\"y_range\":{\"id\":\"24313\",\"type\":\"DataRange1d\"},\"y_scale\":{\"id\":\"24317\",\"type\":\"LinearScale\"}},\"id\":\"24310\",\"subtype\":\"Figure\",\"type\":\"Plot\"},{\"attributes\":{},\"id\":\"24970\",\"type\":\"Selection\"},{\"attributes\":{},\"id\":\"24329\",\"type\":\"PanTool\"},{\"attributes\":{},\"id\":\"24965\",\"type\":\"BasicTickFormatter\"},{\"attributes\":{},\"id\":\"24330\",\"type\":\"WheelZoomTool\"},{\"attributes\":{},\"id\":\"24320\",\"type\":\"BasicTicker\"},{\"attributes\":{\"callback\":null},\"id\":\"24313\",\"type\":\"DataRange1d\"},{\"attributes\":{\"overlay\":{\"id\":\"24337\",\"type\":\"BoxAnnotation\"}},\"id\":\"24331\",\"type\":\"BoxZoomTool\"},{\"attributes\":{\"callback\":null,\"end\":6,\"js_property_callbacks\":{\"change:value\":[{\"id\":\"24350\",\"type\":\"CustomJS\"}]},\"start\":0.1,\"step\":0.1,\"title\":\"power\",\"value\":1},\"id\":\"24349\",\"type\":\"Slider\"},{\"attributes\":{},\"id\":\"24332\",\"type\":\"SaveTool\"},{\"attributes\":{},\"id\":\"24333\",\"type\":\"ResetTool\"},{\"attributes\":{},\"id\":\"24334\",\"type\":\"HelpTool\"},{\"attributes\":{\"active_drag\":\"auto\",\"active_inspect\":\"auto\",\"active_multi\":null,\"active_scroll\":\"auto\",\"active_tap\":\"auto\",\"tools\":[{\"id\":\"24329\",\"type\":\"PanTool\"},{\"id\":\"24330\",\"type\":\"WheelZoomTool\"},{\"id\":\"24331\",\"type\":\"BoxZoomTool\"},{\"id\":\"24332\",\"type\":\"SaveTool\"},{\"id\":\"24333\",\"type\":\"ResetTool\"},{\"id\":\"24334\",\"type\":\"HelpTool\"}]},\"id\":\"24335\",\"type\":\"Toolbar\"},{\"attributes\":{\"callback\":null},\"id\":\"24311\",\"type\":\"DataRange1d\"},{\"attributes\":{\"data_source\":{\"id\":\"24309\",\"type\":\"ColumnDataSource\"},\"glyph\":{\"id\":\"24345\",\"type\":\"Line\"},\"hover_glyph\":null,\"muted_glyph\":null,\"nonselection_glyph\":{\"id\":\"24346\",\"type\":\"Line\"},\"selection_glyph\":null,\"view\":{\"id\":\"24348\",\"type\":\"CDSView\"}},\"id\":\"24347\",\"type\":\"GlyphRenderer\"},{\"attributes\":{\"bottom_units\":\"screen\",\"fill_alpha\":{\"value\":0.5},\"fill_color\":{\"value\":\"lightgrey\"},\"left_units\":\"screen\",\"level\":\"overlay\",\"line_alpha\":{\"value\":1.0},\"line_color\":{\"value\":\"black\"},\"line_dash\":[4,4],\"line_width\":{\"value\":2},\"plot\":null,\"render_mode\":\"css\",\"right_units\":\"screen\",\"top_units\":\"screen\"},\"id\":\"24337\",\"type\":\"BoxAnnotation\"},{\"attributes\":{\"callback\":null,\"data\":{\"x\":[0.0,0.005,0.01,0.015,0.02,0.025,0.03,0.035,0.04,0.045,0.05,0.055,0.06,0.065,0.07,0.075,0.08,0.085,0.09,0.095,0.1,0.105,0.11,0.115,0.12,0.125,0.13,0.135,0.14,0.145,0.15,0.155,0.16,0.165,0.17,0.17500000000000002,0.18,0.185,0.19,0.195,0.2,0.20500000000000002,0.21,0.215,0.22,0.225,0.23,0.23500000000000001,0.24,0.245,0.25,0.255,0.26,0.265,0.27,0.275,0.28,0.28500000000000003,0.29,0.295,0.3,0.305,0.31,0.315,0.32,0.325,0.33,0.335,0.34,0.34500000000000003,0.35000000000000003,0.355,0.36,0.365,0.37,0.375,0.38,0.385,0.39,0.395,0.4,0.405,0.41000000000000003,0.41500000000000004,0.42,0.425,0.43,0.435,0.44,0.445,0.45,0.455,0.46,0.465,0.47000000000000003,0.47500000000000003,0.48,0.485,0.49,0.495,0.5,0.505,0.51,0.515,0.52,0.525,0.53,0.535,0.54,0.545,0.55,0.555,0.56,0.5650000000000001,0.5700000000000001,0.5750000000000001,0.58,0.585,0.59,0.595,0.6,0.605,0.61,0.615,0.62,0.625,0.63,0.635,0.64,0.645,0.65,0.655,0.66,0.665,0.67,0.675,0.68,0.685,0.6900000000000001,0.6950000000000001,0.7000000000000001,0.705,0.71,0.715,0.72,0.725,0.73,0.735,0.74,0.745,0.75,0.755,0.76,0.765,0.77,0.775,0.78,0.785,0.79,0.795,0.8,0.805,0.81,0.8150000000000001,0.8200000000000001,0.8250000000000001,0.8300000000000001,0.835,0.84,0.845,0.85,0.855,0.86,0.865,0.87,0.875,0.88,0.885,0.89,0.895,0.9,0.905,0.91,0.915,0.92,0.925,0.93,0.935,0.9400000000000001,0.9450000000000001,0.9500000000000001,0.9550000000000001,0.96,0.965,0.97,0.975,0.98,0.985,0.99,0.995,1.0],\"y\":[0.0,0.005,0.01,0.015,0.02,0.025,0.03,0.035,0.04,0.045,0.05,0.055,0.06,0.065,0.07,0.075,0.08,0.085,0.09,0.095,0.1,0.105,0.11,0.115,0.12,0.125,0.13,0.135,0.14,0.145,0.15,0.155,0.16,0.165,0.17,0.17500000000000002,0.18,0.185,0.19,0.195,0.2,0.20500000000000002,0.21,0.215,0.22,0.225,0.23,0.23500000000000001,0.24,0.245,0.25,0.255,0.26,0.265,0.27,0.275,0.28,0.28500000000000003,0.29,0.295,0.3,0.305,0.31,0.315,0.32,0.325,0.33,0.335,0.34,0.34500000000000003,0.35000000000000003,0.355,0.36,0.365,0.37,0.375,0.38,0.385,0.39,0.395,0.4,0.405,0.41000000000000003,0.41500000000000004,0.42,0.425,0.43,0.435,0.44,0.445,0.45,0.455,0.46,0.465,0.47000000000000003,0.47500000000000003,0.48,0.485,0.49,0.495,0.5,0.505,0.51,0.515,0.52,0.525,0.53,0.535,0.54,0.545,0.55,0.555,0.56,0.5650000000000001,0.5700000000000001,0.5750000000000001,0.58,0.585,0.59,0.595,0.6,0.605,0.61,0.615,0.62,0.625,0.63,0.635,0.64,0.645,0.65,0.655,0.66,0.665,0.67,0.675,0.68,0.685,0.6900000000000001,0.6950000000000001,0.7000000000000001,0.705,0.71,0.715,0.72,0.725,0.73,0.735,0.74,0.745,0.75,0.755,0.76,0.765,0.77,0.775,0.78,0.785,0.79,0.795,0.8,0.805,0.81,0.8150000000000001,0.8200000000000001,0.8250000000000001,0.8300000000000001,0.835,0.84,0.845,0.85,0.855,0.86,0.865,0.87,0.875,0.88,0.885,0.89,0.895,0.9,0.905,0.91,0.915,0.92,0.925,0.93,0.935,0.9400000000000001,0.9450000000000001,0.9500000000000001,0.9550000000000001,0.96,0.965,0.97,0.975,0.98,0.985,0.99,0.995,1.0]},\"selected\":{\"id\":\"24970\",\"type\":\"Selection\"},\"selection_policy\":{\"id\":\"24969\",\"type\":\"UnionRenderers\"}},\"id\":\"24309\",\"type\":\"ColumnDataSource\"},{\"attributes\":{\"source\":{\"id\":\"24309\",\"type\":\"ColumnDataSource\"}},\"id\":\"24348\",\"type\":\"CDSView\"},{\"attributes\":{},\"id\":\"24315\",\"type\":\"LinearScale\"},{\"attributes\":{\"formatter\":{\"id\":\"24965\",\"type\":\"BasicTickFormatter\"},\"plot\":{\"id\":\"24310\",\"subtype\":\"Figure\",\"type\":\"Plot\"},\"ticker\":{\"id\":\"24320\",\"type\":\"BasicTicker\"}},\"id\":\"24319\",\"type\":\"LinearAxis\"},{\"attributes\":{\"args\":{\"slider\":{\"id\":\"24349\",\"type\":\"Slider\"},\"source\":{\"id\":\"24309\",\"type\":\"ColumnDataSource\"}},\"code\":\"\\n    var data = source.data;\\n    var f = slider.value;\\n    x = data['x']\\n    y = data['y']\\n    for (i = 0; i < x.length; i++) {\\n        y[i] = Math.pow(x[i], f)\\n    }\\n    \\n    // necessary becasue we mutated source.data in-place\\n    source.change.emit();\\n\"},\"id\":\"24350\",\"type\":\"CustomJS\"},{\"attributes\":{},\"id\":\"24317\",\"type\":\"LinearScale\"}],\"root_ids\":[\"24352\"]},\"title\":\"Bokeh Application\",\"version\":\"1.0.4\"}};\n",
       "  var render_items = [{\"docid\":\"01c91334-d879-4b12-aeff-6abc7925bdcc\",\"roots\":{\"24352\":\"6507db94-c4cd-41ab-862d-c416eb18540b\"}}];\n",
       "  root.Bokeh.embed.embed_items_notebook(docs_json, render_items);\n",
       "\n",
       "  }\n",
       "  if (root.Bokeh !== undefined) {\n",
       "    embed_document(root);\n",
       "  } else {\n",
       "    var attempts = 0;\n",
       "    var timer = setInterval(function(root) {\n",
       "      if (root.Bokeh !== undefined) {\n",
       "        embed_document(root);\n",
       "        clearInterval(timer);\n",
       "      }\n",
       "      attempts++;\n",
       "      if (attempts > 100) {\n",
       "        console.log(\"Bokeh: ERROR: Unable to run BokehJS code because BokehJS library is missing\");\n",
       "        clearInterval(timer);\n",
       "      }\n",
       "    }, 10, root)\n",
       "  }\n",
       "})(window);"
      ],
      "application/vnd.bokehjs_exec.v0+json": ""
     },
     "metadata": {
      "application/vnd.bokehjs_exec.v0+json": {
       "id": "24352"
      }
     },
     "output_type": "display_data"
    }
   ],
   "source": [
    "from bokeh.layouts import column\n",
    "from bokeh.models import CustomJS, ColumnDataSource, Slider\n",
    "\n",
    "x = [x*0.005 for x in range(0, 201)]\n",
    "\n",
    "source = ColumnDataSource(data=dict(x=x, y=x))\n",
    "\n",
    "plot = figure(plot_width=400, plot_height=400)\n",
    "plot.line('x', 'y', source=source, line_width=3, line_alpha=0.6)\n",
    "\n",
    "slider = Slider(start=0.1, end=6, value=1, step=.1, title=\"power\")\n",
    "\n",
    "update_curve = CustomJS(args=dict(source=source, slider=slider), code=\"\"\"\n",
    "    var data = source.data;\n",
    "    var f = slider.value;\n",
    "    x = data['x']\n",
    "    y = data['y']\n",
    "    for (i = 0; i < x.length; i++) {\n",
    "        y[i] = Math.pow(x[i], f)\n",
    "    }\n",
    "    \n",
    "    // necessary becasue we mutated source.data in-place\n",
    "    source.change.emit();\n",
    "\"\"\")\n",
    "slider.js_on_change('value', update_curve)\n",
    "\n",
    "\n",
    "show(column(slider, plot))"
   ]
  },
  {
   "cell_type": "markdown",
   "metadata": {},
   "source": [
    "## 10. Bar plots in Bokeh"
   ]
  },
  {
   "cell_type": "code",
   "execution_count": 100,
   "metadata": {},
   "outputs": [
    {
     "data": {
      "text/html": [
       "\n",
       "\n",
       "\n",
       "\n",
       "\n",
       "\n",
       "  <div class=\"bk-root\" id=\"e91ba6f6-d276-4ee7-94a0-25784e6daeca\" data-root-id=\"25028\"></div>\n"
      ]
     },
     "metadata": {},
     "output_type": "display_data"
    },
    {
     "data": {
      "application/javascript": [
       "(function(root) {\n",
       "  function embed_document(root) {\n",
       "    \n",
       "  var docs_json = {\"a5757db0-c3d2-44a3-be44-4a099fb03b73\":{\"roots\":{\"references\":[{\"attributes\":{\"below\":[{\"id\":\"25038\",\"type\":\"CategoricalAxis\"}],\"left\":[{\"id\":\"25042\",\"type\":\"LinearAxis\"}],\"plot_height\":250,\"renderers\":[{\"id\":\"25038\",\"type\":\"CategoricalAxis\"},{\"id\":\"25041\",\"type\":\"Grid\"},{\"id\":\"25042\",\"type\":\"LinearAxis\"},{\"id\":\"25046\",\"type\":\"Grid\"},{\"id\":\"25055\",\"type\":\"BoxAnnotation\"},{\"id\":\"25073\",\"type\":\"Legend\"},{\"id\":\"25065\",\"type\":\"GlyphRenderer\"}],\"title\":{\"id\":\"25027\",\"type\":\"Title\"},\"toolbar\":{\"id\":\"25053\",\"type\":\"Toolbar\"},\"x_range\":{\"id\":\"25030\",\"type\":\"FactorRange\"},\"x_scale\":{\"id\":\"25034\",\"type\":\"CategoricalScale\"},\"y_range\":{\"id\":\"25032\",\"type\":\"Range1d\"},\"y_scale\":{\"id\":\"25036\",\"type\":\"LinearScale\"}},\"id\":\"25028\",\"subtype\":\"Figure\",\"type\":\"Plot\"},{\"attributes\":{},\"id\":\"25034\",\"type\":\"CategoricalScale\"},{\"attributes\":{\"bottom_units\":\"screen\",\"fill_alpha\":{\"value\":0.5},\"fill_color\":{\"value\":\"lightgrey\"},\"left_units\":\"screen\",\"level\":\"overlay\",\"line_alpha\":{\"value\":1.0},\"line_color\":{\"value\":\"black\"},\"line_dash\":[4,4],\"line_width\":{\"value\":2},\"plot\":null,\"render_mode\":\"css\",\"right_units\":\"screen\",\"top_units\":\"screen\"},\"id\":\"25055\",\"type\":\"BoxAnnotation\"},{\"attributes\":{},\"id\":\"25036\",\"type\":\"LinearScale\"},{\"attributes\":{\"items\":[{\"id\":\"25074\",\"type\":\"LegendItem\"}],\"location\":\"top_center\",\"orientation\":\"horizontal\",\"plot\":{\"id\":\"25028\",\"subtype\":\"Figure\",\"type\":\"Plot\"}},\"id\":\"25073\",\"type\":\"Legend\"},{\"attributes\":{},\"id\":\"25068\",\"type\":\"CategoricalTickFormatter\"},{\"attributes\":{\"formatter\":{\"id\":\"25068\",\"type\":\"CategoricalTickFormatter\"},\"plot\":{\"id\":\"25028\",\"subtype\":\"Figure\",\"type\":\"Plot\"},\"ticker\":{\"id\":\"25039\",\"type\":\"CategoricalTicker\"}},\"id\":\"25038\",\"type\":\"CategoricalAxis\"},{\"attributes\":{\"callback\":null,\"data\":{\"color\":[\"#3288bd\",\"#99d594\",\"#e6f598\",\"#fee08b\",\"#fc8d59\",\"#d53e4f\"],\"counts\":[5,3,4,2,4,6],\"fruits\":[\"Apples\",\"Pears\",\"Nectarines\",\"Plums\",\"Grapes\",\"Strawberries\"]},\"selected\":{\"id\":\"25700\",\"type\":\"Selection\"},\"selection_policy\":{\"id\":\"25699\",\"type\":\"UnionRenderers\"}},\"id\":\"25026\",\"type\":\"ColumnDataSource\"},{\"attributes\":{},\"id\":\"25070\",\"type\":\"BasicTickFormatter\"},{\"attributes\":{},\"id\":\"25039\",\"type\":\"CategoricalTicker\"},{\"attributes\":{\"grid_line_color\":{\"value\":null},\"plot\":{\"id\":\"25028\",\"subtype\":\"Figure\",\"type\":\"Plot\"},\"ticker\":{\"id\":\"25039\",\"type\":\"CategoricalTicker\"}},\"id\":\"25041\",\"type\":\"Grid\"},{\"attributes\":{\"formatter\":{\"id\":\"25070\",\"type\":\"BasicTickFormatter\"},\"plot\":{\"id\":\"25028\",\"subtype\":\"Figure\",\"type\":\"Plot\"},\"ticker\":{\"id\":\"25043\",\"type\":\"BasicTicker\"}},\"id\":\"25042\",\"type\":\"LinearAxis\"},{\"attributes\":{\"label\":{\"field\":\"fruits\"},\"renderers\":[{\"id\":\"25065\",\"type\":\"GlyphRenderer\"}]},\"id\":\"25074\",\"type\":\"LegendItem\"},{\"attributes\":{},\"id\":\"25043\",\"type\":\"BasicTicker\"},{\"attributes\":{\"dimension\":1,\"plot\":{\"id\":\"25028\",\"subtype\":\"Figure\",\"type\":\"Plot\"},\"ticker\":{\"id\":\"25043\",\"type\":\"BasicTicker\"}},\"id\":\"25046\",\"type\":\"Grid\"},{\"attributes\":{\"plot\":null,\"text\":\"Fruit Counts\"},\"id\":\"25027\",\"type\":\"Title\"},{\"attributes\":{\"data_source\":{\"id\":\"25026\",\"type\":\"ColumnDataSource\"},\"glyph\":{\"id\":\"25063\",\"type\":\"VBar\"},\"hover_glyph\":null,\"muted_glyph\":null,\"nonselection_glyph\":{\"id\":\"25064\",\"type\":\"VBar\"},\"selection_glyph\":null,\"view\":{\"id\":\"25066\",\"type\":\"CDSView\"}},\"id\":\"25065\",\"type\":\"GlyphRenderer\"},{\"attributes\":{\"fill_alpha\":{\"value\":0.1},\"fill_color\":{\"value\":\"#1f77b4\"},\"line_alpha\":{\"value\":0.1},\"line_color\":{\"value\":\"#1f77b4\"},\"top\":{\"field\":\"counts\"},\"width\":{\"value\":0.9},\"x\":{\"field\":\"fruits\"}},\"id\":\"25064\",\"type\":\"VBar\"},{\"attributes\":{\"fill_color\":{\"field\":\"color\"},\"line_color\":{\"field\":\"color\"},\"top\":{\"field\":\"counts\"},\"width\":{\"value\":0.9},\"x\":{\"field\":\"fruits\"}},\"id\":\"25063\",\"type\":\"VBar\"},{\"attributes\":{},\"id\":\"25700\",\"type\":\"Selection\"},{\"attributes\":{\"source\":{\"id\":\"25026\",\"type\":\"ColumnDataSource\"}},\"id\":\"25066\",\"type\":\"CDSView\"},{\"attributes\":{},\"id\":\"25047\",\"type\":\"PanTool\"},{\"attributes\":{},\"id\":\"25699\",\"type\":\"UnionRenderers\"},{\"attributes\":{},\"id\":\"25048\",\"type\":\"WheelZoomTool\"},{\"attributes\":{\"callback\":null,\"end\":9},\"id\":\"25032\",\"type\":\"Range1d\"},{\"attributes\":{\"overlay\":{\"id\":\"25055\",\"type\":\"BoxAnnotation\"}},\"id\":\"25049\",\"type\":\"BoxZoomTool\"},{\"attributes\":{},\"id\":\"25050\",\"type\":\"SaveTool\"},{\"attributes\":{\"callback\":null,\"factors\":[\"Apples\",\"Pears\",\"Nectarines\",\"Plums\",\"Grapes\",\"Strawberries\"]},\"id\":\"25030\",\"type\":\"FactorRange\"},{\"attributes\":{},\"id\":\"25051\",\"type\":\"ResetTool\"},{\"attributes\":{},\"id\":\"25052\",\"type\":\"HelpTool\"},{\"attributes\":{\"active_drag\":\"auto\",\"active_inspect\":\"auto\",\"active_multi\":null,\"active_scroll\":\"auto\",\"active_tap\":\"auto\",\"tools\":[{\"id\":\"25047\",\"type\":\"PanTool\"},{\"id\":\"25048\",\"type\":\"WheelZoomTool\"},{\"id\":\"25049\",\"type\":\"BoxZoomTool\"},{\"id\":\"25050\",\"type\":\"SaveTool\"},{\"id\":\"25051\",\"type\":\"ResetTool\"},{\"id\":\"25052\",\"type\":\"HelpTool\"}]},\"id\":\"25053\",\"type\":\"Toolbar\"}],\"root_ids\":[\"25028\"]},\"title\":\"Bokeh Application\",\"version\":\"1.0.4\"}};\n",
       "  var render_items = [{\"docid\":\"a5757db0-c3d2-44a3-be44-4a099fb03b73\",\"roots\":{\"25028\":\"e91ba6f6-d276-4ee7-94a0-25784e6daeca\"}}];\n",
       "  root.Bokeh.embed.embed_items_notebook(docs_json, render_items);\n",
       "\n",
       "  }\n",
       "  if (root.Bokeh !== undefined) {\n",
       "    embed_document(root);\n",
       "  } else {\n",
       "    var attempts = 0;\n",
       "    var timer = setInterval(function(root) {\n",
       "      if (root.Bokeh !== undefined) {\n",
       "        embed_document(root);\n",
       "        clearInterval(timer);\n",
       "      }\n",
       "      attempts++;\n",
       "      if (attempts > 100) {\n",
       "        console.log(\"Bokeh: ERROR: Unable to run BokehJS code because BokehJS library is missing\");\n",
       "        clearInterval(timer);\n",
       "      }\n",
       "    }, 10, root)\n",
       "  }\n",
       "})(window);"
      ],
      "application/vnd.bokehjs_exec.v0+json": ""
     },
     "metadata": {
      "application/vnd.bokehjs_exec.v0+json": {
       "id": "25028"
      }
     },
     "output_type": "display_data"
    }
   ],
   "source": [
    "from bokeh.models import ColumnDataSource\n",
    "from bokeh.palettes import Spectral6\n",
    "\n",
    "fruits = ['Apples', 'Pears', 'Nectarines', 'Plums', 'Grapes', 'Strawberries']\n",
    "counts = [5, 3, 4, 2, 4, 6]\n",
    "\n",
    "source = ColumnDataSource(data=dict(fruits=fruits, counts=counts, color=Spectral6))\n",
    "\n",
    "p = figure(x_range=fruits, plot_height=250, y_range=(0, 9), title=\"Fruit Counts\")\n",
    "p.vbar(x='fruits', top='counts', width=0.9, color='color', legend=\"fruits\", source=source)\n",
    "\n",
    "p.xgrid.grid_line_color = None\n",
    "p.legend.orientation = \"horizontal\"\n",
    "p.legend.location = \"top_center\"\n",
    "\n",
    "show(p)"
   ]
  },
  {
   "cell_type": "code",
   "execution_count": 101,
   "metadata": {},
   "outputs": [
    {
     "data": {
      "text/html": [
       "\n",
       "\n",
       "\n",
       "\n",
       "\n",
       "\n",
       "  <div class=\"bk-root\" id=\"b5b0ecd6-aebf-4c3c-8182-25087f240846\" data-root-id=\"25753\"></div>\n"
      ]
     },
     "metadata": {},
     "output_type": "display_data"
    },
    {
     "data": {
      "application/javascript": [
       "(function(root) {\n",
       "  function embed_document(root) {\n",
       "    \n",
       "  var docs_json = {\"e130f9d7-ce43-4829-b01d-3ebf7b15c276\":{\"roots\":{\"references\":[{\"attributes\":{\"below\":[{\"id\":\"25762\",\"type\":\"CategoricalAxis\"}],\"left\":[{\"id\":\"25766\",\"type\":\"LinearAxis\"}],\"plot_height\":250,\"renderers\":[{\"id\":\"25762\",\"type\":\"CategoricalAxis\"},{\"id\":\"25765\",\"type\":\"Grid\"},{\"id\":\"25766\",\"type\":\"LinearAxis\"},{\"id\":\"25770\",\"type\":\"Grid\"},{\"id\":\"25779\",\"type\":\"BoxAnnotation\"},{\"id\":\"25789\",\"type\":\"GlyphRenderer\"}],\"title\":{\"id\":\"25752\",\"type\":\"Title\"},\"toolbar\":{\"id\":\"25777\",\"type\":\"Toolbar\"},\"x_range\":{\"id\":\"25751\",\"type\":\"FactorRange\"},\"x_scale\":{\"id\":\"25758\",\"type\":\"CategoricalScale\"},\"y_range\":{\"id\":\"25756\",\"type\":\"DataRange1d\"},\"y_scale\":{\"id\":\"25760\",\"type\":\"LinearScale\"}},\"id\":\"25753\",\"subtype\":\"Figure\",\"type\":\"Plot\"},{\"attributes\":{\"callback\":null,\"factors\":[[\"Apples\",\"2015\"],[\"Apples\",\"2016\"],[\"Apples\",\"2017\"],[\"Pears\",\"2015\"],[\"Pears\",\"2016\"],[\"Pears\",\"2017\"],[\"Nectarines\",\"2015\"],[\"Nectarines\",\"2016\"],[\"Nectarines\",\"2017\"],[\"Plums\",\"2015\"],[\"Plums\",\"2016\"],[\"Plums\",\"2017\"],[\"Grapes\",\"2015\"],[\"Grapes\",\"2016\"],[\"Grapes\",\"2017\"],[\"Strawberries\",\"2015\"],[\"Strawberries\",\"2016\"],[\"Strawberries\",\"2017\"]],\"range_padding\":0.1},\"id\":\"25751\",\"type\":\"FactorRange\"},{\"attributes\":{},\"id\":\"25771\",\"type\":\"PanTool\"},{\"attributes\":{},\"id\":\"26421\",\"type\":\"BasicTickFormatter\"},{\"attributes\":{},\"id\":\"25772\",\"type\":\"WheelZoomTool\"},{\"attributes\":{\"overlay\":{\"id\":\"25779\",\"type\":\"BoxAnnotation\"}},\"id\":\"25773\",\"type\":\"BoxZoomTool\"},{\"attributes\":{\"callback\":null,\"data\":{\"counts\":[2,5,3,1,3,2,4,3,4,3,2,4,2,4,5,4,6,3],\"x\":[[\"Apples\",\"2015\"],[\"Apples\",\"2016\"],[\"Apples\",\"2017\"],[\"Pears\",\"2015\"],[\"Pears\",\"2016\"],[\"Pears\",\"2017\"],[\"Nectarines\",\"2015\"],[\"Nectarines\",\"2016\"],[\"Nectarines\",\"2017\"],[\"Plums\",\"2015\"],[\"Plums\",\"2016\"],[\"Plums\",\"2017\"],[\"Grapes\",\"2015\"],[\"Grapes\",\"2016\"],[\"Grapes\",\"2017\"],[\"Strawberries\",\"2015\"],[\"Strawberries\",\"2016\"],[\"Strawberries\",\"2017\"]]},\"selected\":{\"id\":\"26424\",\"type\":\"Selection\"},\"selection_policy\":{\"id\":\"26423\",\"type\":\"UnionRenderers\"}},\"id\":\"25750\",\"type\":\"ColumnDataSource\"},{\"attributes\":{},\"id\":\"25774\",\"type\":\"SaveTool\"},{\"attributes\":{},\"id\":\"26423\",\"type\":\"UnionRenderers\"},{\"attributes\":{},\"id\":\"25775\",\"type\":\"ResetTool\"},{\"attributes\":{\"fill_alpha\":{\"value\":0.1},\"fill_color\":{\"value\":\"#1f77b4\"},\"line_alpha\":{\"value\":0.1},\"line_color\":{\"value\":\"#1f77b4\"},\"top\":{\"field\":\"counts\"},\"width\":{\"value\":0.9},\"x\":{\"field\":\"x\"}},\"id\":\"25788\",\"type\":\"VBar\"},{\"attributes\":{\"plot\":null,\"text\":\"Fruit Counts by Year\"},\"id\":\"25752\",\"type\":\"Title\"},{\"attributes\":{},\"id\":\"25776\",\"type\":\"HelpTool\"},{\"attributes\":{\"active_drag\":\"auto\",\"active_inspect\":\"auto\",\"active_multi\":null,\"active_scroll\":\"auto\",\"active_tap\":\"auto\",\"tools\":[{\"id\":\"25771\",\"type\":\"PanTool\"},{\"id\":\"25772\",\"type\":\"WheelZoomTool\"},{\"id\":\"25773\",\"type\":\"BoxZoomTool\"},{\"id\":\"25774\",\"type\":\"SaveTool\"},{\"id\":\"25775\",\"type\":\"ResetTool\"},{\"id\":\"25776\",\"type\":\"HelpTool\"}]},\"id\":\"25777\",\"type\":\"Toolbar\"},{\"attributes\":{\"callback\":null,\"start\":0},\"id\":\"25756\",\"type\":\"DataRange1d\"},{\"attributes\":{\"data_source\":{\"id\":\"25750\",\"type\":\"ColumnDataSource\"},\"glyph\":{\"id\":\"25787\",\"type\":\"VBar\"},\"hover_glyph\":null,\"muted_glyph\":null,\"nonselection_glyph\":{\"id\":\"25788\",\"type\":\"VBar\"},\"selection_glyph\":null,\"view\":{\"id\":\"25790\",\"type\":\"CDSView\"}},\"id\":\"25789\",\"type\":\"GlyphRenderer\"},{\"attributes\":{},\"id\":\"25758\",\"type\":\"CategoricalScale\"},{\"attributes\":{\"bottom_units\":\"screen\",\"fill_alpha\":{\"value\":0.5},\"fill_color\":{\"value\":\"lightgrey\"},\"left_units\":\"screen\",\"level\":\"overlay\",\"line_alpha\":{\"value\":1.0},\"line_color\":{\"value\":\"black\"},\"line_dash\":[4,4],\"line_width\":{\"value\":2},\"plot\":null,\"render_mode\":\"css\",\"right_units\":\"screen\",\"top_units\":\"screen\"},\"id\":\"25779\",\"type\":\"BoxAnnotation\"},{\"attributes\":{},\"id\":\"25760\",\"type\":\"LinearScale\"},{\"attributes\":{\"source\":{\"id\":\"25750\",\"type\":\"ColumnDataSource\"}},\"id\":\"25790\",\"type\":\"CDSView\"},{\"attributes\":{\"formatter\":{\"id\":\"26419\",\"type\":\"CategoricalTickFormatter\"},\"major_label_orientation\":1,\"plot\":{\"id\":\"25753\",\"subtype\":\"Figure\",\"type\":\"Plot\"},\"ticker\":{\"id\":\"25763\",\"type\":\"CategoricalTicker\"}},\"id\":\"25762\",\"type\":\"CategoricalAxis\"},{\"attributes\":{},\"id\":\"25763\",\"type\":\"CategoricalTicker\"},{\"attributes\":{\"grid_line_color\":{\"value\":null},\"plot\":{\"id\":\"25753\",\"subtype\":\"Figure\",\"type\":\"Plot\"},\"ticker\":{\"id\":\"25763\",\"type\":\"CategoricalTicker\"}},\"id\":\"25765\",\"type\":\"Grid\"},{\"attributes\":{\"formatter\":{\"id\":\"26421\",\"type\":\"BasicTickFormatter\"},\"plot\":{\"id\":\"25753\",\"subtype\":\"Figure\",\"type\":\"Plot\"},\"ticker\":{\"id\":\"25767\",\"type\":\"BasicTicker\"}},\"id\":\"25766\",\"type\":\"LinearAxis\"},{\"attributes\":{},\"id\":\"25767\",\"type\":\"BasicTicker\"},{\"attributes\":{},\"id\":\"26424\",\"type\":\"Selection\"},{\"attributes\":{\"dimension\":1,\"plot\":{\"id\":\"25753\",\"subtype\":\"Figure\",\"type\":\"Plot\"},\"ticker\":{\"id\":\"25767\",\"type\":\"BasicTicker\"}},\"id\":\"25770\",\"type\":\"Grid\"},{\"attributes\":{\"fill_color\":{\"value\":\"#1f77b4\"},\"line_color\":{\"value\":\"#1f77b4\"},\"top\":{\"field\":\"counts\"},\"width\":{\"value\":0.9},\"x\":{\"field\":\"x\"}},\"id\":\"25787\",\"type\":\"VBar\"},{\"attributes\":{},\"id\":\"26419\",\"type\":\"CategoricalTickFormatter\"}],\"root_ids\":[\"25753\"]},\"title\":\"Bokeh Application\",\"version\":\"1.0.4\"}};\n",
       "  var render_items = [{\"docid\":\"e130f9d7-ce43-4829-b01d-3ebf7b15c276\",\"roots\":{\"25753\":\"b5b0ecd6-aebf-4c3c-8182-25087f240846\"}}];\n",
       "  root.Bokeh.embed.embed_items_notebook(docs_json, render_items);\n",
       "\n",
       "  }\n",
       "  if (root.Bokeh !== undefined) {\n",
       "    embed_document(root);\n",
       "  } else {\n",
       "    var attempts = 0;\n",
       "    var timer = setInterval(function(root) {\n",
       "      if (root.Bokeh !== undefined) {\n",
       "        embed_document(root);\n",
       "        clearInterval(timer);\n",
       "      }\n",
       "      attempts++;\n",
       "      if (attempts > 100) {\n",
       "        console.log(\"Bokeh: ERROR: Unable to run BokehJS code because BokehJS library is missing\");\n",
       "        clearInterval(timer);\n",
       "      }\n",
       "    }, 10, root)\n",
       "  }\n",
       "})(window);"
      ],
      "application/vnd.bokehjs_exec.v0+json": ""
     },
     "metadata": {
      "application/vnd.bokehjs_exec.v0+json": {
       "id": "25753"
      }
     },
     "output_type": "display_data"
    }
   ],
   "source": [
    "# grouped bar charts\n",
    "\n",
    "from bokeh.models import FactorRange\n",
    "\n",
    "fruits = ['Apples', 'Pears', 'Nectarines', 'Plums', 'Grapes', 'Strawberries']\n",
    "years = ['2015', '2016', '2017']\n",
    "\n",
    "data = {'fruits' : fruits,\n",
    "        '2015'   : [2, 1, 4, 3, 2, 4],\n",
    "        '2016'   : [5, 3, 3, 2, 4, 6],\n",
    "        '2017'   : [3, 2, 4, 4, 5, 3]}\n",
    "\n",
    "# this creates [ (\"Apples\", \"2015\"), (\"Apples\", \"2016\"), (\"Apples\", \"2017\"), (\"Pears\", \"2015), ... ]\n",
    "x = [ (fruit, year) for fruit in fruits for year in years ]\n",
    "counts = sum(zip(data['2015'], data['2016'], data['2017']), ()) # like an hstack\n",
    "\n",
    "source = ColumnDataSource(data=dict(x=x, counts=counts))\n",
    "\n",
    "p = figure(x_range=FactorRange(*x), plot_height=250, title=\"Fruit Counts by Year\")\n",
    "\n",
    "p.vbar(x='x', top='counts', width=0.9, source=source)\n",
    "\n",
    "p.y_range.start = 0\n",
    "p.x_range.range_padding = 0.1\n",
    "p.xaxis.major_label_orientation = 1\n",
    "p.xgrid.grid_line_color = None\n",
    "\n",
    "show(p)"
   ]
  },
  {
   "cell_type": "code",
   "execution_count": 102,
   "metadata": {},
   "outputs": [
    {
     "data": {
      "text/html": [
       "\n",
       "\n",
       "\n",
       "\n",
       "\n",
       "\n",
       "  <div class=\"bk-root\" id=\"1f88a6b1-366a-4c17-84d7-9636fad6bca5\" data-root-id=\"26476\"></div>\n"
      ]
     },
     "metadata": {},
     "output_type": "display_data"
    },
    {
     "data": {
      "application/javascript": [
       "(function(root) {\n",
       "  function embed_document(root) {\n",
       "    \n",
       "  var docs_json = {\"6d868871-7871-4352-a828-07b891338e03\":{\"roots\":{\"references\":[{\"attributes\":{\"below\":[{\"id\":\"26485\",\"type\":\"CategoricalAxis\"}],\"left\":[{\"id\":\"26489\",\"type\":\"LinearAxis\"}],\"plot_height\":250,\"renderers\":[{\"id\":\"26485\",\"type\":\"CategoricalAxis\"},{\"id\":\"26488\",\"type\":\"Grid\"},{\"id\":\"26489\",\"type\":\"LinearAxis\"},{\"id\":\"26493\",\"type\":\"Grid\"},{\"id\":\"26502\",\"type\":\"BoxAnnotation\"},{\"id\":\"26513\",\"type\":\"GlyphRenderer\"}],\"title\":{\"id\":\"26475\",\"type\":\"Title\"},\"toolbar\":{\"id\":\"26500\",\"type\":\"Toolbar\"},\"x_range\":{\"id\":\"26474\",\"type\":\"FactorRange\"},\"x_scale\":{\"id\":\"26481\",\"type\":\"CategoricalScale\"},\"y_range\":{\"id\":\"26479\",\"type\":\"DataRange1d\"},\"y_scale\":{\"id\":\"26483\",\"type\":\"LinearScale\"}},\"id\":\"26476\",\"subtype\":\"Figure\",\"type\":\"Plot\"},{\"attributes\":{\"grid_line_color\":{\"value\":null},\"plot\":{\"id\":\"26476\",\"subtype\":\"Figure\",\"type\":\"Plot\"},\"ticker\":{\"id\":\"26486\",\"type\":\"CategoricalTicker\"}},\"id\":\"26488\",\"type\":\"Grid\"},{\"attributes\":{\"formatter\":{\"id\":\"27153\",\"type\":\"BasicTickFormatter\"},\"plot\":{\"id\":\"26476\",\"subtype\":\"Figure\",\"type\":\"Plot\"},\"ticker\":{\"id\":\"26490\",\"type\":\"BasicTicker\"}},\"id\":\"26489\",\"type\":\"LinearAxis\"},{\"attributes\":{\"callback\":null,\"data\":{\"counts\":[2,5,3,1,3,2,4,3,4,3,2,4,2,4,5,4,6,3],\"x\":[[\"Apples\",\"2015\"],[\"Apples\",\"2016\"],[\"Apples\",\"2017\"],[\"Pears\",\"2015\"],[\"Pears\",\"2016\"],[\"Pears\",\"2017\"],[\"Nectarines\",\"2015\"],[\"Nectarines\",\"2016\"],[\"Nectarines\",\"2017\"],[\"Plums\",\"2015\"],[\"Plums\",\"2016\"],[\"Plums\",\"2017\"],[\"Grapes\",\"2015\"],[\"Grapes\",\"2016\"],[\"Grapes\",\"2017\"],[\"Strawberries\",\"2015\"],[\"Strawberries\",\"2016\"],[\"Strawberries\",\"2017\"]]},\"selected\":{\"id\":\"26424\",\"type\":\"Selection\"},\"selection_policy\":{\"id\":\"26423\",\"type\":\"UnionRenderers\"}},\"id\":\"25750\",\"type\":\"ColumnDataSource\"},{\"attributes\":{},\"id\":\"26490\",\"type\":\"BasicTicker\"},{\"attributes\":{\"dimension\":1,\"plot\":{\"id\":\"26476\",\"subtype\":\"Figure\",\"type\":\"Plot\"},\"ticker\":{\"id\":\"26490\",\"type\":\"BasicTicker\"}},\"id\":\"26493\",\"type\":\"Grid\"},{\"attributes\":{},\"id\":\"26483\",\"type\":\"LinearScale\"},{\"attributes\":{},\"id\":\"26423\",\"type\":\"UnionRenderers\"},{\"attributes\":{\"fill_color\":{\"field\":\"x\",\"transform\":{\"id\":\"26509\",\"type\":\"CategoricalColorMapper\"}},\"line_color\":{\"value\":\"white\"},\"top\":{\"field\":\"counts\"},\"width\":{\"value\":0.9},\"x\":{\"field\":\"x\"}},\"id\":\"26511\",\"type\":\"VBar\"},{\"attributes\":{},\"id\":\"26494\",\"type\":\"PanTool\"},{\"attributes\":{\"end\":2,\"factors\":[\"2015\",\"2016\",\"2017\"],\"palette\":[\"firebrick\",\"olive\",\"navy\"],\"start\":1},\"id\":\"26509\",\"type\":\"CategoricalColorMapper\"},{\"attributes\":{\"overlay\":{\"id\":\"26502\",\"type\":\"BoxAnnotation\"}},\"id\":\"26496\",\"type\":\"BoxZoomTool\"},{\"attributes\":{\"plot\":null,\"text\":\"Fruit Counts by Year\"},\"id\":\"26475\",\"type\":\"Title\"},{\"attributes\":{},\"id\":\"26495\",\"type\":\"WheelZoomTool\"},{\"attributes\":{},\"id\":\"26497\",\"type\":\"SaveTool\"},{\"attributes\":{},\"id\":\"26498\",\"type\":\"ResetTool\"},{\"attributes\":{\"callback\":null,\"factors\":[[\"Apples\",\"2015\"],[\"Apples\",\"2016\"],[\"Apples\",\"2017\"],[\"Pears\",\"2015\"],[\"Pears\",\"2016\"],[\"Pears\",\"2017\"],[\"Nectarines\",\"2015\"],[\"Nectarines\",\"2016\"],[\"Nectarines\",\"2017\"],[\"Plums\",\"2015\"],[\"Plums\",\"2016\"],[\"Plums\",\"2017\"],[\"Grapes\",\"2015\"],[\"Grapes\",\"2016\"],[\"Grapes\",\"2017\"],[\"Strawberries\",\"2015\"],[\"Strawberries\",\"2016\"],[\"Strawberries\",\"2017\"]],\"range_padding\":0.1},\"id\":\"26474\",\"type\":\"FactorRange\"},{\"attributes\":{},\"id\":\"26499\",\"type\":\"HelpTool\"},{\"attributes\":{},\"id\":\"26486\",\"type\":\"CategoricalTicker\"},{\"attributes\":{\"fill_alpha\":{\"value\":0.1},\"fill_color\":{\"value\":\"#1f77b4\"},\"line_alpha\":{\"value\":0.1},\"line_color\":{\"value\":\"#1f77b4\"},\"top\":{\"field\":\"counts\"},\"width\":{\"value\":0.9},\"x\":{\"field\":\"x\"}},\"id\":\"26512\",\"type\":\"VBar\"},{\"attributes\":{\"formatter\":{\"id\":\"27151\",\"type\":\"CategoricalTickFormatter\"},\"major_label_orientation\":1,\"plot\":{\"id\":\"26476\",\"subtype\":\"Figure\",\"type\":\"Plot\"},\"ticker\":{\"id\":\"26486\",\"type\":\"CategoricalTicker\"}},\"id\":\"26485\",\"type\":\"CategoricalAxis\"},{\"attributes\":{\"bottom_units\":\"screen\",\"fill_alpha\":{\"value\":0.5},\"fill_color\":{\"value\":\"lightgrey\"},\"left_units\":\"screen\",\"level\":\"overlay\",\"line_alpha\":{\"value\":1.0},\"line_color\":{\"value\":\"black\"},\"line_dash\":[4,4],\"line_width\":{\"value\":2},\"plot\":null,\"render_mode\":\"css\",\"right_units\":\"screen\",\"top_units\":\"screen\"},\"id\":\"26502\",\"type\":\"BoxAnnotation\"},{\"attributes\":{},\"id\":\"26424\",\"type\":\"Selection\"},{\"attributes\":{},\"id\":\"26481\",\"type\":\"CategoricalScale\"},{\"attributes\":{\"active_drag\":\"auto\",\"active_inspect\":\"auto\",\"active_multi\":null,\"active_scroll\":\"auto\",\"active_tap\":\"auto\",\"tools\":[{\"id\":\"26494\",\"type\":\"PanTool\"},{\"id\":\"26495\",\"type\":\"WheelZoomTool\"},{\"id\":\"26496\",\"type\":\"BoxZoomTool\"},{\"id\":\"26497\",\"type\":\"SaveTool\"},{\"id\":\"26498\",\"type\":\"ResetTool\"},{\"id\":\"26499\",\"type\":\"HelpTool\"}]},\"id\":\"26500\",\"type\":\"Toolbar\"},{\"attributes\":{},\"id\":\"27151\",\"type\":\"CategoricalTickFormatter\"},{\"attributes\":{\"data_source\":{\"id\":\"25750\",\"type\":\"ColumnDataSource\"},\"glyph\":{\"id\":\"26511\",\"type\":\"VBar\"},\"hover_glyph\":null,\"muted_glyph\":null,\"nonselection_glyph\":{\"id\":\"26512\",\"type\":\"VBar\"},\"selection_glyph\":null,\"view\":{\"id\":\"26514\",\"type\":\"CDSView\"}},\"id\":\"26513\",\"type\":\"GlyphRenderer\"},{\"attributes\":{\"source\":{\"id\":\"25750\",\"type\":\"ColumnDataSource\"}},\"id\":\"26514\",\"type\":\"CDSView\"},{\"attributes\":{},\"id\":\"27153\",\"type\":\"BasicTickFormatter\"},{\"attributes\":{\"callback\":null,\"start\":0},\"id\":\"26479\",\"type\":\"DataRange1d\"}],\"root_ids\":[\"26476\"]},\"title\":\"Bokeh Application\",\"version\":\"1.0.4\"}};\n",
       "  var render_items = [{\"docid\":\"6d868871-7871-4352-a828-07b891338e03\",\"roots\":{\"26476\":\"1f88a6b1-366a-4c17-84d7-9636fad6bca5\"}}];\n",
       "  root.Bokeh.embed.embed_items_notebook(docs_json, render_items);\n",
       "\n",
       "  }\n",
       "  if (root.Bokeh !== undefined) {\n",
       "    embed_document(root);\n",
       "  } else {\n",
       "    var attempts = 0;\n",
       "    var timer = setInterval(function(root) {\n",
       "      if (root.Bokeh !== undefined) {\n",
       "        embed_document(root);\n",
       "        clearInterval(timer);\n",
       "      }\n",
       "      attempts++;\n",
       "      if (attempts > 100) {\n",
       "        console.log(\"Bokeh: ERROR: Unable to run BokehJS code because BokehJS library is missing\");\n",
       "        clearInterval(timer);\n",
       "      }\n",
       "    }, 10, root)\n",
       "  }\n",
       "})(window);"
      ],
      "application/vnd.bokehjs_exec.v0+json": ""
     },
     "metadata": {
      "application/vnd.bokehjs_exec.v0+json": {
       "id": "26476"
      }
     },
     "output_type": "display_data"
    }
   ],
   "source": [
    "from bokeh.transform import factor_cmap\n",
    "\n",
    "p = figure(x_range=FactorRange(*x), plot_height=250, title=\"Fruit Counts by Year\")\n",
    "\n",
    "p.vbar(x='x', top='counts', width=0.9, source=source, line_color=\"white\",\n",
    "\n",
    "       # use the palette to colormap based on the the x[1:2] values\n",
    "       fill_color=factor_cmap('x', palette=['firebrick', 'olive', 'navy'], factors=years, start=1, end=2))\n",
    "\n",
    "p.y_range.start = 0\n",
    "p.x_range.range_padding = 0.1\n",
    "p.xaxis.major_label_orientation = 1\n",
    "p.xgrid.grid_line_color = None\n",
    "\n",
    "show(p)"
   ]
  },
  {
   "cell_type": "code",
   "execution_count": null,
   "metadata": {},
   "outputs": [],
   "source": []
  },
  {
   "cell_type": "code",
   "execution_count": null,
   "metadata": {},
   "outputs": [],
   "source": []
  },
  {
   "cell_type": "code",
   "execution_count": null,
   "metadata": {},
   "outputs": [],
   "source": []
  },
  {
   "cell_type": "code",
   "execution_count": null,
   "metadata": {},
   "outputs": [],
   "source": []
  },
  {
   "cell_type": "code",
   "execution_count": null,
   "metadata": {},
   "outputs": [],
   "source": []
  },
  {
   "cell_type": "code",
   "execution_count": null,
   "metadata": {},
   "outputs": [],
   "source": []
  }
 ],
 "metadata": {
  "celltoolbar": "Slideshow",
  "kernelspec": {
   "display_name": "Python 3",
   "language": "python",
   "name": "python3"
  },
  "language_info": {
   "codemirror_mode": {
    "name": "ipython",
    "version": 3
   },
   "file_extension": ".py",
   "mimetype": "text/x-python",
   "name": "python",
   "nbconvert_exporter": "python",
   "pygments_lexer": "ipython3",
   "version": "3.7.3"
  },
  "livereveal": {
   "start_slideshow_at": "selected"
  }
 },
 "nbformat": 4,
 "nbformat_minor": 2
}
