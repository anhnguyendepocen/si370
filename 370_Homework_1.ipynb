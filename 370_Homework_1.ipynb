{
 "cells": [
  {
   "cell_type": "markdown",
   "metadata": {
    "colab_type": "text",
    "id": "UGqk3SzXsMR3"
   },
   "source": [
    "# SI 370 - Homework #1: Data Manipulation and Preliminary Analyses"
   ]
  },
  {
   "cell_type": "markdown",
   "metadata": {},
   "source": [
    "## Background"
   ]
  },
  {
   "cell_type": "markdown",
   "metadata": {},
   "source": [
    "This homework assignment focuses on the exploration and analysis of historical data from the Olympic games.  The description of the data includes the following:\n",
    "> This is a historical dataset on the modern Olympic Games, including all the Games from Athens 1896 to Rio 2016. I scraped this data from www.sports-reference.com in May 2018."
   ]
  },
  {
   "cell_type": "markdown",
   "metadata": {},
   "source": [
    "Your main task in this assignment is to explore the data *using the data\n",
    "manipulation and analysis methods we covered in class* as well as those in the assigned readings.  You may need to consult pandas documentation, Stack Overflow, or other online resources.  \n",
    "\n",
    "** You should also feel free to ask questions on the class Slack channel! **"
   ]
  },
  {
   "cell_type": "markdown",
   "metadata": {
    "colab_type": "text",
    "id": "pbqbtPreaCjs"
   },
   "source": [
    "A total of 30 points is available in this homework assignment.\n",
    "\n",
    "Each of Questions 1-5 are worth 5 points each.  Points will be allocated according to the following rubric:\n",
    "\n",
    "- 5 points: Question is correctly and completely answered.  Answer consists of well-written code that conforms to [PEP 8](https://www.python.org/dev/peps/pep-0008/) guidelines and is \n",
    "accompanied by a written interpretation in a Markdown block.  Written interpretation does not contain spelling, grammar or stylistic errors (see https://faculty.washington.edu/heagerty/Courses/b572/public/StrunkWhite.pdf for a detailed specifications).\n",
    "- 4 points: Answer is mostly complete and correct; two or fewer noticeable omissions or errors.  Minor stylistic flaws, either in code or in \n",
    "written interpretation.\n",
    "- 3 points: Answer has significant omissions or errors; Noticeable departure from PEP-8 guildelines and/or moderate spelling, grammar, or style issues\n",
    "in written interpretations.\n",
    "- 2 points: Question is perfunctorily attempted.  Substantial parts are missing or incorrect.\n",
    "- 0 points: Question not attempted.\n",
    "\n",
    "A bonus question worth up to 5 points is also available."
   ]
  },
  {
   "cell_type": "markdown",
   "metadata": {
    "colab_type": "text",
    "id": "Pr9WBUQyZY4V"
   },
   "source": [
    "## 0. Download the data from: \n",
    "- https://www.kaggle.com/heesoo37/120-years-of-olympic-history-athletes-and-results\n"
   ]
  },
  {
   "cell_type": "markdown",
   "metadata": {
    "colab_type": "text",
    "id": "8EV1PilWtl0Z"
   },
   "source": [
    "## 1. Answer the questions below. \n",
    "For each question, you should\n",
    "1. Write code using Python and pandas that can help you answer the following questions, and\n",
    "2. Explain your answers in plain English. You should use complete sentences that would be understood by an educated professional who is not necessarily a data scientist (like a product manager)."
   ]
  },
  {
   "cell_type": "markdown",
   "metadata": {
    "colab_type": "text",
    "id": "PfjXDtHoabcS"
   },
   "source": [
    "### 5 pt: Load and describe the dataset. \n",
    "- How many number rows and columns are there in the data frame? \n",
    "- Provide summary statistics (i.e. use the .describe() function) for the numeric variables from the athlete_events.csv file."
   ]
  },
  {
   "cell_type": "code",
   "execution_count": null,
   "metadata": {
    "colab": {},
    "colab_type": "code",
    "id": "ttHwVC8ot5Ur"
   },
   "outputs": [],
   "source": [
    "# put your code here"
   ]
  },
  {
   "cell_type": "markdown",
   "metadata": {
    "colab_type": "text",
    "id": "g1RAXO76uN-A"
   },
   "source": [
    "(and explain your answers)"
   ]
  },
  {
   "cell_type": "markdown",
   "metadata": {
    "colab_type": "text",
    "id": "tbmL9-kta0o4"
   },
   "source": [
    "### 5 pt: Describe the distribution of heights, weights and ages using appropriate plots.  Comment on whether the distributions appear to be normally distributed. \n"
   ]
  },
  {
   "cell_type": "code",
   "execution_count": null,
   "metadata": {
    "colab": {},
    "colab_type": "code",
    "id": "33LcHThyt5_N"
   },
   "outputs": [],
   "source": [
    "# put your code here"
   ]
  },
  {
   "cell_type": "markdown",
   "metadata": {
    "colab_type": "text",
    "id": "FD6-7-D-uWmX"
   },
   "source": [
    "(Use this space to explain your answers)"
   ]
  },
  {
   "cell_type": "markdown",
   "metadata": {
    "colab_type": "text",
    "id": "0u5VM5ksbCTm"
   },
   "source": [
    "### 5 pt: Which athlete competed in most number of events? \n",
    "In which events did the athelete participate, and for what range of years? Which country did the athlete represent?"
   ]
  },
  {
   "cell_type": "code",
   "execution_count": null,
   "metadata": {
    "colab": {},
    "colab_type": "code",
    "id": "JtI8ru2at6ZU"
   },
   "outputs": [],
   "source": [
    "# put your code here"
   ]
  },
  {
   "cell_type": "markdown",
   "metadata": {
    "colab_type": "text",
    "id": "CCuxztg3uYPQ"
   },
   "source": [
    "(Use this space to explain your answers)"
   ]
  },
  {
   "cell_type": "markdown",
   "metadata": {
    "colab_type": "text",
    "id": "2wH5ikUcbb16"
   },
   "source": [
    "### 5 pt: Which sport has the highest median athlete age? \n",
    "To determine this, you might want to calculate and plot the median age for each sport. You may want to sort the axes appropriately for your analysis."
   ]
  },
  {
   "cell_type": "code",
   "execution_count": 1,
   "metadata": {
    "colab": {},
    "colab_type": "code",
    "id": "GneWWgFVt62N"
   },
   "outputs": [],
   "source": [
    "# put your code here"
   ]
  },
  {
   "cell_type": "markdown",
   "metadata": {
    "colab_type": "text",
    "id": "WlWYu2_5uY7K"
   },
   "source": [
    "(Use this space to explain your answers)"
   ]
  },
  {
   "cell_type": "markdown",
   "metadata": {
    "colab_type": "text",
    "id": "lwumWcqTcMCs"
   },
   "source": [
    "### 5 pt: Which countries have more female medalists than male medalists?"
   ]
  },
  {
   "cell_type": "code",
   "execution_count": 3,
   "metadata": {
    "colab": {},
    "colab_type": "code",
    "id": "OMnjkk4St77B"
   },
   "outputs": [],
   "source": [
    "# put your code here"
   ]
  },
  {
   "cell_type": "markdown",
   "metadata": {
    "colab_type": "text",
    "id": "nau57Y2ZuZ6Y"
   },
   "source": [
    "(Use this space to explain your answers)"
   ]
  },
  {
   "cell_type": "markdown",
   "metadata": {
    "colab_type": "text",
    "id": "7n5ybXFQcR-g"
   },
   "source": [
    "### 5 pt: Which country won the most medal points in each of the 2014 Winter Olympics?\n",
    "Rank each country by a score, where 3 points are assigned for a gold medal, 2 points for silver, and 1 point for bronze."
   ]
  },
  {
   "cell_type": "code",
   "execution_count": 4,
   "metadata": {
    "colab": {},
    "colab_type": "code",
    "id": "FoWTh2ekt8Wp"
   },
   "outputs": [],
   "source": [
    "# put your code here"
   ]
  },
  {
   "cell_type": "markdown",
   "metadata": {
    "colab_type": "text",
    "id": "lGrRhr22uan4"
   },
   "source": [
    "(Use this space to explain your answers)"
   ]
  },
  {
   "cell_type": "markdown",
   "metadata": {
    "colab_type": "text",
    "id": "l8k4nqgfeFJb"
   },
   "source": [
    "### BONUS 5 pt: For each year in which games were held, what proportion of gold medals did the host country win? \n",
    "You will need to combine multiple datasets to complete the analysis.  We suggest using the following resource:\n",
    "- https://en.wikipedia.org/wiki/List_of_Olympic_Games_host_cities (note: you can use the [read_html](https://pandas.pydata.org/pandas-docs/stable/generated/pandas.read_html.html) function to load the data into a DataFrame."
   ]
  },
  {
   "cell_type": "code",
   "execution_count": null,
   "metadata": {
    "colab": {},
    "colab_type": "code",
    "id": "zOlDIr9zt81i"
   },
   "outputs": [],
   "source": [
    "# put your code here"
   ]
  },
  {
   "cell_type": "markdown",
   "metadata": {
    "colab_type": "text",
    "id": "R9dYAutxubGJ"
   },
   "source": [
    "(Use this space to explain your answers)"
   ]
  },
  {
   "cell_type": "markdown",
   "metadata": {},
   "source": [
    "## Please submit your completed notebook in .IPYNB and .HTML formats via Canvas"
   ]
  },
  {
   "cell_type": "code",
   "execution_count": null,
   "metadata": {},
   "outputs": [],
   "source": []
  }
 ],
 "metadata": {
  "colab": {
   "collapsed_sections": [],
   "name": "618_HW1.ipynb",
   "provenance": [],
   "version": "0.3.2"
  },
  "kernelspec": {
   "display_name": "Python 3",
   "language": "python",
   "name": "python3"
  },
  "language_info": {
   "codemirror_mode": {
    "name": "ipython",
    "version": 3
   },
   "file_extension": ".py",
   "mimetype": "text/x-python",
   "name": "python",
   "nbconvert_exporter": "python",
   "pygments_lexer": "ipython3",
   "version": "3.6.4"
  }
 },
 "nbformat": 4,
 "nbformat_minor": 2
}
