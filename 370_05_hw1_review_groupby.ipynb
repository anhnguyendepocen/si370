{
 "cells": [
  {
   "cell_type": "markdown",
   "metadata": {},
   "source": [
    "# SI370 Day 5: Panda's groupby\n",
    "## You can find this notebook and the associated data as day5.zip on our Canvas site.\n",
    "## Direct link to download is available on our __[Slack channel](https://si370fa2018.slack.com/messages/CANCB6J4C)__."
   ]
  },
  {
   "cell_type": "code",
   "execution_count": null,
   "metadata": {},
   "outputs": [],
   "source": [
    "import pandas as pd"
   ]
  },
  {
   "cell_type": "code",
   "execution_count": null,
   "metadata": {},
   "outputs": [],
   "source": [
    "olympics = pd.read_csv('data/athlete_events.csv')"
   ]
  },
  {
   "cell_type": "markdown",
   "metadata": {},
   "source": [
    "## Q1: What country has sent the most athletes to the Olympics?"
   ]
  },
  {
   "cell_type": "code",
   "execution_count": null,
   "metadata": {},
   "outputs": [],
   "source": [
    "total_representatives = olympics[['Team']].groupby(by = ['Team']).size().to_frame(name = 'size')\n",
    "total_representatives.head()"
   ]
  },
  {
   "cell_type": "markdown",
   "metadata": {},
   "source": [
    "*.groupby()*'s parameter *by* takes a list, so you can groupby more than one characteristic. The order of the items in the list matters; different orders produce different tables."
   ]
  },
  {
   "cell_type": "markdown",
   "metadata": {},
   "source": [
    ".size() returns a series, you can include .to_frame() to get a DataFrame"
   ]
  },
  {
   "cell_type": "markdown",
   "metadata": {},
   "source": [
    ".size() returns a column without a name, you can name it with .to_frame()"
   ]
  },
  {
   "cell_type": "code",
   "execution_count": null,
   "metadata": {},
   "outputs": [],
   "source": [
    "total_representatives.columns = ['Count']\n",
    "total_representatives.head()"
   ]
  },
  {
   "cell_type": "markdown",
   "metadata": {},
   "source": [
    ".columns is another way to name the column and is useful when you want to rename more than 1 column"
   ]
  },
  {
   "cell_type": "code",
   "execution_count": null,
   "metadata": {},
   "outputs": [],
   "source": [
    "total_representatives.sort_values(by = 'Count', ascending = False).head()"
   ]
  },
  {
   "cell_type": "markdown",
   "metadata": {},
   "source": [
    "*.sort_values()*'s parameter *by* is mandatory for DataFrames, so you want to name your column before you sort it."
   ]
  },
  {
   "cell_type": "markdown",
   "metadata": {},
   "source": [
    "## Q2: What country has the smallest difference in number of female and male representatives?\n",
    "*exercise for students to do in-class if there's time*"
   ]
  },
  {
   "cell_type": "code",
   "execution_count": null,
   "metadata": {},
   "outputs": [],
   "source": [
    "olympics.head()"
   ]
  },
  {
   "cell_type": "code",
   "execution_count": null,
   "metadata": {},
   "outputs": [],
   "source": [
    "females_count = olympics[olympics['Sex'] =='F'][['Team']].groupby(by = ['Team']).size().to_frame()\n",
    "males_count = olympics[olympics['Sex'] =='M'][['Team']].groupby(by = ['Team']).size().to_frame()\n",
    "females_count.head()"
   ]
  },
  {
   "cell_type": "code",
   "execution_count": null,
   "metadata": {},
   "outputs": [],
   "source": [
    "females_count.columns = ['number of females']\n",
    "males_count.columns = ['number of males']\n",
    "males_count.head()"
   ]
  },
  {
   "cell_type": "code",
   "execution_count": null,
   "metadata": {},
   "outputs": [],
   "source": [
    "df1 = females_count.join(males_count).dropna()"
   ]
  },
  {
   "cell_type": "code",
   "execution_count": null,
   "metadata": {},
   "outputs": [],
   "source": [
    "df1['difference'] = df1['number of females'] - df1['number of males']"
   ]
  },
  {
   "cell_type": "code",
   "execution_count": null,
   "metadata": {},
   "outputs": [],
   "source": [
    "df1.sort_values(by = 'difference', ascending = False)"
   ]
  },
  {
   "cell_type": "markdown",
   "metadata": {},
   "source": [
    "## Using Unstack to Answer Q2"
   ]
  },
  {
   "cell_type": "code",
   "execution_count": null,
   "metadata": {},
   "outputs": [],
   "source": [
    "df3 = olympics[['Team','Sex']].groupby(['Team','Sex']).size().to_frame()\n",
    "df3.columns = ['Counts']\n",
    "df3 = df3.unstack('Sex')\n",
    "df3 = df3['Counts']\n",
    "df3['diff'] = df3['F'] - df3['M']\n",
    "df3.sort_values(by = 'diff', ascending = False).dropna().head()"
   ]
  },
  {
   "cell_type": "markdown",
   "metadata": {},
   "source": [
    "## for more information on groupby, check out the __[pandas groupby documentation](https://pandas.pydata.org/pandas-docs/stable/generated/pandas.DataFrame.groupby.html)__"
   ]
  },
  {
   "cell_type": "markdown",
   "metadata": {},
   "source": [
    "## for more information on gender inequality in the olympics, check out __[this article and its vizualizations in *The Guardian*](https://www.theguardian.com/sport/ng-interactive/2018/feb/08/winter-olympics-womens-long-race-to-parity)__"
   ]
  },
  {
   "cell_type": "code",
   "execution_count": null,
   "metadata": {},
   "outputs": [],
   "source": []
  }
 ],
 "metadata": {
  "kernelspec": {
   "display_name": "Python 3",
   "language": "python",
   "name": "python3"
  },
  "language_info": {
   "codemirror_mode": {
    "name": "ipython",
    "version": 3
   },
   "file_extension": ".py",
   "mimetype": "text/x-python",
   "name": "python",
   "nbconvert_exporter": "python",
   "pygments_lexer": "ipython3",
   "version": "3.6.6"
  }
 },
 "nbformat": 4,
 "nbformat_minor": 2
}
