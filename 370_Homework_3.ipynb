{
 "cells": [
  {
   "cell_type": "markdown",
   "metadata": {
    "colab_type": "text",
    "id": "UGqk3SzXsMR3"
   },
   "source": [
    "### SI 370 - Homework #3: Applied Statistics"
   ]
  },
  {
   "cell_type": "markdown",
   "metadata": {},
   "source": [
    "## Background"
   ]
  },
  {
   "cell_type": "markdown",
   "metadata": {},
   "source": [
    "This homework assignment focuses on data from the [World Happiness Report](https://www.kaggle.com/unsdsn/world-happiness).\n",
    "\n",
    "The World Happiness Report is a landmark survey of the state of global happiness. The first report was published in 2012, the second in 2013, the third in 2015, and the fourth in the 2016 Update. The World Happiness 2017, which ranks 155 countries by their happiness levels, was released at the United Nations at an event celebrating International Day of Happiness on March 20th. The report continues to gain global recognition as governments, organizations and civil society increasingly use happiness indicators to inform their policy-making decisions. Leading experts across fields – economics, psychology, survey analysis, national statistics, health, public policy and more – describe how measurements of well-being can be used effectively to assess the progress of nations. The reports review the state of happiness in the world today and show how the new science of happiness explains personal and national variations in happiness.\n",
    "\n",
    "We will be using data from the 2016 report."
   ]
  },
  {
   "cell_type": "markdown",
   "metadata": {},
   "source": [
    "Your main task in this assignment is to explore the data *using the data\n",
    "manipulation, analysis, visualization, and applied statistical methods we covered in class* as well as those in the assigned readings. \n",
    "\n",
    "** You should also feel free to ask questions on the __[class Slack channel](https://si370fa2018.slack.com/messages/CCQLTNS65/team/UCFLDB049/)__ ! **"
   ]
  },
  {
   "cell_type": "markdown",
   "metadata": {
    "colab_type": "text",
    "id": "pbqbtPreaCjs"
   },
   "source": [
    "A total of 30 points is available in this homework assignment.\n",
    "\n",
    "Questions 1-6 are worth 5 points each.  Points will be allocated according to the following rubric:\n",
    "\n",
    "- 5 points: Question is correctly and completely answered.  Answer consists of well-written code that conforms to [PEP 8](https://www.python.org/dev/peps/pep-0008/) guidelines and is \n",
    "accompanied by a written interpretation in a Markdown block.  Written interpretation does not contain spelling, grammar or stylistic errors (see https://faculty.washington.edu/heagerty/Courses/b572/public/StrunkWhite.pdf for a detailed specifications).\n",
    "- 4 points: Answer is mostly complete and correct; two or fewer noticeable omissions or errors.  Minor stylistic flaws, either in code or in written interpretation.\n",
    "- 3 points: Answer has significant omissions or errors; Noticeable departure from PEP-8 guidelines and/or moderate spelling, grammar, or style issues in written interpretations.\n",
    "- 2 points: Question is perfunctorily attempted.  Substantial parts are missing or incorrect.\n",
    "- 0 points: Question not attempted.\n",
    "\n",
    "A bonus question worth up to 5 points is also available."
   ]
  },
  {
   "cell_type": "code",
   "execution_count": 1,
   "metadata": {},
   "outputs": [],
   "source": [
    "import pandas as pd\n",
    "import numpy as np\n",
    "import matplotlib.pyplot as plt\n",
    "import seaborn as sns"
   ]
  },
  {
   "cell_type": "code",
   "execution_count": 10,
   "metadata": {},
   "outputs": [],
   "source": [
    "happiness = pd.read_csv('data/world-happiness-2016.csv')"
   ]
  },
  {
   "cell_type": "code",
   "execution_count": 11,
   "metadata": {},
   "outputs": [
    {
     "data": {
      "text/plain": [
       "(157, 13)"
      ]
     },
     "execution_count": 11,
     "metadata": {},
     "output_type": "execute_result"
    }
   ],
   "source": [
    "happiness.shape"
   ]
  },
  {
   "cell_type": "code",
   "execution_count": 12,
   "metadata": {},
   "outputs": [
    {
     "data": {
      "text/html": [
       "<div>\n",
       "<style scoped>\n",
       "    .dataframe tbody tr th:only-of-type {\n",
       "        vertical-align: middle;\n",
       "    }\n",
       "\n",
       "    .dataframe tbody tr th {\n",
       "        vertical-align: top;\n",
       "    }\n",
       "\n",
       "    .dataframe thead th {\n",
       "        text-align: right;\n",
       "    }\n",
       "</style>\n",
       "<table border=\"1\" class=\"dataframe\">\n",
       "  <thead>\n",
       "    <tr style=\"text-align: right;\">\n",
       "      <th></th>\n",
       "      <th>Country</th>\n",
       "      <th>Region</th>\n",
       "      <th>Happiness Rank</th>\n",
       "      <th>Happiness Score</th>\n",
       "      <th>Lower Confidence Interval</th>\n",
       "      <th>Upper Confidence Interval</th>\n",
       "      <th>Economy (GDP per Capita)</th>\n",
       "      <th>Family</th>\n",
       "      <th>Health (Life Expectancy)</th>\n",
       "      <th>Freedom</th>\n",
       "      <th>Trust (Government Corruption)</th>\n",
       "      <th>Generosity</th>\n",
       "      <th>Dystopia Residual</th>\n",
       "    </tr>\n",
       "  </thead>\n",
       "  <tbody>\n",
       "    <tr>\n",
       "      <th>0</th>\n",
       "      <td>Denmark</td>\n",
       "      <td>Western Europe</td>\n",
       "      <td>1</td>\n",
       "      <td>7.526</td>\n",
       "      <td>7.460</td>\n",
       "      <td>7.592</td>\n",
       "      <td>1.44178</td>\n",
       "      <td>1.16374</td>\n",
       "      <td>0.79504</td>\n",
       "      <td>0.57941</td>\n",
       "      <td>0.44453</td>\n",
       "      <td>0.36171</td>\n",
       "      <td>2.73939</td>\n",
       "    </tr>\n",
       "    <tr>\n",
       "      <th>1</th>\n",
       "      <td>Switzerland</td>\n",
       "      <td>Western Europe</td>\n",
       "      <td>2</td>\n",
       "      <td>7.509</td>\n",
       "      <td>7.428</td>\n",
       "      <td>7.590</td>\n",
       "      <td>1.52733</td>\n",
       "      <td>1.14524</td>\n",
       "      <td>0.86303</td>\n",
       "      <td>0.58557</td>\n",
       "      <td>0.41203</td>\n",
       "      <td>0.28083</td>\n",
       "      <td>2.69463</td>\n",
       "    </tr>\n",
       "    <tr>\n",
       "      <th>2</th>\n",
       "      <td>Iceland</td>\n",
       "      <td>Western Europe</td>\n",
       "      <td>3</td>\n",
       "      <td>7.501</td>\n",
       "      <td>7.333</td>\n",
       "      <td>7.669</td>\n",
       "      <td>1.42666</td>\n",
       "      <td>1.18326</td>\n",
       "      <td>0.86733</td>\n",
       "      <td>0.56624</td>\n",
       "      <td>0.14975</td>\n",
       "      <td>0.47678</td>\n",
       "      <td>2.83137</td>\n",
       "    </tr>\n",
       "    <tr>\n",
       "      <th>3</th>\n",
       "      <td>Norway</td>\n",
       "      <td>Western Europe</td>\n",
       "      <td>4</td>\n",
       "      <td>7.498</td>\n",
       "      <td>7.421</td>\n",
       "      <td>7.575</td>\n",
       "      <td>1.57744</td>\n",
       "      <td>1.12690</td>\n",
       "      <td>0.79579</td>\n",
       "      <td>0.59609</td>\n",
       "      <td>0.35776</td>\n",
       "      <td>0.37895</td>\n",
       "      <td>2.66465</td>\n",
       "    </tr>\n",
       "    <tr>\n",
       "      <th>4</th>\n",
       "      <td>Finland</td>\n",
       "      <td>Western Europe</td>\n",
       "      <td>5</td>\n",
       "      <td>7.413</td>\n",
       "      <td>7.351</td>\n",
       "      <td>7.475</td>\n",
       "      <td>1.40598</td>\n",
       "      <td>1.13464</td>\n",
       "      <td>0.81091</td>\n",
       "      <td>0.57104</td>\n",
       "      <td>0.41004</td>\n",
       "      <td>0.25492</td>\n",
       "      <td>2.82596</td>\n",
       "    </tr>\n",
       "    <tr>\n",
       "      <th>5</th>\n",
       "      <td>Canada</td>\n",
       "      <td>North America</td>\n",
       "      <td>6</td>\n",
       "      <td>7.404</td>\n",
       "      <td>7.335</td>\n",
       "      <td>7.473</td>\n",
       "      <td>1.44015</td>\n",
       "      <td>1.09610</td>\n",
       "      <td>0.82760</td>\n",
       "      <td>0.57370</td>\n",
       "      <td>0.31329</td>\n",
       "      <td>0.44834</td>\n",
       "      <td>2.70485</td>\n",
       "    </tr>\n",
       "    <tr>\n",
       "      <th>6</th>\n",
       "      <td>Netherlands</td>\n",
       "      <td>Western Europe</td>\n",
       "      <td>7</td>\n",
       "      <td>7.339</td>\n",
       "      <td>7.284</td>\n",
       "      <td>7.394</td>\n",
       "      <td>1.46468</td>\n",
       "      <td>1.02912</td>\n",
       "      <td>0.81231</td>\n",
       "      <td>0.55211</td>\n",
       "      <td>0.29927</td>\n",
       "      <td>0.47416</td>\n",
       "      <td>2.70749</td>\n",
       "    </tr>\n",
       "    <tr>\n",
       "      <th>7</th>\n",
       "      <td>New Zealand</td>\n",
       "      <td>Australia and New Zealand</td>\n",
       "      <td>8</td>\n",
       "      <td>7.334</td>\n",
       "      <td>7.264</td>\n",
       "      <td>7.404</td>\n",
       "      <td>1.36066</td>\n",
       "      <td>1.17278</td>\n",
       "      <td>0.83096</td>\n",
       "      <td>0.58147</td>\n",
       "      <td>0.41904</td>\n",
       "      <td>0.49401</td>\n",
       "      <td>2.47553</td>\n",
       "    </tr>\n",
       "    <tr>\n",
       "      <th>8</th>\n",
       "      <td>Australia</td>\n",
       "      <td>Australia and New Zealand</td>\n",
       "      <td>9</td>\n",
       "      <td>7.313</td>\n",
       "      <td>7.241</td>\n",
       "      <td>7.385</td>\n",
       "      <td>1.44443</td>\n",
       "      <td>1.10476</td>\n",
       "      <td>0.85120</td>\n",
       "      <td>0.56837</td>\n",
       "      <td>0.32331</td>\n",
       "      <td>0.47407</td>\n",
       "      <td>2.54650</td>\n",
       "    </tr>\n",
       "    <tr>\n",
       "      <th>9</th>\n",
       "      <td>Sweden</td>\n",
       "      <td>Western Europe</td>\n",
       "      <td>10</td>\n",
       "      <td>7.291</td>\n",
       "      <td>7.227</td>\n",
       "      <td>7.355</td>\n",
       "      <td>1.45181</td>\n",
       "      <td>1.08764</td>\n",
       "      <td>0.83121</td>\n",
       "      <td>0.58218</td>\n",
       "      <td>0.40867</td>\n",
       "      <td>0.38254</td>\n",
       "      <td>2.54734</td>\n",
       "    </tr>\n",
       "    <tr>\n",
       "      <th>10</th>\n",
       "      <td>Israel</td>\n",
       "      <td>Middle East and Northern Africa</td>\n",
       "      <td>11</td>\n",
       "      <td>7.267</td>\n",
       "      <td>7.199</td>\n",
       "      <td>7.335</td>\n",
       "      <td>1.33766</td>\n",
       "      <td>0.99537</td>\n",
       "      <td>0.84917</td>\n",
       "      <td>0.36432</td>\n",
       "      <td>0.08728</td>\n",
       "      <td>0.32288</td>\n",
       "      <td>3.31029</td>\n",
       "    </tr>\n",
       "    <tr>\n",
       "      <th>11</th>\n",
       "      <td>Austria</td>\n",
       "      <td>Western Europe</td>\n",
       "      <td>12</td>\n",
       "      <td>7.119</td>\n",
       "      <td>7.045</td>\n",
       "      <td>7.193</td>\n",
       "      <td>1.45038</td>\n",
       "      <td>1.08383</td>\n",
       "      <td>0.80565</td>\n",
       "      <td>0.54355</td>\n",
       "      <td>0.21348</td>\n",
       "      <td>0.32865</td>\n",
       "      <td>2.69343</td>\n",
       "    </tr>\n",
       "    <tr>\n",
       "      <th>12</th>\n",
       "      <td>United States</td>\n",
       "      <td>North America</td>\n",
       "      <td>13</td>\n",
       "      <td>7.104</td>\n",
       "      <td>7.020</td>\n",
       "      <td>7.188</td>\n",
       "      <td>1.50796</td>\n",
       "      <td>1.04782</td>\n",
       "      <td>0.77900</td>\n",
       "      <td>0.48163</td>\n",
       "      <td>0.14868</td>\n",
       "      <td>0.41077</td>\n",
       "      <td>2.72782</td>\n",
       "    </tr>\n",
       "    <tr>\n",
       "      <th>13</th>\n",
       "      <td>Costa Rica</td>\n",
       "      <td>Latin America and Caribbean</td>\n",
       "      <td>14</td>\n",
       "      <td>7.087</td>\n",
       "      <td>6.999</td>\n",
       "      <td>7.175</td>\n",
       "      <td>1.06879</td>\n",
       "      <td>1.02152</td>\n",
       "      <td>0.76146</td>\n",
       "      <td>0.55225</td>\n",
       "      <td>0.10547</td>\n",
       "      <td>0.22553</td>\n",
       "      <td>3.35168</td>\n",
       "    </tr>\n",
       "    <tr>\n",
       "      <th>14</th>\n",
       "      <td>Puerto Rico</td>\n",
       "      <td>Latin America and Caribbean</td>\n",
       "      <td>15</td>\n",
       "      <td>7.039</td>\n",
       "      <td>6.794</td>\n",
       "      <td>7.284</td>\n",
       "      <td>1.35943</td>\n",
       "      <td>1.08113</td>\n",
       "      <td>0.77758</td>\n",
       "      <td>0.46823</td>\n",
       "      <td>0.12275</td>\n",
       "      <td>0.22202</td>\n",
       "      <td>3.00760</td>\n",
       "    </tr>\n",
       "    <tr>\n",
       "      <th>15</th>\n",
       "      <td>Germany</td>\n",
       "      <td>Western Europe</td>\n",
       "      <td>16</td>\n",
       "      <td>6.994</td>\n",
       "      <td>6.930</td>\n",
       "      <td>7.058</td>\n",
       "      <td>1.44787</td>\n",
       "      <td>1.09774</td>\n",
       "      <td>0.81487</td>\n",
       "      <td>0.53466</td>\n",
       "      <td>0.28551</td>\n",
       "      <td>0.30452</td>\n",
       "      <td>2.50931</td>\n",
       "    </tr>\n",
       "    <tr>\n",
       "      <th>16</th>\n",
       "      <td>Brazil</td>\n",
       "      <td>Latin America and Caribbean</td>\n",
       "      <td>17</td>\n",
       "      <td>6.952</td>\n",
       "      <td>6.875</td>\n",
       "      <td>7.029</td>\n",
       "      <td>1.08754</td>\n",
       "      <td>1.03938</td>\n",
       "      <td>0.61415</td>\n",
       "      <td>0.40425</td>\n",
       "      <td>0.14166</td>\n",
       "      <td>0.15776</td>\n",
       "      <td>3.50733</td>\n",
       "    </tr>\n",
       "    <tr>\n",
       "      <th>17</th>\n",
       "      <td>Belgium</td>\n",
       "      <td>Western Europe</td>\n",
       "      <td>18</td>\n",
       "      <td>6.929</td>\n",
       "      <td>6.861</td>\n",
       "      <td>6.997</td>\n",
       "      <td>1.42539</td>\n",
       "      <td>1.05249</td>\n",
       "      <td>0.81959</td>\n",
       "      <td>0.51354</td>\n",
       "      <td>0.26248</td>\n",
       "      <td>0.24240</td>\n",
       "      <td>2.61355</td>\n",
       "    </tr>\n",
       "    <tr>\n",
       "      <th>18</th>\n",
       "      <td>Ireland</td>\n",
       "      <td>Western Europe</td>\n",
       "      <td>19</td>\n",
       "      <td>6.907</td>\n",
       "      <td>6.836</td>\n",
       "      <td>6.978</td>\n",
       "      <td>1.48341</td>\n",
       "      <td>1.16157</td>\n",
       "      <td>0.81455</td>\n",
       "      <td>0.54008</td>\n",
       "      <td>0.29754</td>\n",
       "      <td>0.44963</td>\n",
       "      <td>2.15988</td>\n",
       "    </tr>\n",
       "    <tr>\n",
       "      <th>19</th>\n",
       "      <td>Luxembourg</td>\n",
       "      <td>Western Europe</td>\n",
       "      <td>20</td>\n",
       "      <td>6.871</td>\n",
       "      <td>6.804</td>\n",
       "      <td>6.938</td>\n",
       "      <td>1.69752</td>\n",
       "      <td>1.03999</td>\n",
       "      <td>0.84542</td>\n",
       "      <td>0.54870</td>\n",
       "      <td>0.35329</td>\n",
       "      <td>0.27571</td>\n",
       "      <td>2.11055</td>\n",
       "    </tr>\n",
       "  </tbody>\n",
       "</table>\n",
       "</div>"
      ],
      "text/plain": [
       "          Country                           Region  Happiness Rank  \\\n",
       "0         Denmark                   Western Europe               1   \n",
       "1     Switzerland                   Western Europe               2   \n",
       "2         Iceland                   Western Europe               3   \n",
       "3          Norway                   Western Europe               4   \n",
       "4         Finland                   Western Europe               5   \n",
       "5          Canada                    North America               6   \n",
       "6     Netherlands                   Western Europe               7   \n",
       "7     New Zealand        Australia and New Zealand               8   \n",
       "8       Australia        Australia and New Zealand               9   \n",
       "9          Sweden                   Western Europe              10   \n",
       "10         Israel  Middle East and Northern Africa              11   \n",
       "11        Austria                   Western Europe              12   \n",
       "12  United States                    North America              13   \n",
       "13     Costa Rica      Latin America and Caribbean              14   \n",
       "14    Puerto Rico      Latin America and Caribbean              15   \n",
       "15        Germany                   Western Europe              16   \n",
       "16         Brazil      Latin America and Caribbean              17   \n",
       "17        Belgium                   Western Europe              18   \n",
       "18        Ireland                   Western Europe              19   \n",
       "19     Luxembourg                   Western Europe              20   \n",
       "\n",
       "    Happiness Score  Lower Confidence Interval  Upper Confidence Interval  \\\n",
       "0             7.526                      7.460                      7.592   \n",
       "1             7.509                      7.428                      7.590   \n",
       "2             7.501                      7.333                      7.669   \n",
       "3             7.498                      7.421                      7.575   \n",
       "4             7.413                      7.351                      7.475   \n",
       "5             7.404                      7.335                      7.473   \n",
       "6             7.339                      7.284                      7.394   \n",
       "7             7.334                      7.264                      7.404   \n",
       "8             7.313                      7.241                      7.385   \n",
       "9             7.291                      7.227                      7.355   \n",
       "10            7.267                      7.199                      7.335   \n",
       "11            7.119                      7.045                      7.193   \n",
       "12            7.104                      7.020                      7.188   \n",
       "13            7.087                      6.999                      7.175   \n",
       "14            7.039                      6.794                      7.284   \n",
       "15            6.994                      6.930                      7.058   \n",
       "16            6.952                      6.875                      7.029   \n",
       "17            6.929                      6.861                      6.997   \n",
       "18            6.907                      6.836                      6.978   \n",
       "19            6.871                      6.804                      6.938   \n",
       "\n",
       "    Economy (GDP per Capita)   Family  Health (Life Expectancy)  Freedom  \\\n",
       "0                    1.44178  1.16374                   0.79504  0.57941   \n",
       "1                    1.52733  1.14524                   0.86303  0.58557   \n",
       "2                    1.42666  1.18326                   0.86733  0.56624   \n",
       "3                    1.57744  1.12690                   0.79579  0.59609   \n",
       "4                    1.40598  1.13464                   0.81091  0.57104   \n",
       "5                    1.44015  1.09610                   0.82760  0.57370   \n",
       "6                    1.46468  1.02912                   0.81231  0.55211   \n",
       "7                    1.36066  1.17278                   0.83096  0.58147   \n",
       "8                    1.44443  1.10476                   0.85120  0.56837   \n",
       "9                    1.45181  1.08764                   0.83121  0.58218   \n",
       "10                   1.33766  0.99537                   0.84917  0.36432   \n",
       "11                   1.45038  1.08383                   0.80565  0.54355   \n",
       "12                   1.50796  1.04782                   0.77900  0.48163   \n",
       "13                   1.06879  1.02152                   0.76146  0.55225   \n",
       "14                   1.35943  1.08113                   0.77758  0.46823   \n",
       "15                   1.44787  1.09774                   0.81487  0.53466   \n",
       "16                   1.08754  1.03938                   0.61415  0.40425   \n",
       "17                   1.42539  1.05249                   0.81959  0.51354   \n",
       "18                   1.48341  1.16157                   0.81455  0.54008   \n",
       "19                   1.69752  1.03999                   0.84542  0.54870   \n",
       "\n",
       "    Trust (Government Corruption)  Generosity  Dystopia Residual  \n",
       "0                         0.44453     0.36171            2.73939  \n",
       "1                         0.41203     0.28083            2.69463  \n",
       "2                         0.14975     0.47678            2.83137  \n",
       "3                         0.35776     0.37895            2.66465  \n",
       "4                         0.41004     0.25492            2.82596  \n",
       "5                         0.31329     0.44834            2.70485  \n",
       "6                         0.29927     0.47416            2.70749  \n",
       "7                         0.41904     0.49401            2.47553  \n",
       "8                         0.32331     0.47407            2.54650  \n",
       "9                         0.40867     0.38254            2.54734  \n",
       "10                        0.08728     0.32288            3.31029  \n",
       "11                        0.21348     0.32865            2.69343  \n",
       "12                        0.14868     0.41077            2.72782  \n",
       "13                        0.10547     0.22553            3.35168  \n",
       "14                        0.12275     0.22202            3.00760  \n",
       "15                        0.28551     0.30452            2.50931  \n",
       "16                        0.14166     0.15776            3.50733  \n",
       "17                        0.26248     0.24240            2.61355  \n",
       "18                        0.29754     0.44963            2.15988  \n",
       "19                        0.35329     0.27571            2.11055  "
      ]
     },
     "execution_count": 12,
     "metadata": {},
     "output_type": "execute_result"
    }
   ],
   "source": [
    "happiness.head(20)"
   ]
  },
  {
   "cell_type": "markdown",
   "metadata": {
    "colab_type": "text",
    "id": "8EV1PilWtl0Z"
   },
   "source": [
    "## Answer the questions below. \n",
    "For each question, you should\n",
    "1. Write code that can help you answer the following questions, and\n",
    "2. Explain your answers in plain English. You should use complete sentences that would be understood by an educated professional who is not necessarily a data scientist (like a product manager)."
   ]
  },
  {
   "cell_type": "markdown",
   "metadata": {},
   "source": [
    "### <font color=\"magenta\"> Q1: What are the top 5 correlation coefficients among \"Happiness Score\", Economy, Family, Health, Freedom, Trust, and Generosity? Provide a visualization as well as a written statement of your findings. (5 points)"
   ]
  },
  {
   "cell_type": "code",
   "execution_count": 9,
   "metadata": {
    "colab": {},
    "colab_type": "code",
    "id": "ttHwVC8ot5Ur"
   },
   "outputs": [],
   "source": [
    "# put your code here"
   ]
  },
  {
   "cell_type": "markdown",
   "metadata": {
    "colab_type": "text",
    "id": "g1RAXO76uN-A"
   },
   "source": [
    "(and explain your answers)"
   ]
  },
  {
   "cell_type": "markdown",
   "metadata": {
    "colab_type": "text",
    "id": "tbmL9-kta0o4"
   },
   "source": [
    "### <font color='magenta'> Q2: Describe, using plots, the relationships between the following variables: (5 points) </font>\n",
    "1. Happiness vs. Family\n",
    "2. Happiness vs. Economy\n",
    "3. Happiness vs. Health\n",
    "4. Happiness vs. Freedom\n",
    "5. Happiness vs. Trust\n",
    "6. Happiness vs. Generosity\n",
    "\n",
    "You have, at this point, a wide variety of visualizations that you know how to generate.  Choose wisely!"
   ]
  },
  {
   "cell_type": "code",
   "execution_count": 8,
   "metadata": {
    "colab": {},
    "colab_type": "code",
    "id": "33LcHThyt5_N"
   },
   "outputs": [],
   "source": [
    "# put your code here"
   ]
  },
  {
   "cell_type": "markdown",
   "metadata": {
    "colab_type": "text",
    "id": "FD6-7-D-uWmX"
   },
   "source": [
    "(Use this space to explain your answers)"
   ]
  },
  {
   "cell_type": "markdown",
   "metadata": {},
   "source": [
    "### <font color=\"magenta\"> Q3: Does there appear to be an interaction between region and happiness quartile? (5 points)\n",
    "    \n",
    "Create a new variable that represents which quartile each country's happiness score is in.  For example, the first 39 or 40 countries are in the 4th happiness quartile (it's up to you to decide exactly how to divide the countries into happiness quartiles).\n",
    "    \n",
    "(Hint: contingency tables, mosaic plots, and chi-square may be useful here)."
   ]
  },
  {
   "cell_type": "code",
   "execution_count": 14,
   "metadata": {
    "colab": {},
    "colab_type": "code",
    "id": "JtI8ru2at6ZU"
   },
   "outputs": [],
   "source": [
    "# put your code here"
   ]
  },
  {
   "cell_type": "markdown",
   "metadata": {
    "colab_type": "text",
    "id": "CCuxztg3uYPQ"
   },
   "source": [
    "(Use this space to explain your answers)"
   ]
  },
  {
   "cell_type": "markdown",
   "metadata": {},
   "source": [
    "### <font color=\"magenta\">Q4: Use a linear regression to model the relationship between Happiness Score and Family.  (5 points)\n",
    "\n",
    "What does this tell you about the relationship?\n",
    "\n",
    "\n",
    "You may wish to include a visualization."
   ]
  },
  {
   "cell_type": "code",
   "execution_count": 15,
   "metadata": {
    "colab": {},
    "colab_type": "code",
    "id": "GneWWgFVt62N"
   },
   "outputs": [],
   "source": [
    "# put your code here"
   ]
  },
  {
   "cell_type": "markdown",
   "metadata": {
    "colab_type": "text",
    "id": "WlWYu2_5uY7K"
   },
   "source": [
    "(Use this space to explain your answers)"
   ]
  },
  {
   "cell_type": "markdown",
   "metadata": {},
   "source": [
    "### <font color=\"magenta\">Q5: Do happiness scores vary significantly between regions?  Which region has the highest mean happiness score? (5 points)\n",
    "\n",
    "You may wish to include a visualization.\n",
    "Hint: ANOVA might help here."
   ]
  },
  {
   "cell_type": "code",
   "execution_count": 15,
   "metadata": {
    "colab": {},
    "colab_type": "code",
    "id": "GneWWgFVt62N"
   },
   "outputs": [],
   "source": [
    "# put your code here"
   ]
  },
  {
   "cell_type": "markdown",
   "metadata": {
    "colab_type": "text",
    "id": "WlWYu2_5uY7K"
   },
   "source": [
    "(Use this space to explain your answers)"
   ]
  },
  {
   "cell_type": "markdown",
   "metadata": {},
   "source": [
    "### <font color=\"magenta\">Q6: Which Eastern Asian country has the lowest happiness score.  Comment on the influence that that country has on the relationship between Happiness and Economy.\n",
    "\n",
    "Hint: you may want to look at the residuals of a regression between Happiness and Economy."
   ]
  },
  {
   "cell_type": "code",
   "execution_count": 15,
   "metadata": {
    "colab": {},
    "colab_type": "code",
    "id": "GneWWgFVt62N"
   },
   "outputs": [],
   "source": [
    "# put your code here"
   ]
  },
  {
   "cell_type": "markdown",
   "metadata": {
    "colab_type": "text",
    "id": "WlWYu2_5uY7K"
   },
   "source": [
    "(Use this space to explain your answers)"
   ]
  },
  {
   "cell_type": "markdown",
   "metadata": {},
   "source": [
    "## <font color='green'> Please submit your completed notebook in .HTML format via Canvas </font>"
   ]
  },
  {
   "cell_type": "code",
   "execution_count": null,
   "metadata": {},
   "outputs": [],
   "source": []
  }
 ],
 "metadata": {
  "colab": {
   "collapsed_sections": [],
   "name": "618_HW1.ipynb",
   "provenance": [],
   "version": "0.3.2"
  },
  "kernelspec": {
   "display_name": "Python 3",
   "language": "python",
   "name": "python3"
  },
  "language_info": {
   "codemirror_mode": {
    "name": "ipython",
    "version": 3
   },
   "file_extension": ".py",
   "mimetype": "text/x-python",
   "name": "python",
   "nbconvert_exporter": "python",
   "pygments_lexer": "ipython3",
   "version": "3.7.3"
  }
 },
 "nbformat": 4,
 "nbformat_minor": 2
}
