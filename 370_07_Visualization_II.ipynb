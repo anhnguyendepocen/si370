{
 "cells": [
  {
   "cell_type": "markdown",
   "metadata": {},
   "source": [
    "# Introduction to plotly\n",
    "\n",
    "Some of you may have used plotly in previous courses.\n",
    "\n",
    "The plotly website is available at https://plot.ly/\n",
    "\n",
    "The first step is for you to log into the plotly website and set up an account.\n",
    "\n",
    "Then, install the plotly package in python by running the following cell (note that if you already have plotly installed, you'll want to change \"install\" to \"upgrade\"):"
   ]
  },
  {
   "cell_type": "code",
   "execution_count": null,
   "metadata": {},
   "outputs": [],
   "source": [
    "!conda -y install plotly"
   ]
  },
  {
   "cell_type": "markdown",
   "metadata": {},
   "source": [
    "# <font color='red'> Q1: Record your plotly username (but NOT your API Key) after completing your set-up (2 points)</font>"
   ]
  },
  {
   "cell_type": "markdown",
   "metadata": {},
   "source": [
    "To complete your setup, follow the steps after \"Installation\" at https://plot.ly/python/getting-started/\n",
    "\n",
    "If your local credentials with your API key aren't created, you will output several errors in the remaining parts of the notebook."
   ]
  },
  {
   "cell_type": "markdown",
   "metadata": {},
   "source": [
    "#enter your username here"
   ]
  },
  {
   "cell_type": "markdown",
   "metadata": {},
   "source": [
    "# END Q1"
   ]
  },
  {
   "cell_type": "markdown",
   "metadata": {},
   "source": [
    "Let's start by loading some sample data:"
   ]
  },
  {
   "cell_type": "code",
   "execution_count": null,
   "metadata": {},
   "outputs": [],
   "source": [
    "import pandas as pd\n",
    "\n",
    "df = pd.read_csv(\"https://raw.githubusercontent.com/plotly/datasets/master/school_earnings.csv\")"
   ]
  },
  {
   "cell_type": "code",
   "execution_count": null,
   "metadata": {},
   "outputs": [],
   "source": [
    "df.head()"
   ]
  },
  {
   "cell_type": "markdown",
   "metadata": {},
   "source": [
    "# <font color='red'>Q2: Create some basic descriptive stats and visualizations using this dataset (2 points)</font>"
   ]
  },
  {
   "cell_type": "code",
   "execution_count": null,
   "metadata": {},
   "outputs": [],
   "source": [
    "# your code and results go here"
   ]
  },
  {
   "cell_type": "markdown",
   "metadata": {},
   "source": [
    "# END Q2"
   ]
  },
  {
   "cell_type": "markdown",
   "metadata": {},
   "source": [
    "Now let's get going with plotly.  Working with the same small dataset, we can generate a prettier table using plotly:"
   ]
  },
  {
   "cell_type": "code",
   "execution_count": null,
   "metadata": {},
   "outputs": [],
   "source": [
    "import plotly.plotly as py\n",
    "import plotly.figure_factory as ff\n",
    "\n",
    "\n",
    "table = ff.create_table(df)\n",
    "py.iplot(table, filename='jupyter-table1')"
   ]
  },
  {
   "cell_type": "markdown",
   "metadata": {},
   "source": [
    "Now let's look at a potentially more useful chart:  let's see a ranked plot of the income gaps from these colleges.  It's pretty easy using plotly:"
   ]
  },
  {
   "cell_type": "code",
   "execution_count": null,
   "metadata": {},
   "outputs": [],
   "source": [
    "import plotly.plotly as py\n",
    "import plotly.graph_objs as go\n",
    "\n",
    "data = [go.Bar(x=df.School,\n",
    "            y=df.Gap)]\n",
    "\n",
    "py.iplot(data, filename='jupyter-basic_bar')"
   ]
  },
  {
   "cell_type": "markdown",
   "metadata": {},
   "source": [
    "That's great, but it's not a lot different from what we can do using seaborn (how would you do that in seaborn?).  One of the things that plotly is particularly good at is plotting data on maps.  Let's load another data set, this one showing data on nuclear waste sites on American campuses:"
   ]
  },
  {
   "cell_type": "code",
   "execution_count": null,
   "metadata": {},
   "outputs": [],
   "source": [
    "df = pd.read_csv('https://raw.githubusercontent.com/plotly/datasets/master/Nuclear%20Waste%20Sites%20on%20American%20Campuses.csv')\n",
    "site_lat = df.lat\n",
    "site_lon = df.lon\n",
    "location_names = list(df.text)"
   ]
  },
  {
   "cell_type": "code",
   "execution_count": null,
   "metadata": {},
   "outputs": [],
   "source": [
    "df.head()"
   ]
  },
  {
   "cell_type": "code",
   "execution_count": null,
   "metadata": {},
   "outputs": [],
   "source": [
    "import plotly.plotly as py\n",
    "import plotly.graph_objs as go\n",
    "\n",
    "data = [\n",
    "    go.Scattermapbox(\n",
    "        lat=site_lat,\n",
    "        lon=site_lon,\n",
    "        mode='markers',\n",
    "        marker=dict(\n",
    "            size=17,\n",
    "            color='rgb(255, 0, 0)',\n",
    "            opacity=0.7\n",
    "        ),\n",
    "    ),\n",
    "    go.Scattermapbox(\n",
    "        lat=site_lat,\n",
    "        lon=site_lon,\n",
    "        mode='markers',\n",
    "        marker=dict(\n",
    "            size=8,\n",
    "            color='rgb(242, 177, 172)',\n",
    "            opacity=0.7\n",
    "        ),\n",
    "        hoverinfo='none'\n",
    "    )]\n",
    "\n",
    "\n",
    "layout = go.Layout(\n",
    "    title='Nuclear Waste Sites on Campus',\n",
    "    autosize=True,\n",
    "    hovermode='closest',\n",
    "    showlegend=False,\n",
    "    mapbox=dict(\n",
    "        bearing=0,\n",
    "        center=dict(\n",
    "            lat=38,\n",
    "            lon=-94\n",
    "        ),\n",
    "        pitch=0,\n",
    "        zoom=3,\n",
    "        style='light'\n",
    "    ),\n",
    ")\n",
    "\n",
    "fig = dict(data=data, layout=layout)\n",
    "\n",
    "py.iplot(fig, filename='jupyter-Nuclear Waste Sites on American Campuses')"
   ]
  },
  {
   "cell_type": "markdown",
   "metadata": {},
   "source": [
    "Not bad, but let's modify the above code to show the site name when you hover over it."
   ]
  },
  {
   "cell_type": "markdown",
   "metadata": {},
   "source": [
    "# <font color='red'> Q3: Add hover text (2 points)</font>\n",
    "\n",
    "Change ```hoverinfo='none',``` to \n",
    "```\n",
    "text=location_names,\n",
    "hoverinfo='text',\n",
    "``` \n",
    "and show the new map below."
   ]
  },
  {
   "cell_type": "code",
   "execution_count": null,
   "metadata": {},
   "outputs": [],
   "source": [
    "# insert code for new map here"
   ]
  },
  {
   "cell_type": "markdown",
   "metadata": {},
   "source": [
    "# END Q3"
   ]
  },
  {
   "cell_type": "markdown",
   "metadata": {},
   "source": [
    "# Mapping World Development Indicators\n",
    "\n",
    "Now that we've got some mapping basics under our belts, let's turn to an even more interesting dataset:  the World Bank's World Development\n",
    "Indicators.\n",
    "\n",
    "Why is it more interesting?  Just ask Hans Rosling"
   ]
  },
  {
   "cell_type": "code",
   "execution_count": null,
   "metadata": {},
   "outputs": [],
   "source": [
    "from IPython.display import YouTubeVideo\n",
    "# Hans Rosling's \"The Best Stats You've Ever Seen\"\n",
    "YouTubeVideo('hVimVzgtD6w')"
   ]
  },
  {
   "cell_type": "markdown",
   "metadata": {},
   "source": [
    "We're not going to get quite that fancy, but let's start exploring some World Development Indicators visually.\n",
    "We're going to focus on non-animated maps, at least for now."
   ]
  },
  {
   "cell_type": "markdown",
   "metadata": {},
   "source": [
    "First, read the data (from https://www.kaggle.com/worldbank/world-development-indicators):"
   ]
  },
  {
   "cell_type": "code",
   "execution_count": null,
   "metadata": {},
   "outputs": [],
   "source": [
    "indicators = pd.read_csv(\"Indicators.csv\")"
   ]
  },
  {
   "cell_type": "markdown",
   "metadata": {},
   "source": [
    "# <font color='red'> Q4: How many indicators are there? For what range of years? (2 points)</font>\n"
   ]
  },
  {
   "cell_type": "code",
   "execution_count": null,
   "metadata": {},
   "outputs": [],
   "source": [
    "indicators.head()"
   ]
  },
  {
   "cell_type": "code",
   "execution_count": null,
   "metadata": {},
   "outputs": [],
   "source": [
    "#insert your code here"
   ]
  },
  {
   "cell_type": "markdown",
   "metadata": {},
   "source": [
    "# END Q4"
   ]
  },
  {
   "cell_type": "markdown",
   "metadata": {},
   "source": [
    "There are a lot of different indicators available."
   ]
  },
  {
   "cell_type": "markdown",
   "metadata": {},
   "source": [
    "There's lots of indicators to choose from, but let's filter our dataset down to something more reasonable:"
   ]
  },
  {
   "cell_type": "code",
   "execution_count": null,
   "metadata": {
    "_cell_guid": "f7bd492f-c678-f9d2-5567-b315164ff772"
   },
   "outputs": [],
   "source": [
    "indicatorName = \"Life expectancy at birth, total (years)\"\n",
    "indicatorYear = 2013\n",
    "\n",
    "filtered = indicators[(indicators.IndicatorName==indicatorName) & (indicators.Year==indicatorYear)]"
   ]
  },
  {
   "cell_type": "code",
   "execution_count": null,
   "metadata": {},
   "outputs": [],
   "source": [
    "filtered.head()"
   ]
  },
  {
   "cell_type": "markdown",
   "metadata": {},
   "source": [
    "Not surprisingly, the data needs some cleanup:"
   ]
  },
  {
   "cell_type": "code",
   "execution_count": null,
   "metadata": {
    "_cell_guid": "845f3118-d506-15f4-ba65-3dfd9c37e257"
   },
   "outputs": [],
   "source": [
    "correction = {\"Antigua and Barbuda\":\"Antigua\", \"Bahamas, The\":\"Bahamas\", \"Brunei Darussalam\":\"Brunei\",\n",
    "\"Cabo Verde\":\"Cape Verde\", \"Congo, Dem. Rep.\":\"Democratic Republic of the Congo\", \"Congo, Rep.\":\"Republic of Congo\", \n",
    "\"Cote d'Ivoire\":\"Ivory Coast\", \"Egypt, Arab Rep.\":\"Egypt\", \"Faeroe Islands\":\"Faroe Islands\", \"Gambia, The\":\"Gambia\", \n",
    "\"Iran, Islamic Rep.\":\"Iran\", \"Korea, Dem. Rep.\":\"North Korea\", \"Korea, Rep.\":\"South Korea\", \"Kyrgyz Republic\":\"Kyrgyzstan\",\n",
    "\"Lao PDR\":\"Laos\", \"Macedonia, FYR\":\"Macedonia\", \"Micronesia, Fed. Sts.\":\"Micronesia\", \"Russian Federation\":\"Russia\",\n",
    "\"Slovak Republic\":\"Slovakia\", \"St. Lucia\":\"Saint Lucia\", \"St. Martin (French part)\":\"Saint Martin\", \n",
    "\"St. Vincent and the Grenadines\":\"Saint Vincent\", \"Syrian Arab Republic\":\"Syria\", \"Trinidad and Tobago\":\"Trinidad\", \n",
    "\"United Kingdom\":\"UK\", \"United States\":\"USA\", \"Venezuela, RB\":\"Venezuela\", \"Virgin Islands (U.S.)\":\"Virgin Islands\", \n",
    "\"Yemen, Rep.\":\"Yemen\"}\n",
    "\n",
    "filtered.replace(correction, inplace=True)"
   ]
  },
  {
   "cell_type": "markdown",
   "metadata": {},
   "source": [
    "And finally, let's generate a map of our filtered data:"
   ]
  },
  {
   "cell_type": "code",
   "execution_count": null,
   "metadata": {
    "_cell_guid": "515ed922-ea48-9988-caf5-0307542a2712"
   },
   "outputs": [],
   "source": [
    "scl = [[0.0, 'rgb(242,240,247)'],[0.2, 'rgb(218,218,235)'],[0.4, 'rgb(188,189,220)'],\\\n",
    "            [0.6, 'rgb(158,154,200)'],[0.8, 'rgb(117,107,177)'],[1.0, 'rgb(84,39,143)']]\n",
    "\n",
    "data = [ dict(\n",
    "        type='choropleth',\n",
    "        colorscale = scl,\n",
    "        autocolorscale = False,\n",
    "        locations = filtered.CountryCode.values,\n",
    "        z = filtered.Value.values,\n",
    "        text = filtered.CountryName,\n",
    "        marker = dict(\n",
    "            line = dict (\n",
    "                color = 'rgb(255,255,255)',\n",
    "                width = 2\n",
    "            ) ),\n",
    "        colorbar = dict(\n",
    "            title = \"Count\")\n",
    "        ) ]\n",
    "\n",
    "layout = dict(\n",
    "        title = '{} in {}'.format(filtered.IndicatorName.unique()[0],filtered.Year.unique()[0]),\n",
    "        geo = dict(\n",
    "            scope='world',\n",
    "            projection=dict( type='natural earth' ),\n",
    "            showlakes = True,\n",
    "            lakecolor = 'rgb(255, 255, 255)'),\n",
    "             )\n",
    "    \n",
    "fig = dict( data=data, layout=layout )\n",
    "py.iplot( fig, filename='d3-choropleth-map' )"
   ]
  },
  {
   "cell_type": "markdown",
   "metadata": {},
   "source": [
    "# <font color='red'> Q5: Your turn! (2 points)</font>\n",
    "\n",
    "You might look at another indicator, or perhaps the same indicator but a different year. You might also want to change the map projection to be something different.\n",
    "\n",
    "Suggested steps:\n",
    "1. refilter your data\n",
    "2. change color scheme (look up how to work with rgb color codes)\n",
    "3. change the title\n",
    "4. change scope\n",
    "4. regenerate the map."
   ]
  },
  {
   "cell_type": "code",
   "execution_count": null,
   "metadata": {
    "_cell_guid": "515ed922-ea48-9988-caf5-0307542a2712"
   },
   "outputs": [],
   "source": [
    "Insert your code here"
   ]
  },
  {
   "cell_type": "markdown",
   "metadata": {},
   "source": [
    "If you're done, generate one or two more.  We'll share our work at the end of today's class."
   ]
  },
  {
   "cell_type": "markdown",
   "metadata": {},
   "source": [
    "# END Q5"
   ]
  },
  {
   "cell_type": "markdown",
   "metadata": {},
   "source": [
    "# <font color=\"green\">END OF NOTEBOOK</font>\n",
    "## Remember to submit HTML and IPYNB files via Canvas."
   ]
  },
  {
   "cell_type": "code",
   "execution_count": null,
   "metadata": {},
   "outputs": [],
   "source": []
  }
 ],
 "metadata": {
  "kernelspec": {
   "display_name": "Python 3",
   "language": "python",
   "name": "python3"
  },
  "language_info": {
   "codemirror_mode": {
    "name": "ipython",
    "version": 3
   },
   "file_extension": ".py",
   "mimetype": "text/x-python",
   "name": "python",
   "nbconvert_exporter": "python",
   "pygments_lexer": "ipython3",
   "version": "3.6.4"
  }
 },
 "nbformat": 4,
 "nbformat_minor": 2
}
