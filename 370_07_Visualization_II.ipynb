{
 "cells": [
  {
   "cell_type": "markdown",
   "metadata": {
    "slideshow": {
     "slide_type": "slide"
    }
   },
   "source": [
    "# SI 370 - Visualization II"
   ]
  },
  {
   "cell_type": "markdown",
   "metadata": {
    "slideshow": {
     "slide_type": "slide"
    }
   },
   "source": [
    "## Interactive Visualization using Bokeh\n",
    "\n",
    "* round out our understanding of visualization in Python\n",
    " * matplotlib\n",
    " * searborn\n",
    " * bokeh"
   ]
  },
  {
   "cell_type": "markdown",
   "metadata": {
    "slideshow": {
     "slide_type": "slide"
    }
   },
   "source": [
    "## Bokeh\n",
    "\n",
    "* part of [pydata stack](https://pydata.org/)\n",
    "* consists of two cooperating libraries: BokehJS (javascript) and bokeh (python)\n",
    "* you program in python, bokeh communicates via JSON with BokehJS running in browser\n"
   ]
  },
  {
   "cell_type": "markdown",
   "metadata": {
    "slideshow": {
     "slide_type": "slide"
    }
   },
   "source": [
    "## Bokeh\n",
    "* https://bokeh.pydata.org/en/latest/\n",
    "* Gallery: https://bokeh.pydata.org/en/latest/docs/gallery.html (note: we will not be covering Server Apps in this course)"
   ]
  },
  {
   "cell_type": "code",
   "execution_count": null,
   "metadata": {
    "slideshow": {
     "slide_type": "slide"
    }
   },
   "outputs": [],
   "source": [
    "# based on https://realpython.com/python-data-visualization-bokeh/\n",
    "from bokeh.plotting import figure\n",
    "import numpy as np\n",
    "import pandas as pd\n",
    "from bokeh.io import show, output_notebook"
   ]
  },
  {
   "cell_type": "markdown",
   "metadata": {
    "slideshow": {
     "slide_type": "slide"
    }
   },
   "source": [
    "## 1. Opening a template with Bokeh"
   ]
  },
  {
   "cell_type": "code",
   "execution_count": null,
   "metadata": {
    "slideshow": {
     "slide_type": "slide"
    }
   },
   "outputs": [],
   "source": [
    "# open empty template\n",
    "fig = figure()\n",
    "show(fig)"
   ]
  },
  {
   "cell_type": "code",
   "execution_count": null,
   "metadata": {},
   "outputs": [],
   "source": [
    "# previous slide didn't show anything: need this function to run on jupyter\n",
    "output_notebook()"
   ]
  },
  {
   "cell_type": "code",
   "execution_count": null,
   "metadata": {
    "slideshow": {
     "slide_type": "slide"
    }
   },
   "outputs": [],
   "source": [
    "# now open it again\n",
    "fig = figure()\n",
    "show(fig)"
   ]
  },
  {
   "cell_type": "markdown",
   "metadata": {
    "slideshow": {
     "slide_type": "slide"
    }
   },
   "source": [
    "## 2. Creating a scatter plot with Bokeh"
   ]
  },
  {
   "cell_type": "code",
   "execution_count": null,
   "metadata": {
    "slideshow": {
     "slide_type": "slide"
    }
   },
   "outputs": [],
   "source": [
    "# create a new plot with default tools, using figure\n",
    "p = figure(plot_width=400, plot_height=400)\n",
    "\n",
    "# add a circle renderer with x and y coordinates, size, color, and alpha\n",
    "p.circle([1, 2, 3, 4, 5], [6, 7, 2, 4, 5], size=15, line_color=\"navy\", fill_color=\"green\", fill_alpha=0.5)\n",
    "\n",
    "show(p) # show the results"
   ]
  },
  {
   "cell_type": "code",
   "execution_count": null,
   "metadata": {
    "slideshow": {
     "slide_type": "slide"
    }
   },
   "outputs": [],
   "source": [
    "# create a new plot using different shapes\n",
    "p = figure(plot_width=400, plot_height=400)\n",
    "\n",
    "# add a square renderer with a size, color, alpha, and sizes\n",
    "p.circle_x([1, 2, 3, 4, 5], [6, 7, 2, 4, 5], size=[10, 15, 20, 25, 30], color=\"firebrick\", alpha=0.6)\n",
    "\n",
    "show(p) # show the results"
   ]
  },
  {
   "cell_type": "markdown",
   "metadata": {
    "slideshow": {
     "slide_type": "slide"
    }
   },
   "source": [
    "There are many different marker types available in Bokeh\n",
    "\n",
    "- asterisk()\n",
    "\n",
    "- circle()\n",
    "\n",
    "- circle_cross()\n",
    "\n",
    "- circle_x()\n",
    "\n",
    "- cross()\n",
    "\n",
    "- diamond()\n",
    "\n",
    "- diamond_cross()\n",
    "\n",
    "- hex()\n",
    "\n",
    "- inverted_triangle()\n",
    "\n",
    "- square()\n",
    "\n",
    "- square_cross()\n",
    "\n",
    "- square_x()\n",
    "\n",
    "- triangle()\n",
    "\n",
    "- x()"
   ]
  },
  {
   "cell_type": "markdown",
   "metadata": {
    "slideshow": {
     "slide_type": "slide"
    }
   },
   "source": [
    "### <font color=\"magenta\">Exercise 1: Re-create the above plot using a marker type of your choice.</font>\n"
   ]
  },
  {
   "cell_type": "code",
   "execution_count": null,
   "metadata": {},
   "outputs": [],
   "source": [
    "# INSERT YOUR CODE HERE"
   ]
  },
  {
   "cell_type": "markdown",
   "metadata": {
    "slideshow": {
     "slide_type": "slide"
    }
   },
   "source": [
    "## 3. Creating a line plot with Bokeh"
   ]
  },
  {
   "cell_type": "code",
   "execution_count": null,
   "metadata": {
    "slideshow": {
     "slide_type": "slide"
    }
   },
   "outputs": [],
   "source": [
    "# create a new plot (with a title) using figure\n",
    "p = figure(plot_width=400, plot_height=400, title=\"My Line Plot\")\n",
    "\n",
    "# add a line renderer\n",
    "p.line([1, 2, 3, 4, 5], [6, 7, 2, 4, 5], line_width=2)\n",
    "\n",
    "show(p) # show the results"
   ]
  },
  {
   "cell_type": "code",
   "execution_count": null,
   "metadata": {
    "slideshow": {
     "slide_type": "slide"
    }
   },
   "outputs": [],
   "source": [
    "# combine both line and circle plots\n",
    "\n",
    "# set up some data\n",
    "x = [1, 2, 3, 4, 5]\n",
    "y = [6, 7, 8, 7, 3]\n",
    "\n",
    "# create a new plot with figure\n",
    "p = figure(plot_width=400, plot_height=400)\n",
    "\n",
    "# add both a line and circles on the same plot\n",
    "p.line(x, y, line_width=2)\n",
    "p.circle(x, y, fill_color=\"white\", size=8)\n",
    "\n",
    "show(p) # show the results"
   ]
  },
  {
   "cell_type": "markdown",
   "metadata": {
    "slideshow": {
     "slide_type": "slide"
    }
   },
   "source": [
    "## 4. Using the Hover function in Bokeh"
   ]
  },
  {
   "cell_type": "code",
   "execution_count": null,
   "metadata": {
    "slideshow": {
     "slide_type": "slide"
    }
   },
   "outputs": [],
   "source": [
    "# start by loading the iris dataset\n",
    "import seaborn as sns\n",
    "df = sns.load_dataset('iris')\n",
    "print(df['species'].unique())\n",
    "df.head()"
   ]
  },
  {
   "cell_type": "code",
   "execution_count": null,
   "metadata": {
    "scrolled": true,
    "slideshow": {
     "slide_type": "slide"
    }
   },
   "outputs": [],
   "source": [
    "p = figure(plot_width=400, plot_height=400)\n",
    "p.circle('petal_length', 'petal_width', source=df)\n",
    "show(p)"
   ]
  },
  {
   "cell_type": "code",
   "execution_count": null,
   "metadata": {
    "slideshow": {
     "slide_type": "slide"
    }
   },
   "outputs": [],
   "source": [
    "# divide into different colors\n",
    "fig = figure(plot_width=400, plot_height=400)\n",
    "fig.circle('petal_length', 'petal_width', source=df[df.species=='setosa'],color='red')\n",
    "fig.circle('petal_length', 'petal_width', source=df[df.species=='versicolor'],color='blue')\n",
    "fig.circle('petal_length', 'petal_width', source=df[df.species=='virginica'],color='green')\n",
    "show(fig)"
   ]
  },
  {
   "cell_type": "code",
   "execution_count": null,
   "metadata": {
    "slideshow": {
     "slide_type": "slide"
    }
   },
   "outputs": [],
   "source": [
    "# Specify the selection tools to be made available\n",
    "select_tools = ['box_select', 'lasso_select', 'poly_select', 'tap', 'reset']\n",
    "\n",
    "# Create the figure\n",
    "fig = figure(plot_height=400,\n",
    "             plot_width=600,\n",
    "             x_axis_label='Petal length',\n",
    "             y_axis_label='Petal width',\n",
    "             title='Petal length vs width',\n",
    "             toolbar_location='below',\n",
    "             tools=select_tools)"
   ]
  },
  {
   "cell_type": "code",
   "execution_count": null,
   "metadata": {
    "scrolled": false,
    "slideshow": {
     "slide_type": "slide"
    }
   },
   "outputs": [],
   "source": [
    "# plot two types of species\n",
    "fig.circle('petal_length', 'petal_width', source=df[df.species=='setosa'],color='red',size=8,legend=\"setosa\")\n",
    "fig.circle('petal_length', 'petal_width', source=df[df.species=='versicolor'],color='blue',size=8,legend=\"versicolor\")\n",
    "fig.circle('petal_length', 'petal_width', source=df[df.species=='virginica'],color='green',size=8,legend='virginica')\n",
    "show(fig)"
   ]
  },
  {
   "cell_type": "code",
   "execution_count": null,
   "metadata": {
    "slideshow": {
     "slide_type": "slide"
    }
   },
   "outputs": [],
   "source": [
    "from bokeh.models.tools import HoverTool"
   ]
  },
  {
   "cell_type": "code",
   "execution_count": null,
   "metadata": {},
   "outputs": [],
   "source": [
    "# Format the tooltip so that when hovered, it gives information of the following values\n",
    "tooltips = [\n",
    "            ('Species','@species'),\n",
    "            ('Petal length', '@petal_length'),\n",
    "            ('Petal width', '@petal_width')\n",
    "           ]\n",
    "\n",
    "# Add the HoverTool to the figure\n",
    "fig.add_tools(HoverTool(tooltips=tooltips))\n",
    "\n",
    "# Visualize\n",
    "show(fig)"
   ]
  },
  {
   "cell_type": "markdown",
   "metadata": {
    "slideshow": {
     "slide_type": "slide"
    }
   },
   "source": [
    "## 5. Adding labels to data points"
   ]
  },
  {
   "cell_type": "code",
   "execution_count": null,
   "metadata": {
    "scrolled": true,
    "slideshow": {
     "slide_type": "slide"
    }
   },
   "outputs": [],
   "source": [
    "from bokeh.plotting import figure\n",
    "from bokeh.models import ColumnDataSource, LabelSet\n",
    "\n",
    "source = ColumnDataSource(data=dict(\n",
    "    temp=[166, 171, 172, 168, 174, 162],\n",
    "    pressure=[165, 189, 220, 141, 260, 174],\n",
    "    names=['A', 'B', 'C', 'D', 'E', 'F']))\n",
    "\n",
    "p = figure(x_range=(160, 175))\n",
    "p.scatter(x='temp', y='pressure', size=8, source=source)\n",
    "p.xaxis.axis_label = 'Temperature (C)'\n",
    "p.yaxis.axis_label = 'Pressure (lbs)'\n",
    "\n",
    "labels = LabelSet(x='temp', y='pressure', text='names', level='glyph',\n",
    "                  x_offset=5, y_offset=5, source=source, render_mode='canvas')\n",
    "\n",
    "\n",
    "p.add_layout(labels)\n",
    "\n",
    "show(p)"
   ]
  },
  {
   "cell_type": "markdown",
   "metadata": {
    "slideshow": {
     "slide_type": "slide"
    }
   },
   "source": [
    "Read the wine quality CSV file from last time:"
   ]
  },
  {
   "cell_type": "code",
   "execution_count": null,
   "metadata": {},
   "outputs": [],
   "source": [
    "df_wine = pd.read_csv('data/winequality-red.csv')"
   ]
  },
  {
   "cell_type": "markdown",
   "metadata": {
    "slideshow": {
     "slide_type": "slide"
    }
   },
   "source": [
    "Take a subsample of 10 wines:"
   ]
  },
  {
   "cell_type": "code",
   "execution_count": null,
   "metadata": {},
   "outputs": [],
   "source": [
    "df_wine = df_wine.sample(10)"
   ]
  },
  {
   "cell_type": "code",
   "execution_count": null,
   "metadata": {
    "scrolled": false
   },
   "outputs": [],
   "source": [
    "print(df_wine.shape)\n",
    "df_wine.head(1)"
   ]
  },
  {
   "cell_type": "markdown",
   "metadata": {
    "slideshow": {
     "slide_type": "slide"
    }
   },
   "source": [
    "Set up a \"color\" column based on the numerical \"quality\" column:"
   ]
  },
  {
   "cell_type": "code",
   "execution_count": null,
   "metadata": {},
   "outputs": [],
   "source": [
    "from bokeh.palettes import RdYlBu10\n",
    "\n",
    "f = lambda x: RdYlBu10[x]\n",
    "df_wine['color'] = df_wine['quality'].map(f)"
   ]
  },
  {
   "cell_type": "markdown",
   "metadata": {
    "slideshow": {
     "slide_type": "slide"
    }
   },
   "source": [
    "### <font color=\"magenta\">Exercise 2: Using the subsampled wine dataframe, create a plot of pH on the y-axis vs. fixed acidity on the x-axis.  Label each point with the numerical \"quality\" of the wine.  Label your axes."
   ]
  },
  {
   "cell_type": "code",
   "execution_count": null,
   "metadata": {},
   "outputs": [],
   "source": [
    "# SOLUTION\n",
    "p = figure()\n",
    "cds = ColumnDataSource(df_wine)\n",
    "p.scatter(x='fixed acidity', y='pH', size=8, source=cds)\n",
    "p.xaxis.axis_label = 'fixed acidity)'\n",
    "p.yaxis.axis_label = 'pH'\n",
    "\n",
    "labels = LabelSet(x='fixed acidity', y='pH', text='quality', level='glyph',\n",
    "                  x_offset=5, y_offset=5, source=cds, render_mode='canvas')\n",
    "\n",
    "\n",
    "p.add_layout(labels)\n",
    "\n",
    "show(p)"
   ]
  },
  {
   "cell_type": "markdown",
   "metadata": {
    "slideshow": {
     "slide_type": "slide"
    }
   },
   "source": [
    "## 7. Multiple plots in a row"
   ]
  },
  {
   "cell_type": "code",
   "execution_count": null,
   "metadata": {
    "slideshow": {
     "slide_type": "slide"
    }
   },
   "outputs": [],
   "source": [
    "from bokeh.layouts import row\n",
    "\n",
    "x = list(range(11))\n",
    "y0, y1, y2 = x, [10-i for i in x], [abs(i-5) for i in x]\n",
    "\n",
    "# create a new plot\n",
    "s1 = figure(width=250, plot_height=250)\n",
    "s1.circle(x, y0, size=10, color=\"navy\", alpha=0.5)\n",
    "\n",
    "# create another one\n",
    "s2 = figure(width=250, height=250)\n",
    "s2.triangle(x, y1, size=10, color=\"firebrick\", alpha=0.5)\n",
    "\n",
    "# create and another\n",
    "s3 = figure(width=250, height=250)\n",
    "s3.square(x, y2, size=10, color=\"olive\", alpha=0.5)\n",
    "\n",
    "# show the results in a row\n",
    "show(row(s1, s2, s3))\n"
   ]
  },
  {
   "cell_type": "code",
   "execution_count": null,
   "metadata": {
    "scrolled": false,
    "slideshow": {
     "slide_type": "slide"
    }
   },
   "outputs": [],
   "source": [
    "from bokeh.layouts import gridplot\n",
    "\n",
    "# create a new plot\n",
    "s1 = figure(width=250, plot_height=250)\n",
    "s1.circle(x, y0, size=10, color=\"navy\", alpha=0.5)\n",
    "\n",
    "# create another one\n",
    "s2 = figure(width=250, height=250)\n",
    "s2.triangle(x, y1, size=10, color=\"firebrick\", alpha=0.5)\n",
    "\n",
    "# create and another\n",
    "s3 = figure(width=250, height=250)\n",
    "s3.square(x, y2, size=10, color=\"olive\", alpha=0.5)\n",
    "\n",
    "# put all the plots in a gridplot\n",
    "p = gridplot([[s1, s2], [s3, None]], toolbar_location=None)\n",
    "\n",
    "# show the results\n",
    "show(p)"
   ]
  },
  {
   "cell_type": "markdown",
   "metadata": {
    "slideshow": {
     "slide_type": "slide"
    }
   },
   "source": [
    "### <font color=\"magenta\">Exercise 3: Create a 1x2 grid using \"fixed acidity\" as the horizontal axis and \"pH\" and \"chlorides\" for the y-axes.  In other words, one scatterplot for \"pH vs. fixed acidity\" and one for \"chlorides vs. fixed acidity\"."
   ]
  },
  {
   "cell_type": "code",
   "execution_count": null,
   "metadata": {},
   "outputs": [],
   "source": [
    "# INSERT YOUR CODE HERE."
   ]
  },
  {
   "cell_type": "code",
   "execution_count": null,
   "metadata": {
    "scrolled": false
   },
   "outputs": [],
   "source": [
    "# SOLUTION \n",
    "TOOLS = \"box_select,lasso_select,reset,help\"\n",
    "cds = ColumnDataSource(df_wine)\n",
    "w1 = figure(tools = TOOLS,width=250, height=250)\n",
    "w1.circle('fixed acidity', 'chlorides', source=cds)\n",
    "\n",
    "w2 = figure(tools=TOOLS, width=250, height=250)\n",
    "w2.circle('sulphates', 'pH', source=cds)\n",
    "\n",
    "p = gridplot([[w1,w2]])\n",
    "show(p)"
   ]
  },
  {
   "cell_type": "markdown",
   "metadata": {
    "slideshow": {
     "slide_type": "slide"
    }
   },
   "source": [
    "## 8. Linked plots"
   ]
  },
  {
   "cell_type": "code",
   "execution_count": null,
   "metadata": {
    "slideshow": {
     "slide_type": "slide"
    }
   },
   "outputs": [],
   "source": [
    "from bokeh.layouts import gridplot\n",
    "\n",
    "x = list(range(10))\n",
    "y0, y1, y2 = x, [10-i for i in x], [abs(i-5) for i in x]\n",
    "\n",
    "plot_options = dict(width=250, plot_height=250, tools='pan,wheel_zoom')\n",
    "\n",
    "# create a new plot\n",
    "s1 = figure(**plot_options)\n",
    "s1.circle(x, y0, size=10, color=\"navy\")\n",
    "\n",
    "# create a new plot and share both ranges\n",
    "s2 = figure(x_range=s1.x_range, y_range=s1.y_range, **plot_options)\n",
    "s2.triangle(x, y1, size=10, color=\"firebrick\")\n",
    "\n",
    "# create a new plot and share only one range\n",
    "s3 = figure(x_range=s1.x_range, **plot_options)\n",
    "s3.square(x, y2, size=10, color=\"olive\")\n",
    "\n",
    "p = gridplot([[s1, s2, s3]])\n",
    "\n",
    "# show the results\n",
    "show(p)"
   ]
  },
  {
   "cell_type": "code",
   "execution_count": null,
   "metadata": {
    "slideshow": {
     "slide_type": "slide"
    }
   },
   "outputs": [],
   "source": [
    "from bokeh.models import ColumnDataSource\n",
    "\n",
    "x = list(range(-20, 21))\n",
    "y0, y1 = [abs(xx) for xx in x], [xx**2 for xx in x]\n",
    "\n",
    "# create a column data source for the plots to share\n",
    "source = ColumnDataSource(data=dict(x=x, y0=y0, y1=y1))\n",
    "\n",
    "TOOLS = \"box_select,lasso_select,help\"\n",
    "\n",
    "# create a new plot and add a renderer\n",
    "left = figure(tools=TOOLS, width=300, height=300)\n",
    "left.circle('x', 'y0', source=source)\n",
    "\n",
    "# create another new plot and add a renderer\n",
    "right = figure(tools=TOOLS, width=300, height=300)\n",
    "right.circle('x', 'y1', source=source)\n",
    "\n",
    "p = gridplot([[left, right]])\n",
    "\n",
    "show(p)"
   ]
  },
  {
   "cell_type": "markdown",
   "metadata": {
    "slideshow": {
     "slide_type": "slide"
    }
   },
   "source": [
    "### <font color=\"magenta\">Exercise 4: Link the two scatterplots from the previous exercise"
   ]
  },
  {
   "cell_type": "code",
   "execution_count": null,
   "metadata": {},
   "outputs": [],
   "source": [
    "### INSERT YOUR CODE HERE"
   ]
  },
  {
   "cell_type": "markdown",
   "metadata": {
    "slideshow": {
     "slide_type": "slide"
    }
   },
   "source": [
    "## 9. Custom widget (slider plots)\n",
    "* this involves JavaScript: if you're not into JS then just be aware that this functionality exists"
   ]
  },
  {
   "cell_type": "code",
   "execution_count": null,
   "metadata": {
    "slideshow": {
     "slide_type": "slide"
    }
   },
   "outputs": [],
   "source": [
    "from bokeh.layouts import column\n",
    "from bokeh.models import CustomJS, ColumnDataSource, Slider\n",
    "\n",
    "x = [x*0.005 for x in range(0, 201)]\n",
    "\n",
    "source = ColumnDataSource(data=dict(x=x, y=x))\n",
    "\n",
    "plot = figure(plot_width=400, plot_height=400)\n",
    "plot.line('x', 'y', source=source, line_width=3, line_alpha=0.6)\n",
    "\n",
    "slider = Slider(start=0.1, end=6, value=1, step=.1, title=\"power\")\n",
    "\n",
    "update_curve = CustomJS(args=dict(source=source, slider=slider), code=\"\"\"\n",
    "    var data = source.data;\n",
    "    var f = slider.value;\n",
    "    x = data['x']\n",
    "    y = data['y']\n",
    "    for (i = 0; i < x.length; i++) {\n",
    "        y[i] = Math.pow(x[i], f)\n",
    "    }\n",
    "    \n",
    "    // necessary becasue we mutated source.data in-place\n",
    "    source.change.emit();\n",
    "\"\"\")\n",
    "slider.js_on_change('value', update_curve)\n",
    "\n",
    "\n",
    "show(column(slider, plot))"
   ]
  },
  {
   "cell_type": "markdown",
   "metadata": {
    "slideshow": {
     "slide_type": "slide"
    }
   },
   "source": [
    "## 10. Bar plots in Bokeh"
   ]
  },
  {
   "cell_type": "code",
   "execution_count": null,
   "metadata": {
    "scrolled": true,
    "slideshow": {
     "slide_type": "slide"
    }
   },
   "outputs": [],
   "source": [
    "from bokeh.models import ColumnDataSource\n",
    "from bokeh.palettes import Spectral6\n",
    "\n",
    "fruits = ['Apples', 'Pears', 'Nectarines', 'Plums', 'Grapes', 'Strawberries']\n",
    "counts = [5, 3, 4, 2, 4, 6]\n",
    "fruits_df = pd.DataFrame(dict(fruits=fruits, counts=counts, color=Spectral6))\n",
    "\n",
    "source = ColumnDataSource(fruits_df)\n",
    "\n",
    "p = figure(x_range=fruits_df.fruits, plot_height=250, y_range=(0, 9), title=\"Fruit Counts\")\n",
    "p.vbar(x='fruits', top='counts', width=0.9, color='color', legend=\"fruits\", source=source)\n",
    "\n",
    "p.xgrid.grid_line_color = None\n",
    "p.legend.orientation = \"horizontal\"\n",
    "p.legend.location = \"top_center\"\n",
    "\n",
    "show(p)"
   ]
  },
  {
   "cell_type": "markdown",
   "metadata": {
    "slideshow": {
     "slide_type": "slide"
    }
   },
   "source": [
    "## Note the following examples do not use pandas dataframes:"
   ]
  },
  {
   "cell_type": "code",
   "execution_count": null,
   "metadata": {
    "slideshow": {
     "slide_type": "slide"
    }
   },
   "outputs": [],
   "source": [
    "# grouped bar charts\n",
    "\n",
    "from bokeh.models import FactorRange\n",
    "\n",
    "fruits = ['Apples', 'Pears', 'Nectarines', 'Plums', 'Grapes', 'Strawberries']\n",
    "years = ['2015', '2016', '2017']\n",
    "\n",
    "data = {'fruits' : fruits,\n",
    "        '2015'   : [2, 1, 4, 3, 2, 4],\n",
    "        '2016'   : [5, 3, 3, 2, 4, 6],\n",
    "        '2017'   : [3, 2, 4, 4, 5, 3]}\n",
    "\n",
    "# this creates [ (\"Apples\", \"2015\"), (\"Apples\", \"2016\"), (\"Apples\", \"2017\"), (\"Pears\", \"2015), ... ]\n",
    "x = [ (fruit, year) for fruit in fruits for year in years ]\n",
    "counts = sum(zip(data['2015'], data['2016'], data['2017']), ()) # like an hstack\n",
    "\n",
    "source = ColumnDataSource(data=dict(x=x, counts=counts))\n",
    "\n",
    "p = figure(x_range=FactorRange(*x), plot_height=250, title=\"Fruit Counts by Year\")\n",
    "\n",
    "p.vbar(x='x', top='counts', width=0.9, source=source)\n",
    "\n",
    "p.y_range.start = 0\n",
    "p.x_range.range_padding = 0.1\n",
    "p.xaxis.major_label_orientation = 1\n",
    "p.xgrid.grid_line_color = None\n",
    "\n",
    "show(p)"
   ]
  },
  {
   "cell_type": "code",
   "execution_count": null,
   "metadata": {
    "slideshow": {
     "slide_type": "slide"
    }
   },
   "outputs": [],
   "source": [
    "from bokeh.transform import factor_cmap\n",
    "\n",
    "p = figure(x_range=FactorRange(*x), plot_height=250, title=\"Fruit Counts by Year\")\n",
    "\n",
    "p.vbar(x='x', top='counts', width=0.9, source=source, line_color=\"white\",\n",
    "\n",
    "       # use the palette to colormap based on the the x[1:2] values\n",
    "       fill_color=factor_cmap('x', palette=['firebrick', 'olive', 'navy'], factors=years, start=1, end=2))\n",
    "\n",
    "p.y_range.start = 0\n",
    "p.x_range.range_padding = 0.1\n",
    "p.xaxis.major_label_orientation = 1\n",
    "p.xgrid.grid_line_color = None\n",
    "\n",
    "show(p)"
   ]
  },
  {
   "cell_type": "markdown",
   "metadata": {},
   "source": [
    "To prepare for the homework assignment, read through:\n",
    "\n",
    "https://rebeccabilbro.github.io/interactive-viz-bokeh/\n",
    "\n"
   ]
  },
  {
   "cell_type": "code",
   "execution_count": null,
   "metadata": {},
   "outputs": [],
   "source": []
  }
 ],
 "metadata": {
  "celltoolbar": "Slideshow",
  "kernelspec": {
   "display_name": "Python 3",
   "language": "python",
   "name": "python3"
  },
  "language_info": {
   "codemirror_mode": {
    "name": "ipython",
    "version": 3
   },
   "file_extension": ".py",
   "mimetype": "text/x-python",
   "name": "python",
   "nbconvert_exporter": "python",
   "pygments_lexer": "ipython3",
   "version": "3.7.3"
  },
  "livereveal": {
   "start_slideshow_at": "selected"
  }
 },
 "nbformat": 4,
 "nbformat_minor": 2
}
