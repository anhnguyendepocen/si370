{
  "nbformat": 4,
  "nbformat_minor": 0,
  "metadata": {
    "celltoolbar": "Slideshow",
    "kernelspec": {
      "display_name": "Python 3",
      "language": "python",
      "name": "python3"
    },
    "language_info": {
      "codemirror_mode": {
        "name": "ipython",
        "version": 3
      },
      "file_extension": ".py",
      "mimetype": "text/x-python",
      "name": "python",
      "nbconvert_exporter": "python",
      "pygments_lexer": "ipython3",
      "version": "3.6.4"
    },
    "colab": {
      "name": "370_03_Loading_Data.ipynb",
      "provenance": [],
      "include_colab_link": true
    }
  },
  "cells": [
    {
      "cell_type": "markdown",
      "metadata": {
        "id": "view-in-github",
        "colab_type": "text"
      },
      "source": [
        "<a href=\"https://colab.research.google.com/github/umsi-data-science/si370/blob/master/SI%20370%3A%20Day%2003%3A%20Loading%20Data.ipynb\" target=\"_parent\"><img src=\"https://colab.research.google.com/assets/colab-badge.svg\" alt=\"Open In Colab\"/></a>"
      ]
    },
    {
      "cell_type": "markdown",
      "metadata": {
        "id": "ahUIU2HgHuk1",
        "colab_type": "text"
      },
      "source": [
        "# SI370 Day 3: Loading and manipulating data in pandas\n",
        "## Please download Day3.zip from Canvas -> Files and start working on the first Exercise\n"
      ]
    },
    {
      "cell_type": "markdown",
      "metadata": {
        "id": "n1MCyxRRHulB",
        "colab_type": "text"
      },
      "source": [
        "# Reminders\n"
      ]
    },
    {
      "cell_type": "markdown",
      "metadata": {
        "id": "yHA3RHDuHulJ",
        "colab_type": "text"
      },
      "source": [
        "## Learning Objectives\n",
        "* load CSV files\n",
        "* load JSON files\n",
        "* use pd.read_html to extract tables from web pages\n",
        "* load data from simple APIs \n",
        "* load data from a SQL database\n",
        "* handle missing data (dropna and fillna)\n",
        "* use vectorized string functions\n",
        "* Pandas refresher (or introduction)\n",
        "* explain how pandas operations differ from \"traditional\" python\n",
        "* be able to load a CSV file into a Pandas DataFrame\n",
        "* explain how to extract columns from a DataFrame\n",
        "* sort a DataFrame\n",
        "* assign a column as the index of a DataFrame\n",
        "* filter a DataFrame according to some criteria\n",
        "* explain how boolean masks work in filtering DataFrames"
      ]
    },
    {
      "cell_type": "markdown",
      "metadata": {
        "id": "6enHUVBFHulL",
        "colab_type": "text"
      },
      "source": [
        "### IMPORTANT: Replace ```?``` in the following code with your uniqname."
      ]
    },
    {
      "cell_type": "code",
      "metadata": {
        "id": "cZJk4-APHulM",
        "colab_type": "code",
        "colab": {}
      },
      "source": [
        "MY_UNIQNAME = '?'"
      ],
      "execution_count": 0,
      "outputs": []
    },
    {
      "cell_type": "markdown",
      "metadata": {
        "id": "SHiB5qF2HulV",
        "colab_type": "text"
      },
      "source": [
        "## <font color=\"magenta\">Exercise 1 (2 points):</font>\n",
        "### a. Sign up for a Kaggle account (https://www.kaggle.com/).  Record your Kaggle username in the following markdown cell\n"
      ]
    },
    {
      "cell_type": "markdown",
      "metadata": {
        "id": "MrjG0y67HulW",
        "colab_type": "text"
      },
      "source": [
        "Replace this with your Kaggle username"
      ]
    },
    {
      "cell_type": "markdown",
      "metadata": {
        "id": "ozIpSXOOHulX",
        "colab_type": "text"
      },
      "source": [
        "### b. Browse the Kaggle datasets (https://www.kaggle.com/datasets) and list two or three that you find interesting.  Explain why you find them interesting."
      ]
    },
    {
      "cell_type": "markdown",
      "metadata": {
        "id": "XZYD-wW_HulY",
        "colab_type": "text"
      },
      "source": [
        "Insert your answer here."
      ]
    },
    {
      "cell_type": "markdown",
      "metadata": {
        "id": "ZXyAM9AnHula",
        "colab_type": "text"
      },
      "source": [
        "# Today's focus: Loading (and manipulating) data using pandas"
      ]
    },
    {
      "cell_type": "code",
      "metadata": {
        "id": "tDURKFb_Hulg",
        "colab_type": "code",
        "colab": {}
      },
      "source": [
        "import pandas as pd"
      ],
      "execution_count": 0,
      "outputs": []
    },
    {
      "cell_type": "markdown",
      "metadata": {
        "id": "J5hDKsDMHuln",
        "colab_type": "text"
      },
      "source": [
        "Recall the ```pd.read_csv``` function that we used to load data sets in previous classes:"
      ]
    },
    {
      "cell_type": "code",
      "metadata": {
        "id": "VGK8DDY7Hulo",
        "colab_type": "code",
        "colab": {}
      },
      "source": [
        "menu = pd.read_csv('data/menu.csv') "
      ],
      "execution_count": 0,
      "outputs": []
    },
    {
      "cell_type": "markdown",
      "metadata": {
        "id": "NNDuGqY7Huls",
        "colab_type": "text"
      },
      "source": [
        "That works great for well-formatted CSV files, but what happens when you get something that looks like the ```data/avocado_eu.csv``` file.\n",
        "Go ahead and browse that in JupyterLab's CSV browser.\n",
        "\n",
        "You'll notice a new drop-down menu labelled \"Delimiter\".  Go ahead and change that to ```;```.\n",
        "\n",
        "Referring back to your readings and the [read_csv documentation online](https://pandas.pydata.org/pandas-docs/stable/generated/pandas.read_csv.html), complete the following exercise\n",
        "\n",
        "\n",
        "Read the data/avocado_eu.csv file into a pandas DataFrame and show the first 5 rows.\n"
      ]
    },
    {
      "cell_type": "code",
      "metadata": {
        "id": "PEcXNoo0Hult",
        "colab_type": "code",
        "colab": {},
        "outputId": "5cdc9bdf-a217-4070-98be-6543bcd5a50d"
      },
      "source": [
        "avocado = pd.read_csv('data/avocado_eu.csv', delimiter=';')\n",
        "avocado.head(5)"
      ],
      "execution_count": 0,
      "outputs": [
        {
          "output_type": "execute_result",
          "data": {
            "text/html": [
              "<div>\n",
              "<style scoped>\n",
              "    .dataframe tbody tr th:only-of-type {\n",
              "        vertical-align: middle;\n",
              "    }\n",
              "\n",
              "    .dataframe tbody tr th {\n",
              "        vertical-align: top;\n",
              "    }\n",
              "\n",
              "    .dataframe thead th {\n",
              "        text-align: right;\n",
              "    }\n",
              "</style>\n",
              "<table border=\"1\" class=\"dataframe\">\n",
              "  <thead>\n",
              "    <tr style=\"text-align: right;\">\n",
              "      <th></th>\n",
              "      <th>Unnamed: 0</th>\n",
              "      <th>Date</th>\n",
              "      <th>AveragePrice</th>\n",
              "      <th>Total Volume</th>\n",
              "      <th>4046</th>\n",
              "      <th>4225</th>\n",
              "      <th>4770</th>\n",
              "      <th>Total Bags</th>\n",
              "      <th>Small Bags</th>\n",
              "      <th>Large Bags</th>\n",
              "      <th>XLarge Bags</th>\n",
              "      <th>type</th>\n",
              "      <th>year</th>\n",
              "      <th>region</th>\n",
              "    </tr>\n",
              "  </thead>\n",
              "  <tbody>\n",
              "    <tr>\n",
              "      <th>0</th>\n",
              "      <td>0</td>\n",
              "      <td>2015-12-27</td>\n",
              "      <td>1,33</td>\n",
              "      <td>64236,62</td>\n",
              "      <td>1036,74</td>\n",
              "      <td>54454,85</td>\n",
              "      <td>48,16</td>\n",
              "      <td>8696,87</td>\n",
              "      <td>8603,62</td>\n",
              "      <td>93,25</td>\n",
              "      <td>0,0</td>\n",
              "      <td>conventional</td>\n",
              "      <td>2015</td>\n",
              "      <td>Albany</td>\n",
              "    </tr>\n",
              "    <tr>\n",
              "      <th>1</th>\n",
              "      <td>1</td>\n",
              "      <td>2015-12-20</td>\n",
              "      <td>1,35</td>\n",
              "      <td>54876,98</td>\n",
              "      <td>674,28</td>\n",
              "      <td>44638,81</td>\n",
              "      <td>58,33</td>\n",
              "      <td>9505,56</td>\n",
              "      <td>9408,07</td>\n",
              "      <td>97,49</td>\n",
              "      <td>0,0</td>\n",
              "      <td>conventional</td>\n",
              "      <td>2015</td>\n",
              "      <td>Albany</td>\n",
              "    </tr>\n",
              "    <tr>\n",
              "      <th>2</th>\n",
              "      <td>2</td>\n",
              "      <td>2015-12-13</td>\n",
              "      <td>0,93</td>\n",
              "      <td>118220,22</td>\n",
              "      <td>794,7</td>\n",
              "      <td>109149,67</td>\n",
              "      <td>130,5</td>\n",
              "      <td>8145,35</td>\n",
              "      <td>8042,21</td>\n",
              "      <td>103,14</td>\n",
              "      <td>0,0</td>\n",
              "      <td>conventional</td>\n",
              "      <td>2015</td>\n",
              "      <td>Albany</td>\n",
              "    </tr>\n",
              "    <tr>\n",
              "      <th>3</th>\n",
              "      <td>3</td>\n",
              "      <td>2015-12-06</td>\n",
              "      <td>1,08</td>\n",
              "      <td>78992,15</td>\n",
              "      <td>1132,0</td>\n",
              "      <td>71976,41</td>\n",
              "      <td>72,58</td>\n",
              "      <td>5811,16</td>\n",
              "      <td>5677,4</td>\n",
              "      <td>133,76</td>\n",
              "      <td>0,0</td>\n",
              "      <td>conventional</td>\n",
              "      <td>2015</td>\n",
              "      <td>Albany</td>\n",
              "    </tr>\n",
              "    <tr>\n",
              "      <th>4</th>\n",
              "      <td>4</td>\n",
              "      <td>2015-11-29</td>\n",
              "      <td>1,28</td>\n",
              "      <td>51039,6</td>\n",
              "      <td>941,48</td>\n",
              "      <td>43838,39</td>\n",
              "      <td>75,78</td>\n",
              "      <td>6183,95</td>\n",
              "      <td>5986,26</td>\n",
              "      <td>197,69</td>\n",
              "      <td>0,0</td>\n",
              "      <td>conventional</td>\n",
              "      <td>2015</td>\n",
              "      <td>Albany</td>\n",
              "    </tr>\n",
              "  </tbody>\n",
              "</table>\n",
              "</div>"
            ],
            "text/plain": [
              "  Unnamed: 0        Date AveragePrice Total Volume     4046       4225   4770  \\\n",
              "0          0  2015-12-27         1,33     64236,62  1036,74   54454,85  48,16   \n",
              "1          1  2015-12-20         1,35     54876,98   674,28   44638,81  58,33   \n",
              "2          2  2015-12-13         0,93    118220,22    794,7  109149,67  130,5   \n",
              "3          3  2015-12-06         1,08     78992,15   1132,0   71976,41  72,58   \n",
              "4          4  2015-11-29         1,28      51039,6   941,48   43838,39  75,78   \n",
              "\n",
              "  Total Bags Small Bags Large Bags XLarge Bags          type  year  region  \n",
              "0    8696,87    8603,62      93,25         0,0  conventional  2015  Albany  \n",
              "1    9505,56    9408,07      97,49         0,0  conventional  2015  Albany  \n",
              "2    8145,35    8042,21     103,14         0,0  conventional  2015  Albany  \n",
              "3    5811,16     5677,4     133,76         0,0  conventional  2015  Albany  \n",
              "4    6183,95    5986,26     197,69         0,0  conventional  2015  Albany  "
            ]
          },
          "metadata": {
            "tags": []
          },
          "execution_count": 3
        }
      ]
    },
    {
      "cell_type": "markdown",
      "metadata": {
        "id": "bLbd3KdyHulz",
        "colab_type": "text"
      },
      "source": [
        "You'll notice that, unless you did something special in the previous read_csv invocation, the decimal points don't look quite right.  Go ahead and find the right option to convert commas to periods when loading a CSV file.\n",
        "\n",
        "## Exercise 2 (1 point):\n",
        "Read the data/avocado_eu.csv file using the correct delimiter and decimal character into a dataframe and show the first 5 rows:"
      ]
    },
    {
      "cell_type": "code",
      "metadata": {
        "id": "52cAIPN2Hul0",
        "colab_type": "code",
        "colab": {},
        "outputId": "ad48a374-3e13-491a-c877-564fefa54886"
      },
      "source": [
        "avocado = pd.read_csv('data/avocado_eu.csv', delimiter=';', decimal=',')\n",
        "avocado.head(5)"
      ],
      "execution_count": 0,
      "outputs": [
        {
          "output_type": "execute_result",
          "data": {
            "text/html": [
              "<div>\n",
              "<style scoped>\n",
              "    .dataframe tbody tr th:only-of-type {\n",
              "        vertical-align: middle;\n",
              "    }\n",
              "\n",
              "    .dataframe tbody tr th {\n",
              "        vertical-align: top;\n",
              "    }\n",
              "\n",
              "    .dataframe thead th {\n",
              "        text-align: right;\n",
              "    }\n",
              "</style>\n",
              "<table border=\"1\" class=\"dataframe\">\n",
              "  <thead>\n",
              "    <tr style=\"text-align: right;\">\n",
              "      <th></th>\n",
              "      <th>Unnamed: 0</th>\n",
              "      <th>Date</th>\n",
              "      <th>AveragePrice</th>\n",
              "      <th>Total Volume</th>\n",
              "      <th>4046</th>\n",
              "      <th>4225</th>\n",
              "      <th>4770</th>\n",
              "      <th>Total Bags</th>\n",
              "      <th>Small Bags</th>\n",
              "      <th>Large Bags</th>\n",
              "      <th>XLarge Bags</th>\n",
              "      <th>type</th>\n",
              "      <th>year</th>\n",
              "      <th>region</th>\n",
              "    </tr>\n",
              "  </thead>\n",
              "  <tbody>\n",
              "    <tr>\n",
              "      <th>0</th>\n",
              "      <td>0</td>\n",
              "      <td>2015-12-27</td>\n",
              "      <td>1.33</td>\n",
              "      <td>64236.62</td>\n",
              "      <td>1036.74</td>\n",
              "      <td>54454.85</td>\n",
              "      <td>48.16</td>\n",
              "      <td>8696.87</td>\n",
              "      <td>8603.62</td>\n",
              "      <td>93.25</td>\n",
              "      <td>0.0</td>\n",
              "      <td>conventional</td>\n",
              "      <td>2015</td>\n",
              "      <td>Albany</td>\n",
              "    </tr>\n",
              "    <tr>\n",
              "      <th>1</th>\n",
              "      <td>1</td>\n",
              "      <td>2015-12-20</td>\n",
              "      <td>1.35</td>\n",
              "      <td>54876.98</td>\n",
              "      <td>674.28</td>\n",
              "      <td>44638.81</td>\n",
              "      <td>58.33</td>\n",
              "      <td>9505.56</td>\n",
              "      <td>9408.07</td>\n",
              "      <td>97.49</td>\n",
              "      <td>0.0</td>\n",
              "      <td>conventional</td>\n",
              "      <td>2015</td>\n",
              "      <td>Albany</td>\n",
              "    </tr>\n",
              "    <tr>\n",
              "      <th>2</th>\n",
              "      <td>2</td>\n",
              "      <td>2015-12-13</td>\n",
              "      <td>0.93</td>\n",
              "      <td>118220.22</td>\n",
              "      <td>794.70</td>\n",
              "      <td>109149.67</td>\n",
              "      <td>130.50</td>\n",
              "      <td>8145.35</td>\n",
              "      <td>8042.21</td>\n",
              "      <td>103.14</td>\n",
              "      <td>0.0</td>\n",
              "      <td>conventional</td>\n",
              "      <td>2015</td>\n",
              "      <td>Albany</td>\n",
              "    </tr>\n",
              "    <tr>\n",
              "      <th>3</th>\n",
              "      <td>3</td>\n",
              "      <td>2015-12-06</td>\n",
              "      <td>1.08</td>\n",
              "      <td>78992.15</td>\n",
              "      <td>1132.00</td>\n",
              "      <td>71976.41</td>\n",
              "      <td>72.58</td>\n",
              "      <td>5811.16</td>\n",
              "      <td>5677.40</td>\n",
              "      <td>133.76</td>\n",
              "      <td>0.0</td>\n",
              "      <td>conventional</td>\n",
              "      <td>2015</td>\n",
              "      <td>Albany</td>\n",
              "    </tr>\n",
              "    <tr>\n",
              "      <th>4</th>\n",
              "      <td>4</td>\n",
              "      <td>2015-11-29</td>\n",
              "      <td>1.28</td>\n",
              "      <td>51039.60</td>\n",
              "      <td>941.48</td>\n",
              "      <td>43838.39</td>\n",
              "      <td>75.78</td>\n",
              "      <td>6183.95</td>\n",
              "      <td>5986.26</td>\n",
              "      <td>197.69</td>\n",
              "      <td>0.0</td>\n",
              "      <td>conventional</td>\n",
              "      <td>2015</td>\n",
              "      <td>Albany</td>\n",
              "    </tr>\n",
              "  </tbody>\n",
              "</table>\n",
              "</div>"
            ],
            "text/plain": [
              "  Unnamed: 0        Date  AveragePrice  Total Volume     4046       4225  \\\n",
              "0          0  2015-12-27          1.33      64236.62  1036.74   54454.85   \n",
              "1          1  2015-12-20          1.35      54876.98   674.28   44638.81   \n",
              "2          2  2015-12-13          0.93     118220.22   794.70  109149.67   \n",
              "3          3  2015-12-06          1.08      78992.15  1132.00   71976.41   \n",
              "4          4  2015-11-29          1.28      51039.60   941.48   43838.39   \n",
              "\n",
              "     4770  Total Bags  Small Bags  Large Bags  XLarge Bags          type  \\\n",
              "0   48.16     8696.87     8603.62       93.25          0.0  conventional   \n",
              "1   58.33     9505.56     9408.07       97.49          0.0  conventional   \n",
              "2  130.50     8145.35     8042.21      103.14          0.0  conventional   \n",
              "3   72.58     5811.16     5677.40      133.76          0.0  conventional   \n",
              "4   75.78     6183.95     5986.26      197.69          0.0  conventional   \n",
              "\n",
              "   year  region  \n",
              "0  2015  Albany  \n",
              "1  2015  Albany  \n",
              "2  2015  Albany  \n",
              "3  2015  Albany  \n",
              "4  2015  Albany  "
            ]
          },
          "metadata": {
            "tags": []
          },
          "execution_count": 5
        }
      ]
    },
    {
      "cell_type": "markdown",
      "metadata": {
        "id": "RmOMCbhpHul6",
        "colab_type": "text"
      },
      "source": [
        "# Counting the number of values\n",
        "\n",
        "Sometimes, you'll want to count the number of times values occur.  For example, we might want to know the number of times each 'type'\n",
        "is reported in our avocado data.  Use the ```value_counts()``` function on a Series to do so:"
      ]
    },
    {
      "cell_type": "code",
      "metadata": {
        "id": "S_4-2Tt1Hul7",
        "colab_type": "code",
        "colab": {},
        "outputId": "aef4c6db-6d08-45b9-d928-5c71a5b817e6"
      },
      "source": [
        "avocado['type'].value_counts()"
      ],
      "execution_count": 0,
      "outputs": [
        {
          "output_type": "execute_result",
          "data": {
            "text/plain": [
              "conventional    9126\n",
              "organic         9123\n",
              "Name: type, dtype: int64"
            ]
          },
          "metadata": {
            "tags": []
          },
          "execution_count": 6
        }
      ]
    },
    {
      "cell_type": "markdown",
      "metadata": {
        "id": "QEIC12y1Hul_",
        "colab_type": "text"
      },
      "source": [
        "# Loading JSON data\n",
        "\n",
        "In addition to CSV files, JSON (JavaScript Object Notation) files or data is commonly used.  "
      ]
    },
    {
      "cell_type": "code",
      "metadata": {
        "id": "spQG_OQiHul_",
        "colab_type": "code",
        "colab": {}
      },
      "source": [
        "nfl_football_players = pd.read_json('data/nfl_football_profiles.json')"
      ],
      "execution_count": 0,
      "outputs": []
    },
    {
      "cell_type": "code",
      "metadata": {
        "id": "rW8g7KVKHumD",
        "colab_type": "code",
        "colab": {},
        "outputId": "b49188c6-1bd4-4892-e62d-f3af919d3560"
      },
      "source": [
        "nfl_football_players.head()"
      ],
      "execution_count": 0,
      "outputs": [
        {
          "output_type": "execute_result",
          "data": {
            "text/html": [
              "<div>\n",
              "<style scoped>\n",
              "    .dataframe tbody tr th:only-of-type {\n",
              "        vertical-align: middle;\n",
              "    }\n",
              "\n",
              "    .dataframe tbody tr th {\n",
              "        vertical-align: top;\n",
              "    }\n",
              "\n",
              "    .dataframe thead th {\n",
              "        text-align: right;\n",
              "    }\n",
              "</style>\n",
              "<table border=\"1\" class=\"dataframe\">\n",
              "  <thead>\n",
              "    <tr style=\"text-align: right;\">\n",
              "      <th></th>\n",
              "      <th>birth_date</th>\n",
              "      <th>birth_place</th>\n",
              "      <th>college</th>\n",
              "      <th>current_salary</th>\n",
              "      <th>current_team</th>\n",
              "      <th>death_date</th>\n",
              "      <th>draft_position</th>\n",
              "      <th>draft_round</th>\n",
              "      <th>draft_team</th>\n",
              "      <th>draft_year</th>\n",
              "      <th>height</th>\n",
              "      <th>high_school</th>\n",
              "      <th>hof_induction_year</th>\n",
              "      <th>name</th>\n",
              "      <th>player_id</th>\n",
              "      <th>position</th>\n",
              "      <th>weight</th>\n",
              "    </tr>\n",
              "  </thead>\n",
              "  <tbody>\n",
              "    <tr>\n",
              "      <th>0</th>\n",
              "      <td>1967-05-12</td>\n",
              "      <td>Bay City, TX</td>\n",
              "      <td>Baylor</td>\n",
              "      <td>None</td>\n",
              "      <td>None</td>\n",
              "      <td>None</td>\n",
              "      <td>34.0</td>\n",
              "      <td>2.0</td>\n",
              "      <td>Seattle Seahawks</td>\n",
              "      <td>1990.0</td>\n",
              "      <td>6-0</td>\n",
              "      <td>Van Vleck, TX</td>\n",
              "      <td>NaN</td>\n",
              "      <td>Robert Blackmon</td>\n",
              "      <td>1809</td>\n",
              "      <td>DB</td>\n",
              "      <td>208.0</td>\n",
              "    </tr>\n",
              "    <tr>\n",
              "      <th>1</th>\n",
              "      <td>1970-07-20</td>\n",
              "      <td>Louisville, KY</td>\n",
              "      <td>Kentucky</td>\n",
              "      <td>None</td>\n",
              "      <td>None</td>\n",
              "      <td>None</td>\n",
              "      <td>85.0</td>\n",
              "      <td>4.0</td>\n",
              "      <td>Seattle Seahawks</td>\n",
              "      <td>1993.0</td>\n",
              "      <td>6-3</td>\n",
              "      <td>Holy Cross, KY</td>\n",
              "      <td>NaN</td>\n",
              "      <td>Dean Wells</td>\n",
              "      <td>23586</td>\n",
              "      <td>LB</td>\n",
              "      <td>248.0</td>\n",
              "    </tr>\n",
              "    <tr>\n",
              "      <th>2</th>\n",
              "      <td>1990-08-14</td>\n",
              "      <td>Newton, MA</td>\n",
              "      <td>Oregon</td>\n",
              "      <td>1,075,000</td>\n",
              "      <td>Miami Dolphins</td>\n",
              "      <td>None</td>\n",
              "      <td>46.0</td>\n",
              "      <td>2.0</td>\n",
              "      <td>Buffalo Bills</td>\n",
              "      <td>2013.0</td>\n",
              "      <td>6-3</td>\n",
              "      <td>Los Gatos, CA</td>\n",
              "      <td>NaN</td>\n",
              "      <td>Kiko Alonso</td>\n",
              "      <td>355</td>\n",
              "      <td>ILB</td>\n",
              "      <td>238.0</td>\n",
              "    </tr>\n",
              "    <tr>\n",
              "      <th>3</th>\n",
              "      <td>1948-04-22</td>\n",
              "      <td>Dallas, TX</td>\n",
              "      <td>North Texas</td>\n",
              "      <td>None</td>\n",
              "      <td>None</td>\n",
              "      <td>1999-10-15</td>\n",
              "      <td>126.0</td>\n",
              "      <td>5.0</td>\n",
              "      <td>New Orleans Saints</td>\n",
              "      <td>1970.0</td>\n",
              "      <td>6-2</td>\n",
              "      <td>W.W. Samuell, TX</td>\n",
              "      <td>NaN</td>\n",
              "      <td>Steve Ramsey</td>\n",
              "      <td>18182</td>\n",
              "      <td>QB</td>\n",
              "      <td>210.0</td>\n",
              "    </tr>\n",
              "    <tr>\n",
              "      <th>4</th>\n",
              "      <td>1988-02-27</td>\n",
              "      <td>Neptune, NJ</td>\n",
              "      <td>Miami (FL)</td>\n",
              "      <td>None</td>\n",
              "      <td>None</td>\n",
              "      <td>None</td>\n",
              "      <td>NaN</td>\n",
              "      <td>NaN</td>\n",
              "      <td>None</td>\n",
              "      <td>NaN</td>\n",
              "      <td>6-0</td>\n",
              "      <td>Neptune, NJ</td>\n",
              "      <td>NaN</td>\n",
              "      <td>Cory Nelms</td>\n",
              "      <td>16250</td>\n",
              "      <td>CB</td>\n",
              "      <td>195.0</td>\n",
              "    </tr>\n",
              "  </tbody>\n",
              "</table>\n",
              "</div>"
            ],
            "text/plain": [
              "   birth_date     birth_place      college current_salary    current_team  \\\n",
              "0  1967-05-12    Bay City, TX       Baylor           None            None   \n",
              "1  1970-07-20  Louisville, KY     Kentucky           None            None   \n",
              "2  1990-08-14      Newton, MA       Oregon      1,075,000  Miami Dolphins   \n",
              "3  1948-04-22      Dallas, TX  North Texas           None            None   \n",
              "4  1988-02-27     Neptune, NJ   Miami (FL)           None            None   \n",
              "\n",
              "   death_date  draft_position  draft_round          draft_team  draft_year  \\\n",
              "0        None            34.0          2.0    Seattle Seahawks      1990.0   \n",
              "1        None            85.0          4.0    Seattle Seahawks      1993.0   \n",
              "2        None            46.0          2.0       Buffalo Bills      2013.0   \n",
              "3  1999-10-15           126.0          5.0  New Orleans Saints      1970.0   \n",
              "4        None             NaN          NaN                None         NaN   \n",
              "\n",
              "  height       high_school  hof_induction_year             name  player_id  \\\n",
              "0    6-0     Van Vleck, TX                 NaN  Robert Blackmon       1809   \n",
              "1    6-3    Holy Cross, KY                 NaN       Dean Wells      23586   \n",
              "2    6-3     Los Gatos, CA                 NaN      Kiko Alonso        355   \n",
              "3    6-2  W.W. Samuell, TX                 NaN     Steve Ramsey      18182   \n",
              "4    6-0       Neptune, NJ                 NaN       Cory Nelms      16250   \n",
              "\n",
              "  position  weight  \n",
              "0       DB   208.0  \n",
              "1       LB   248.0  \n",
              "2      ILB   238.0  \n",
              "3       QB   210.0  \n",
              "4       CB   195.0  "
            ]
          },
          "metadata": {
            "tags": []
          },
          "execution_count": 7
        }
      ]
    },
    {
      "cell_type": "markdown",
      "metadata": {
        "id": "EwRPR-_ZHumv",
        "colab_type": "text"
      },
      "source": [
        "And, just for fun, show the player with the highest Current Salary from that dataset:"
      ]
    },
    {
      "cell_type": "code",
      "metadata": {
        "id": "tIONruDSHumx",
        "colab_type": "code",
        "colab": {},
        "outputId": "c742ab69-075c-4466-8270-a07de6abc8e2"
      },
      "source": [
        "nfl_football_players.sort_values('current_salary', ascending=False).head(1)"
      ],
      "execution_count": 0,
      "outputs": [
        {
          "output_type": "execute_result",
          "data": {
            "text/html": [
              "<div>\n",
              "<style scoped>\n",
              "    .dataframe tbody tr th:only-of-type {\n",
              "        vertical-align: middle;\n",
              "    }\n",
              "\n",
              "    .dataframe tbody tr th {\n",
              "        vertical-align: top;\n",
              "    }\n",
              "\n",
              "    .dataframe thead th {\n",
              "        text-align: right;\n",
              "    }\n",
              "</style>\n",
              "<table border=\"1\" class=\"dataframe\">\n",
              "  <thead>\n",
              "    <tr style=\"text-align: right;\">\n",
              "      <th></th>\n",
              "      <th>birth_date</th>\n",
              "      <th>birth_place</th>\n",
              "      <th>college</th>\n",
              "      <th>current_salary</th>\n",
              "      <th>current_team</th>\n",
              "      <th>death_date</th>\n",
              "      <th>draft_position</th>\n",
              "      <th>draft_round</th>\n",
              "      <th>draft_team</th>\n",
              "      <th>draft_year</th>\n",
              "      <th>height</th>\n",
              "      <th>high_school</th>\n",
              "      <th>hof_induction_year</th>\n",
              "      <th>name</th>\n",
              "      <th>player_id</th>\n",
              "      <th>position</th>\n",
              "      <th>weight</th>\n",
              "    </tr>\n",
              "  </thead>\n",
              "  <tbody>\n",
              "    <tr>\n",
              "      <th>6454</th>\n",
              "      <td>1993-01-17</td>\n",
              "      <td>Ibadan, Nigeria</td>\n",
              "      <td>Georgia Tech</td>\n",
              "      <td>993,150</td>\n",
              "      <td>Los Angeles Chargers</td>\n",
              "      <td>None</td>\n",
              "      <td>50.0</td>\n",
              "      <td>2.0</td>\n",
              "      <td>San Diego Chargers</td>\n",
              "      <td>2014.0</td>\n",
              "      <td>6-3</td>\n",
              "      <td>Archbishop Carroll, DE</td>\n",
              "      <td>NaN</td>\n",
              "      <td>Jeremiah Attaochu</td>\n",
              "      <td>721</td>\n",
              "      <td>OLB</td>\n",
              "      <td>252.0</td>\n",
              "    </tr>\n",
              "  </tbody>\n",
              "</table>\n",
              "</div>"
            ],
            "text/plain": [
              "      birth_date      birth_place       college current_salary  \\\n",
              "6454  1993-01-17  Ibadan, Nigeria  Georgia Tech        993,150   \n",
              "\n",
              "              current_team death_date  draft_position  draft_round  \\\n",
              "6454  Los Angeles Chargers       None            50.0          2.0   \n",
              "\n",
              "              draft_team  draft_year height             high_school  \\\n",
              "6454  San Diego Chargers      2014.0    6-3  Archbishop Carroll, DE   \n",
              "\n",
              "      hof_induction_year               name  player_id position  weight  \n",
              "6454                 NaN  Jeremiah Attaochu        721      OLB   252.0  "
            ]
          },
          "metadata": {
            "tags": []
          },
          "execution_count": 8
        }
      ]
    },
    {
      "cell_type": "markdown",
      "metadata": {
        "id": "FJkkwyLUHum0",
        "colab_type": "text"
      },
      "source": [
        "# Fixing up the data\n",
        "Assuming you did something like sort_values on one of the original columns, you probably got the wrong result.\n",
        "\n",
        "Looking a bit more closely at the results, you'll notice that the current_salary column.  Remembering that we have made the shift from pythonic to pandorable, we can leverage the impressive-sounding \"vectorized string functions\" mentioned in Section XXX of the McKinney book.  Specifically, we can use the str.replace(...) method.  Note that had we use read_csv to load the file we could have used the ```thousands=``` option and avoided all this, but sometimes data doesn't come in a convenient format.\n",
        "\n",
        "One way to apply functions is to operate on a column and then assign the results to another column.  For example, if we wanted to eliminate commas, we could replace them with null strings\n"
      ]
    },
    {
      "cell_type": "code",
      "metadata": {
        "id": "WxcwXzHeHum1",
        "colab_type": "code",
        "colab": {},
        "outputId": "60102e19-17fe-45ce-8289-0daf67eadb4a"
      },
      "source": [
        "nfl_football_players['current_salary'].str.replace(',', '')"
      ],
      "execution_count": 0,
      "outputs": [
        {
          "output_type": "execute_result",
          "data": {
            "text/plain": [
              "0           None\n",
              "1           None\n",
              "2        1075000\n",
              "3           None\n",
              "4           None\n",
              "5           None\n",
              "6        1762000\n",
              "7           None\n",
              "8           None\n",
              "9           None\n",
              "10          None\n",
              "11          None\n",
              "12          None\n",
              "13        774294\n",
              "14          None\n",
              "15          None\n",
              "16          None\n",
              "17          None\n",
              "18          None\n",
              "19          None\n",
              "20          None\n",
              "21          None\n",
              "22          None\n",
              "23          None\n",
              "24          None\n",
              "25          None\n",
              "26          None\n",
              "27          None\n",
              "28          None\n",
              "29          None\n",
              "          ...   \n",
              "25013       None\n",
              "25014       None\n",
              "25015       None\n",
              "25016       None\n",
              "25017       None\n",
              "25018       None\n",
              "25019       None\n",
              "25020       None\n",
              "25021       None\n",
              "25022       None\n",
              "25023       None\n",
              "25024       None\n",
              "25025       None\n",
              "25026       None\n",
              "25027       None\n",
              "25028       None\n",
              "25029       None\n",
              "25030       None\n",
              "25031       None\n",
              "25032       None\n",
              "25033       None\n",
              "25034       None\n",
              "25035       None\n",
              "25036       None\n",
              "25037       None\n",
              "25038       None\n",
              "25039       None\n",
              "25040       None\n",
              "25041       None\n",
              "25042       None\n",
              "Name: current_salary, Length: 25043, dtype: object"
            ]
          },
          "metadata": {
            "tags": []
          },
          "execution_count": 9
        }
      ]
    },
    {
      "cell_type": "markdown",
      "metadata": {
        "id": "fIUm5dgGHum3",
        "colab_type": "text"
      },
      "source": [
        "And assign the results to a column in the original dataframe (in this case I'm calling the column current_salary_nocommas)"
      ]
    },
    {
      "cell_type": "code",
      "metadata": {
        "id": "AwJcg0lqHum3",
        "colab_type": "code",
        "colab": {}
      },
      "source": [
        "nfl_football_players['current_salary_nocommas'] = nfl_football_players['current_salary'].str.replace(',', '')"
      ],
      "execution_count": 0,
      "outputs": []
    },
    {
      "cell_type": "markdown",
      "metadata": {
        "id": "0rZ7-Q-eHum6",
        "colab_type": "text"
      },
      "source": [
        "But you'll notice that the type of the column is string, and we want to convert it to a float so we can sort it numerically.  So we can use the astype() function to convert it:"
      ]
    },
    {
      "cell_type": "code",
      "metadata": {
        "id": "SjeymCi8Hum6",
        "colab_type": "code",
        "colab": {}
      },
      "source": [
        "nfl_football_players['current_salary_cleaned'] = nfl_football_players['current_salary_nocommas'].astype(float)"
      ],
      "execution_count": 0,
      "outputs": []
    },
    {
      "cell_type": "code",
      "metadata": {
        "id": "c-Itp6egHum8",
        "colab_type": "code",
        "colab": {},
        "outputId": "033c4f87-bf3d-4543-d647-7af5655f457a"
      },
      "source": [
        "nfl_football_players.head(2)"
      ],
      "execution_count": 0,
      "outputs": [
        {
          "output_type": "execute_result",
          "data": {
            "text/html": [
              "<div>\n",
              "<style scoped>\n",
              "    .dataframe tbody tr th:only-of-type {\n",
              "        vertical-align: middle;\n",
              "    }\n",
              "\n",
              "    .dataframe tbody tr th {\n",
              "        vertical-align: top;\n",
              "    }\n",
              "\n",
              "    .dataframe thead th {\n",
              "        text-align: right;\n",
              "    }\n",
              "</style>\n",
              "<table border=\"1\" class=\"dataframe\">\n",
              "  <thead>\n",
              "    <tr style=\"text-align: right;\">\n",
              "      <th></th>\n",
              "      <th>birth_date</th>\n",
              "      <th>birth_place</th>\n",
              "      <th>college</th>\n",
              "      <th>current_salary</th>\n",
              "      <th>current_team</th>\n",
              "      <th>death_date</th>\n",
              "      <th>draft_position</th>\n",
              "      <th>draft_round</th>\n",
              "      <th>draft_team</th>\n",
              "      <th>draft_year</th>\n",
              "      <th>height</th>\n",
              "      <th>high_school</th>\n",
              "      <th>hof_induction_year</th>\n",
              "      <th>name</th>\n",
              "      <th>player_id</th>\n",
              "      <th>position</th>\n",
              "      <th>weight</th>\n",
              "      <th>current_salary_nocommas</th>\n",
              "      <th>current_salary_cleaned</th>\n",
              "    </tr>\n",
              "  </thead>\n",
              "  <tbody>\n",
              "    <tr>\n",
              "      <th>0</th>\n",
              "      <td>1967-05-12</td>\n",
              "      <td>Bay City, TX</td>\n",
              "      <td>Baylor</td>\n",
              "      <td>None</td>\n",
              "      <td>None</td>\n",
              "      <td>None</td>\n",
              "      <td>34.0</td>\n",
              "      <td>2.0</td>\n",
              "      <td>Seattle Seahawks</td>\n",
              "      <td>1990.0</td>\n",
              "      <td>6-0</td>\n",
              "      <td>Van Vleck, TX</td>\n",
              "      <td>NaN</td>\n",
              "      <td>Robert Blackmon</td>\n",
              "      <td>1809</td>\n",
              "      <td>DB</td>\n",
              "      <td>208.0</td>\n",
              "      <td>None</td>\n",
              "      <td>NaN</td>\n",
              "    </tr>\n",
              "    <tr>\n",
              "      <th>1</th>\n",
              "      <td>1970-07-20</td>\n",
              "      <td>Louisville, KY</td>\n",
              "      <td>Kentucky</td>\n",
              "      <td>None</td>\n",
              "      <td>None</td>\n",
              "      <td>None</td>\n",
              "      <td>85.0</td>\n",
              "      <td>4.0</td>\n",
              "      <td>Seattle Seahawks</td>\n",
              "      <td>1993.0</td>\n",
              "      <td>6-3</td>\n",
              "      <td>Holy Cross, KY</td>\n",
              "      <td>NaN</td>\n",
              "      <td>Dean Wells</td>\n",
              "      <td>23586</td>\n",
              "      <td>LB</td>\n",
              "      <td>248.0</td>\n",
              "      <td>None</td>\n",
              "      <td>NaN</td>\n",
              "    </tr>\n",
              "  </tbody>\n",
              "</table>\n",
              "</div>"
            ],
            "text/plain": [
              "   birth_date     birth_place   college current_salary current_team  \\\n",
              "0  1967-05-12    Bay City, TX    Baylor           None         None   \n",
              "1  1970-07-20  Louisville, KY  Kentucky           None         None   \n",
              "\n",
              "  death_date  draft_position  draft_round        draft_team  draft_year  \\\n",
              "0       None            34.0          2.0  Seattle Seahawks      1990.0   \n",
              "1       None            85.0          4.0  Seattle Seahawks      1993.0   \n",
              "\n",
              "  height     high_school  hof_induction_year             name  player_id  \\\n",
              "0    6-0   Van Vleck, TX                 NaN  Robert Blackmon       1809   \n",
              "1    6-3  Holy Cross, KY                 NaN       Dean Wells      23586   \n",
              "\n",
              "  position  weight current_salary_nocommas  current_salary_cleaned  \n",
              "0       DB   208.0                    None                     NaN  \n",
              "1       LB   248.0                    None                     NaN  "
            ]
          },
          "metadata": {
            "tags": []
          },
          "execution_count": 13
        }
      ]
    },
    {
      "cell_type": "markdown",
      "metadata": {
        "id": "p5uKDvXxHum_",
        "colab_type": "text"
      },
      "source": [
        "And now we can re-run our command to sort by salary and get the correct result:"
      ]
    },
    {
      "cell_type": "code",
      "metadata": {
        "id": "dXsvdqerHunA",
        "colab_type": "code",
        "colab": {},
        "outputId": "28ef8435-1bed-4b30-d9ab-d75484a81abe"
      },
      "source": [
        "nfl_football_players.sort_values('current_salary_cleaned', ascending=False).head(1)"
      ],
      "execution_count": 0,
      "outputs": [
        {
          "output_type": "execute_result",
          "data": {
            "text/html": [
              "<div>\n",
              "<style scoped>\n",
              "    .dataframe tbody tr th:only-of-type {\n",
              "        vertical-align: middle;\n",
              "    }\n",
              "\n",
              "    .dataframe tbody tr th {\n",
              "        vertical-align: top;\n",
              "    }\n",
              "\n",
              "    .dataframe thead th {\n",
              "        text-align: right;\n",
              "    }\n",
              "</style>\n",
              "<table border=\"1\" class=\"dataframe\">\n",
              "  <thead>\n",
              "    <tr style=\"text-align: right;\">\n",
              "      <th></th>\n",
              "      <th>birth_date</th>\n",
              "      <th>birth_place</th>\n",
              "      <th>college</th>\n",
              "      <th>current_salary</th>\n",
              "      <th>current_team</th>\n",
              "      <th>death_date</th>\n",
              "      <th>draft_position</th>\n",
              "      <th>draft_round</th>\n",
              "      <th>draft_team</th>\n",
              "      <th>draft_year</th>\n",
              "      <th>height</th>\n",
              "      <th>high_school</th>\n",
              "      <th>hof_induction_year</th>\n",
              "      <th>name</th>\n",
              "      <th>player_id</th>\n",
              "      <th>position</th>\n",
              "      <th>weight</th>\n",
              "      <th>current_salary_nocommas</th>\n",
              "      <th>current_salary_cleaned</th>\n",
              "    </tr>\n",
              "  </thead>\n",
              "  <tbody>\n",
              "    <tr>\n",
              "      <th>17756</th>\n",
              "      <td>1988-08-19</td>\n",
              "      <td>Holland, MI</td>\n",
              "      <td>Michigan St.</td>\n",
              "      <td>23,943,600</td>\n",
              "      <td>Washington Redskins</td>\n",
              "      <td>None</td>\n",
              "      <td>102.0</td>\n",
              "      <td>4.0</td>\n",
              "      <td>Washington Redskins</td>\n",
              "      <td>2012.0</td>\n",
              "      <td>6-3</td>\n",
              "      <td>Holland Christian, MI</td>\n",
              "      <td>NaN</td>\n",
              "      <td>Kirk Cousins</td>\n",
              "      <td>4644</td>\n",
              "      <td>QB</td>\n",
              "      <td>214.0</td>\n",
              "      <td>23943600</td>\n",
              "      <td>23943600.0</td>\n",
              "    </tr>\n",
              "  </tbody>\n",
              "</table>\n",
              "</div>"
            ],
            "text/plain": [
              "       birth_date  birth_place       college current_salary  \\\n",
              "17756  1988-08-19  Holland, MI  Michigan St.     23,943,600   \n",
              "\n",
              "              current_team death_date  draft_position  draft_round  \\\n",
              "17756  Washington Redskins       None           102.0          4.0   \n",
              "\n",
              "                draft_team  draft_year height            high_school  \\\n",
              "17756  Washington Redskins      2012.0    6-3  Holland Christian, MI   \n",
              "\n",
              "       hof_induction_year          name  player_id position  weight  \\\n",
              "17756                 NaN  Kirk Cousins       4644       QB   214.0   \n",
              "\n",
              "      current_salary_nocommas  current_salary_cleaned  \n",
              "17756                23943600              23943600.0  "
            ]
          },
          "metadata": {
            "tags": []
          },
          "execution_count": 14
        }
      ]
    },
    {
      "cell_type": "markdown",
      "metadata": {
        "id": "-Cy7aIXOHunC",
        "colab_type": "text"
      },
      "source": [
        "# Dropping missing values\n",
        "\n",
        "In addition to the \"all\" or \"any\" functionality described in McKinney section 7.1, it's sometimes useful to drop a row only if a certain column or columns have missing data.  To do this, use the subset= option with dropna().  So, for example, to drop all players for whom we do not have salary information, we could use the following code:"
      ]
    },
    {
      "cell_type": "code",
      "metadata": {
        "id": "SYlSXWxmHunC",
        "colab_type": "code",
        "colab": {}
      },
      "source": [
        "nfl_football_players_salaries = nfl_football_players.dropna(subset=['current_salary_cleaned'])"
      ],
      "execution_count": 0,
      "outputs": []
    },
    {
      "cell_type": "code",
      "metadata": {
        "id": "zRihlaXtHunF",
        "colab_type": "code",
        "colab": {},
        "outputId": "c6e132c9-d8e5-4d89-f815-206a62b0c1e1"
      },
      "source": [
        "nfl_football_players_salaries.head()"
      ],
      "execution_count": 0,
      "outputs": [
        {
          "output_type": "execute_result",
          "data": {
            "text/html": [
              "<div>\n",
              "<style scoped>\n",
              "    .dataframe tbody tr th:only-of-type {\n",
              "        vertical-align: middle;\n",
              "    }\n",
              "\n",
              "    .dataframe tbody tr th {\n",
              "        vertical-align: top;\n",
              "    }\n",
              "\n",
              "    .dataframe thead th {\n",
              "        text-align: right;\n",
              "    }\n",
              "</style>\n",
              "<table border=\"1\" class=\"dataframe\">\n",
              "  <thead>\n",
              "    <tr style=\"text-align: right;\">\n",
              "      <th></th>\n",
              "      <th>birth_date</th>\n",
              "      <th>birth_place</th>\n",
              "      <th>college</th>\n",
              "      <th>current_salary</th>\n",
              "      <th>current_team</th>\n",
              "      <th>death_date</th>\n",
              "      <th>draft_position</th>\n",
              "      <th>draft_round</th>\n",
              "      <th>draft_team</th>\n",
              "      <th>draft_year</th>\n",
              "      <th>height</th>\n",
              "      <th>high_school</th>\n",
              "      <th>hof_induction_year</th>\n",
              "      <th>name</th>\n",
              "      <th>player_id</th>\n",
              "      <th>position</th>\n",
              "      <th>weight</th>\n",
              "      <th>current_salary_nocommas</th>\n",
              "      <th>current_salary_cleaned</th>\n",
              "    </tr>\n",
              "  </thead>\n",
              "  <tbody>\n",
              "    <tr>\n",
              "      <th>2</th>\n",
              "      <td>1990-08-14</td>\n",
              "      <td>Newton, MA</td>\n",
              "      <td>Oregon</td>\n",
              "      <td>1,075,000</td>\n",
              "      <td>Miami Dolphins</td>\n",
              "      <td>None</td>\n",
              "      <td>46.0</td>\n",
              "      <td>2.0</td>\n",
              "      <td>Buffalo Bills</td>\n",
              "      <td>2013.0</td>\n",
              "      <td>6-3</td>\n",
              "      <td>Los Gatos, CA</td>\n",
              "      <td>NaN</td>\n",
              "      <td>Kiko Alonso</td>\n",
              "      <td>355</td>\n",
              "      <td>ILB</td>\n",
              "      <td>238.0</td>\n",
              "      <td>1075000</td>\n",
              "      <td>1075000.0</td>\n",
              "    </tr>\n",
              "    <tr>\n",
              "      <th>6</th>\n",
              "      <td>1992-10-27</td>\n",
              "      <td>Cincinnati, OH</td>\n",
              "      <td>Louisville</td>\n",
              "      <td>1,762,000</td>\n",
              "      <td>Buffalo Bills</td>\n",
              "      <td>None</td>\n",
              "      <td>73.0</td>\n",
              "      <td>3.0</td>\n",
              "      <td>Buffalo Bills</td>\n",
              "      <td>2014.0</td>\n",
              "      <td>6-1</td>\n",
              "      <td>Northwest, OH</td>\n",
              "      <td>NaN</td>\n",
              "      <td>Preston Brown</td>\n",
              "      <td>2701</td>\n",
              "      <td>ILB</td>\n",
              "      <td>251.0</td>\n",
              "      <td>1762000</td>\n",
              "      <td>1762000.0</td>\n",
              "    </tr>\n",
              "    <tr>\n",
              "      <th>13</th>\n",
              "      <td>1993-06-14</td>\n",
              "      <td>Cleveland, OH</td>\n",
              "      <td>Michigan</td>\n",
              "      <td>774,294</td>\n",
              "      <td>Seattle Seahawks</td>\n",
              "      <td>None</td>\n",
              "      <td>63.0</td>\n",
              "      <td>2.0</td>\n",
              "      <td>Seattle Seahawks</td>\n",
              "      <td>2015.0</td>\n",
              "      <td>6-2</td>\n",
              "      <td>Glenville, OH</td>\n",
              "      <td>NaN</td>\n",
              "      <td>Frank Clark</td>\n",
              "      <td>3966</td>\n",
              "      <td>DE</td>\n",
              "      <td>270.0</td>\n",
              "      <td>774294</td>\n",
              "      <td>774294.0</td>\n",
              "    </tr>\n",
              "    <tr>\n",
              "      <th>37</th>\n",
              "      <td>1987-03-16</td>\n",
              "      <td>Bellville, TX</td>\n",
              "      <td>SMU</td>\n",
              "      <td>6,750,000</td>\n",
              "      <td>Denver Broncos</td>\n",
              "      <td>None</td>\n",
              "      <td>82.0</td>\n",
              "      <td>3.0</td>\n",
              "      <td>Pittsburgh Steelers</td>\n",
              "      <td>2010.0</td>\n",
              "      <td>5-11</td>\n",
              "      <td>Bellville, TX</td>\n",
              "      <td>NaN</td>\n",
              "      <td>Emmanuel Sanders</td>\n",
              "      <td>19449</td>\n",
              "      <td>WR</td>\n",
              "      <td>186.0</td>\n",
              "      <td>6750000</td>\n",
              "      <td>6750000.0</td>\n",
              "    </tr>\n",
              "    <tr>\n",
              "      <th>53</th>\n",
              "      <td>1988-10-27</td>\n",
              "      <td>Lakeland, FL</td>\n",
              "      <td>Louisville</td>\n",
              "      <td>3,750,000</td>\n",
              "      <td>New York Jets</td>\n",
              "      <td>None</td>\n",
              "      <td>126.0</td>\n",
              "      <td>4.0</td>\n",
              "      <td>New York Jets</td>\n",
              "      <td>2011.0</td>\n",
              "      <td>5-11</td>\n",
              "      <td>Lake Gibson, FL</td>\n",
              "      <td>NaN</td>\n",
              "      <td>Bilal Powell</td>\n",
              "      <td>17858</td>\n",
              "      <td>RB</td>\n",
              "      <td>204.0</td>\n",
              "      <td>3750000</td>\n",
              "      <td>3750000.0</td>\n",
              "    </tr>\n",
              "  </tbody>\n",
              "</table>\n",
              "</div>"
            ],
            "text/plain": [
              "    birth_date     birth_place     college current_salary      current_team  \\\n",
              "2   1990-08-14      Newton, MA      Oregon      1,075,000    Miami Dolphins   \n",
              "6   1992-10-27  Cincinnati, OH  Louisville      1,762,000     Buffalo Bills   \n",
              "13  1993-06-14   Cleveland, OH    Michigan        774,294  Seattle Seahawks   \n",
              "37  1987-03-16   Bellville, TX         SMU      6,750,000    Denver Broncos   \n",
              "53  1988-10-27    Lakeland, FL  Louisville      3,750,000     New York Jets   \n",
              "\n",
              "   death_date  draft_position  draft_round           draft_team  draft_year  \\\n",
              "2        None            46.0          2.0        Buffalo Bills      2013.0   \n",
              "6        None            73.0          3.0        Buffalo Bills      2014.0   \n",
              "13       None            63.0          2.0     Seattle Seahawks      2015.0   \n",
              "37       None            82.0          3.0  Pittsburgh Steelers      2010.0   \n",
              "53       None           126.0          4.0        New York Jets      2011.0   \n",
              "\n",
              "   height      high_school  hof_induction_year               name  player_id  \\\n",
              "2     6-3    Los Gatos, CA                 NaN        Kiko Alonso        355   \n",
              "6     6-1    Northwest, OH                 NaN      Preston Brown       2701   \n",
              "13    6-2    Glenville, OH                 NaN        Frank Clark       3966   \n",
              "37   5-11    Bellville, TX                 NaN  Emmanuel Sanders       19449   \n",
              "53   5-11  Lake Gibson, FL                 NaN       Bilal Powell      17858   \n",
              "\n",
              "   position  weight current_salary_nocommas  current_salary_cleaned  \n",
              "2       ILB   238.0                 1075000               1075000.0  \n",
              "6       ILB   251.0                 1762000               1762000.0  \n",
              "13       DE   270.0                  774294                774294.0  \n",
              "37       WR   186.0                 6750000               6750000.0  \n",
              "53       RB   204.0                 3750000               3750000.0  "
            ]
          },
          "metadata": {
            "tags": []
          },
          "execution_count": 16
        }
      ]
    },
    {
      "cell_type": "markdown",
      "metadata": {
        "id": "qVFg0VeQHunH",
        "colab_type": "text"
      },
      "source": [
        "# Creating dummy variables\n",
        "\n",
        "We might, on occasion, want to \"bin\" or \"discretize\" a variable.  For example, we might want to take the previous dataframe and add dummy variables that map onto whether the salaries are \"small\" (< \\$1M) , \"medium\" (\\$1M - \\$10M), or \"large\" (> \\$10M).  We could do something like the following:"
      ]
    },
    {
      "cell_type": "code",
      "metadata": {
        "id": "UWJ8blHGHunH",
        "colab_type": "code",
        "colab": {}
      },
      "source": [
        "bins = [0,1000000,10000000,1000000000]"
      ],
      "execution_count": 0,
      "outputs": []
    },
    {
      "cell_type": "code",
      "metadata": {
        "id": "_A6Kvz7xHunJ",
        "colab_type": "code",
        "colab": {}
      },
      "source": [
        "dummies = pd.get_dummies(pd.cut(nfl_football_players_salaries['current_salary_cleaned'],bins,labels=['small','medium','large']))"
      ],
      "execution_count": 0,
      "outputs": []
    },
    {
      "cell_type": "code",
      "metadata": {
        "id": "uwS9MTZgHunL",
        "colab_type": "code",
        "colab": {},
        "outputId": "cf637fc9-ec8e-4974-e473-4aaec6287321"
      },
      "source": [
        "dummies.head()"
      ],
      "execution_count": 0,
      "outputs": [
        {
          "output_type": "execute_result",
          "data": {
            "text/html": [
              "<div>\n",
              "<style scoped>\n",
              "    .dataframe tbody tr th:only-of-type {\n",
              "        vertical-align: middle;\n",
              "    }\n",
              "\n",
              "    .dataframe tbody tr th {\n",
              "        vertical-align: top;\n",
              "    }\n",
              "\n",
              "    .dataframe thead th {\n",
              "        text-align: right;\n",
              "    }\n",
              "</style>\n",
              "<table border=\"1\" class=\"dataframe\">\n",
              "  <thead>\n",
              "    <tr style=\"text-align: right;\">\n",
              "      <th></th>\n",
              "      <th>small</th>\n",
              "      <th>medium</th>\n",
              "      <th>large</th>\n",
              "    </tr>\n",
              "  </thead>\n",
              "  <tbody>\n",
              "    <tr>\n",
              "      <th>2</th>\n",
              "      <td>0</td>\n",
              "      <td>1</td>\n",
              "      <td>0</td>\n",
              "    </tr>\n",
              "    <tr>\n",
              "      <th>6</th>\n",
              "      <td>0</td>\n",
              "      <td>1</td>\n",
              "      <td>0</td>\n",
              "    </tr>\n",
              "    <tr>\n",
              "      <th>13</th>\n",
              "      <td>1</td>\n",
              "      <td>0</td>\n",
              "      <td>0</td>\n",
              "    </tr>\n",
              "    <tr>\n",
              "      <th>37</th>\n",
              "      <td>0</td>\n",
              "      <td>1</td>\n",
              "      <td>0</td>\n",
              "    </tr>\n",
              "    <tr>\n",
              "      <th>53</th>\n",
              "      <td>0</td>\n",
              "      <td>1</td>\n",
              "      <td>0</td>\n",
              "    </tr>\n",
              "  </tbody>\n",
              "</table>\n",
              "</div>"
            ],
            "text/plain": [
              "    small  medium  large\n",
              "2       0       1      0\n",
              "6       0       1      0\n",
              "13      1       0      0\n",
              "37      0       1      0\n",
              "53      0       1      0"
            ]
          },
          "metadata": {
            "tags": []
          },
          "execution_count": 19
        }
      ]
    },
    {
      "cell_type": "code",
      "metadata": {
        "id": "5kxT44MPHunO",
        "colab_type": "code",
        "colab": {}
      },
      "source": [
        "nfl_cats = pd.concat([nfl_football_players_salaries,dummies],axis=1)"
      ],
      "execution_count": 0,
      "outputs": []
    },
    {
      "cell_type": "code",
      "metadata": {
        "id": "CC3Z1po5HunR",
        "colab_type": "code",
        "colab": {},
        "outputId": "50f8dbec-5129-4f29-caba-b38c052ffc14"
      },
      "source": [
        "nfl_cats.tail()"
      ],
      "execution_count": 0,
      "outputs": [
        {
          "output_type": "execute_result",
          "data": {
            "text/html": [
              "<div>\n",
              "<style scoped>\n",
              "    .dataframe tbody tr th:only-of-type {\n",
              "        vertical-align: middle;\n",
              "    }\n",
              "\n",
              "    .dataframe tbody tr th {\n",
              "        vertical-align: top;\n",
              "    }\n",
              "\n",
              "    .dataframe thead th {\n",
              "        text-align: right;\n",
              "    }\n",
              "</style>\n",
              "<table border=\"1\" class=\"dataframe\">\n",
              "  <thead>\n",
              "    <tr style=\"text-align: right;\">\n",
              "      <th></th>\n",
              "      <th>birth_date</th>\n",
              "      <th>birth_place</th>\n",
              "      <th>college</th>\n",
              "      <th>current_salary</th>\n",
              "      <th>current_team</th>\n",
              "      <th>death_date</th>\n",
              "      <th>draft_position</th>\n",
              "      <th>draft_round</th>\n",
              "      <th>draft_team</th>\n",
              "      <th>draft_year</th>\n",
              "      <th>...</th>\n",
              "      <th>hof_induction_year</th>\n",
              "      <th>name</th>\n",
              "      <th>player_id</th>\n",
              "      <th>position</th>\n",
              "      <th>weight</th>\n",
              "      <th>current_salary_nocommas</th>\n",
              "      <th>current_salary_cleaned</th>\n",
              "      <th>small</th>\n",
              "      <th>medium</th>\n",
              "      <th>large</th>\n",
              "    </tr>\n",
              "  </thead>\n",
              "  <tbody>\n",
              "    <tr>\n",
              "      <th>24885</th>\n",
              "      <td>1994-02-12</td>\n",
              "      <td>San Antonio, TX</td>\n",
              "      <td>Memphis</td>\n",
              "      <td>880,741</td>\n",
              "      <td>Denver Broncos</td>\n",
              "      <td>None</td>\n",
              "      <td>26.0</td>\n",
              "      <td>1.0</td>\n",
              "      <td>Denver Broncos</td>\n",
              "      <td>2016.0</td>\n",
              "      <td>...</td>\n",
              "      <td>NaN</td>\n",
              "      <td>Paxton Lynch</td>\n",
              "      <td>13753</td>\n",
              "      <td>QB</td>\n",
              "      <td>244.0</td>\n",
              "      <td>880741</td>\n",
              "      <td>880741.0</td>\n",
              "      <td>1</td>\n",
              "      <td>0</td>\n",
              "      <td>0</td>\n",
              "    </tr>\n",
              "    <tr>\n",
              "      <th>24917</th>\n",
              "      <td>1991-05-13</td>\n",
              "      <td>Fairfield, CA</td>\n",
              "      <td>TCU</td>\n",
              "      <td>860,000</td>\n",
              "      <td>Los Angeles Chargers</td>\n",
              "      <td>None</td>\n",
              "      <td>25.0</td>\n",
              "      <td>1.0</td>\n",
              "      <td>San Diego Chargers</td>\n",
              "      <td>2014.0</td>\n",
              "      <td>...</td>\n",
              "      <td>NaN</td>\n",
              "      <td>Jason Verrett</td>\n",
              "      <td>22916</td>\n",
              "      <td>CB</td>\n",
              "      <td>189.0</td>\n",
              "      <td>860000</td>\n",
              "      <td>860000.0</td>\n",
              "      <td>1</td>\n",
              "      <td>0</td>\n",
              "      <td>0</td>\n",
              "    </tr>\n",
              "    <tr>\n",
              "      <th>24923</th>\n",
              "      <td>1993-01-21</td>\n",
              "      <td>Sacramento, CA</td>\n",
              "      <td>Stanford</td>\n",
              "      <td>772,413</td>\n",
              "      <td>New England Patriots</td>\n",
              "      <td>None</td>\n",
              "      <td>64.0</td>\n",
              "      <td>2.0</td>\n",
              "      <td>New England Patriots</td>\n",
              "      <td>2015.0</td>\n",
              "      <td>...</td>\n",
              "      <td>NaN</td>\n",
              "      <td>Jordan Richards</td>\n",
              "      <td>18586</td>\n",
              "      <td>SS</td>\n",
              "      <td>211.0</td>\n",
              "      <td>772413</td>\n",
              "      <td>772413.0</td>\n",
              "      <td>1</td>\n",
              "      <td>0</td>\n",
              "      <td>0</td>\n",
              "    </tr>\n",
              "    <tr>\n",
              "      <th>24967</th>\n",
              "      <td>1989-11-27</td>\n",
              "      <td>St. Paul, MN</td>\n",
              "      <td>Notre Dame</td>\n",
              "      <td>887,058</td>\n",
              "      <td>Minnesota Vikings</td>\n",
              "      <td>None</td>\n",
              "      <td>13.0</td>\n",
              "      <td>1.0</td>\n",
              "      <td>Arizona Cardinals</td>\n",
              "      <td>2012.0</td>\n",
              "      <td>...</td>\n",
              "      <td>NaN</td>\n",
              "      <td>Michael Floyd</td>\n",
              "      <td>7063</td>\n",
              "      <td>WR</td>\n",
              "      <td>220.0</td>\n",
              "      <td>887058</td>\n",
              "      <td>887058.0</td>\n",
              "      <td>1</td>\n",
              "      <td>0</td>\n",
              "      <td>0</td>\n",
              "    </tr>\n",
              "    <tr>\n",
              "      <th>24984</th>\n",
              "      <td>1988-03-22</td>\n",
              "      <td>Longview, TX</td>\n",
              "      <td>Washington St.</td>\n",
              "      <td>4,500,000</td>\n",
              "      <td>Jacksonville Jaguars</td>\n",
              "      <td>None</td>\n",
              "      <td>NaN</td>\n",
              "      <td>NaN</td>\n",
              "      <td>None</td>\n",
              "      <td>NaN</td>\n",
              "      <td>...</td>\n",
              "      <td>NaN</td>\n",
              "      <td>Chris Ivory</td>\n",
              "      <td>10701</td>\n",
              "      <td>RB</td>\n",
              "      <td>222.0</td>\n",
              "      <td>4500000</td>\n",
              "      <td>4500000.0</td>\n",
              "      <td>0</td>\n",
              "      <td>1</td>\n",
              "      <td>0</td>\n",
              "    </tr>\n",
              "  </tbody>\n",
              "</table>\n",
              "<p>5 rows × 22 columns</p>\n",
              "</div>"
            ],
            "text/plain": [
              "       birth_date      birth_place         college current_salary  \\\n",
              "24885  1994-02-12  San Antonio, TX         Memphis        880,741   \n",
              "24917  1991-05-13    Fairfield, CA             TCU        860,000   \n",
              "24923  1993-01-21   Sacramento, CA        Stanford        772,413   \n",
              "24967  1989-11-27     St. Paul, MN      Notre Dame        887,058   \n",
              "24984  1988-03-22     Longview, TX  Washington St.      4,500,000   \n",
              "\n",
              "               current_team death_date  draft_position  draft_round  \\\n",
              "24885        Denver Broncos       None            26.0          1.0   \n",
              "24917  Los Angeles Chargers       None            25.0          1.0   \n",
              "24923  New England Patriots       None            64.0          2.0   \n",
              "24967     Minnesota Vikings       None            13.0          1.0   \n",
              "24984  Jacksonville Jaguars       None             NaN          NaN   \n",
              "\n",
              "                 draft_team  draft_year  ...   hof_induction_year  \\\n",
              "24885        Denver Broncos      2016.0  ...                  NaN   \n",
              "24917    San Diego Chargers      2014.0  ...                  NaN   \n",
              "24923  New England Patriots      2015.0  ...                  NaN   \n",
              "24967     Arizona Cardinals      2012.0  ...                  NaN   \n",
              "24984                  None         NaN  ...                  NaN   \n",
              "\n",
              "                  name  player_id position  weight current_salary_nocommas  \\\n",
              "24885    Paxton Lynch       13753       QB   244.0                  880741   \n",
              "24917    Jason Verrett      22916       CB   189.0                  860000   \n",
              "24923  Jordan Richards      18586       SS   211.0                  772413   \n",
              "24967   Michael Floyd        7063       WR   220.0                  887058   \n",
              "24984      Chris Ivory      10701       RB   222.0                 4500000   \n",
              "\n",
              "       current_salary_cleaned small  medium  large  \n",
              "24885                880741.0     1       0      0  \n",
              "24917                860000.0     1       0      0  \n",
              "24923                772413.0     1       0      0  \n",
              "24967                887058.0     1       0      0  \n",
              "24984               4500000.0     0       1      0  \n",
              "\n",
              "[5 rows x 22 columns]"
            ]
          },
          "metadata": {
            "tags": []
          },
          "execution_count": 22
        }
      ]
    },
    {
      "cell_type": "markdown",
      "metadata": {
        "id": "yCQUvjN8HunU",
        "colab_type": "text"
      },
      "source": [
        "# Scraping Tables from HTML"
      ]
    },
    {
      "cell_type": "markdown",
      "metadata": {
        "id": "EggqkmlYHunV",
        "colab_type": "text"
      },
      "source": [
        "The ```pd.read_html``` function returns a list of DataFrames read from an HTML source.  The following line will return a list of DataFrames from https://en.wikipedia.org/wiki/List_of_largest_sports_contracts"
      ]
    },
    {
      "cell_type": "code",
      "metadata": {
        "id": "se4JcqgwHunV",
        "colab_type": "code",
        "colab": {}
      },
      "source": [
        "contracts_scraped = pd.read_html('https://en.wikipedia.org/wiki/List_of_largest_sports_contracts',header=0)"
      ],
      "execution_count": 0,
      "outputs": []
    },
    {
      "cell_type": "code",
      "metadata": {
        "id": "UNsEBWmHHunX",
        "colab_type": "code",
        "colab": {},
        "outputId": "0a59240e-16ba-4770-acee-0498be2c346f"
      },
      "source": [
        "len(contracts_scraped)"
      ],
      "execution_count": 0,
      "outputs": [
        {
          "output_type": "execute_result",
          "data": {
            "text/plain": [
              "1"
            ]
          },
          "metadata": {
            "tags": []
          },
          "execution_count": 24
        }
      ]
    },
    {
      "cell_type": "markdown",
      "metadata": {
        "id": "-LRwWTTpHunY",
        "colab_type": "text"
      },
      "source": [
        "To get the first table, you'll need to pull off the 0th element:"
      ]
    },
    {
      "cell_type": "code",
      "metadata": {
        "id": "gFkpSb7BHunZ",
        "colab_type": "code",
        "colab": {},
        "outputId": "51b476d7-e43c-4ad2-c43a-1341ff775880"
      },
      "source": [
        "contracts = contracts_scraped[0]\n",
        "contracts.head()"
      ],
      "execution_count": 0,
      "outputs": [
        {
          "output_type": "execute_result",
          "data": {
            "text/html": [
              "<div>\n",
              "<style scoped>\n",
              "    .dataframe tbody tr th:only-of-type {\n",
              "        vertical-align: middle;\n",
              "    }\n",
              "\n",
              "    .dataframe tbody tr th {\n",
              "        vertical-align: top;\n",
              "    }\n",
              "\n",
              "    .dataframe thead th {\n",
              "        text-align: right;\n",
              "    }\n",
              "</style>\n",
              "<table border=\"1\" class=\"dataframe\">\n",
              "  <thead>\n",
              "    <tr style=\"text-align: right;\">\n",
              "      <th></th>\n",
              "      <th>Rank</th>\n",
              "      <th>Player</th>\n",
              "      <th>Team</th>\n",
              "      <th>Sport</th>\n",
              "      <th>Length of contract</th>\n",
              "      <th>Contract value (USD)</th>\n",
              "      <th>Average per year (USD)</th>\n",
              "      <th>Average per game4 (USD)</th>\n",
              "      <th>Ref[1]</th>\n",
              "    </tr>\n",
              "  </thead>\n",
              "  <tbody>\n",
              "    <tr>\n",
              "      <th>0</th>\n",
              "      <td>01</td>\n",
              "      <td>Giancarlo Stanton</td>\n",
              "      <td>Miami Marlins*</td>\n",
              "      <td>Baseball</td>\n",
              "      <td>13 years (2014–2027)</td>\n",
              "      <td>$325,000,000</td>\n",
              "      <td>$25,000,000</td>\n",
              "      <td>$154,320.99</td>\n",
              "      <td>[1]</td>\n",
              "    </tr>\n",
              "    <tr>\n",
              "      <th>1</th>\n",
              "      <td>02</td>\n",
              "      <td>Alex Rodriguez1R</td>\n",
              "      <td>New York Yankees*</td>\n",
              "      <td>Baseball</td>\n",
              "      <td>10 years (2008–2017)</td>\n",
              "      <td>$275,000,000</td>\n",
              "      <td>$27,500,000</td>\n",
              "      <td>$169,753.09</td>\n",
              "      <td>[2]</td>\n",
              "    </tr>\n",
              "    <tr>\n",
              "      <th>2</th>\n",
              "      <td>03</td>\n",
              "      <td>Alex Rodriguez2R</td>\n",
              "      <td>Texas Rangers*</td>\n",
              "      <td>Baseball</td>\n",
              "      <td>10 years (2001–2010)</td>\n",
              "      <td>$252,000,000</td>\n",
              "      <td>$25,200,000</td>\n",
              "      <td>$155,555.56</td>\n",
              "      <td>[3]</td>\n",
              "    </tr>\n",
              "    <tr>\n",
              "      <th>3</th>\n",
              "      <td>04</td>\n",
              "      <td>Miguel Cabrera</td>\n",
              "      <td>Detroit Tigers</td>\n",
              "      <td>Baseball</td>\n",
              "      <td>8 years (2016–2023)</td>\n",
              "      <td>$247,000,000</td>\n",
              "      <td>$31,000,000</td>\n",
              "      <td>$191,358.02</td>\n",
              "      <td>[4]</td>\n",
              "    </tr>\n",
              "    <tr>\n",
              "      <th>4</th>\n",
              "      <td>05 (tie)</td>\n",
              "      <td>Robinson Cano</td>\n",
              "      <td>Seattle Mariners</td>\n",
              "      <td>Baseball</td>\n",
              "      <td>10 years (2014–2023)</td>\n",
              "      <td>$240,000,000</td>\n",
              "      <td>$24,000,000</td>\n",
              "      <td>$148,148.15</td>\n",
              "      <td>[5]</td>\n",
              "    </tr>\n",
              "  </tbody>\n",
              "</table>\n",
              "</div>"
            ],
            "text/plain": [
              "       Rank             Player               Team     Sport  \\\n",
              "0        01  Giancarlo Stanton     Miami Marlins*  Baseball   \n",
              "1        02   Alex Rodriguez1R  New York Yankees*  Baseball   \n",
              "2        03   Alex Rodriguez2R     Texas Rangers*  Baseball   \n",
              "3        04     Miguel Cabrera     Detroit Tigers  Baseball   \n",
              "4  05 (tie)      Robinson Cano   Seattle Mariners  Baseball   \n",
              "\n",
              "     Length of contract Contract value (USD) Average per year (USD)  \\\n",
              "0  13 years (2014–2027)         $325,000,000            $25,000,000   \n",
              "1  10 years (2008–2017)         $275,000,000            $27,500,000   \n",
              "2  10 years (2001–2010)         $252,000,000            $25,200,000   \n",
              "3   8 years (2016–2023)         $247,000,000            $31,000,000   \n",
              "4  10 years (2014–2023)         $240,000,000            $24,000,000   \n",
              "\n",
              "  Average per game4 (USD) Ref[1]  \n",
              "0             $154,320.99    [1]  \n",
              "1             $169,753.09    [2]  \n",
              "2             $155,555.56    [3]  \n",
              "3             $191,358.02    [4]  \n",
              "4             $148,148.15    [5]  "
            ]
          },
          "metadata": {
            "tags": []
          },
          "execution_count": 25
        }
      ]
    },
    {
      "cell_type": "markdown",
      "metadata": {
        "id": "rOaNq4F-Hunb",
        "colab_type": "text"
      },
      "source": [
        "## Exercise 3 (2 points): \n",
        "\n",
        "Count the number of players from each sport in the List of Largest Sports Contracts \n",
        "\n",
        "Hint:  see value_counts() description above"
      ]
    },
    {
      "cell_type": "code",
      "metadata": {
        "id": "kNLBWGgnHunb",
        "colab_type": "code",
        "colab": {},
        "outputId": "8bb3912d-55b8-4ecf-bd61-bb280392b92a"
      },
      "source": [
        "sports = contracts['Sport']\n",
        "sports.value_counts()"
      ],
      "execution_count": 0,
      "outputs": [
        {
          "output_type": "execute_result",
          "data": {
            "text/plain": [
              "Baseball                55\n",
              "Basketball              26\n",
              "American football       15\n",
              "Auto racing              2\n",
              "Association football     1\n",
              "Hockey                   1\n",
              "Name: Sport, dtype: int64"
            ]
          },
          "metadata": {
            "tags": []
          },
          "execution_count": 31
        }
      ]
    },
    {
      "cell_type": "code",
      "metadata": {
        "id": "_k91Ez8KHune",
        "colab_type": "code",
        "colab": {},
        "outputId": "97fe0aaf-9b7c-42cf-9d9f-92263676875e"
      },
      "source": [
        "contracts['Sport'].value_counts()"
      ],
      "execution_count": 0,
      "outputs": [
        {
          "output_type": "execute_result",
          "data": {
            "text/plain": [
              "Baseball                55\n",
              "Basketball              26\n",
              "American football       15\n",
              "Auto racing              2\n",
              "Association football     1\n",
              "Hockey                   1\n",
              "Name: Sport, dtype: int64"
            ]
          },
          "metadata": {
            "tags": []
          },
          "execution_count": 32
        }
      ]
    },
    {
      "cell_type": "markdown",
      "metadata": {
        "id": "ZT7vru3kHuni",
        "colab_type": "text"
      },
      "source": [
        "For the final exercise, we're going to return to the nfl_football_players dataframe we created earlier.  The following question looks deceptively easy.\n",
        "We'd like you to tackle this on in your groups.  We'd like you to first use the whiteboard to come up with a plan to tackle this exercise. \n",
        "You should first list the steps you'll follow and the highlight the steps that you think you'll need to look up extra documentation for.  Members of the first group to complete this exercise **and help another group complete it by explaining how to do it** will receive **two bonus marks**."
      ]
    },
    {
      "cell_type": "markdown",
      "metadata": {
        "id": "QRhLf5mbHuni",
        "colab_type": "text"
      },
      "source": [
        "## Exercise 4 (5 points): \n",
        "Create a new dataframe that contains all the columns in the nfl_football_players dataframe as well as an additional column that contains each player's height in centimeters. Show the first 5 rows of your result.\n",
        "\n",
        "hint: 1 inch = 2.54 cm\n",
        "\n",
        "hint: you can use the vectorized string function str.split() to separate feet and inches from the original dataframe column\n",
        "\n",
        "hint: remember to cast strings to numeric types if you're going to perform math on them\n",
        "\n",
        "hint: you might want to create an intermediate (temporary) DataFrame to help you keep things clear instead of attempting to do \n",
        "this in one line "
      ]
    },
    {
      "cell_type": "code",
      "metadata": {
        "id": "EbAtmZWUHunj",
        "colab_type": "code",
        "colab": {},
        "outputId": "1248ef23-4dd5-4a1f-aa47-ed537a287da5"
      },
      "source": [
        "nfl_football_players.columns"
      ],
      "execution_count": 0,
      "outputs": [
        {
          "output_type": "execute_result",
          "data": {
            "text/plain": [
              "Index(['birth_date', 'birth_place', 'college', 'current_salary',\n",
              "       'current_team', 'death_date', 'draft_position', 'draft_round',\n",
              "       'draft_team', 'draft_year', 'height', 'high_school',\n",
              "       'hof_induction_year', 'name', 'player_id', 'position', 'weight',\n",
              "       'current_salary_nocommas', 'current_salary_cleaned'],\n",
              "      dtype='object')"
            ]
          },
          "metadata": {
            "tags": []
          },
          "execution_count": 33
        }
      ]
    },
    {
      "cell_type": "code",
      "metadata": {
        "id": "GBWSjtMZHunk",
        "colab_type": "code",
        "colab": {},
        "outputId": "9a037a5a-82f5-41f6-9d10-ed94e29a17fd"
      },
      "source": [
        "nfl_football_players.height.head(5)"
      ],
      "execution_count": 0,
      "outputs": [
        {
          "output_type": "execute_result",
          "data": {
            "text/plain": [
              "0    6-0\n",
              "1    6-3\n",
              "2    6-3\n",
              "3    6-2\n",
              "4    6-0\n",
              "Name: height, dtype: object"
            ]
          },
          "metadata": {
            "tags": []
          },
          "execution_count": 35
        }
      ]
    },
    {
      "cell_type": "code",
      "metadata": {
        "id": "wzoT6-CyHunq",
        "colab_type": "code",
        "colab": {}
      },
      "source": [
        "heights = nfl_football_players.height.str.split('-')"
      ],
      "execution_count": 0,
      "outputs": []
    },
    {
      "cell_type": "code",
      "metadata": {
        "id": "0uWpJRNDHuns",
        "colab_type": "code",
        "colab": {},
        "outputId": "6b44c9c3-7d3d-4631-ac2f-b7d1fdf0bc04"
      },
      "source": [
        "heights.head()"
      ],
      "execution_count": 0,
      "outputs": [
        {
          "output_type": "execute_result",
          "data": {
            "text/plain": [
              "0    [6, 0]\n",
              "1    [6, 3]\n",
              "2    [6, 3]\n",
              "3    [6, 2]\n",
              "4    [6, 0]\n",
              "Name: height, dtype: object"
            ]
          },
          "metadata": {
            "tags": []
          },
          "execution_count": 41
        }
      ]
    },
    {
      "cell_type": "code",
      "metadata": {
        "id": "IISfPSzhHunv",
        "colab_type": "code",
        "colab": {}
      },
      "source": [
        "heights = nfl_football_players.height.str.split('-', expand=True)"
      ],
      "execution_count": 0,
      "outputs": []
    },
    {
      "cell_type": "code",
      "metadata": {
        "id": "dxIxpt7PHunx",
        "colab_type": "code",
        "colab": {},
        "outputId": "9cecb72c-fc78-4cca-c3c4-41b7958107f2"
      },
      "source": [
        "heights.head()"
      ],
      "execution_count": 0,
      "outputs": [
        {
          "output_type": "execute_result",
          "data": {
            "text/html": [
              "<div>\n",
              "<style scoped>\n",
              "    .dataframe tbody tr th:only-of-type {\n",
              "        vertical-align: middle;\n",
              "    }\n",
              "\n",
              "    .dataframe tbody tr th {\n",
              "        vertical-align: top;\n",
              "    }\n",
              "\n",
              "    .dataframe thead th {\n",
              "        text-align: right;\n",
              "    }\n",
              "</style>\n",
              "<table border=\"1\" class=\"dataframe\">\n",
              "  <thead>\n",
              "    <tr style=\"text-align: right;\">\n",
              "      <th></th>\n",
              "      <th>0</th>\n",
              "      <th>1</th>\n",
              "    </tr>\n",
              "  </thead>\n",
              "  <tbody>\n",
              "    <tr>\n",
              "      <th>0</th>\n",
              "      <td>6</td>\n",
              "      <td>0</td>\n",
              "    </tr>\n",
              "    <tr>\n",
              "      <th>1</th>\n",
              "      <td>6</td>\n",
              "      <td>3</td>\n",
              "    </tr>\n",
              "    <tr>\n",
              "      <th>2</th>\n",
              "      <td>6</td>\n",
              "      <td>3</td>\n",
              "    </tr>\n",
              "    <tr>\n",
              "      <th>3</th>\n",
              "      <td>6</td>\n",
              "      <td>2</td>\n",
              "    </tr>\n",
              "    <tr>\n",
              "      <th>4</th>\n",
              "      <td>6</td>\n",
              "      <td>0</td>\n",
              "    </tr>\n",
              "  </tbody>\n",
              "</table>\n",
              "</div>"
            ],
            "text/plain": [
              "   0  1\n",
              "0  6  0\n",
              "1  6  3\n",
              "2  6  3\n",
              "3  6  2\n",
              "4  6  0"
            ]
          },
          "metadata": {
            "tags": []
          },
          "execution_count": 57
        }
      ]
    },
    {
      "cell_type": "code",
      "metadata": {
        "id": "c6s9N-ToHun0",
        "colab_type": "code",
        "colab": {}
      },
      "source": [
        ""
      ],
      "execution_count": 0,
      "outputs": []
    },
    {
      "cell_type": "code",
      "metadata": {
        "id": "B84YF5bVHun1",
        "colab_type": "code",
        "colab": {}
      },
      "source": [
        "heights = nfl_football_players.height.str.split('-', expand = True)\n",
        "nfl_football_players['cm'] = (heights[0].astype(float)*12+heights[1].astype(float))*2.54"
      ],
      "execution_count": 0,
      "outputs": []
    },
    {
      "cell_type": "code",
      "metadata": {
        "id": "bEyImDDZHun3",
        "colab_type": "code",
        "colab": {},
        "outputId": "e1c27ec7-4428-46d9-c568-b0ac70024cca"
      },
      "source": [
        "nfl_football_players.head(1)"
      ],
      "execution_count": 0,
      "outputs": [
        {
          "output_type": "execute_result",
          "data": {
            "text/html": [
              "<div>\n",
              "<style scoped>\n",
              "    .dataframe tbody tr th:only-of-type {\n",
              "        vertical-align: middle;\n",
              "    }\n",
              "\n",
              "    .dataframe tbody tr th {\n",
              "        vertical-align: top;\n",
              "    }\n",
              "\n",
              "    .dataframe thead th {\n",
              "        text-align: right;\n",
              "    }\n",
              "</style>\n",
              "<table border=\"1\" class=\"dataframe\">\n",
              "  <thead>\n",
              "    <tr style=\"text-align: right;\">\n",
              "      <th></th>\n",
              "      <th>birth_date</th>\n",
              "      <th>birth_place</th>\n",
              "      <th>college</th>\n",
              "      <th>current_salary</th>\n",
              "      <th>current_team</th>\n",
              "      <th>death_date</th>\n",
              "      <th>draft_position</th>\n",
              "      <th>draft_round</th>\n",
              "      <th>draft_team</th>\n",
              "      <th>draft_year</th>\n",
              "      <th>height</th>\n",
              "      <th>high_school</th>\n",
              "      <th>hof_induction_year</th>\n",
              "      <th>name</th>\n",
              "      <th>player_id</th>\n",
              "      <th>position</th>\n",
              "      <th>weight</th>\n",
              "      <th>current_salary_nocommas</th>\n",
              "      <th>current_salary_cleaned</th>\n",
              "      <th>cm</th>\n",
              "    </tr>\n",
              "  </thead>\n",
              "  <tbody>\n",
              "    <tr>\n",
              "      <th>0</th>\n",
              "      <td>1967-05-12</td>\n",
              "      <td>Bay City, TX</td>\n",
              "      <td>Baylor</td>\n",
              "      <td>None</td>\n",
              "      <td>None</td>\n",
              "      <td>None</td>\n",
              "      <td>34.0</td>\n",
              "      <td>2.0</td>\n",
              "      <td>Seattle Seahawks</td>\n",
              "      <td>1990.0</td>\n",
              "      <td>6-0</td>\n",
              "      <td>Van Vleck, TX</td>\n",
              "      <td>NaN</td>\n",
              "      <td>Robert Blackmon</td>\n",
              "      <td>1809</td>\n",
              "      <td>DB</td>\n",
              "      <td>208.0</td>\n",
              "      <td>None</td>\n",
              "      <td>NaN</td>\n",
              "      <td>182.88</td>\n",
              "    </tr>\n",
              "  </tbody>\n",
              "</table>\n",
              "</div>"
            ],
            "text/plain": [
              "   birth_date   birth_place college current_salary current_team death_date  \\\n",
              "0  1967-05-12  Bay City, TX  Baylor           None         None       None   \n",
              "\n",
              "   draft_position  draft_round        draft_team  draft_year height  \\\n",
              "0            34.0          2.0  Seattle Seahawks      1990.0    6-0   \n",
              "\n",
              "     high_school  hof_induction_year             name  player_id position  \\\n",
              "0  Van Vleck, TX                 NaN  Robert Blackmon       1809       DB   \n",
              "\n",
              "   weight current_salary_nocommas  current_salary_cleaned      cm  \n",
              "0   208.0                    None                     NaN  182.88  "
            ]
          },
          "metadata": {
            "tags": []
          },
          "execution_count": 58
        }
      ]
    },
    {
      "cell_type": "markdown",
      "metadata": {
        "id": "zRYlbKJFHun5",
        "colab_type": "text"
      },
      "source": [
        "# APIs and requests (FYI only)\n",
        "You've covered the ```requests``` package in previous courses.  This example shows what you can do with an API that returns JSON:"
      ]
    },
    {
      "cell_type": "code",
      "metadata": {
        "id": "hEmohOrlHun6",
        "colab_type": "code",
        "colab": {}
      },
      "source": [
        "import requests"
      ],
      "execution_count": 0,
      "outputs": []
    },
    {
      "cell_type": "code",
      "metadata": {
        "id": "9c0pomWvHun8",
        "colab_type": "code",
        "colab": {}
      },
      "source": [
        "url = 'https://api.github.com/repos/pandas-dev/pandas/issues'"
      ],
      "execution_count": 0,
      "outputs": []
    },
    {
      "cell_type": "code",
      "metadata": {
        "id": "x-57cHttHun_",
        "colab_type": "code",
        "colab": {},
        "outputId": "5b1acd4a-f851-4756-c190-5cd3a2cd1835"
      },
      "source": [
        "resp = requests.get(url)\n",
        "resp"
      ],
      "execution_count": 0,
      "outputs": [
        {
          "output_type": "execute_result",
          "data": {
            "text/plain": [
              "<Response [200]>"
            ]
          },
          "metadata": {
            "tags": []
          },
          "execution_count": 24
        }
      ]
    },
    {
      "cell_type": "code",
      "metadata": {
        "id": "6LpLIUupHuoC",
        "colab_type": "code",
        "colab": {}
      },
      "source": [
        "data = resp.json()"
      ],
      "execution_count": 0,
      "outputs": []
    },
    {
      "cell_type": "code",
      "metadata": {
        "id": "XF16m-n7HuoE",
        "colab_type": "code",
        "colab": {},
        "outputId": "db3e3d0d-58bc-403e-f4e2-2eb925d4fb65"
      },
      "source": [
        "data[0]['title']"
      ],
      "execution_count": 0,
      "outputs": [
        {
          "output_type": "execute_result",
          "data": {
            "text/plain": [
              "'BUG: SparseDataFrame coerces input to dense matrix if string-type index is given'"
            ]
          },
          "metadata": {
            "tags": []
          },
          "execution_count": 26
        }
      ]
    },
    {
      "cell_type": "code",
      "metadata": {
        "id": "UdqlJwQpHuoG",
        "colab_type": "code",
        "colab": {},
        "outputId": "240ed498-a1d8-4075-b4f3-d238691baf62"
      },
      "source": [
        "issues = pd.DataFrame(data)\n",
        "issues.head()"
      ],
      "execution_count": 0,
      "outputs": [
        {
          "output_type": "execute_result",
          "data": {
            "text/html": [
              "<div>\n",
              "<style scoped>\n",
              "    .dataframe tbody tr th:only-of-type {\n",
              "        vertical-align: middle;\n",
              "    }\n",
              "\n",
              "    .dataframe tbody tr th {\n",
              "        vertical-align: top;\n",
              "    }\n",
              "\n",
              "    .dataframe thead th {\n",
              "        text-align: right;\n",
              "    }\n",
              "</style>\n",
              "<table border=\"1\" class=\"dataframe\">\n",
              "  <thead>\n",
              "    <tr style=\"text-align: right;\">\n",
              "      <th></th>\n",
              "      <th>assignee</th>\n",
              "      <th>assignees</th>\n",
              "      <th>author_association</th>\n",
              "      <th>body</th>\n",
              "      <th>closed_at</th>\n",
              "      <th>comments</th>\n",
              "      <th>comments_url</th>\n",
              "      <th>created_at</th>\n",
              "      <th>events_url</th>\n",
              "      <th>html_url</th>\n",
              "      <th>...</th>\n",
              "      <th>milestone</th>\n",
              "      <th>node_id</th>\n",
              "      <th>number</th>\n",
              "      <th>pull_request</th>\n",
              "      <th>repository_url</th>\n",
              "      <th>state</th>\n",
              "      <th>title</th>\n",
              "      <th>updated_at</th>\n",
              "      <th>url</th>\n",
              "      <th>user</th>\n",
              "    </tr>\n",
              "  </thead>\n",
              "  <tbody>\n",
              "    <tr>\n",
              "      <th>0</th>\n",
              "      <td>None</td>\n",
              "      <td>[]</td>\n",
              "      <td>NONE</td>\n",
              "      <td>#### Code Sample, a copy-pastable example if p...</td>\n",
              "      <td>None</td>\n",
              "      <td>0</td>\n",
              "      <td>https://api.github.com/repos/pandas-dev/pandas...</td>\n",
              "      <td>2018-09-07T19:15:41Z</td>\n",
              "      <td>https://api.github.com/repos/pandas-dev/pandas...</td>\n",
              "      <td>https://github.com/pandas-dev/pandas/issues/22630</td>\n",
              "      <td>...</td>\n",
              "      <td>None</td>\n",
              "      <td>MDU6SXNzdWUzNTgxODEwODU=</td>\n",
              "      <td>22630</td>\n",
              "      <td>NaN</td>\n",
              "      <td>https://api.github.com/repos/pandas-dev/pandas</td>\n",
              "      <td>open</td>\n",
              "      <td>BUG: SparseDataFrame coerces input to dense ma...</td>\n",
              "      <td>2018-09-07T19:16:54Z</td>\n",
              "      <td>https://api.github.com/repos/pandas-dev/pandas...</td>\n",
              "      <td>{'login': 'scottgigante', 'id': 8499679, 'node...</td>\n",
              "    </tr>\n",
              "    <tr>\n",
              "      <th>1</th>\n",
              "      <td>None</td>\n",
              "      <td>[]</td>\n",
              "      <td>NONE</td>\n",
              "      <td>#### Code Sample\\r\\n\\r\\n```python\\r\\nimport pa...</td>\n",
              "      <td>None</td>\n",
              "      <td>1</td>\n",
              "      <td>https://api.github.com/repos/pandas-dev/pandas...</td>\n",
              "      <td>2018-09-07T17:34:04Z</td>\n",
              "      <td>https://api.github.com/repos/pandas-dev/pandas...</td>\n",
              "      <td>https://github.com/pandas-dev/pandas/issues/22629</td>\n",
              "      <td>...</td>\n",
              "      <td>None</td>\n",
              "      <td>MDU6SXNzdWUzNTgxNTE3Mjc=</td>\n",
              "      <td>22629</td>\n",
              "      <td>NaN</td>\n",
              "      <td>https://api.github.com/repos/pandas-dev/pandas</td>\n",
              "      <td>open</td>\n",
              "      <td>read_excel ignores `sheet_name` parameter in P...</td>\n",
              "      <td>2018-09-07T19:31:00Z</td>\n",
              "      <td>https://api.github.com/repos/pandas-dev/pandas...</td>\n",
              "      <td>{'login': 'alexHolistX', 'id': 43070785, 'node...</td>\n",
              "    </tr>\n",
              "    <tr>\n",
              "      <th>2</th>\n",
              "      <td>None</td>\n",
              "      <td>[]</td>\n",
              "      <td>NONE</td>\n",
              "      <td>- [X] tests added / passed\\r\\n- [X] passes `gi...</td>\n",
              "      <td>None</td>\n",
              "      <td>5</td>\n",
              "      <td>https://api.github.com/repos/pandas-dev/pandas...</td>\n",
              "      <td>2018-09-07T15:07:08Z</td>\n",
              "      <td>https://api.github.com/repos/pandas-dev/pandas...</td>\n",
              "      <td>https://github.com/pandas-dev/pandas/pull/22628</td>\n",
              "      <td>...</td>\n",
              "      <td>None</td>\n",
              "      <td>MDExOlB1bGxSZXF1ZXN0MjEzOTU3NDg3</td>\n",
              "      <td>22628</td>\n",
              "      <td>{'url': 'https://api.github.com/repos/pandas-d...</td>\n",
              "      <td>https://api.github.com/repos/pandas-dev/pandas</td>\n",
              "      <td>open</td>\n",
              "      <td>BUG: Some sas7bdat files with many columns are...</td>\n",
              "      <td>2018-09-07T19:51:57Z</td>\n",
              "      <td>https://api.github.com/repos/pandas-dev/pandas...</td>\n",
              "      <td>{'login': 'troels', 'id': 3203, 'node_id': 'MD...</td>\n",
              "    </tr>\n",
              "    <tr>\n",
              "      <th>3</th>\n",
              "      <td>None</td>\n",
              "      <td>[]</td>\n",
              "      <td>NONE</td>\n",
              "      <td>#### Code Sample, a copy-pastable example if p...</td>\n",
              "      <td>None</td>\n",
              "      <td>1</td>\n",
              "      <td>https://api.github.com/repos/pandas-dev/pandas...</td>\n",
              "      <td>2018-09-07T13:10:56Z</td>\n",
              "      <td>https://api.github.com/repos/pandas-dev/pandas...</td>\n",
              "      <td>https://github.com/pandas-dev/pandas/issues/22627</td>\n",
              "      <td>...</td>\n",
              "      <td>None</td>\n",
              "      <td>MDU6SXNzdWUzNTgwNjEyMzI=</td>\n",
              "      <td>22627</td>\n",
              "      <td>NaN</td>\n",
              "      <td>https://api.github.com/repos/pandas-dev/pandas</td>\n",
              "      <td>open</td>\n",
              "      <td>Series.reorder_levels docstring includes extra...</td>\n",
              "      <td>2018-09-07T15:55:01Z</td>\n",
              "      <td>https://api.github.com/repos/pandas-dev/pandas...</td>\n",
              "      <td>{'login': 'tschm', 'id': 2046079, 'node_id': '...</td>\n",
              "    </tr>\n",
              "    <tr>\n",
              "      <th>4</th>\n",
              "      <td>None</td>\n",
              "      <td>[]</td>\n",
              "      <td>CONTRIBUTOR</td>\n",
              "      <td>Off the back of discussion in this [PR](https:...</td>\n",
              "      <td>None</td>\n",
              "      <td>0</td>\n",
              "      <td>https://api.github.com/repos/pandas-dev/pandas...</td>\n",
              "      <td>2018-09-06T23:27:53Z</td>\n",
              "      <td>https://api.github.com/repos/pandas-dev/pandas...</td>\n",
              "      <td>https://github.com/pandas-dev/pandas/issues/22624</td>\n",
              "      <td>...</td>\n",
              "      <td>None</td>\n",
              "      <td>MDU6SXNzdWUzNTc4NjUyODc=</td>\n",
              "      <td>22624</td>\n",
              "      <td>NaN</td>\n",
              "      <td>https://api.github.com/repos/pandas-dev/pandas</td>\n",
              "      <td>open</td>\n",
              "      <td>Refactor test_sql.py</td>\n",
              "      <td>2018-09-06T23:38:20Z</td>\n",
              "      <td>https://api.github.com/repos/pandas-dev/pandas...</td>\n",
              "      <td>{'login': 'alimcmaster1', 'id': 16733618, 'nod...</td>\n",
              "    </tr>\n",
              "  </tbody>\n",
              "</table>\n",
              "<p>5 rows × 24 columns</p>\n",
              "</div>"
            ],
            "text/plain": [
              "  assignee assignees author_association  \\\n",
              "0     None        []               NONE   \n",
              "1     None        []               NONE   \n",
              "2     None        []               NONE   \n",
              "3     None        []               NONE   \n",
              "4     None        []        CONTRIBUTOR   \n",
              "\n",
              "                                                body closed_at  comments  \\\n",
              "0  #### Code Sample, a copy-pastable example if p...      None         0   \n",
              "1  #### Code Sample\\r\\n\\r\\n```python\\r\\nimport pa...      None         1   \n",
              "2  - [X] tests added / passed\\r\\n- [X] passes `gi...      None         5   \n",
              "3  #### Code Sample, a copy-pastable example if p...      None         1   \n",
              "4  Off the back of discussion in this [PR](https:...      None         0   \n",
              "\n",
              "                                        comments_url            created_at  \\\n",
              "0  https://api.github.com/repos/pandas-dev/pandas...  2018-09-07T19:15:41Z   \n",
              "1  https://api.github.com/repos/pandas-dev/pandas...  2018-09-07T17:34:04Z   \n",
              "2  https://api.github.com/repos/pandas-dev/pandas...  2018-09-07T15:07:08Z   \n",
              "3  https://api.github.com/repos/pandas-dev/pandas...  2018-09-07T13:10:56Z   \n",
              "4  https://api.github.com/repos/pandas-dev/pandas...  2018-09-06T23:27:53Z   \n",
              "\n",
              "                                          events_url  \\\n",
              "0  https://api.github.com/repos/pandas-dev/pandas...   \n",
              "1  https://api.github.com/repos/pandas-dev/pandas...   \n",
              "2  https://api.github.com/repos/pandas-dev/pandas...   \n",
              "3  https://api.github.com/repos/pandas-dev/pandas...   \n",
              "4  https://api.github.com/repos/pandas-dev/pandas...   \n",
              "\n",
              "                                            html_url  \\\n",
              "0  https://github.com/pandas-dev/pandas/issues/22630   \n",
              "1  https://github.com/pandas-dev/pandas/issues/22629   \n",
              "2    https://github.com/pandas-dev/pandas/pull/22628   \n",
              "3  https://github.com/pandas-dev/pandas/issues/22627   \n",
              "4  https://github.com/pandas-dev/pandas/issues/22624   \n",
              "\n",
              "                         ...                          milestone  \\\n",
              "0                        ...                               None   \n",
              "1                        ...                               None   \n",
              "2                        ...                               None   \n",
              "3                        ...                               None   \n",
              "4                        ...                               None   \n",
              "\n",
              "                            node_id number  \\\n",
              "0          MDU6SXNzdWUzNTgxODEwODU=  22630   \n",
              "1          MDU6SXNzdWUzNTgxNTE3Mjc=  22629   \n",
              "2  MDExOlB1bGxSZXF1ZXN0MjEzOTU3NDg3  22628   \n",
              "3          MDU6SXNzdWUzNTgwNjEyMzI=  22627   \n",
              "4          MDU6SXNzdWUzNTc4NjUyODc=  22624   \n",
              "\n",
              "                                        pull_request  \\\n",
              "0                                                NaN   \n",
              "1                                                NaN   \n",
              "2  {'url': 'https://api.github.com/repos/pandas-d...   \n",
              "3                                                NaN   \n",
              "4                                                NaN   \n",
              "\n",
              "                                   repository_url state  \\\n",
              "0  https://api.github.com/repos/pandas-dev/pandas  open   \n",
              "1  https://api.github.com/repos/pandas-dev/pandas  open   \n",
              "2  https://api.github.com/repos/pandas-dev/pandas  open   \n",
              "3  https://api.github.com/repos/pandas-dev/pandas  open   \n",
              "4  https://api.github.com/repos/pandas-dev/pandas  open   \n",
              "\n",
              "                                               title            updated_at  \\\n",
              "0  BUG: SparseDataFrame coerces input to dense ma...  2018-09-07T19:16:54Z   \n",
              "1  read_excel ignores `sheet_name` parameter in P...  2018-09-07T19:31:00Z   \n",
              "2  BUG: Some sas7bdat files with many columns are...  2018-09-07T19:51:57Z   \n",
              "3  Series.reorder_levels docstring includes extra...  2018-09-07T15:55:01Z   \n",
              "4                               Refactor test_sql.py  2018-09-06T23:38:20Z   \n",
              "\n",
              "                                                 url  \\\n",
              "0  https://api.github.com/repos/pandas-dev/pandas...   \n",
              "1  https://api.github.com/repos/pandas-dev/pandas...   \n",
              "2  https://api.github.com/repos/pandas-dev/pandas...   \n",
              "3  https://api.github.com/repos/pandas-dev/pandas...   \n",
              "4  https://api.github.com/repos/pandas-dev/pandas...   \n",
              "\n",
              "                                                user  \n",
              "0  {'login': 'scottgigante', 'id': 8499679, 'node...  \n",
              "1  {'login': 'alexHolistX', 'id': 43070785, 'node...  \n",
              "2  {'login': 'troels', 'id': 3203, 'node_id': 'MD...  \n",
              "3  {'login': 'tschm', 'id': 2046079, 'node_id': '...  \n",
              "4  {'login': 'alimcmaster1', 'id': 16733618, 'nod...  \n",
              "\n",
              "[5 rows x 24 columns]"
            ]
          },
          "metadata": {
            "tags": []
          },
          "execution_count": 27
        }
      ]
    },
    {
      "cell_type": "code",
      "metadata": {
        "id": "MRxb94K3HuoJ",
        "colab_type": "code",
        "colab": {},
        "outputId": "2c07baa9-d79d-45f7-bc7b-776dbf7544d1"
      },
      "source": [
        "issues.columns"
      ],
      "execution_count": 0,
      "outputs": [
        {
          "output_type": "execute_result",
          "data": {
            "text/plain": [
              "Index(['assignee', 'assignees', 'author_association', 'body', 'closed_at',\n",
              "       'comments', 'comments_url', 'created_at', 'events_url', 'html_url',\n",
              "       'id', 'labels', 'labels_url', 'locked', 'milestone', 'node_id',\n",
              "       'number', 'pull_request', 'repository_url', 'state', 'title',\n",
              "       'updated_at', 'url', 'user'],\n",
              "      dtype='object')"
            ]
          },
          "metadata": {
            "tags": []
          },
          "execution_count": 28
        }
      ]
    },
    {
      "cell_type": "code",
      "metadata": {
        "id": "KPmL5KkoHuoL",
        "colab_type": "code",
        "colab": {},
        "outputId": "46501e8a-af3a-4df4-9c81-6093475373d0"
      },
      "source": [
        "issues = pd.DataFrame(data, columns=['number', 'title','labels', 'state'])\n",
        "issues.head()"
      ],
      "execution_count": 0,
      "outputs": [
        {
          "output_type": "execute_result",
          "data": {
            "text/html": [
              "<div>\n",
              "<style scoped>\n",
              "    .dataframe tbody tr th:only-of-type {\n",
              "        vertical-align: middle;\n",
              "    }\n",
              "\n",
              "    .dataframe tbody tr th {\n",
              "        vertical-align: top;\n",
              "    }\n",
              "\n",
              "    .dataframe thead th {\n",
              "        text-align: right;\n",
              "    }\n",
              "</style>\n",
              "<table border=\"1\" class=\"dataframe\">\n",
              "  <thead>\n",
              "    <tr style=\"text-align: right;\">\n",
              "      <th></th>\n",
              "      <th>number</th>\n",
              "      <th>title</th>\n",
              "      <th>labels</th>\n",
              "      <th>state</th>\n",
              "    </tr>\n",
              "  </thead>\n",
              "  <tbody>\n",
              "    <tr>\n",
              "      <th>0</th>\n",
              "      <td>22630</td>\n",
              "      <td>BUG: SparseDataFrame coerces input to dense ma...</td>\n",
              "      <td>[]</td>\n",
              "      <td>open</td>\n",
              "    </tr>\n",
              "    <tr>\n",
              "      <th>1</th>\n",
              "      <td>22629</td>\n",
              "      <td>read_excel ignores `sheet_name` parameter in P...</td>\n",
              "      <td>[]</td>\n",
              "      <td>open</td>\n",
              "    </tr>\n",
              "    <tr>\n",
              "      <th>2</th>\n",
              "      <td>22628</td>\n",
              "      <td>BUG: Some sas7bdat files with many columns are...</td>\n",
              "      <td>[{'id': 76811, 'node_id': 'MDU6TGFiZWw3NjgxMQ=...</td>\n",
              "      <td>open</td>\n",
              "    </tr>\n",
              "    <tr>\n",
              "      <th>3</th>\n",
              "      <td>22627</td>\n",
              "      <td>Series.reorder_levels docstring includes extra...</td>\n",
              "      <td>[{'id': 134699, 'node_id': 'MDU6TGFiZWwxMzQ2OT...</td>\n",
              "      <td>open</td>\n",
              "    </tr>\n",
              "    <tr>\n",
              "      <th>4</th>\n",
              "      <td>22624</td>\n",
              "      <td>Refactor test_sql.py</td>\n",
              "      <td>[{'id': 211029535, 'node_id': 'MDU6TGFiZWwyMTE...</td>\n",
              "      <td>open</td>\n",
              "    </tr>\n",
              "  </tbody>\n",
              "</table>\n",
              "</div>"
            ],
            "text/plain": [
              "   number                                              title  \\\n",
              "0   22630  BUG: SparseDataFrame coerces input to dense ma...   \n",
              "1   22629  read_excel ignores `sheet_name` parameter in P...   \n",
              "2   22628  BUG: Some sas7bdat files with many columns are...   \n",
              "3   22627  Series.reorder_levels docstring includes extra...   \n",
              "4   22624                               Refactor test_sql.py   \n",
              "\n",
              "                                              labels state  \n",
              "0                                                 []  open  \n",
              "1                                                 []  open  \n",
              "2  [{'id': 76811, 'node_id': 'MDU6TGFiZWw3NjgxMQ=...  open  \n",
              "3  [{'id': 134699, 'node_id': 'MDU6TGFiZWwxMzQ2OT...  open  \n",
              "4  [{'id': 211029535, 'node_id': 'MDU6TGFiZWwyMTE...  open  "
            ]
          },
          "metadata": {
            "tags": []
          },
          "execution_count": 29
        }
      ]
    },
    {
      "cell_type": "markdown",
      "metadata": {
        "id": "mQgcxLr_HuoN",
        "colab_type": "text"
      },
      "source": [
        "# Accessing databases (FYI only)\n",
        "This section is preparation for later in the course; we won't be covering this in today's lab.\n",
        "You'll need to download the database on your own (see link in the following paragraph).\n",
        "\n",
        "Note that some datasets are available only in SQLite formats.  It's useful to know how to load those databases into pandas.\n",
        "The following dataset is a collection of about 500,000 fine food reviews from Amazon. (https://www.kaggle.com/snap/amazon-fine-food-reviews/home).  In the past, you may have used the SQLite3 library. That's fine, but it's often easier to use SQLAlchemy, which plays nicely with pandas.  SQLAlchemy also makes it easy to switch the database \"backend\" so you can also access postgres, MySQL or other databases."
      ]
    },
    {
      "cell_type": "code",
      "metadata": {
        "id": "b9n7KFE8HuoO",
        "colab_type": "code",
        "colab": {}
      },
      "source": [
        "import sqlalchemy as sqla"
      ],
      "execution_count": 0,
      "outputs": []
    },
    {
      "cell_type": "code",
      "metadata": {
        "id": "mZb8yjitHuoQ",
        "colab_type": "code",
        "colab": {}
      },
      "source": [
        "db = sqla.create_engine('sqlite:///data/fine_food_reviews.sqlite')"
      ],
      "execution_count": 0,
      "outputs": []
    },
    {
      "cell_type": "code",
      "metadata": {
        "id": "Oi4_WCvxHuoR",
        "colab_type": "code",
        "colab": {}
      },
      "source": [
        "df = pd.read_sql('select score, count(*) from Reviews group by score', db)"
      ],
      "execution_count": 0,
      "outputs": []
    },
    {
      "cell_type": "code",
      "metadata": {
        "id": "db6S3BF0HuoU",
        "colab_type": "code",
        "colab": {},
        "outputId": "af1fa3cf-7daf-45b5-e5e8-35ecc546a793"
      },
      "source": [
        "df.head()"
      ],
      "execution_count": 0,
      "outputs": [
        {
          "output_type": "execute_result",
          "data": {
            "text/html": [
              "<div>\n",
              "<style scoped>\n",
              "    .dataframe tbody tr th:only-of-type {\n",
              "        vertical-align: middle;\n",
              "    }\n",
              "\n",
              "    .dataframe tbody tr th {\n",
              "        vertical-align: top;\n",
              "    }\n",
              "\n",
              "    .dataframe thead th {\n",
              "        text-align: right;\n",
              "    }\n",
              "</style>\n",
              "<table border=\"1\" class=\"dataframe\">\n",
              "  <thead>\n",
              "    <tr style=\"text-align: right;\">\n",
              "      <th></th>\n",
              "      <th>Score</th>\n",
              "      <th>count(*)</th>\n",
              "    </tr>\n",
              "  </thead>\n",
              "  <tbody>\n",
              "    <tr>\n",
              "      <th>0</th>\n",
              "      <td>1</td>\n",
              "      <td>52268</td>\n",
              "    </tr>\n",
              "    <tr>\n",
              "      <th>1</th>\n",
              "      <td>2</td>\n",
              "      <td>29769</td>\n",
              "    </tr>\n",
              "    <tr>\n",
              "      <th>2</th>\n",
              "      <td>3</td>\n",
              "      <td>42640</td>\n",
              "    </tr>\n",
              "    <tr>\n",
              "      <th>3</th>\n",
              "      <td>4</td>\n",
              "      <td>80655</td>\n",
              "    </tr>\n",
              "    <tr>\n",
              "      <th>4</th>\n",
              "      <td>5</td>\n",
              "      <td>363122</td>\n",
              "    </tr>\n",
              "  </tbody>\n",
              "</table>\n",
              "</div>"
            ],
            "text/plain": [
              "   Score  count(*)\n",
              "0      1     52268\n",
              "1      2     29769\n",
              "2      3     42640\n",
              "3      4     80655\n",
              "4      5    363122"
            ]
          },
          "metadata": {
            "tags": []
          },
          "execution_count": 37
        }
      ]
    },
    {
      "cell_type": "code",
      "metadata": {
        "id": "yEsKmvxEHuoX",
        "colab_type": "code",
        "colab": {}
      },
      "source": [
        "ff_df = pd.read_sql('select * from Reviews',db)"
      ],
      "execution_count": 0,
      "outputs": []
    },
    {
      "cell_type": "code",
      "metadata": {
        "id": "nzqSFUywHuoY",
        "colab_type": "code",
        "colab": {},
        "outputId": "fb0ae4a0-63b8-46dc-cdd3-7fbcc09a45d5"
      },
      "source": [
        "ff_df.head(5)"
      ],
      "execution_count": 0,
      "outputs": [
        {
          "output_type": "execute_result",
          "data": {
            "text/html": [
              "<div>\n",
              "<style scoped>\n",
              "    .dataframe tbody tr th:only-of-type {\n",
              "        vertical-align: middle;\n",
              "    }\n",
              "\n",
              "    .dataframe tbody tr th {\n",
              "        vertical-align: top;\n",
              "    }\n",
              "\n",
              "    .dataframe thead th {\n",
              "        text-align: right;\n",
              "    }\n",
              "</style>\n",
              "<table border=\"1\" class=\"dataframe\">\n",
              "  <thead>\n",
              "    <tr style=\"text-align: right;\">\n",
              "      <th></th>\n",
              "      <th>Id</th>\n",
              "      <th>ProductId</th>\n",
              "      <th>UserId</th>\n",
              "      <th>ProfileName</th>\n",
              "      <th>HelpfulnessNumerator</th>\n",
              "      <th>HelpfulnessDenominator</th>\n",
              "      <th>Score</th>\n",
              "      <th>Time</th>\n",
              "      <th>Summary</th>\n",
              "      <th>Text</th>\n",
              "    </tr>\n",
              "  </thead>\n",
              "  <tbody>\n",
              "    <tr>\n",
              "      <th>0</th>\n",
              "      <td>1</td>\n",
              "      <td>B001E4KFG0</td>\n",
              "      <td>A3SGXH7AUHU8GW</td>\n",
              "      <td>delmartian</td>\n",
              "      <td>1</td>\n",
              "      <td>1</td>\n",
              "      <td>5</td>\n",
              "      <td>1303862400</td>\n",
              "      <td>Good Quality Dog Food</td>\n",
              "      <td>I have bought several of the Vitality canned d...</td>\n",
              "    </tr>\n",
              "    <tr>\n",
              "      <th>1</th>\n",
              "      <td>2</td>\n",
              "      <td>B00813GRG4</td>\n",
              "      <td>A1D87F6ZCVE5NK</td>\n",
              "      <td>dll pa</td>\n",
              "      <td>0</td>\n",
              "      <td>0</td>\n",
              "      <td>1</td>\n",
              "      <td>1346976000</td>\n",
              "      <td>Not as Advertised</td>\n",
              "      <td>Product arrived labeled as Jumbo Salted Peanut...</td>\n",
              "    </tr>\n",
              "    <tr>\n",
              "      <th>2</th>\n",
              "      <td>3</td>\n",
              "      <td>B000LQOCH0</td>\n",
              "      <td>ABXLMWJIXXAIN</td>\n",
              "      <td>Natalia Corres \"Natalia Corres\"</td>\n",
              "      <td>1</td>\n",
              "      <td>1</td>\n",
              "      <td>4</td>\n",
              "      <td>1219017600</td>\n",
              "      <td>\"Delight\" says it all</td>\n",
              "      <td>This is a confection that has been around a fe...</td>\n",
              "    </tr>\n",
              "    <tr>\n",
              "      <th>3</th>\n",
              "      <td>4</td>\n",
              "      <td>B000UA0QIQ</td>\n",
              "      <td>A395BORC6FGVXV</td>\n",
              "      <td>Karl</td>\n",
              "      <td>3</td>\n",
              "      <td>3</td>\n",
              "      <td>2</td>\n",
              "      <td>1307923200</td>\n",
              "      <td>Cough Medicine</td>\n",
              "      <td>If you are looking for the secret ingredient i...</td>\n",
              "    </tr>\n",
              "    <tr>\n",
              "      <th>4</th>\n",
              "      <td>5</td>\n",
              "      <td>B006K2ZZ7K</td>\n",
              "      <td>A1UQRSCLF8GW1T</td>\n",
              "      <td>Michael D. Bigham \"M. Wassir\"</td>\n",
              "      <td>0</td>\n",
              "      <td>0</td>\n",
              "      <td>5</td>\n",
              "      <td>1350777600</td>\n",
              "      <td>Great taffy</td>\n",
              "      <td>Great taffy at a great price.  There was a wid...</td>\n",
              "    </tr>\n",
              "  </tbody>\n",
              "</table>\n",
              "</div>"
            ],
            "text/plain": [
              "   Id   ProductId          UserId                      ProfileName  \\\n",
              "0   1  B001E4KFG0  A3SGXH7AUHU8GW                       delmartian   \n",
              "1   2  B00813GRG4  A1D87F6ZCVE5NK                           dll pa   \n",
              "2   3  B000LQOCH0   ABXLMWJIXXAIN  Natalia Corres \"Natalia Corres\"   \n",
              "3   4  B000UA0QIQ  A395BORC6FGVXV                             Karl   \n",
              "4   5  B006K2ZZ7K  A1UQRSCLF8GW1T    Michael D. Bigham \"M. Wassir\"   \n",
              "\n",
              "   HelpfulnessNumerator  HelpfulnessDenominator  Score        Time  \\\n",
              "0                     1                       1      5  1303862400   \n",
              "1                     0                       0      1  1346976000   \n",
              "2                     1                       1      4  1219017600   \n",
              "3                     3                       3      2  1307923200   \n",
              "4                     0                       0      5  1350777600   \n",
              "\n",
              "                 Summary                                               Text  \n",
              "0  Good Quality Dog Food  I have bought several of the Vitality canned d...  \n",
              "1      Not as Advertised  Product arrived labeled as Jumbo Salted Peanut...  \n",
              "2  \"Delight\" says it all  This is a confection that has been around a fe...  \n",
              "3         Cough Medicine  If you are looking for the secret ingredient i...  \n",
              "4            Great taffy  Great taffy at a great price.  There was a wid...  "
            ]
          },
          "metadata": {
            "tags": []
          },
          "execution_count": 39
        }
      ]
    }
  ]
}