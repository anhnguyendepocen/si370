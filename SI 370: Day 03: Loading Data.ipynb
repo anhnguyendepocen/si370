{
  "nbformat": 4,
  "nbformat_minor": 0,
  "metadata": {
    "celltoolbar": "Slideshow",
    "kernelspec": {
      "display_name": "Python 3",
      "language": "python",
      "name": "python3"
    },
    "language_info": {
      "codemirror_mode": {
        "name": "ipython",
        "version": 3
      },
      "file_extension": ".py",
      "mimetype": "text/x-python",
      "name": "python",
      "nbconvert_exporter": "python",
      "pygments_lexer": "ipython3",
      "version": "3.6.4"
    },
    "colab": {
      "name": "370_03_Loading_Data.ipynb",
      "provenance": [],
      "toc_visible": true,
      "include_colab_link": true
    }
  },
  "cells": [
    {
      "cell_type": "markdown",
      "metadata": {
        "id": "view-in-github",
        "colab_type": "text"
      },
      "source": [
        "<a href=\"https://colab.research.google.com/github/umsi-data-science/si370/blob/master/SI%20370%3A%20Day%2003%3A%20Loading%20Data.ipynb\" target=\"_parent\"><img src=\"https://colab.research.google.com/assets/colab-badge.svg\" alt=\"Open In Colab\"/></a>"
      ]
    },
    {
      "cell_type": "markdown",
      "metadata": {
        "id": "ahUIU2HgHuk1",
        "colab_type": "text"
      },
      "source": [
        "# SI370 Day 3: Loading data in pandas\n",
        "\n"
      ]
    },
    {
      "cell_type": "markdown",
      "metadata": {
        "id": "yHA3RHDuHulJ",
        "colab_type": "text"
      },
      "source": [
        "## Learning Objectives\n",
        "* load CSV files\n",
        "* load JSON files\n",
        "* use pd.read_html to extract tables from web pages\n",
        "* load data from simple APIs \n",
        "* load data from a SQL database\n"
      ]
    },
    {
      "cell_type": "markdown",
      "metadata": {
        "id": "6enHUVBFHulL",
        "colab_type": "text"
      },
      "source": [
        "IMPORTANT: Replace ```?``` in the following code with your uniqname."
      ]
    },
    {
      "cell_type": "code",
      "metadata": {
        "id": "cZJk4-APHulM",
        "colab_type": "code",
        "colab": {}
      },
      "source": [
        "MY_UNIQNAME = '?'"
      ],
      "execution_count": 0,
      "outputs": []
    },
    {
      "cell_type": "markdown",
      "metadata": {
        "id": "SHiB5qF2HulV",
        "colab_type": "text"
      },
      "source": [
        "## Exercise 1\n",
        "\n",
        "a. Sign up for a Kaggle account (https://www.kaggle.com/).  Record your Kaggle username in the following markdown cell\n"
      ]
    },
    {
      "cell_type": "markdown",
      "metadata": {
        "id": "MrjG0y67HulW",
        "colab_type": "text"
      },
      "source": [
        "Replace this with your Kaggle username"
      ]
    },
    {
      "cell_type": "markdown",
      "metadata": {
        "id": "ozIpSXOOHulX",
        "colab_type": "text"
      },
      "source": [
        "b. Browse the Kaggle datasets (https://www.kaggle.com/datasets) and list two or three that you find interesting.  Explain why you find them interesting."
      ]
    },
    {
      "cell_type": "markdown",
      "metadata": {
        "id": "XZYD-wW_HulY",
        "colab_type": "text"
      },
      "source": [
        "Insert your answer here."
      ]
    },
    {
      "cell_type": "markdown",
      "metadata": {
        "id": "ZXyAM9AnHula",
        "colab_type": "text"
      },
      "source": [
        "# Today's focus: Loading (and manipulating) data using pandas"
      ]
    },
    {
      "cell_type": "code",
      "metadata": {
        "id": "tDURKFb_Hulg",
        "colab_type": "code",
        "colab": {}
      },
      "source": [
        "import pandas as pd"
      ],
      "execution_count": 0,
      "outputs": []
    },
    {
      "cell_type": "markdown",
      "metadata": {
        "id": "J5hDKsDMHuln",
        "colab_type": "text"
      },
      "source": [
        "Recall the ```pd.read_csv``` function that we used to load data sets in previous classes:"
      ]
    },
    {
      "cell_type": "code",
      "metadata": {
        "id": "VGK8DDY7Hulo",
        "colab_type": "code",
        "colab": {}
      },
      "source": [
        "menu = pd.read_csv('https://raw.githubusercontent.com/umsi-data-science/si370/master/data/menu.csv') "
      ],
      "execution_count": 0,
      "outputs": []
    },
    {
      "cell_type": "markdown",
      "metadata": {
        "id": "NNDuGqY7Huls",
        "colab_type": "text"
      },
      "source": [
        "That works great for well-formatted CSV files, but what happens when you get something that looks like the ```data/avocado_eu.csv``` file.\n",
        "Go ahead and browse that in JupyterLab's CSV browser.\n",
        "\n",
        "You'll notice a new drop-down menu labelled \"Delimiter\".  Go ahead and change that to ```;```.\n",
        "\n",
        "Referring back to your readings and the [read_csv documentation online](https://pandas.pydata.org/pandas-docs/stable/generated/pandas.read_csv.html), complete the following exercise\n",
        "\n",
        "\n",
        "Read the data/avocado_eu.csv file into a pandas DataFrame and show the first 5 rows.\n"
      ]
    },
    {
      "cell_type": "code",
      "metadata": {
        "id": "PEcXNoo0Hult",
        "colab_type": "code",
        "outputId": "0ce523bc-3769-4f10-afa0-c070e3860abf",
        "colab": {
          "base_uri": "https://localhost:8080/",
          "height": 197
        }
      },
      "source": [
        "avocado = pd.read_csv('https://raw.githubusercontent.com/umsi-data-science/si370/master/data/avocado_eu.csv', delimiter=';')\n",
        "avocado.head(5)"
      ],
      "execution_count": 0,
      "outputs": [
        {
          "output_type": "execute_result",
          "data": {
            "text/html": [
              "<div>\n",
              "<style scoped>\n",
              "    .dataframe tbody tr th:only-of-type {\n",
              "        vertical-align: middle;\n",
              "    }\n",
              "\n",
              "    .dataframe tbody tr th {\n",
              "        vertical-align: top;\n",
              "    }\n",
              "\n",
              "    .dataframe thead th {\n",
              "        text-align: right;\n",
              "    }\n",
              "</style>\n",
              "<table border=\"1\" class=\"dataframe\">\n",
              "  <thead>\n",
              "    <tr style=\"text-align: right;\">\n",
              "      <th></th>\n",
              "      <th>Unnamed: 0</th>\n",
              "      <th>Date</th>\n",
              "      <th>AveragePrice</th>\n",
              "      <th>Total Volume</th>\n",
              "      <th>4046</th>\n",
              "      <th>4225</th>\n",
              "      <th>4770</th>\n",
              "      <th>Total Bags</th>\n",
              "      <th>Small Bags</th>\n",
              "      <th>Large Bags</th>\n",
              "      <th>XLarge Bags</th>\n",
              "      <th>type</th>\n",
              "      <th>year</th>\n",
              "      <th>region</th>\n",
              "    </tr>\n",
              "  </thead>\n",
              "  <tbody>\n",
              "    <tr>\n",
              "      <th>0</th>\n",
              "      <td>0</td>\n",
              "      <td>2015-12-27</td>\n",
              "      <td>1,33</td>\n",
              "      <td>64236,62</td>\n",
              "      <td>1036,74</td>\n",
              "      <td>54454,85</td>\n",
              "      <td>48,16</td>\n",
              "      <td>8696,87</td>\n",
              "      <td>8603,62</td>\n",
              "      <td>93,25</td>\n",
              "      <td>0,0</td>\n",
              "      <td>conventional</td>\n",
              "      <td>2015</td>\n",
              "      <td>Albany</td>\n",
              "    </tr>\n",
              "    <tr>\n",
              "      <th>1</th>\n",
              "      <td>1</td>\n",
              "      <td>2015-12-20</td>\n",
              "      <td>1,35</td>\n",
              "      <td>54876,98</td>\n",
              "      <td>674,28</td>\n",
              "      <td>44638,81</td>\n",
              "      <td>58,33</td>\n",
              "      <td>9505,56</td>\n",
              "      <td>9408,07</td>\n",
              "      <td>97,49</td>\n",
              "      <td>0,0</td>\n",
              "      <td>conventional</td>\n",
              "      <td>2015</td>\n",
              "      <td>Albany</td>\n",
              "    </tr>\n",
              "    <tr>\n",
              "      <th>2</th>\n",
              "      <td>2</td>\n",
              "      <td>2015-12-13</td>\n",
              "      <td>0,93</td>\n",
              "      <td>118220,22</td>\n",
              "      <td>794,7</td>\n",
              "      <td>109149,67</td>\n",
              "      <td>130,5</td>\n",
              "      <td>8145,35</td>\n",
              "      <td>8042,21</td>\n",
              "      <td>103,14</td>\n",
              "      <td>0,0</td>\n",
              "      <td>conventional</td>\n",
              "      <td>2015</td>\n",
              "      <td>Albany</td>\n",
              "    </tr>\n",
              "    <tr>\n",
              "      <th>3</th>\n",
              "      <td>3</td>\n",
              "      <td>2015-12-06</td>\n",
              "      <td>1,08</td>\n",
              "      <td>78992,15</td>\n",
              "      <td>1132,0</td>\n",
              "      <td>71976,41</td>\n",
              "      <td>72,58</td>\n",
              "      <td>5811,16</td>\n",
              "      <td>5677,4</td>\n",
              "      <td>133,76</td>\n",
              "      <td>0,0</td>\n",
              "      <td>conventional</td>\n",
              "      <td>2015</td>\n",
              "      <td>Albany</td>\n",
              "    </tr>\n",
              "    <tr>\n",
              "      <th>4</th>\n",
              "      <td>4</td>\n",
              "      <td>2015-11-29</td>\n",
              "      <td>1,28</td>\n",
              "      <td>51039,6</td>\n",
              "      <td>941,48</td>\n",
              "      <td>43838,39</td>\n",
              "      <td>75,78</td>\n",
              "      <td>6183,95</td>\n",
              "      <td>5986,26</td>\n",
              "      <td>197,69</td>\n",
              "      <td>0,0</td>\n",
              "      <td>conventional</td>\n",
              "      <td>2015</td>\n",
              "      <td>Albany</td>\n",
              "    </tr>\n",
              "  </tbody>\n",
              "</table>\n",
              "</div>"
            ],
            "text/plain": [
              "  Unnamed: 0        Date AveragePrice  ...          type  year  region\n",
              "0          0  2015-12-27         1,33  ...  conventional  2015  Albany\n",
              "1          1  2015-12-20         1,35  ...  conventional  2015  Albany\n",
              "2          2  2015-12-13         0,93  ...  conventional  2015  Albany\n",
              "3          3  2015-12-06         1,08  ...  conventional  2015  Albany\n",
              "4          4  2015-11-29         1,28  ...  conventional  2015  Albany\n",
              "\n",
              "[5 rows x 14 columns]"
            ]
          },
          "metadata": {
            "tags": []
          },
          "execution_count": 3
        }
      ]
    },
    {
      "cell_type": "markdown",
      "metadata": {
        "id": "bLbd3KdyHulz",
        "colab_type": "text"
      },
      "source": [
        "You'll notice that, unless you did something special in the previous read_csv invocation, the decimal points don't look quite right.  Go ahead and find the right option to convert commas to periods when loading a CSV file.\n",
        "\n",
        "## Exercise 2 (1 point):\n",
        "Read the data/avocado_eu.csv file using the correct delimiter and decimal character into a dataframe and show the first 5 rows:"
      ]
    },
    {
      "cell_type": "code",
      "metadata": {
        "id": "52cAIPN2Hul0",
        "colab_type": "code",
        "outputId": "4fc8a688-dffe-44e2-90f9-42f4ccb2f82c",
        "colab": {
          "base_uri": "https://localhost:8080/",
          "height": 197
        }
      },
      "source": [
        "avocado = pd.read_csv('https://raw.githubusercontent.com/umsi-data-science/si370/master/data/avocado_eu.csv', delimiter=';', decimal=',')\n",
        "avocado.head(5)"
      ],
      "execution_count": 0,
      "outputs": [
        {
          "output_type": "execute_result",
          "data": {
            "text/html": [
              "<div>\n",
              "<style scoped>\n",
              "    .dataframe tbody tr th:only-of-type {\n",
              "        vertical-align: middle;\n",
              "    }\n",
              "\n",
              "    .dataframe tbody tr th {\n",
              "        vertical-align: top;\n",
              "    }\n",
              "\n",
              "    .dataframe thead th {\n",
              "        text-align: right;\n",
              "    }\n",
              "</style>\n",
              "<table border=\"1\" class=\"dataframe\">\n",
              "  <thead>\n",
              "    <tr style=\"text-align: right;\">\n",
              "      <th></th>\n",
              "      <th>Unnamed: 0</th>\n",
              "      <th>Date</th>\n",
              "      <th>AveragePrice</th>\n",
              "      <th>Total Volume</th>\n",
              "      <th>4046</th>\n",
              "      <th>4225</th>\n",
              "      <th>4770</th>\n",
              "      <th>Total Bags</th>\n",
              "      <th>Small Bags</th>\n",
              "      <th>Large Bags</th>\n",
              "      <th>XLarge Bags</th>\n",
              "      <th>type</th>\n",
              "      <th>year</th>\n",
              "      <th>region</th>\n",
              "    </tr>\n",
              "  </thead>\n",
              "  <tbody>\n",
              "    <tr>\n",
              "      <th>0</th>\n",
              "      <td>0</td>\n",
              "      <td>2015-12-27</td>\n",
              "      <td>1.33</td>\n",
              "      <td>64236.62</td>\n",
              "      <td>1036.74</td>\n",
              "      <td>54454.85</td>\n",
              "      <td>48.16</td>\n",
              "      <td>8696.87</td>\n",
              "      <td>8603.62</td>\n",
              "      <td>93.25</td>\n",
              "      <td>0.0</td>\n",
              "      <td>conventional</td>\n",
              "      <td>2015</td>\n",
              "      <td>Albany</td>\n",
              "    </tr>\n",
              "    <tr>\n",
              "      <th>1</th>\n",
              "      <td>1</td>\n",
              "      <td>2015-12-20</td>\n",
              "      <td>1.35</td>\n",
              "      <td>54876.98</td>\n",
              "      <td>674.28</td>\n",
              "      <td>44638.81</td>\n",
              "      <td>58.33</td>\n",
              "      <td>9505.56</td>\n",
              "      <td>9408.07</td>\n",
              "      <td>97.49</td>\n",
              "      <td>0.0</td>\n",
              "      <td>conventional</td>\n",
              "      <td>2015</td>\n",
              "      <td>Albany</td>\n",
              "    </tr>\n",
              "    <tr>\n",
              "      <th>2</th>\n",
              "      <td>2</td>\n",
              "      <td>2015-12-13</td>\n",
              "      <td>0.93</td>\n",
              "      <td>118220.22</td>\n",
              "      <td>794.70</td>\n",
              "      <td>109149.67</td>\n",
              "      <td>130.50</td>\n",
              "      <td>8145.35</td>\n",
              "      <td>8042.21</td>\n",
              "      <td>103.14</td>\n",
              "      <td>0.0</td>\n",
              "      <td>conventional</td>\n",
              "      <td>2015</td>\n",
              "      <td>Albany</td>\n",
              "    </tr>\n",
              "    <tr>\n",
              "      <th>3</th>\n",
              "      <td>3</td>\n",
              "      <td>2015-12-06</td>\n",
              "      <td>1.08</td>\n",
              "      <td>78992.15</td>\n",
              "      <td>1132.00</td>\n",
              "      <td>71976.41</td>\n",
              "      <td>72.58</td>\n",
              "      <td>5811.16</td>\n",
              "      <td>5677.40</td>\n",
              "      <td>133.76</td>\n",
              "      <td>0.0</td>\n",
              "      <td>conventional</td>\n",
              "      <td>2015</td>\n",
              "      <td>Albany</td>\n",
              "    </tr>\n",
              "    <tr>\n",
              "      <th>4</th>\n",
              "      <td>4</td>\n",
              "      <td>2015-11-29</td>\n",
              "      <td>1.28</td>\n",
              "      <td>51039.60</td>\n",
              "      <td>941.48</td>\n",
              "      <td>43838.39</td>\n",
              "      <td>75.78</td>\n",
              "      <td>6183.95</td>\n",
              "      <td>5986.26</td>\n",
              "      <td>197.69</td>\n",
              "      <td>0.0</td>\n",
              "      <td>conventional</td>\n",
              "      <td>2015</td>\n",
              "      <td>Albany</td>\n",
              "    </tr>\n",
              "  </tbody>\n",
              "</table>\n",
              "</div>"
            ],
            "text/plain": [
              "  Unnamed: 0        Date  AveragePrice  ...          type  year  region\n",
              "0          0  2015-12-27          1.33  ...  conventional  2015  Albany\n",
              "1          1  2015-12-20          1.35  ...  conventional  2015  Albany\n",
              "2          2  2015-12-13          0.93  ...  conventional  2015  Albany\n",
              "3          3  2015-12-06          1.08  ...  conventional  2015  Albany\n",
              "4          4  2015-11-29          1.28  ...  conventional  2015  Albany\n",
              "\n",
              "[5 rows x 14 columns]"
            ]
          },
          "metadata": {
            "tags": []
          },
          "execution_count": 4
        }
      ]
    },
    {
      "cell_type": "markdown",
      "metadata": {
        "id": "QEIC12y1Hul_",
        "colab_type": "text"
      },
      "source": [
        "# Loading JSON data\n",
        "\n",
        "In addition to CSV files, JSON (JavaScript Object Notation) files or data is commonly used.  "
      ]
    },
    {
      "cell_type": "code",
      "metadata": {
        "id": "spQG_OQiHul_",
        "colab_type": "code",
        "colab": {}
      },
      "source": [
        "nfl_football_players = pd.read_json('https://raw.githubusercontent.com/umsi-data-science/si370/master/data/nfl_football_profiles.json')"
      ],
      "execution_count": 0,
      "outputs": []
    },
    {
      "cell_type": "code",
      "metadata": {
        "id": "rW8g7KVKHumD",
        "colab_type": "code",
        "outputId": "a1be08ce-31bc-4dfb-b9b0-fec5d427302d",
        "colab": {
          "base_uri": "https://localhost:8080/",
          "height": 301
        }
      },
      "source": [
        "nfl_football_players.head()"
      ],
      "execution_count": 0,
      "outputs": [
        {
          "output_type": "execute_result",
          "data": {
            "text/html": [
              "<div>\n",
              "<style scoped>\n",
              "    .dataframe tbody tr th:only-of-type {\n",
              "        vertical-align: middle;\n",
              "    }\n",
              "\n",
              "    .dataframe tbody tr th {\n",
              "        vertical-align: top;\n",
              "    }\n",
              "\n",
              "    .dataframe thead th {\n",
              "        text-align: right;\n",
              "    }\n",
              "</style>\n",
              "<table border=\"1\" class=\"dataframe\">\n",
              "  <thead>\n",
              "    <tr style=\"text-align: right;\">\n",
              "      <th></th>\n",
              "      <th>player_id</th>\n",
              "      <th>name</th>\n",
              "      <th>position</th>\n",
              "      <th>height</th>\n",
              "      <th>weight</th>\n",
              "      <th>current_team</th>\n",
              "      <th>birth_date</th>\n",
              "      <th>birth_place</th>\n",
              "      <th>death_date</th>\n",
              "      <th>college</th>\n",
              "      <th>high_school</th>\n",
              "      <th>draft_team</th>\n",
              "      <th>draft_round</th>\n",
              "      <th>draft_position</th>\n",
              "      <th>draft_year</th>\n",
              "      <th>current_salary</th>\n",
              "      <th>hof_induction_year</th>\n",
              "    </tr>\n",
              "  </thead>\n",
              "  <tbody>\n",
              "    <tr>\n",
              "      <th>0</th>\n",
              "      <td>1809</td>\n",
              "      <td>Robert Blackmon</td>\n",
              "      <td>DB</td>\n",
              "      <td>6-0</td>\n",
              "      <td>208.0</td>\n",
              "      <td>None</td>\n",
              "      <td>1967-05-12</td>\n",
              "      <td>Bay City, TX</td>\n",
              "      <td>None</td>\n",
              "      <td>Baylor</td>\n",
              "      <td>Van Vleck, TX</td>\n",
              "      <td>Seattle Seahawks</td>\n",
              "      <td>2.0</td>\n",
              "      <td>34.0</td>\n",
              "      <td>1990.0</td>\n",
              "      <td>None</td>\n",
              "      <td>NaN</td>\n",
              "    </tr>\n",
              "    <tr>\n",
              "      <th>1</th>\n",
              "      <td>23586</td>\n",
              "      <td>Dean Wells</td>\n",
              "      <td>LB</td>\n",
              "      <td>6-3</td>\n",
              "      <td>248.0</td>\n",
              "      <td>None</td>\n",
              "      <td>1970-07-20</td>\n",
              "      <td>Louisville, KY</td>\n",
              "      <td>None</td>\n",
              "      <td>Kentucky</td>\n",
              "      <td>Holy Cross, KY</td>\n",
              "      <td>Seattle Seahawks</td>\n",
              "      <td>4.0</td>\n",
              "      <td>85.0</td>\n",
              "      <td>1993.0</td>\n",
              "      <td>None</td>\n",
              "      <td>NaN</td>\n",
              "    </tr>\n",
              "    <tr>\n",
              "      <th>2</th>\n",
              "      <td>355</td>\n",
              "      <td>Kiko Alonso</td>\n",
              "      <td>ILB</td>\n",
              "      <td>6-3</td>\n",
              "      <td>238.0</td>\n",
              "      <td>Miami Dolphins</td>\n",
              "      <td>1990-08-14</td>\n",
              "      <td>Newton, MA</td>\n",
              "      <td>None</td>\n",
              "      <td>Oregon</td>\n",
              "      <td>Los Gatos, CA</td>\n",
              "      <td>Buffalo Bills</td>\n",
              "      <td>2.0</td>\n",
              "      <td>46.0</td>\n",
              "      <td>2013.0</td>\n",
              "      <td>1,075,000</td>\n",
              "      <td>NaN</td>\n",
              "    </tr>\n",
              "    <tr>\n",
              "      <th>3</th>\n",
              "      <td>18182</td>\n",
              "      <td>Steve Ramsey</td>\n",
              "      <td>QB</td>\n",
              "      <td>6-2</td>\n",
              "      <td>210.0</td>\n",
              "      <td>None</td>\n",
              "      <td>1948-04-22</td>\n",
              "      <td>Dallas, TX</td>\n",
              "      <td>1999-10-15</td>\n",
              "      <td>North Texas</td>\n",
              "      <td>W.W. Samuell, TX</td>\n",
              "      <td>New Orleans Saints</td>\n",
              "      <td>5.0</td>\n",
              "      <td>126.0</td>\n",
              "      <td>1970.0</td>\n",
              "      <td>None</td>\n",
              "      <td>NaN</td>\n",
              "    </tr>\n",
              "    <tr>\n",
              "      <th>4</th>\n",
              "      <td>16250</td>\n",
              "      <td>Cory Nelms</td>\n",
              "      <td>CB</td>\n",
              "      <td>6-0</td>\n",
              "      <td>195.0</td>\n",
              "      <td>None</td>\n",
              "      <td>1988-02-27</td>\n",
              "      <td>Neptune, NJ</td>\n",
              "      <td>None</td>\n",
              "      <td>Miami (FL)</td>\n",
              "      <td>Neptune, NJ</td>\n",
              "      <td>None</td>\n",
              "      <td>NaN</td>\n",
              "      <td>NaN</td>\n",
              "      <td>NaN</td>\n",
              "      <td>None</td>\n",
              "      <td>NaN</td>\n",
              "    </tr>\n",
              "  </tbody>\n",
              "</table>\n",
              "</div>"
            ],
            "text/plain": [
              "   player_id             name  ... current_salary hof_induction_year\n",
              "0       1809  Robert Blackmon  ...           None                NaN\n",
              "1      23586       Dean Wells  ...           None                NaN\n",
              "2        355      Kiko Alonso  ...      1,075,000                NaN\n",
              "3      18182     Steve Ramsey  ...           None                NaN\n",
              "4      16250       Cory Nelms  ...           None                NaN\n",
              "\n",
              "[5 rows x 17 columns]"
            ]
          },
          "metadata": {
            "tags": []
          },
          "execution_count": 7
        }
      ]
    },
    {
      "cell_type": "markdown",
      "metadata": {
        "id": "EwRPR-_ZHumv",
        "colab_type": "text"
      },
      "source": [
        "And, just for fun, show the player with the highest Current Salary from that dataset:"
      ]
    },
    {
      "cell_type": "code",
      "metadata": {
        "id": "tIONruDSHumx",
        "colab_type": "code",
        "outputId": "f0ac0356-826a-4cc0-e3a5-c0a14c67e4fe",
        "colab": {
          "base_uri": "https://localhost:8080/",
          "height": 114
        }
      },
      "source": [
        "nfl_football_players.sort_values('current_salary', ascending=False).head(1)"
      ],
      "execution_count": 0,
      "outputs": [
        {
          "output_type": "execute_result",
          "data": {
            "text/html": [
              "<div>\n",
              "<style scoped>\n",
              "    .dataframe tbody tr th:only-of-type {\n",
              "        vertical-align: middle;\n",
              "    }\n",
              "\n",
              "    .dataframe tbody tr th {\n",
              "        vertical-align: top;\n",
              "    }\n",
              "\n",
              "    .dataframe thead th {\n",
              "        text-align: right;\n",
              "    }\n",
              "</style>\n",
              "<table border=\"1\" class=\"dataframe\">\n",
              "  <thead>\n",
              "    <tr style=\"text-align: right;\">\n",
              "      <th></th>\n",
              "      <th>player_id</th>\n",
              "      <th>name</th>\n",
              "      <th>position</th>\n",
              "      <th>height</th>\n",
              "      <th>weight</th>\n",
              "      <th>current_team</th>\n",
              "      <th>birth_date</th>\n",
              "      <th>birth_place</th>\n",
              "      <th>death_date</th>\n",
              "      <th>college</th>\n",
              "      <th>high_school</th>\n",
              "      <th>draft_team</th>\n",
              "      <th>draft_round</th>\n",
              "      <th>draft_position</th>\n",
              "      <th>draft_year</th>\n",
              "      <th>current_salary</th>\n",
              "      <th>hof_induction_year</th>\n",
              "    </tr>\n",
              "  </thead>\n",
              "  <tbody>\n",
              "    <tr>\n",
              "      <th>6454</th>\n",
              "      <td>721</td>\n",
              "      <td>Jeremiah Attaochu</td>\n",
              "      <td>OLB</td>\n",
              "      <td>6-3</td>\n",
              "      <td>252.0</td>\n",
              "      <td>Los Angeles Chargers</td>\n",
              "      <td>1993-01-17</td>\n",
              "      <td>Ibadan, Nigeria</td>\n",
              "      <td>None</td>\n",
              "      <td>Georgia Tech</td>\n",
              "      <td>Archbishop Carroll, DE</td>\n",
              "      <td>San Diego Chargers</td>\n",
              "      <td>2.0</td>\n",
              "      <td>50.0</td>\n",
              "      <td>2014.0</td>\n",
              "      <td>993,150</td>\n",
              "      <td>NaN</td>\n",
              "    </tr>\n",
              "  </tbody>\n",
              "</table>\n",
              "</div>"
            ],
            "text/plain": [
              "      player_id               name  ... current_salary hof_induction_year\n",
              "6454        721  Jeremiah Attaochu  ...        993,150                NaN\n",
              "\n",
              "[1 rows x 17 columns]"
            ]
          },
          "metadata": {
            "tags": []
          },
          "execution_count": 8
        }
      ]
    },
    {
      "cell_type": "markdown",
      "metadata": {
        "id": "FJkkwyLUHum0",
        "colab_type": "text"
      },
      "source": [
        "## Fixing up the data\n",
        "Assuming you did something like sort_values on one of the original columns, you probably got the wrong result.\n",
        "\n",
        "Looking a bit more closely at the results, you'll notice that the current_salary column.  Remembering that we have made the shift from pythonic to pandorable, we can leverage the impressive-sounding \"vectorized string functions\" mentioned in Section XXX of the McKinney book.  Specifically, we can use the str.replace(...) method.  Note that had we use read_csv to load the file we could have used the ```thousands=``` option and avoided all this, but sometimes data doesn't come in a convenient format.\n",
        "\n",
        "One way to apply functions is to operate on a column and then assign the results to another column.  For example, if we wanted to eliminate commas, we could replace them with null strings\n"
      ]
    },
    {
      "cell_type": "code",
      "metadata": {
        "id": "WxcwXzHeHum1",
        "colab_type": "code",
        "outputId": "826cb0fb-7f91-4a18-e9f1-617502654245",
        "colab": {
          "base_uri": "https://localhost:8080/",
          "height": 230
        }
      },
      "source": [
        "nfl_football_players['current_salary'].str.replace(',', '')"
      ],
      "execution_count": 0,
      "outputs": [
        {
          "output_type": "execute_result",
          "data": {
            "text/plain": [
              "0           None\n",
              "1           None\n",
              "2        1075000\n",
              "3           None\n",
              "4           None\n",
              "          ...   \n",
              "25038       None\n",
              "25039       None\n",
              "25040       None\n",
              "25041       None\n",
              "25042       None\n",
              "Name: current_salary, Length: 25043, dtype: object"
            ]
          },
          "metadata": {
            "tags": []
          },
          "execution_count": 9
        }
      ]
    },
    {
      "cell_type": "markdown",
      "metadata": {
        "id": "fIUm5dgGHum3",
        "colab_type": "text"
      },
      "source": [
        "And assign the results to a column in the original dataframe (in this case I'm calling the column current_salary_nocommas)"
      ]
    },
    {
      "cell_type": "code",
      "metadata": {
        "id": "AwJcg0lqHum3",
        "colab_type": "code",
        "colab": {}
      },
      "source": [
        "nfl_football_players['current_salary_nocommas'] = nfl_football_players['current_salary'].str.replace(',', '')"
      ],
      "execution_count": 0,
      "outputs": []
    },
    {
      "cell_type": "markdown",
      "metadata": {
        "id": "0rZ7-Q-eHum6",
        "colab_type": "text"
      },
      "source": [
        "But you'll notice that the type of the column is string, and we want to convert it to a float so we can sort it numerically.  So we can use the astype() function to convert it:"
      ]
    },
    {
      "cell_type": "code",
      "metadata": {
        "id": "SjeymCi8Hum6",
        "colab_type": "code",
        "colab": {}
      },
      "source": [
        "nfl_football_players['current_salary_cleaned'] = nfl_football_players['current_salary_nocommas'].astype(float)"
      ],
      "execution_count": 0,
      "outputs": []
    },
    {
      "cell_type": "code",
      "metadata": {
        "id": "c-Itp6egHum8",
        "colab_type": "code",
        "outputId": "1203e6f3-4ceb-497b-8d56-e185c23cf441",
        "colab": {
          "base_uri": "https://localhost:8080/",
          "height": 161
        }
      },
      "source": [
        "nfl_football_players.head(2)"
      ],
      "execution_count": 0,
      "outputs": [
        {
          "output_type": "execute_result",
          "data": {
            "text/html": [
              "<div>\n",
              "<style scoped>\n",
              "    .dataframe tbody tr th:only-of-type {\n",
              "        vertical-align: middle;\n",
              "    }\n",
              "\n",
              "    .dataframe tbody tr th {\n",
              "        vertical-align: top;\n",
              "    }\n",
              "\n",
              "    .dataframe thead th {\n",
              "        text-align: right;\n",
              "    }\n",
              "</style>\n",
              "<table border=\"1\" class=\"dataframe\">\n",
              "  <thead>\n",
              "    <tr style=\"text-align: right;\">\n",
              "      <th></th>\n",
              "      <th>player_id</th>\n",
              "      <th>name</th>\n",
              "      <th>position</th>\n",
              "      <th>height</th>\n",
              "      <th>weight</th>\n",
              "      <th>current_team</th>\n",
              "      <th>birth_date</th>\n",
              "      <th>birth_place</th>\n",
              "      <th>death_date</th>\n",
              "      <th>college</th>\n",
              "      <th>high_school</th>\n",
              "      <th>draft_team</th>\n",
              "      <th>draft_round</th>\n",
              "      <th>draft_position</th>\n",
              "      <th>draft_year</th>\n",
              "      <th>current_salary</th>\n",
              "      <th>hof_induction_year</th>\n",
              "      <th>current_salary_nocommas</th>\n",
              "      <th>current_salary_cleaned</th>\n",
              "    </tr>\n",
              "  </thead>\n",
              "  <tbody>\n",
              "    <tr>\n",
              "      <th>0</th>\n",
              "      <td>1809</td>\n",
              "      <td>Robert Blackmon</td>\n",
              "      <td>DB</td>\n",
              "      <td>6-0</td>\n",
              "      <td>208.0</td>\n",
              "      <td>None</td>\n",
              "      <td>1967-05-12</td>\n",
              "      <td>Bay City, TX</td>\n",
              "      <td>None</td>\n",
              "      <td>Baylor</td>\n",
              "      <td>Van Vleck, TX</td>\n",
              "      <td>Seattle Seahawks</td>\n",
              "      <td>2.0</td>\n",
              "      <td>34.0</td>\n",
              "      <td>1990.0</td>\n",
              "      <td>None</td>\n",
              "      <td>NaN</td>\n",
              "      <td>None</td>\n",
              "      <td>NaN</td>\n",
              "    </tr>\n",
              "    <tr>\n",
              "      <th>1</th>\n",
              "      <td>23586</td>\n",
              "      <td>Dean Wells</td>\n",
              "      <td>LB</td>\n",
              "      <td>6-3</td>\n",
              "      <td>248.0</td>\n",
              "      <td>None</td>\n",
              "      <td>1970-07-20</td>\n",
              "      <td>Louisville, KY</td>\n",
              "      <td>None</td>\n",
              "      <td>Kentucky</td>\n",
              "      <td>Holy Cross, KY</td>\n",
              "      <td>Seattle Seahawks</td>\n",
              "      <td>4.0</td>\n",
              "      <td>85.0</td>\n",
              "      <td>1993.0</td>\n",
              "      <td>None</td>\n",
              "      <td>NaN</td>\n",
              "      <td>None</td>\n",
              "      <td>NaN</td>\n",
              "    </tr>\n",
              "  </tbody>\n",
              "</table>\n",
              "</div>"
            ],
            "text/plain": [
              "   player_id             name  ... current_salary_nocommas current_salary_cleaned\n",
              "0       1809  Robert Blackmon  ...                    None                    NaN\n",
              "1      23586       Dean Wells  ...                    None                    NaN\n",
              "\n",
              "[2 rows x 19 columns]"
            ]
          },
          "metadata": {
            "tags": []
          },
          "execution_count": 12
        }
      ]
    },
    {
      "cell_type": "markdown",
      "metadata": {
        "id": "p5uKDvXxHum_",
        "colab_type": "text"
      },
      "source": [
        "And now we can re-run our command to sort by salary and get the correct result:"
      ]
    },
    {
      "cell_type": "code",
      "metadata": {
        "id": "dXsvdqerHunA",
        "colab_type": "code",
        "outputId": "81a3e180-f0ab-44a9-b939-1e9d7b1e1f9f",
        "colab": {
          "base_uri": "https://localhost:8080/",
          "height": 114
        }
      },
      "source": [
        "nfl_football_players.sort_values('current_salary_cleaned', ascending=False).head(1)"
      ],
      "execution_count": 0,
      "outputs": [
        {
          "output_type": "execute_result",
          "data": {
            "text/html": [
              "<div>\n",
              "<style scoped>\n",
              "    .dataframe tbody tr th:only-of-type {\n",
              "        vertical-align: middle;\n",
              "    }\n",
              "\n",
              "    .dataframe tbody tr th {\n",
              "        vertical-align: top;\n",
              "    }\n",
              "\n",
              "    .dataframe thead th {\n",
              "        text-align: right;\n",
              "    }\n",
              "</style>\n",
              "<table border=\"1\" class=\"dataframe\">\n",
              "  <thead>\n",
              "    <tr style=\"text-align: right;\">\n",
              "      <th></th>\n",
              "      <th>player_id</th>\n",
              "      <th>name</th>\n",
              "      <th>position</th>\n",
              "      <th>height</th>\n",
              "      <th>weight</th>\n",
              "      <th>current_team</th>\n",
              "      <th>birth_date</th>\n",
              "      <th>birth_place</th>\n",
              "      <th>death_date</th>\n",
              "      <th>college</th>\n",
              "      <th>high_school</th>\n",
              "      <th>draft_team</th>\n",
              "      <th>draft_round</th>\n",
              "      <th>draft_position</th>\n",
              "      <th>draft_year</th>\n",
              "      <th>current_salary</th>\n",
              "      <th>hof_induction_year</th>\n",
              "      <th>current_salary_nocommas</th>\n",
              "      <th>current_salary_cleaned</th>\n",
              "    </tr>\n",
              "  </thead>\n",
              "  <tbody>\n",
              "    <tr>\n",
              "      <th>17756</th>\n",
              "      <td>4644</td>\n",
              "      <td>Kirk Cousins</td>\n",
              "      <td>QB</td>\n",
              "      <td>6-3</td>\n",
              "      <td>214.0</td>\n",
              "      <td>Washington Redskins</td>\n",
              "      <td>1988-08-19</td>\n",
              "      <td>Holland, MI</td>\n",
              "      <td>None</td>\n",
              "      <td>Michigan St.</td>\n",
              "      <td>Holland Christian, MI</td>\n",
              "      <td>Washington Redskins</td>\n",
              "      <td>4.0</td>\n",
              "      <td>102.0</td>\n",
              "      <td>2012.0</td>\n",
              "      <td>23,943,600</td>\n",
              "      <td>NaN</td>\n",
              "      <td>23943600</td>\n",
              "      <td>23943600.0</td>\n",
              "    </tr>\n",
              "  </tbody>\n",
              "</table>\n",
              "</div>"
            ],
            "text/plain": [
              "       player_id          name  ... current_salary_nocommas current_salary_cleaned\n",
              "17756       4644  Kirk Cousins  ...                23943600             23943600.0\n",
              "\n",
              "[1 rows x 19 columns]"
            ]
          },
          "metadata": {
            "tags": []
          },
          "execution_count": 13
        }
      ]
    },
    {
      "cell_type": "markdown",
      "metadata": {
        "id": "-Cy7aIXOHunC",
        "colab_type": "text"
      },
      "source": [
        "## Dropping missing values\n",
        "\n",
        "In addition to the \"all\" or \"any\" functionality described in McKinney section 7.1, it's sometimes useful to drop a row only if a certain column or columns have missing data.  To do this, use the subset= option with dropna().  So, for example, to drop all players for whom we do not have salary information, we could use the following code:"
      ]
    },
    {
      "cell_type": "code",
      "metadata": {
        "id": "SYlSXWxmHunC",
        "colab_type": "code",
        "colab": {}
      },
      "source": [
        "nfl_football_players_salaries = nfl_football_players.dropna(subset=['current_salary_cleaned'])"
      ],
      "execution_count": 0,
      "outputs": []
    },
    {
      "cell_type": "code",
      "metadata": {
        "id": "zRihlaXtHunF",
        "colab_type": "code",
        "outputId": "aa4ab012-a861-4ba4-aa9e-0f94173781f1",
        "colab": {
          "base_uri": "https://localhost:8080/",
          "height": 301
        }
      },
      "source": [
        "nfl_football_players_salaries.head()"
      ],
      "execution_count": 0,
      "outputs": [
        {
          "output_type": "execute_result",
          "data": {
            "text/html": [
              "<div>\n",
              "<style scoped>\n",
              "    .dataframe tbody tr th:only-of-type {\n",
              "        vertical-align: middle;\n",
              "    }\n",
              "\n",
              "    .dataframe tbody tr th {\n",
              "        vertical-align: top;\n",
              "    }\n",
              "\n",
              "    .dataframe thead th {\n",
              "        text-align: right;\n",
              "    }\n",
              "</style>\n",
              "<table border=\"1\" class=\"dataframe\">\n",
              "  <thead>\n",
              "    <tr style=\"text-align: right;\">\n",
              "      <th></th>\n",
              "      <th>player_id</th>\n",
              "      <th>name</th>\n",
              "      <th>position</th>\n",
              "      <th>height</th>\n",
              "      <th>weight</th>\n",
              "      <th>current_team</th>\n",
              "      <th>birth_date</th>\n",
              "      <th>birth_place</th>\n",
              "      <th>death_date</th>\n",
              "      <th>college</th>\n",
              "      <th>high_school</th>\n",
              "      <th>draft_team</th>\n",
              "      <th>draft_round</th>\n",
              "      <th>draft_position</th>\n",
              "      <th>draft_year</th>\n",
              "      <th>current_salary</th>\n",
              "      <th>hof_induction_year</th>\n",
              "      <th>current_salary_nocommas</th>\n",
              "      <th>current_salary_cleaned</th>\n",
              "    </tr>\n",
              "  </thead>\n",
              "  <tbody>\n",
              "    <tr>\n",
              "      <th>2</th>\n",
              "      <td>355</td>\n",
              "      <td>Kiko Alonso</td>\n",
              "      <td>ILB</td>\n",
              "      <td>6-3</td>\n",
              "      <td>238.0</td>\n",
              "      <td>Miami Dolphins</td>\n",
              "      <td>1990-08-14</td>\n",
              "      <td>Newton, MA</td>\n",
              "      <td>None</td>\n",
              "      <td>Oregon</td>\n",
              "      <td>Los Gatos, CA</td>\n",
              "      <td>Buffalo Bills</td>\n",
              "      <td>2.0</td>\n",
              "      <td>46.0</td>\n",
              "      <td>2013.0</td>\n",
              "      <td>1,075,000</td>\n",
              "      <td>NaN</td>\n",
              "      <td>1075000</td>\n",
              "      <td>1075000.0</td>\n",
              "    </tr>\n",
              "    <tr>\n",
              "      <th>6</th>\n",
              "      <td>2701</td>\n",
              "      <td>Preston Brown</td>\n",
              "      <td>ILB</td>\n",
              "      <td>6-1</td>\n",
              "      <td>251.0</td>\n",
              "      <td>Buffalo Bills</td>\n",
              "      <td>1992-10-27</td>\n",
              "      <td>Cincinnati, OH</td>\n",
              "      <td>None</td>\n",
              "      <td>Louisville</td>\n",
              "      <td>Northwest, OH</td>\n",
              "      <td>Buffalo Bills</td>\n",
              "      <td>3.0</td>\n",
              "      <td>73.0</td>\n",
              "      <td>2014.0</td>\n",
              "      <td>1,762,000</td>\n",
              "      <td>NaN</td>\n",
              "      <td>1762000</td>\n",
              "      <td>1762000.0</td>\n",
              "    </tr>\n",
              "    <tr>\n",
              "      <th>13</th>\n",
              "      <td>3966</td>\n",
              "      <td>Frank Clark</td>\n",
              "      <td>DE</td>\n",
              "      <td>6-2</td>\n",
              "      <td>270.0</td>\n",
              "      <td>Seattle Seahawks</td>\n",
              "      <td>1993-06-14</td>\n",
              "      <td>Cleveland, OH</td>\n",
              "      <td>None</td>\n",
              "      <td>Michigan</td>\n",
              "      <td>Glenville, OH</td>\n",
              "      <td>Seattle Seahawks</td>\n",
              "      <td>2.0</td>\n",
              "      <td>63.0</td>\n",
              "      <td>2015.0</td>\n",
              "      <td>774,294</td>\n",
              "      <td>NaN</td>\n",
              "      <td>774294</td>\n",
              "      <td>774294.0</td>\n",
              "    </tr>\n",
              "    <tr>\n",
              "      <th>37</th>\n",
              "      <td>19449</td>\n",
              "      <td>Emmanuel Sanders</td>\n",
              "      <td>WR</td>\n",
              "      <td>5-11</td>\n",
              "      <td>186.0</td>\n",
              "      <td>Denver Broncos</td>\n",
              "      <td>1987-03-16</td>\n",
              "      <td>Bellville, TX</td>\n",
              "      <td>None</td>\n",
              "      <td>SMU</td>\n",
              "      <td>Bellville, TX</td>\n",
              "      <td>Pittsburgh Steelers</td>\n",
              "      <td>3.0</td>\n",
              "      <td>82.0</td>\n",
              "      <td>2010.0</td>\n",
              "      <td>6,750,000</td>\n",
              "      <td>NaN</td>\n",
              "      <td>6750000</td>\n",
              "      <td>6750000.0</td>\n",
              "    </tr>\n",
              "    <tr>\n",
              "      <th>53</th>\n",
              "      <td>17858</td>\n",
              "      <td>Bilal Powell</td>\n",
              "      <td>RB</td>\n",
              "      <td>5-11</td>\n",
              "      <td>204.0</td>\n",
              "      <td>New York Jets</td>\n",
              "      <td>1988-10-27</td>\n",
              "      <td>Lakeland, FL</td>\n",
              "      <td>None</td>\n",
              "      <td>Louisville</td>\n",
              "      <td>Lake Gibson, FL</td>\n",
              "      <td>New York Jets</td>\n",
              "      <td>4.0</td>\n",
              "      <td>126.0</td>\n",
              "      <td>2011.0</td>\n",
              "      <td>3,750,000</td>\n",
              "      <td>NaN</td>\n",
              "      <td>3750000</td>\n",
              "      <td>3750000.0</td>\n",
              "    </tr>\n",
              "  </tbody>\n",
              "</table>\n",
              "</div>"
            ],
            "text/plain": [
              "    player_id  ... current_salary_cleaned\n",
              "2         355  ...              1075000.0\n",
              "6        2701  ...              1762000.0\n",
              "13       3966  ...               774294.0\n",
              "37      19449  ...              6750000.0\n",
              "53      17858  ...              3750000.0\n",
              "\n",
              "[5 rows x 19 columns]"
            ]
          },
          "metadata": {
            "tags": []
          },
          "execution_count": 15
        }
      ]
    },
    {
      "cell_type": "markdown",
      "metadata": {
        "id": "yCQUvjN8HunU",
        "colab_type": "text"
      },
      "source": [
        "# Scraping Tables from HTML"
      ]
    },
    {
      "cell_type": "markdown",
      "metadata": {
        "id": "EggqkmlYHunV",
        "colab_type": "text"
      },
      "source": [
        "The ```pd.read_html``` function returns a list of DataFrames read from an HTML source.  The following line will return a list of DataFrames from https://en.wikipedia.org/wiki/List_of_largest_sports_contracts"
      ]
    },
    {
      "cell_type": "code",
      "metadata": {
        "id": "se4JcqgwHunV",
        "colab_type": "code",
        "colab": {}
      },
      "source": [
        "contracts_scraped = pd.read_html('https://en.wikipedia.org/wiki/List_of_largest_sports_contracts',header=0)"
      ],
      "execution_count": 0,
      "outputs": []
    },
    {
      "cell_type": "code",
      "metadata": {
        "id": "UNsEBWmHHunX",
        "colab_type": "code",
        "outputId": "95d14791-7f26-45d5-ca78-a8425870da02",
        "colab": {
          "base_uri": "https://localhost:8080/",
          "height": 34
        }
      },
      "source": [
        "len(contracts_scraped)"
      ],
      "execution_count": 0,
      "outputs": [
        {
          "output_type": "execute_result",
          "data": {
            "text/plain": [
              "1"
            ]
          },
          "metadata": {
            "tags": []
          },
          "execution_count": 17
        }
      ]
    },
    {
      "cell_type": "markdown",
      "metadata": {
        "id": "-LRwWTTpHunY",
        "colab_type": "text"
      },
      "source": [
        "To get the first table, you'll need to pull off the 0th element:"
      ]
    },
    {
      "cell_type": "code",
      "metadata": {
        "id": "gFkpSb7BHunZ",
        "colab_type": "code",
        "outputId": "a4cec9de-cb2b-4794-8db6-afc51aa91519",
        "colab": {
          "base_uri": "https://localhost:8080/",
          "height": 197
        }
      },
      "source": [
        "contracts = contracts_scraped[0]\n",
        "contracts.head()"
      ],
      "execution_count": 0,
      "outputs": [
        {
          "output_type": "execute_result",
          "data": {
            "text/html": [
              "<div>\n",
              "<style scoped>\n",
              "    .dataframe tbody tr th:only-of-type {\n",
              "        vertical-align: middle;\n",
              "    }\n",
              "\n",
              "    .dataframe tbody tr th {\n",
              "        vertical-align: top;\n",
              "    }\n",
              "\n",
              "    .dataframe thead th {\n",
              "        text-align: right;\n",
              "    }\n",
              "</style>\n",
              "<table border=\"1\" class=\"dataframe\">\n",
              "  <thead>\n",
              "    <tr style=\"text-align: right;\">\n",
              "      <th></th>\n",
              "      <th>Rank</th>\n",
              "      <th>Player</th>\n",
              "      <th>Team/Streaming Service</th>\n",
              "      <th>Sport</th>\n",
              "      <th>Length of contract</th>\n",
              "      <th>Contract value (USD)</th>\n",
              "      <th>Average per year (USD)</th>\n",
              "      <th>Average per fixture (USD)</th>\n",
              "      <th>Ref</th>\n",
              "    </tr>\n",
              "  </thead>\n",
              "  <tbody>\n",
              "    <tr>\n",
              "      <th>0</th>\n",
              "      <td>1</td>\n",
              "      <td>Mike Trout</td>\n",
              "      <td>Los Angeles Angels</td>\n",
              "      <td>Baseball</td>\n",
              "      <td>12 years (2019–2030)</td>\n",
              "      <td>$430,000,000</td>\n",
              "      <td>$35,833,333</td>\n",
              "      <td>$221,193.42</td>\n",
              "      <td>[1]</td>\n",
              "    </tr>\n",
              "    <tr>\n",
              "      <th>1</th>\n",
              "      <td>2</td>\n",
              "      <td>Canelo Álvarez</td>\n",
              "      <td>DAZN*</td>\n",
              "      <td>Boxing</td>\n",
              "      <td>5 years (2018–2023)</td>\n",
              "      <td>$365,000,000</td>\n",
              "      <td>$73,000,000</td>\n",
              "      <td>$33,181,818.18</td>\n",
              "      <td>[2]</td>\n",
              "    </tr>\n",
              "    <tr>\n",
              "      <th>2</th>\n",
              "      <td>3</td>\n",
              "      <td>Bryce Harper</td>\n",
              "      <td>Philadelphia Phillies</td>\n",
              "      <td>Baseball</td>\n",
              "      <td>13 years (2019–2031)</td>\n",
              "      <td>$330,000,000</td>\n",
              "      <td>$25,384,615</td>\n",
              "      <td>$156,695.16</td>\n",
              "      <td>[3]</td>\n",
              "    </tr>\n",
              "    <tr>\n",
              "      <th>3</th>\n",
              "      <td>4</td>\n",
              "      <td>Giancarlo Stanton</td>\n",
              "      <td>Miami Marlins*</td>\n",
              "      <td>Baseball</td>\n",
              "      <td>13 years (2015–2027)</td>\n",
              "      <td>$325,000,000</td>\n",
              "      <td>$25,000,000</td>\n",
              "      <td>$154,320.99</td>\n",
              "      <td>[4]</td>\n",
              "    </tr>\n",
              "    <tr>\n",
              "      <th>4</th>\n",
              "      <td>5</td>\n",
              "      <td>Gerrit Cole</td>\n",
              "      <td>New York Yankees</td>\n",
              "      <td>Baseball</td>\n",
              "      <td>9 years (2020-2028)</td>\n",
              "      <td>$324,000,000</td>\n",
              "      <td>$36,000,000</td>\n",
              "      <td>$222,222.22</td>\n",
              "      <td>[5]</td>\n",
              "    </tr>\n",
              "  </tbody>\n",
              "</table>\n",
              "</div>"
            ],
            "text/plain": [
              "  Rank             Player  ... Average per fixture (USD)  Ref\n",
              "0    1         Mike Trout  ...               $221,193.42  [1]\n",
              "1    2     Canelo Álvarez  ...            $33,181,818.18  [2]\n",
              "2    3       Bryce Harper  ...               $156,695.16  [3]\n",
              "3    4  Giancarlo Stanton  ...               $154,320.99  [4]\n",
              "4    5        Gerrit Cole  ...               $222,222.22  [5]\n",
              "\n",
              "[5 rows x 9 columns]"
            ]
          },
          "metadata": {
            "tags": []
          },
          "execution_count": 18
        }
      ]
    },
    {
      "cell_type": "markdown",
      "metadata": {
        "id": "rOaNq4F-Hunb",
        "colab_type": "text"
      },
      "source": [
        "## Exercise 3 (2 points): \n",
        "\n",
        "Count the number of players from each sport in the List of Largest Sports Contracts \n",
        "\n",
        "Hint:  see value_counts() description above"
      ]
    },
    {
      "cell_type": "code",
      "metadata": {
        "id": "_k91Ez8KHune",
        "colab_type": "code",
        "outputId": "7f912ed7-867e-4ec8-b491-4bf647d1ed3a",
        "colab": {
          "base_uri": "https://localhost:8080/",
          "height": 158
        }
      },
      "source": [
        "contracts['Sport'].value_counts()"
      ],
      "execution_count": 0,
      "outputs": [
        {
          "output_type": "execute_result",
          "data": {
            "text/plain": [
              "Baseball                50\n",
              "Basketball              33\n",
              "American football       11\n",
              "American Football        2\n",
              "Auto racing              1\n",
              "Boxing                   1\n",
              "Association football     1\n",
              "Name: Sport, dtype: int64"
            ]
          },
          "metadata": {
            "tags": []
          },
          "execution_count": 20
        }
      ]
    },
    {
      "cell_type": "markdown",
      "metadata": {
        "id": "ZT7vru3kHuni",
        "colab_type": "text"
      },
      "source": [
        "For the final exercise, we're going to return to the nfl_football_players dataframe we created earlier.  The following question looks deceptively easy.\n",
        "We'd like you to tackle this on in your groups.  We'd like you to first use the whiteboard to come up with a plan to tackle this exercise. \n",
        "You should first list the steps you'll follow and the highlight the steps that you think you'll need to look up extra documentation for.  Members of the first group to complete this exercise **and help another group complete it by explaining how to do it** will receive **two bonus marks**."
      ]
    },
    {
      "cell_type": "markdown",
      "metadata": {
        "id": "QRhLf5mbHuni",
        "colab_type": "text"
      },
      "source": [
        "## Exercise 4 (5 points): \n",
        "Create a new dataframe that contains all the columns in the nfl_football_players dataframe as well as an additional column that contains each player's height in centimeters. Show the first 5 rows of your result.\n",
        "\n",
        "hint: 1 inch = 2.54 cm\n",
        "\n",
        "hint: you can use the vectorized string function str.split() to separate feet and inches from the original dataframe column\n",
        "\n",
        "hint: remember to cast strings to numeric types if you're going to perform math on them\n",
        "\n",
        "hint: you might want to create an intermediate (temporary) DataFrame to help you keep things clear instead of attempting to do \n",
        "this in one line "
      ]
    },
    {
      "cell_type": "code",
      "metadata": {
        "id": "EbAtmZWUHunj",
        "colab_type": "code",
        "outputId": "dad4c519-a933-4b03-f3a8-caf93ac23e9c",
        "colab": {
          "base_uri": "https://localhost:8080/",
          "height": 123
        }
      },
      "source": [
        "nfl_football_players.columns"
      ],
      "execution_count": 0,
      "outputs": [
        {
          "output_type": "execute_result",
          "data": {
            "text/plain": [
              "Index(['player_id', 'name', 'position', 'height', 'weight', 'current_team',\n",
              "       'birth_date', 'birth_place', 'death_date', 'college', 'high_school',\n",
              "       'draft_team', 'draft_round', 'draft_position', 'draft_year',\n",
              "       'current_salary', 'hof_induction_year', 'current_salary_nocommas',\n",
              "       'current_salary_cleaned'],\n",
              "      dtype='object')"
            ]
          },
          "metadata": {
            "tags": []
          },
          "execution_count": 21
        }
      ]
    },
    {
      "cell_type": "code",
      "metadata": {
        "id": "GBWSjtMZHunk",
        "colab_type": "code",
        "outputId": "e64c3c02-aba8-47df-f556-c311de8b1520",
        "colab": {
          "base_uri": "https://localhost:8080/",
          "height": 123
        }
      },
      "source": [
        "nfl_football_players.height.head(5)"
      ],
      "execution_count": 0,
      "outputs": [
        {
          "output_type": "execute_result",
          "data": {
            "text/plain": [
              "0    6-0\n",
              "1    6-3\n",
              "2    6-3\n",
              "3    6-2\n",
              "4    6-0\n",
              "Name: height, dtype: object"
            ]
          },
          "metadata": {
            "tags": []
          },
          "execution_count": 22
        }
      ]
    },
    {
      "cell_type": "code",
      "metadata": {
        "id": "wzoT6-CyHunq",
        "colab_type": "code",
        "colab": {}
      },
      "source": [
        "heights = nfl_football_players.height.str.split('-')"
      ],
      "execution_count": 0,
      "outputs": []
    },
    {
      "cell_type": "code",
      "metadata": {
        "id": "0uWpJRNDHuns",
        "colab_type": "code",
        "outputId": "8916dedd-31d0-4d63-8538-b1bcd905247f",
        "colab": {
          "base_uri": "https://localhost:8080/",
          "height": 123
        }
      },
      "source": [
        "heights.head()"
      ],
      "execution_count": 0,
      "outputs": [
        {
          "output_type": "execute_result",
          "data": {
            "text/plain": [
              "0    [6, 0]\n",
              "1    [6, 3]\n",
              "2    [6, 3]\n",
              "3    [6, 2]\n",
              "4    [6, 0]\n",
              "Name: height, dtype: object"
            ]
          },
          "metadata": {
            "tags": []
          },
          "execution_count": 24
        }
      ]
    },
    {
      "cell_type": "code",
      "metadata": {
        "id": "IISfPSzhHunv",
        "colab_type": "code",
        "colab": {}
      },
      "source": [
        "heights = nfl_football_players.height.str.split('-', expand=True)"
      ],
      "execution_count": 0,
      "outputs": []
    },
    {
      "cell_type": "code",
      "metadata": {
        "id": "dxIxpt7PHunx",
        "colab_type": "code",
        "outputId": "e2143b50-f24c-4b91-a3cb-12929f3a252e",
        "colab": {
          "base_uri": "https://localhost:8080/",
          "height": 197
        }
      },
      "source": [
        "heights.head()"
      ],
      "execution_count": 0,
      "outputs": [
        {
          "output_type": "execute_result",
          "data": {
            "text/html": [
              "<div>\n",
              "<style scoped>\n",
              "    .dataframe tbody tr th:only-of-type {\n",
              "        vertical-align: middle;\n",
              "    }\n",
              "\n",
              "    .dataframe tbody tr th {\n",
              "        vertical-align: top;\n",
              "    }\n",
              "\n",
              "    .dataframe thead th {\n",
              "        text-align: right;\n",
              "    }\n",
              "</style>\n",
              "<table border=\"1\" class=\"dataframe\">\n",
              "  <thead>\n",
              "    <tr style=\"text-align: right;\">\n",
              "      <th></th>\n",
              "      <th>0</th>\n",
              "      <th>1</th>\n",
              "    </tr>\n",
              "  </thead>\n",
              "  <tbody>\n",
              "    <tr>\n",
              "      <th>0</th>\n",
              "      <td>6</td>\n",
              "      <td>0</td>\n",
              "    </tr>\n",
              "    <tr>\n",
              "      <th>1</th>\n",
              "      <td>6</td>\n",
              "      <td>3</td>\n",
              "    </tr>\n",
              "    <tr>\n",
              "      <th>2</th>\n",
              "      <td>6</td>\n",
              "      <td>3</td>\n",
              "    </tr>\n",
              "    <tr>\n",
              "      <th>3</th>\n",
              "      <td>6</td>\n",
              "      <td>2</td>\n",
              "    </tr>\n",
              "    <tr>\n",
              "      <th>4</th>\n",
              "      <td>6</td>\n",
              "      <td>0</td>\n",
              "    </tr>\n",
              "  </tbody>\n",
              "</table>\n",
              "</div>"
            ],
            "text/plain": [
              "   0  1\n",
              "0  6  0\n",
              "1  6  3\n",
              "2  6  3\n",
              "3  6  2\n",
              "4  6  0"
            ]
          },
          "metadata": {
            "tags": []
          },
          "execution_count": 26
        }
      ]
    },
    {
      "cell_type": "code",
      "metadata": {
        "id": "c6s9N-ToHun0",
        "colab_type": "code",
        "colab": {}
      },
      "source": [
        ""
      ],
      "execution_count": 0,
      "outputs": []
    },
    {
      "cell_type": "code",
      "metadata": {
        "id": "B84YF5bVHun1",
        "colab_type": "code",
        "colab": {}
      },
      "source": [
        "heights = nfl_football_players.height.str.split('-', expand = True)\n",
        "nfl_football_players['cm'] = (heights[0].astype(float)*12+heights[1].astype(float))*2.54"
      ],
      "execution_count": 0,
      "outputs": []
    },
    {
      "cell_type": "code",
      "metadata": {
        "id": "bEyImDDZHun3",
        "colab_type": "code",
        "outputId": "a3d7ee7b-6436-4fa7-956b-29ea9a8eb0f2",
        "colab": {
          "base_uri": "https://localhost:8080/",
          "height": 114
        }
      },
      "source": [
        "nfl_football_players.head(1)"
      ],
      "execution_count": 0,
      "outputs": [
        {
          "output_type": "execute_result",
          "data": {
            "text/html": [
              "<div>\n",
              "<style scoped>\n",
              "    .dataframe tbody tr th:only-of-type {\n",
              "        vertical-align: middle;\n",
              "    }\n",
              "\n",
              "    .dataframe tbody tr th {\n",
              "        vertical-align: top;\n",
              "    }\n",
              "\n",
              "    .dataframe thead th {\n",
              "        text-align: right;\n",
              "    }\n",
              "</style>\n",
              "<table border=\"1\" class=\"dataframe\">\n",
              "  <thead>\n",
              "    <tr style=\"text-align: right;\">\n",
              "      <th></th>\n",
              "      <th>player_id</th>\n",
              "      <th>name</th>\n",
              "      <th>position</th>\n",
              "      <th>height</th>\n",
              "      <th>weight</th>\n",
              "      <th>current_team</th>\n",
              "      <th>birth_date</th>\n",
              "      <th>birth_place</th>\n",
              "      <th>death_date</th>\n",
              "      <th>college</th>\n",
              "      <th>high_school</th>\n",
              "      <th>draft_team</th>\n",
              "      <th>draft_round</th>\n",
              "      <th>draft_position</th>\n",
              "      <th>draft_year</th>\n",
              "      <th>current_salary</th>\n",
              "      <th>hof_induction_year</th>\n",
              "      <th>current_salary_nocommas</th>\n",
              "      <th>current_salary_cleaned</th>\n",
              "      <th>cm</th>\n",
              "    </tr>\n",
              "  </thead>\n",
              "  <tbody>\n",
              "    <tr>\n",
              "      <th>0</th>\n",
              "      <td>1809</td>\n",
              "      <td>Robert Blackmon</td>\n",
              "      <td>DB</td>\n",
              "      <td>6-0</td>\n",
              "      <td>208.0</td>\n",
              "      <td>None</td>\n",
              "      <td>1967-05-12</td>\n",
              "      <td>Bay City, TX</td>\n",
              "      <td>None</td>\n",
              "      <td>Baylor</td>\n",
              "      <td>Van Vleck, TX</td>\n",
              "      <td>Seattle Seahawks</td>\n",
              "      <td>2.0</td>\n",
              "      <td>34.0</td>\n",
              "      <td>1990.0</td>\n",
              "      <td>None</td>\n",
              "      <td>NaN</td>\n",
              "      <td>None</td>\n",
              "      <td>NaN</td>\n",
              "      <td>182.88</td>\n",
              "    </tr>\n",
              "  </tbody>\n",
              "</table>\n",
              "</div>"
            ],
            "text/plain": [
              "   player_id             name  ... current_salary_cleaned      cm\n",
              "0       1809  Robert Blackmon  ...                    NaN  182.88\n",
              "\n",
              "[1 rows x 20 columns]"
            ]
          },
          "metadata": {
            "tags": []
          },
          "execution_count": 28
        }
      ]
    },
    {
      "cell_type": "markdown",
      "metadata": {
        "id": "zRYlbKJFHun5",
        "colab_type": "text"
      },
      "source": [
        "# APIs and requests\n",
        "You've covered the ```requests``` package in previous courses.  This example shows what you can do with an API that returns JSON:"
      ]
    },
    {
      "cell_type": "code",
      "metadata": {
        "id": "hEmohOrlHun6",
        "colab_type": "code",
        "colab": {}
      },
      "source": [
        "import requests"
      ],
      "execution_count": 0,
      "outputs": []
    },
    {
      "cell_type": "code",
      "metadata": {
        "id": "9c0pomWvHun8",
        "colab_type": "code",
        "colab": {}
      },
      "source": [
        "url = 'https://api.github.com/repos/pandas-dev/pandas/issues'"
      ],
      "execution_count": 0,
      "outputs": []
    },
    {
      "cell_type": "code",
      "metadata": {
        "id": "x-57cHttHun_",
        "colab_type": "code",
        "outputId": "f17139a5-614a-46ea-8f07-4628186aea8a",
        "colab": {
          "base_uri": "https://localhost:8080/",
          "height": 34
        }
      },
      "source": [
        "resp = requests.get(url)\n",
        "resp"
      ],
      "execution_count": 0,
      "outputs": [
        {
          "output_type": "execute_result",
          "data": {
            "text/plain": [
              "<Response [200]>"
            ]
          },
          "metadata": {
            "tags": []
          },
          "execution_count": 31
        }
      ]
    },
    {
      "cell_type": "code",
      "metadata": {
        "id": "6LpLIUupHuoC",
        "colab_type": "code",
        "colab": {}
      },
      "source": [
        "data = resp.json()"
      ],
      "execution_count": 0,
      "outputs": []
    },
    {
      "cell_type": "code",
      "metadata": {
        "id": "XF16m-n7HuoE",
        "colab_type": "code",
        "outputId": "21b81730-5186-42ae-e4fc-5b31feda87e0",
        "colab": {
          "base_uri": "https://localhost:8080/",
          "height": 34
        }
      },
      "source": [
        "data[0]['title']"
      ],
      "execution_count": 0,
      "outputs": [
        {
          "output_type": "execute_result",
          "data": {
            "text/plain": [
              "'REF: simplify concat_datetime'"
            ]
          },
          "metadata": {
            "tags": []
          },
          "execution_count": 33
        }
      ]
    },
    {
      "cell_type": "code",
      "metadata": {
        "id": "UdqlJwQpHuoG",
        "colab_type": "code",
        "outputId": "fcd3bc83-64cf-470f-c174-98cb97b2e02c",
        "colab": {
          "base_uri": "https://localhost:8080/",
          "height": 434
        }
      },
      "source": [
        "issues = pd.DataFrame(data)\n",
        "issues.head()"
      ],
      "execution_count": 0,
      "outputs": [
        {
          "output_type": "execute_result",
          "data": {
            "text/html": [
              "<div>\n",
              "<style scoped>\n",
              "    .dataframe tbody tr th:only-of-type {\n",
              "        vertical-align: middle;\n",
              "    }\n",
              "\n",
              "    .dataframe tbody tr th {\n",
              "        vertical-align: top;\n",
              "    }\n",
              "\n",
              "    .dataframe thead th {\n",
              "        text-align: right;\n",
              "    }\n",
              "</style>\n",
              "<table border=\"1\" class=\"dataframe\">\n",
              "  <thead>\n",
              "    <tr style=\"text-align: right;\">\n",
              "      <th></th>\n",
              "      <th>url</th>\n",
              "      <th>repository_url</th>\n",
              "      <th>labels_url</th>\n",
              "      <th>comments_url</th>\n",
              "      <th>events_url</th>\n",
              "      <th>html_url</th>\n",
              "      <th>id</th>\n",
              "      <th>node_id</th>\n",
              "      <th>number</th>\n",
              "      <th>title</th>\n",
              "      <th>user</th>\n",
              "      <th>labels</th>\n",
              "      <th>state</th>\n",
              "      <th>locked</th>\n",
              "      <th>assignee</th>\n",
              "      <th>assignees</th>\n",
              "      <th>milestone</th>\n",
              "      <th>comments</th>\n",
              "      <th>created_at</th>\n",
              "      <th>updated_at</th>\n",
              "      <th>closed_at</th>\n",
              "      <th>author_association</th>\n",
              "      <th>pull_request</th>\n",
              "      <th>body</th>\n",
              "    </tr>\n",
              "  </thead>\n",
              "  <tbody>\n",
              "    <tr>\n",
              "      <th>0</th>\n",
              "      <td>https://api.github.com/repos/pandas-dev/pandas...</td>\n",
              "      <td>https://api.github.com/repos/pandas-dev/pandas</td>\n",
              "      <td>https://api.github.com/repos/pandas-dev/pandas...</td>\n",
              "      <td>https://api.github.com/repos/pandas-dev/pandas...</td>\n",
              "      <td>https://api.github.com/repos/pandas-dev/pandas...</td>\n",
              "      <td>https://github.com/pandas-dev/pandas/pull/33526</td>\n",
              "      <td>598920881</td>\n",
              "      <td>MDExOlB1bGxSZXF1ZXN0NDAyNjY5NDQ2</td>\n",
              "      <td>33526</td>\n",
              "      <td>REF: simplify concat_datetime</td>\n",
              "      <td>{'login': 'jbrockmendel', 'id': 8078968, 'node...</td>\n",
              "      <td>[{'id': 127681, 'node_id': 'MDU6TGFiZWwxMjc2OD...</td>\n",
              "      <td>open</td>\n",
              "      <td>False</td>\n",
              "      <td>None</td>\n",
              "      <td>[]</td>\n",
              "      <td>None</td>\n",
              "      <td>0</td>\n",
              "      <td>2020-04-13T14:27:46Z</td>\n",
              "      <td>2020-04-13T14:56:31Z</td>\n",
              "      <td>None</td>\n",
              "      <td>MEMBER</td>\n",
              "      <td>{'url': 'https://api.github.com/repos/pandas-d...</td>\n",
              "      <td>By wrapping dt64/td64 ndarrays in DTA/TDA, we ...</td>\n",
              "    </tr>\n",
              "    <tr>\n",
              "      <th>1</th>\n",
              "      <td>https://api.github.com/repos/pandas-dev/pandas...</td>\n",
              "      <td>https://api.github.com/repos/pandas-dev/pandas</td>\n",
              "      <td>https://api.github.com/repos/pandas-dev/pandas...</td>\n",
              "      <td>https://api.github.com/repos/pandas-dev/pandas...</td>\n",
              "      <td>https://api.github.com/repos/pandas-dev/pandas...</td>\n",
              "      <td>https://github.com/pandas-dev/pandas/pull/33525</td>\n",
              "      <td>598916702</td>\n",
              "      <td>MDExOlB1bGxSZXF1ZXN0NDAyNjY2MTI2</td>\n",
              "      <td>33525</td>\n",
              "      <td>TST: Add Categorical Series test</td>\n",
              "      <td>{'login': 'dsaxton', 'id': 2658661, 'node_id':...</td>\n",
              "      <td>[]</td>\n",
              "      <td>open</td>\n",
              "      <td>False</td>\n",
              "      <td>None</td>\n",
              "      <td>[]</td>\n",
              "      <td>None</td>\n",
              "      <td>0</td>\n",
              "      <td>2020-04-13T14:20:13Z</td>\n",
              "      <td>2020-04-13T14:59:02Z</td>\n",
              "      <td>None</td>\n",
              "      <td>CONTRIBUTOR</td>\n",
              "      <td>{'url': 'https://api.github.com/repos/pandas-d...</td>\n",
              "      <td>Follow up to https://github.com/pandas-dev/pan...</td>\n",
              "    </tr>\n",
              "    <tr>\n",
              "      <th>2</th>\n",
              "      <td>https://api.github.com/repos/pandas-dev/pandas...</td>\n",
              "      <td>https://api.github.com/repos/pandas-dev/pandas</td>\n",
              "      <td>https://api.github.com/repos/pandas-dev/pandas...</td>\n",
              "      <td>https://api.github.com/repos/pandas-dev/pandas...</td>\n",
              "      <td>https://api.github.com/repos/pandas-dev/pandas...</td>\n",
              "      <td>https://github.com/pandas-dev/pandas/issues/33524</td>\n",
              "      <td>598897368</td>\n",
              "      <td>MDU6SXNzdWU1OTg4OTczNjg=</td>\n",
              "      <td>33524</td>\n",
              "      <td>ENH: Canonic SI frequency</td>\n",
              "      <td>{'login': 'JoElfner', 'id': 38665102, 'node_id...</td>\n",
              "      <td>[{'id': 76812, 'node_id': 'MDU6TGFiZWw3NjgxMg=...</td>\n",
              "      <td>open</td>\n",
              "      <td>False</td>\n",
              "      <td>None</td>\n",
              "      <td>[]</td>\n",
              "      <td>None</td>\n",
              "      <td>0</td>\n",
              "      <td>2020-04-13T13:43:44Z</td>\n",
              "      <td>2020-04-13T13:43:44Z</td>\n",
              "      <td>None</td>\n",
              "      <td>CONTRIBUTOR</td>\n",
              "      <td>NaN</td>\n",
              "      <td>Since pandas is widely used for data science, ...</td>\n",
              "    </tr>\n",
              "    <tr>\n",
              "      <th>3</th>\n",
              "      <td>https://api.github.com/repos/pandas-dev/pandas...</td>\n",
              "      <td>https://api.github.com/repos/pandas-dev/pandas</td>\n",
              "      <td>https://api.github.com/repos/pandas-dev/pandas...</td>\n",
              "      <td>https://api.github.com/repos/pandas-dev/pandas...</td>\n",
              "      <td>https://api.github.com/repos/pandas-dev/pandas...</td>\n",
              "      <td>https://github.com/pandas-dev/pandas/pull/33522</td>\n",
              "      <td>598840503</td>\n",
              "      <td>MDExOlB1bGxSZXF1ZXN0NDAyNjA1ODY0</td>\n",
              "      <td>33522</td>\n",
              "      <td>BUG: Fixed concat with reindex and extension t...</td>\n",
              "      <td>{'login': 'TomAugspurger', 'id': 1312546, 'nod...</td>\n",
              "      <td>[{'id': 849023693, 'node_id': 'MDU6TGFiZWw4NDk...</td>\n",
              "      <td>open</td>\n",
              "      <td>False</td>\n",
              "      <td>None</td>\n",
              "      <td>[]</td>\n",
              "      <td>{'url': 'https://api.github.com/repos/pandas-d...</td>\n",
              "      <td>2</td>\n",
              "      <td>2020-04-13T11:35:47Z</td>\n",
              "      <td>2020-04-13T15:11:32Z</td>\n",
              "      <td>None</td>\n",
              "      <td>CONTRIBUTOR</td>\n",
              "      <td>{'url': 'https://api.github.com/repos/pandas-d...</td>\n",
              "      <td>Closes https://github.com/pandas-dev/pandas/is...</td>\n",
              "    </tr>\n",
              "    <tr>\n",
              "      <th>4</th>\n",
              "      <td>https://api.github.com/repos/pandas-dev/pandas...</td>\n",
              "      <td>https://api.github.com/repos/pandas-dev/pandas</td>\n",
              "      <td>https://api.github.com/repos/pandas-dev/pandas...</td>\n",
              "      <td>https://api.github.com/repos/pandas-dev/pandas...</td>\n",
              "      <td>https://api.github.com/repos/pandas-dev/pandas...</td>\n",
              "      <td>https://github.com/pandas-dev/pandas/pull/33521</td>\n",
              "      <td>598832866</td>\n",
              "      <td>MDExOlB1bGxSZXF1ZXN0NDAyNTk5ODUy</td>\n",
              "      <td>33521</td>\n",
              "      <td>TYP: disallow decorator preserves function sig...</td>\n",
              "      <td>{'login': 'simonjayhawkins', 'id': 13159005, '...</td>\n",
              "      <td>[{'id': 1280988427, 'node_id': 'MDU6TGFiZWwxMj...</td>\n",
              "      <td>open</td>\n",
              "      <td>False</td>\n",
              "      <td>None</td>\n",
              "      <td>[]</td>\n",
              "      <td>None</td>\n",
              "      <td>0</td>\n",
              "      <td>2020-04-13T11:19:21Z</td>\n",
              "      <td>2020-04-13T15:12:08Z</td>\n",
              "      <td>None</td>\n",
              "      <td>MEMBER</td>\n",
              "      <td>{'url': 'https://api.github.com/repos/pandas-d...</td>\n",
              "      <td>xref #33455</td>\n",
              "    </tr>\n",
              "  </tbody>\n",
              "</table>\n",
              "</div>"
            ],
            "text/plain": [
              "                                                 url  ...                                               body\n",
              "0  https://api.github.com/repos/pandas-dev/pandas...  ...  By wrapping dt64/td64 ndarrays in DTA/TDA, we ...\n",
              "1  https://api.github.com/repos/pandas-dev/pandas...  ...  Follow up to https://github.com/pandas-dev/pan...\n",
              "2  https://api.github.com/repos/pandas-dev/pandas...  ...  Since pandas is widely used for data science, ...\n",
              "3  https://api.github.com/repos/pandas-dev/pandas...  ...  Closes https://github.com/pandas-dev/pandas/is...\n",
              "4  https://api.github.com/repos/pandas-dev/pandas...  ...                                        xref #33455\n",
              "\n",
              "[5 rows x 24 columns]"
            ]
          },
          "metadata": {
            "tags": []
          },
          "execution_count": 34
        }
      ]
    },
    {
      "cell_type": "code",
      "metadata": {
        "id": "MRxb94K3HuoJ",
        "colab_type": "code",
        "outputId": "fe575e12-c5cf-41e2-fe96-b53f501658cc",
        "colab": {
          "base_uri": "https://localhost:8080/",
          "height": 123
        }
      },
      "source": [
        "issues.columns"
      ],
      "execution_count": 0,
      "outputs": [
        {
          "output_type": "execute_result",
          "data": {
            "text/plain": [
              "Index(['url', 'repository_url', 'labels_url', 'comments_url', 'events_url',\n",
              "       'html_url', 'id', 'node_id', 'number', 'title', 'user', 'labels',\n",
              "       'state', 'locked', 'assignee', 'assignees', 'milestone', 'comments',\n",
              "       'created_at', 'updated_at', 'closed_at', 'author_association',\n",
              "       'pull_request', 'body'],\n",
              "      dtype='object')"
            ]
          },
          "metadata": {
            "tags": []
          },
          "execution_count": 35
        }
      ]
    },
    {
      "cell_type": "code",
      "metadata": {
        "id": "KPmL5KkoHuoL",
        "colab_type": "code",
        "outputId": "4d2d34ad-f7ca-4a80-899e-b1aeae73f350",
        "colab": {
          "base_uri": "https://localhost:8080/",
          "height": 197
        }
      },
      "source": [
        "issues = pd.DataFrame(data, columns=['number', 'title','labels', 'state'])\n",
        "issues.head()"
      ],
      "execution_count": 0,
      "outputs": [
        {
          "output_type": "execute_result",
          "data": {
            "text/html": [
              "<div>\n",
              "<style scoped>\n",
              "    .dataframe tbody tr th:only-of-type {\n",
              "        vertical-align: middle;\n",
              "    }\n",
              "\n",
              "    .dataframe tbody tr th {\n",
              "        vertical-align: top;\n",
              "    }\n",
              "\n",
              "    .dataframe thead th {\n",
              "        text-align: right;\n",
              "    }\n",
              "</style>\n",
              "<table border=\"1\" class=\"dataframe\">\n",
              "  <thead>\n",
              "    <tr style=\"text-align: right;\">\n",
              "      <th></th>\n",
              "      <th>number</th>\n",
              "      <th>title</th>\n",
              "      <th>labels</th>\n",
              "      <th>state</th>\n",
              "    </tr>\n",
              "  </thead>\n",
              "  <tbody>\n",
              "    <tr>\n",
              "      <th>0</th>\n",
              "      <td>33526</td>\n",
              "      <td>REF: simplify concat_datetime</td>\n",
              "      <td>[{'id': 127681, 'node_id': 'MDU6TGFiZWwxMjc2OD...</td>\n",
              "      <td>open</td>\n",
              "    </tr>\n",
              "    <tr>\n",
              "      <th>1</th>\n",
              "      <td>33525</td>\n",
              "      <td>TST: Add Categorical Series test</td>\n",
              "      <td>[]</td>\n",
              "      <td>open</td>\n",
              "    </tr>\n",
              "    <tr>\n",
              "      <th>2</th>\n",
              "      <td>33524</td>\n",
              "      <td>ENH: Canonic SI frequency</td>\n",
              "      <td>[{'id': 76812, 'node_id': 'MDU6TGFiZWw3NjgxMg=...</td>\n",
              "      <td>open</td>\n",
              "    </tr>\n",
              "    <tr>\n",
              "      <th>3</th>\n",
              "      <td>33522</td>\n",
              "      <td>BUG: Fixed concat with reindex and extension t...</td>\n",
              "      <td>[{'id': 849023693, 'node_id': 'MDU6TGFiZWw4NDk...</td>\n",
              "      <td>open</td>\n",
              "    </tr>\n",
              "    <tr>\n",
              "      <th>4</th>\n",
              "      <td>33521</td>\n",
              "      <td>TYP: disallow decorator preserves function sig...</td>\n",
              "      <td>[{'id': 1280988427, 'node_id': 'MDU6TGFiZWwxMj...</td>\n",
              "      <td>open</td>\n",
              "    </tr>\n",
              "  </tbody>\n",
              "</table>\n",
              "</div>"
            ],
            "text/plain": [
              "   number  ... state\n",
              "0   33526  ...  open\n",
              "1   33525  ...  open\n",
              "2   33524  ...  open\n",
              "3   33522  ...  open\n",
              "4   33521  ...  open\n",
              "\n",
              "[5 rows x 4 columns]"
            ]
          },
          "metadata": {
            "tags": []
          },
          "execution_count": 36
        }
      ]
    },
    {
      "cell_type": "markdown",
      "metadata": {
        "id": "mQgcxLr_HuoN",
        "colab_type": "text"
      },
      "source": [
        "# Accessing databases\n",
        "This section is preparation for later in the course, but it's useful to take a look at it in light of the topic of \"loading data\".\n",
        "\n",
        "We'll use this opportunity to gauge where we're at in terms of understanding SQL.\n",
        "\n",
        "---\n",
        "\n"
      ]
    },
    {
      "cell_type": "code",
      "metadata": {
        "id": "b9n7KFE8HuoO",
        "colab_type": "code",
        "colab": {}
      },
      "source": [
        "import sqlalchemy as sqla"
      ],
      "execution_count": 0,
      "outputs": []
    },
    {
      "cell_type": "code",
      "metadata": {
        "id": "mSexs_HpS5mw",
        "colab_type": "code",
        "outputId": "90d78fc0-adaf-4a9d-faa6-676afc285b14",
        "colab": {
          "base_uri": "https://localhost:8080/",
          "height": 34
        }
      },
      "source": [
        "!pip install pymysql"
      ],
      "execution_count": 0,
      "outputs": [
        {
          "output_type": "stream",
          "text": [
            "Requirement already satisfied: pymysql in /usr/local/lib/python3.6/dist-packages (0.9.3)\n"
          ],
          "name": "stdout"
        }
      ]
    },
    {
      "cell_type": "code",
      "metadata": {
        "id": "mZb8yjitHuoQ",
        "colab_type": "code",
        "colab": {}
      },
      "source": [
        "#@title Database parameters { form-width: \"25%\" }\n",
        "endpoint = \"database-1.cgeyvh9t1svz.us-east-1.rds.amazonaws.com\" #@param {type:\"string\"}\n",
        "username = \"si370wn2020\" #@param {type:\"string\"}\n",
        "password = \"secret\" #@param {type:\"string\"}\n",
        "database = \"goodreads\" #@param {type:\"string\"}\n",
        "\n",
        "db = sqla.create_engine(f'mysql+pymysql://{username}:{password}@{endpoint}/{database}')"
      ],
      "execution_count": 0,
      "outputs": []
    },
    {
      "cell_type": "code",
      "metadata": {
        "id": "TTF2_I3VZD_L",
        "colab_type": "code",
        "outputId": "3a039d61-c963-408d-cfb8-0b7a80e35c94",
        "colab": {
          "base_uri": "https://localhost:8080/",
          "height": 77
        }
      },
      "source": [
        "df = pd.read_sql('select count(*) from ratings',db)\n",
        "df.head()"
      ],
      "execution_count": 0,
      "outputs": [
        {
          "output_type": "execute_result",
          "data": {
            "text/html": [
              "<div>\n",
              "<style scoped>\n",
              "    .dataframe tbody tr th:only-of-type {\n",
              "        vertical-align: middle;\n",
              "    }\n",
              "\n",
              "    .dataframe tbody tr th {\n",
              "        vertical-align: top;\n",
              "    }\n",
              "\n",
              "    .dataframe thead th {\n",
              "        text-align: right;\n",
              "    }\n",
              "</style>\n",
              "<table border=\"1\" class=\"dataframe\">\n",
              "  <thead>\n",
              "    <tr style=\"text-align: right;\">\n",
              "      <th></th>\n",
              "      <th>count(*)</th>\n",
              "    </tr>\n",
              "  </thead>\n",
              "  <tbody>\n",
              "    <tr>\n",
              "      <th>0</th>\n",
              "      <td>5976479</td>\n",
              "    </tr>\n",
              "  </tbody>\n",
              "</table>\n",
              "</div>"
            ],
            "text/plain": [
              "   count(*)\n",
              "0   5976479"
            ]
          },
          "metadata": {
            "tags": []
          },
          "execution_count": 68
        }
      ]
    },
    {
      "cell_type": "code",
      "metadata": {
        "id": "Oi4_WCvxHuoR",
        "colab_type": "code",
        "colab": {}
      },
      "source": [
        "df = pd.read_sql('select rating, count(*) from ratings group by rating', db)"
      ],
      "execution_count": 0,
      "outputs": []
    },
    {
      "cell_type": "code",
      "metadata": {
        "id": "db6S3BF0HuoU",
        "colab_type": "code",
        "outputId": "5b3c4f79-df8a-4af0-ba81-697541e9ce82",
        "colab": {
          "base_uri": "https://localhost:8080/",
          "height": 197
        }
      },
      "source": [
        "df.head()"
      ],
      "execution_count": 0,
      "outputs": [
        {
          "output_type": "execute_result",
          "data": {
            "text/html": [
              "<div>\n",
              "<style scoped>\n",
              "    .dataframe tbody tr th:only-of-type {\n",
              "        vertical-align: middle;\n",
              "    }\n",
              "\n",
              "    .dataframe tbody tr th {\n",
              "        vertical-align: top;\n",
              "    }\n",
              "\n",
              "    .dataframe thead th {\n",
              "        text-align: right;\n",
              "    }\n",
              "</style>\n",
              "<table border=\"1\" class=\"dataframe\">\n",
              "  <thead>\n",
              "    <tr style=\"text-align: right;\">\n",
              "      <th></th>\n",
              "      <th>rating</th>\n",
              "      <th>count(*)</th>\n",
              "    </tr>\n",
              "  </thead>\n",
              "  <tbody>\n",
              "    <tr>\n",
              "      <th>0</th>\n",
              "      <td>1</td>\n",
              "      <td>124195</td>\n",
              "    </tr>\n",
              "    <tr>\n",
              "      <th>1</th>\n",
              "      <td>2</td>\n",
              "      <td>359257</td>\n",
              "    </tr>\n",
              "    <tr>\n",
              "      <th>2</th>\n",
              "      <td>3</td>\n",
              "      <td>1370916</td>\n",
              "    </tr>\n",
              "    <tr>\n",
              "      <th>3</th>\n",
              "      <td>4</td>\n",
              "      <td>2139018</td>\n",
              "    </tr>\n",
              "    <tr>\n",
              "      <th>4</th>\n",
              "      <td>5</td>\n",
              "      <td>1983093</td>\n",
              "    </tr>\n",
              "  </tbody>\n",
              "</table>\n",
              "</div>"
            ],
            "text/plain": [
              "   rating  count(*)\n",
              "0       1    124195\n",
              "1       2    359257\n",
              "2       3   1370916\n",
              "3       4   2139018\n",
              "4       5   1983093"
            ]
          },
          "metadata": {
            "tags": []
          },
          "execution_count": 66
        }
      ]
    },
    {
      "cell_type": "code",
      "metadata": {
        "id": "VYmpXVuhVf-p",
        "colab_type": "code",
        "colab": {}
      },
      "source": [
        ""
      ],
      "execution_count": 0,
      "outputs": []
    }
  ]
}