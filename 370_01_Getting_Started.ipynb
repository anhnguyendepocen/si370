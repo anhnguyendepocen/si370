{
  "nbformat": 4,
  "nbformat_minor": 0,
  "metadata": {
    "celltoolbar": "Slideshow",
    "kernelspec": {
      "display_name": "Python 3",
      "language": "python",
      "name": "python3"
    },
    "language_info": {
      "codemirror_mode": {
        "name": "ipython",
        "version": 3
      },
      "file_extension": ".py",
      "mimetype": "text/x-python",
      "name": "python",
      "nbconvert_exporter": "python",
      "pygments_lexer": "ipython3",
      "version": "3.7.1"
    },
    "nteract": {
      "version": "nteract-on-jupyter@1.9.6"
    },
    "colab": {
      "name": "370_01_Getting_Started.ipynb",
      "provenance": [],
      "toc_visible": true,
      "include_colab_link": true
    }
  },
  "cells": [
    {
      "cell_type": "markdown",
      "metadata": {
        "id": "view-in-github",
        "colab_type": "text"
      },
      "source": [
        "<a href=\"https://colab.research.google.com/github/umsi-data-science/si370/blob/fa2019/370_01_Getting_Started.ipynb\" target=\"_parent\"><img src=\"https://colab.research.google.com/assets/colab-badge.svg\" alt=\"Open In Colab\"/></a>"
      ]
    },
    {
      "cell_type": "markdown",
      "metadata": {
        "id": "GXQHk10R_AQ2",
        "colab_type": "text"
      },
      "source": [
        "<H1>SI 370 Day 1: Introduction</H1>\n",
        "Dr. Chris Teplovs, School of Information, University of Michigan\n",
        "<p>\n",
        "<small><a rel=\"license\" href=\"http://creativecommons.org/licenses/by-nc-sa/4.0/\"><img alt=\"Creative Commons License\" style=\"border-width:0\" src=\"https://i.creativecommons.org/l/by-nc-sa/4.0/88x31.png\" /></a> This work is licensed under a <a rel=\"license\" href=\"http://creativecommons.org/licenses/by-nc-sa/4.0/\">Creative Commons Attribution-NonCommercial-ShareAlike 4.0 International License</a>.\n",
        "</small>\n",
        "</p>"
      ]
    },
    {
      "cell_type": "markdown",
      "metadata": {
        "id": "1a4rvnpk_AQ3",
        "colab_type": "text"
      },
      "source": [
        "## Learning Objectives\n",
        "* install and run JupyterLab\n",
        "* ensure you can install needed libraries\n",
        "* be able to run a class notebook\n",
        "* write your first code in this class\n",
        "* practice submitting an assignment"
      ]
    },
    {
      "cell_type": "markdown",
      "metadata": {
        "id": "TmMYkmY5_AQ4",
        "colab_type": "text"
      },
      "source": [
        "<font color=\"magenta\">IMPORTANT:</font> Replace ```?``` in the following code with your uniqname."
      ]
    },
    {
      "cell_type": "code",
      "metadata": {
        "id": "kF-uknUv_AQ5",
        "colab_type": "code",
        "colab": {}
      },
      "source": [
        "MY_UNIQNAME = '?'"
      ],
      "execution_count": 0,
      "outputs": []
    },
    {
      "cell_type": "markdown",
      "metadata": {
        "id": "ccXukBeS_AQ-",
        "colab_type": "text"
      },
      "source": [
        "First, let's load the pandas library (this should be familiar to you):"
      ]
    },
    {
      "cell_type": "code",
      "metadata": {
        "scrolled": true,
        "id": "ZidGDpKV_AQ-",
        "colab_type": "code",
        "colab": {}
      },
      "source": [
        "import pandas as pd"
      ],
      "execution_count": 0,
      "outputs": []
    },
    {
      "cell_type": "markdown",
      "metadata": {
        "id": "woMWbEvR_ARB",
        "colab_type": "text"
      },
      "source": [
        "We're going to load a bunch of data files from the data/names directory.  If you look at that directory you'll see a bunch of files that are names ```yobXXXX.txt``` where XXXX is a year.  The years range from 1880 to 2014, \n",
        "so let's use python's range function to create a list of years:"
      ]
    },
    {
      "cell_type": "code",
      "metadata": {
        "id": "ygluwevC_ARC",
        "colab_type": "code",
        "colab": {}
      },
      "source": [
        "years = range(1880, 2015)"
      ],
      "execution_count": 0,
      "outputs": []
    },
    {
      "cell_type": "markdown",
      "metadata": {
        "id": "ChPIgCBs_ARE",
        "colab_type": "text"
      },
      "source": [
        "And let's remind ourselves how range works by examining the first and last elements of the list:"
      ]
    },
    {
      "cell_type": "code",
      "metadata": {
        "scrolled": true,
        "id": "uuD06BG6_ARF",
        "colab_type": "code",
        "colab": {}
      },
      "source": [
        "print(years[0],years[-1])"
      ],
      "execution_count": 0,
      "outputs": []
    },
    {
      "cell_type": "markdown",
      "metadata": {
        "id": "-qJ9-1G0_ARI",
        "colab_type": "text"
      },
      "source": [
        "The next cell block initializes another empty list (```pieces```), \n",
        "which we append with a pandas DataFrame (which we'll get to next class),\n",
        "the concatenates all those dataframes into one big DataFrame called ```df_names```:"
      ]
    },
    {
      "cell_type": "code",
      "metadata": {
        "id": "cDfyNfrR_ARJ",
        "colab_type": "code",
        "colab": {}
      },
      "source": [
        "pieces = []\n",
        "for year in years:\n",
        "    path = f'https://raw.githubusercontent.com/umsi-data-science/si370/fa2019/data/names/yob{year}.csv'\n",
        "    print(path)\n",
        "    frame = pd.read_csv(path)\n",
        "    frame['year'] = year\n",
        "    pieces.append(frame)\n",
        "df_names = pd.concat(pieces, ignore_index=True)"
      ],
      "execution_count": 0,
      "outputs": []
    },
    {
      "cell_type": "markdown",
      "metadata": {
        "id": "7kYO7VXp_ARL",
        "colab_type": "text"
      },
      "source": [
        "Execute the next block . You will see what the DataFrame looks like. It includes the number of births for each name/gender combination for each year. \"df_\" means DataFrame."
      ]
    },
    {
      "cell_type": "code",
      "metadata": {
        "id": "G9SmBQ4a_ARM",
        "colab_type": "code",
        "colab": {}
      },
      "source": [
        "df_names.head()"
      ],
      "execution_count": 0,
      "outputs": []
    },
    {
      "cell_type": "markdown",
      "metadata": {
        "id": "koHb6Ap4_ARP",
        "colab_type": "text"
      },
      "source": [
        "We want to visualize the number of births of a specific baby name (e.g., \"Jane\") and of a recorded gender (e.g. \"F\") across the years. First, execute the following code to select birth records just for \"Jane\" and \"F\":"
      ]
    },
    {
      "cell_type": "code",
      "metadata": {
        "id": "R1Ie3oTq_ARQ",
        "colab_type": "code",
        "colab": {},
        "cellView": "both"
      },
      "source": [
        "#@title Filtering by name and gender\n",
        "name = \"Jane\" #@param {type:\"string\"}\n",
        "gender = \"F\" #@param [\"F\", \"M\"]\n",
        "\n",
        "df_filtered = df_names[(df_names.name == name) & (df_names.gender == gender)]"
      ],
      "execution_count": 0,
      "outputs": []
    },
    {
      "cell_type": "code",
      "metadata": {
        "id": "x5NMt7DE_ARS",
        "colab_type": "code",
        "colab": {}
      },
      "source": [
        "df_filtered.head()"
      ],
      "execution_count": 0,
      "outputs": []
    },
    {
      "cell_type": "markdown",
      "metadata": {
        "id": "SciTtRlgO0jY",
        "colab_type": "text"
      },
      "source": [
        "Now go back and use the Colab form to change the name and gender values, just to give you a sense of what you can do with forms in Google Colab.  Note how the form functionality is embedded in the actual code itself:  it takes the form of a comment symbol (#) followed by @param.  I don't recommend messing with that directly unless you feel adventurous."
      ]
    },
    {
      "cell_type": "markdown",
      "metadata": {
        "id": "TWYSwGIc_ARU",
        "colab_type": "text"
      },
      "source": [
        "To create a plot, execute the following code. The first line starting with \"%\" is a command that enables inline plotting for the matplotlib library in Jupyter Notebook. This line needs to be executed only once per session."
      ]
    },
    {
      "cell_type": "code",
      "metadata": {
        "id": "42sKAvVw_ARV",
        "colab_type": "code",
        "colab": {}
      },
      "source": [
        "%matplotlib inline\n",
        "df_filtered.plot('year', 'birth_count', title=name)"
      ],
      "execution_count": 0,
      "outputs": []
    },
    {
      "cell_type": "markdown",
      "metadata": {
        "id": "bjkyMLfr_ARY",
        "colab_type": "text"
      },
      "source": [
        "## <font color=\"magenta\">Exercise 1 </font>\n",
        "(4 points): Create a similar graph for all the female babies named \"Mike\"\n",
        "Hint: Copy and paste the code above that looks like\n",
        "```df_mike = df_names[(df_names.name == 'Mike') & (df_names.gender == 'M')]``` and chamge 'M' to 'F' to get started.  You might want to assign the results to \n",
        "another DataFrame"
      ]
    },
    {
      "cell_type": "code",
      "metadata": {
        "id": "rOHEQZ8u_ARZ",
        "colab_type": "code",
        "colab": {}
      },
      "source": [
        "# insert your code here in one or more cells"
      ],
      "execution_count": 0,
      "outputs": []
    },
    {
      "cell_type": "markdown",
      "metadata": {
        "id": "v8mD9HMM_ARb",
        "colab_type": "text"
      },
      "source": [
        "## <font color=\"magenta\">Exercise 2</font>\n",
        " (3 points): Describe the differences between the two graphs in one or two paragraphs using complete sentences."
      ]
    },
    {
      "cell_type": "markdown",
      "metadata": {
        "id": "0jZ-Vlvc_ARb",
        "colab_type": "text"
      },
      "source": [
        "Replace this with your response."
      ]
    },
    {
      "cell_type": "markdown",
      "metadata": {
        "id": "XUWBSJnc_ARc",
        "colab_type": "text"
      },
      "source": [
        "## <font color=\"magenta\">Exercise 3</font>\n",
        "(3 points): Suggest or hypothesize reasons that may explain the patterns you see in the graphs and the differences between them."
      ]
    },
    {
      "cell_type": "markdown",
      "metadata": {
        "id": "i5LdeJEA_ARc",
        "colab_type": "text"
      },
      "source": [
        "Replace this with your response."
      ]
    },
    {
      "cell_type": "markdown",
      "metadata": {
        "id": "wPLuxCSI_ARd",
        "colab_type": "text"
      },
      "source": [
        "<font color=\"magenta\">END OF NOTEBOOK</font>\n",
        "\n",
        "Remember to submit this file in HTML format via Canvas."
      ]
    },
    {
      "cell_type": "code",
      "metadata": {
        "id": "VW5nfNaL_ARd",
        "colab_type": "code",
        "colab": {}
      },
      "source": [
        ""
      ],
      "execution_count": 0,
      "outputs": []
    }
  ]
}