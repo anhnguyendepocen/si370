{
  "nbformat": 4,
  "nbformat_minor": 0,
  "metadata": {
    "celltoolbar": "Slideshow",
    "kernelspec": {
      "display_name": "Python 3",
      "language": "python",
      "name": "python3"
    },
    "language_info": {
      "codemirror_mode": {
        "name": "ipython",
        "version": 3
      },
      "file_extension": ".py",
      "mimetype": "text/x-python",
      "name": "python",
      "nbconvert_exporter": "python",
      "pygments_lexer": "ipython3",
      "version": "3.7.1"
    },
    "nteract": {
      "version": "nteract-on-jupyter@1.9.6"
    },
    "colab": {
      "name": "Copy of 370_01_Getting_Started.ipynb",
      "provenance": [],
      "include_colab_link": true
    }
  },
  "cells": [
    {
      "cell_type": "markdown",
      "metadata": {
        "id": "view-in-github",
        "colab_type": "text"
      },
      "source": [
        "<a href=\"https://colab.research.google.com/github/umsi-data-science/si370/blob/master/370_01_Getting_Started.ipynb\" target=\"_parent\"><img src=\"https://colab.research.google.com/assets/colab-badge.svg\" alt=\"Open In Colab\"/></a>"
      ]
    },
    {
      "cell_type": "markdown",
      "metadata": {
        "id": "GXQHk10R_AQ2",
        "colab_type": "text"
      },
      "source": [
        "# Day 1: Getting Started"
      ]
    },
    {
      "cell_type": "markdown",
      "metadata": {
        "id": "1a4rvnpk_AQ3",
        "colab_type": "text"
      },
      "source": [
        "## Learning Objectives\n",
        "* install and run JupyterLab\n",
        "* ensure you can install needed libraries\n",
        "* be able to run a class notebook\n",
        "* write your first code in this class\n",
        "* practice submitting an assignment"
      ]
    },
    {
      "cell_type": "markdown",
      "metadata": {
        "id": "TmMYkmY5_AQ4",
        "colab_type": "text"
      },
      "source": [
        "### IMPORTANT: Replace ```?``` in the following code with your uniqname."
      ]
    },
    {
      "cell_type": "code",
      "metadata": {
        "id": "kF-uknUv_AQ5",
        "colab_type": "code",
        "colab": {}
      },
      "source": [
        "MY_UNIQNAME = '?'"
      ],
      "execution_count": 0,
      "outputs": []
    },
    {
      "cell_type": "markdown",
      "metadata": {
        "id": "ccXukBeS_AQ-",
        "colab_type": "text"
      },
      "source": [
        "First, let's load the pandas library (which we'll cover in more detail next time):"
      ]
    },
    {
      "cell_type": "code",
      "metadata": {
        "scrolled": true,
        "id": "ZidGDpKV_AQ-",
        "colab_type": "code",
        "colab": {}
      },
      "source": [
        "import pandas as pd"
      ],
      "execution_count": 0,
      "outputs": []
    },
    {
      "cell_type": "markdown",
      "metadata": {
        "id": "woMWbEvR_ARB",
        "colab_type": "text"
      },
      "source": [
        "We're going to load a bunch of data files from the data/names directory.  If you look at that directory you'll see a bunch of files that are names ```yobXXXX.txt``` where XXXX is a year.  The years range from 1880 to 2014, \n",
        "so let's use python's range function to create a list of years:"
      ]
    },
    {
      "cell_type": "code",
      "metadata": {
        "id": "ygluwevC_ARC",
        "colab_type": "code",
        "colab": {}
      },
      "source": [
        "years = range(1880, 2015)"
      ],
      "execution_count": 0,
      "outputs": []
    },
    {
      "cell_type": "markdown",
      "metadata": {
        "id": "ChPIgCBs_ARE",
        "colab_type": "text"
      },
      "source": [
        "And let's remind ourselves how range works by examining the first and last elements of the list:"
      ]
    },
    {
      "cell_type": "code",
      "metadata": {
        "scrolled": true,
        "id": "uuD06BG6_ARF",
        "colab_type": "code",
        "outputId": "07959f93-84f4-4277-f113-e903b26da006",
        "colab": {
          "base_uri": "https://localhost:8080/",
          "height": 34
        }
      },
      "source": [
        "print(years[0],years[-1])"
      ],
      "execution_count": 0,
      "outputs": [
        {
          "output_type": "stream",
          "text": [
            "1880 2014\n"
          ],
          "name": "stdout"
        }
      ]
    },
    {
      "cell_type": "code",
      "metadata": {
        "id": "melzvfl4_c31",
        "colab_type": "code",
        "colab": {}
      },
      "source": [
        "base_url = 'https://raw.githubusercontent.com/umsi-data-science/si370/fa2019/data/names/'"
      ],
      "execution_count": 0,
      "outputs": []
    },
    {
      "cell_type": "markdown",
      "metadata": {
        "id": "-qJ9-1G0_ARI",
        "colab_type": "text"
      },
      "source": [
        "The next cell block initializes another empty list (```pieces```), \n",
        "which we append with a pandas DataFrame (which we'll get to next class),\n",
        "the concatenates all those dataframes into one big DataFrame called ```df_names```:"
      ]
    },
    {
      "cell_type": "code",
      "metadata": {
        "id": "cDfyNfrR_ARJ",
        "colab_type": "code",
        "outputId": "8019bbf2-2b45-4b3e-f953-a0242547c7f7",
        "colab": {
          "base_uri": "https://localhost:8080/",
          "height": 1000
        }
      },
      "source": [
        "pieces = []\n",
        "for year in years:\n",
        "    path = f'https://raw.githubusercontent.com/umsi-data-science/si370/fa2019/data/names/yob{year}.csv'\n",
        "    print(path)\n",
        "    frame = pd.read_csv(path)\n",
        "    frame['year'] = year\n",
        "    pieces.append(frame)\n",
        "df_names = pd.concat(pieces, ignore_index=True)"
      ],
      "execution_count": 0,
      "outputs": [
        {
          "output_type": "stream",
          "text": [
            "https://raw.githubusercontent.com/umsi-data-science/si370/fa2019/data/names/yob1880.csv\n",
            "https://raw.githubusercontent.com/umsi-data-science/si370/fa2019/data/names/yob1881.csv\n",
            "https://raw.githubusercontent.com/umsi-data-science/si370/fa2019/data/names/yob1882.csv\n",
            "https://raw.githubusercontent.com/umsi-data-science/si370/fa2019/data/names/yob1883.csv\n",
            "https://raw.githubusercontent.com/umsi-data-science/si370/fa2019/data/names/yob1884.csv\n",
            "https://raw.githubusercontent.com/umsi-data-science/si370/fa2019/data/names/yob1885.csv\n",
            "https://raw.githubusercontent.com/umsi-data-science/si370/fa2019/data/names/yob1886.csv\n",
            "https://raw.githubusercontent.com/umsi-data-science/si370/fa2019/data/names/yob1887.csv\n",
            "https://raw.githubusercontent.com/umsi-data-science/si370/fa2019/data/names/yob1888.csv\n",
            "https://raw.githubusercontent.com/umsi-data-science/si370/fa2019/data/names/yob1889.csv\n",
            "https://raw.githubusercontent.com/umsi-data-science/si370/fa2019/data/names/yob1890.csv\n",
            "https://raw.githubusercontent.com/umsi-data-science/si370/fa2019/data/names/yob1891.csv\n",
            "https://raw.githubusercontent.com/umsi-data-science/si370/fa2019/data/names/yob1892.csv\n",
            "https://raw.githubusercontent.com/umsi-data-science/si370/fa2019/data/names/yob1893.csv\n",
            "https://raw.githubusercontent.com/umsi-data-science/si370/fa2019/data/names/yob1894.csv\n",
            "https://raw.githubusercontent.com/umsi-data-science/si370/fa2019/data/names/yob1895.csv\n",
            "https://raw.githubusercontent.com/umsi-data-science/si370/fa2019/data/names/yob1896.csv\n",
            "https://raw.githubusercontent.com/umsi-data-science/si370/fa2019/data/names/yob1897.csv\n",
            "https://raw.githubusercontent.com/umsi-data-science/si370/fa2019/data/names/yob1898.csv\n",
            "https://raw.githubusercontent.com/umsi-data-science/si370/fa2019/data/names/yob1899.csv\n",
            "https://raw.githubusercontent.com/umsi-data-science/si370/fa2019/data/names/yob1900.csv\n",
            "https://raw.githubusercontent.com/umsi-data-science/si370/fa2019/data/names/yob1901.csv\n",
            "https://raw.githubusercontent.com/umsi-data-science/si370/fa2019/data/names/yob1902.csv\n",
            "https://raw.githubusercontent.com/umsi-data-science/si370/fa2019/data/names/yob1903.csv\n",
            "https://raw.githubusercontent.com/umsi-data-science/si370/fa2019/data/names/yob1904.csv\n",
            "https://raw.githubusercontent.com/umsi-data-science/si370/fa2019/data/names/yob1905.csv\n",
            "https://raw.githubusercontent.com/umsi-data-science/si370/fa2019/data/names/yob1906.csv\n",
            "https://raw.githubusercontent.com/umsi-data-science/si370/fa2019/data/names/yob1907.csv\n",
            "https://raw.githubusercontent.com/umsi-data-science/si370/fa2019/data/names/yob1908.csv\n",
            "https://raw.githubusercontent.com/umsi-data-science/si370/fa2019/data/names/yob1909.csv\n",
            "https://raw.githubusercontent.com/umsi-data-science/si370/fa2019/data/names/yob1910.csv\n",
            "https://raw.githubusercontent.com/umsi-data-science/si370/fa2019/data/names/yob1911.csv\n",
            "https://raw.githubusercontent.com/umsi-data-science/si370/fa2019/data/names/yob1912.csv\n",
            "https://raw.githubusercontent.com/umsi-data-science/si370/fa2019/data/names/yob1913.csv\n",
            "https://raw.githubusercontent.com/umsi-data-science/si370/fa2019/data/names/yob1914.csv\n",
            "https://raw.githubusercontent.com/umsi-data-science/si370/fa2019/data/names/yob1915.csv\n",
            "https://raw.githubusercontent.com/umsi-data-science/si370/fa2019/data/names/yob1916.csv\n",
            "https://raw.githubusercontent.com/umsi-data-science/si370/fa2019/data/names/yob1917.csv\n",
            "https://raw.githubusercontent.com/umsi-data-science/si370/fa2019/data/names/yob1918.csv\n",
            "https://raw.githubusercontent.com/umsi-data-science/si370/fa2019/data/names/yob1919.csv\n",
            "https://raw.githubusercontent.com/umsi-data-science/si370/fa2019/data/names/yob1920.csv\n",
            "https://raw.githubusercontent.com/umsi-data-science/si370/fa2019/data/names/yob1921.csv\n",
            "https://raw.githubusercontent.com/umsi-data-science/si370/fa2019/data/names/yob1922.csv\n",
            "https://raw.githubusercontent.com/umsi-data-science/si370/fa2019/data/names/yob1923.csv\n",
            "https://raw.githubusercontent.com/umsi-data-science/si370/fa2019/data/names/yob1924.csv\n",
            "https://raw.githubusercontent.com/umsi-data-science/si370/fa2019/data/names/yob1925.csv\n",
            "https://raw.githubusercontent.com/umsi-data-science/si370/fa2019/data/names/yob1926.csv\n",
            "https://raw.githubusercontent.com/umsi-data-science/si370/fa2019/data/names/yob1927.csv\n",
            "https://raw.githubusercontent.com/umsi-data-science/si370/fa2019/data/names/yob1928.csv\n",
            "https://raw.githubusercontent.com/umsi-data-science/si370/fa2019/data/names/yob1929.csv\n",
            "https://raw.githubusercontent.com/umsi-data-science/si370/fa2019/data/names/yob1930.csv\n",
            "https://raw.githubusercontent.com/umsi-data-science/si370/fa2019/data/names/yob1931.csv\n",
            "https://raw.githubusercontent.com/umsi-data-science/si370/fa2019/data/names/yob1932.csv\n",
            "https://raw.githubusercontent.com/umsi-data-science/si370/fa2019/data/names/yob1933.csv\n",
            "https://raw.githubusercontent.com/umsi-data-science/si370/fa2019/data/names/yob1934.csv\n",
            "https://raw.githubusercontent.com/umsi-data-science/si370/fa2019/data/names/yob1935.csv\n",
            "https://raw.githubusercontent.com/umsi-data-science/si370/fa2019/data/names/yob1936.csv\n",
            "https://raw.githubusercontent.com/umsi-data-science/si370/fa2019/data/names/yob1937.csv\n",
            "https://raw.githubusercontent.com/umsi-data-science/si370/fa2019/data/names/yob1938.csv\n",
            "https://raw.githubusercontent.com/umsi-data-science/si370/fa2019/data/names/yob1939.csv\n",
            "https://raw.githubusercontent.com/umsi-data-science/si370/fa2019/data/names/yob1940.csv\n",
            "https://raw.githubusercontent.com/umsi-data-science/si370/fa2019/data/names/yob1941.csv\n",
            "https://raw.githubusercontent.com/umsi-data-science/si370/fa2019/data/names/yob1942.csv\n",
            "https://raw.githubusercontent.com/umsi-data-science/si370/fa2019/data/names/yob1943.csv\n",
            "https://raw.githubusercontent.com/umsi-data-science/si370/fa2019/data/names/yob1944.csv\n",
            "https://raw.githubusercontent.com/umsi-data-science/si370/fa2019/data/names/yob1945.csv\n",
            "https://raw.githubusercontent.com/umsi-data-science/si370/fa2019/data/names/yob1946.csv\n",
            "https://raw.githubusercontent.com/umsi-data-science/si370/fa2019/data/names/yob1947.csv\n",
            "https://raw.githubusercontent.com/umsi-data-science/si370/fa2019/data/names/yob1948.csv\n",
            "https://raw.githubusercontent.com/umsi-data-science/si370/fa2019/data/names/yob1949.csv\n",
            "https://raw.githubusercontent.com/umsi-data-science/si370/fa2019/data/names/yob1950.csv\n",
            "https://raw.githubusercontent.com/umsi-data-science/si370/fa2019/data/names/yob1951.csv\n",
            "https://raw.githubusercontent.com/umsi-data-science/si370/fa2019/data/names/yob1952.csv\n",
            "https://raw.githubusercontent.com/umsi-data-science/si370/fa2019/data/names/yob1953.csv\n",
            "https://raw.githubusercontent.com/umsi-data-science/si370/fa2019/data/names/yob1954.csv\n",
            "https://raw.githubusercontent.com/umsi-data-science/si370/fa2019/data/names/yob1955.csv\n",
            "https://raw.githubusercontent.com/umsi-data-science/si370/fa2019/data/names/yob1956.csv\n",
            "https://raw.githubusercontent.com/umsi-data-science/si370/fa2019/data/names/yob1957.csv\n",
            "https://raw.githubusercontent.com/umsi-data-science/si370/fa2019/data/names/yob1958.csv\n",
            "https://raw.githubusercontent.com/umsi-data-science/si370/fa2019/data/names/yob1959.csv\n",
            "https://raw.githubusercontent.com/umsi-data-science/si370/fa2019/data/names/yob1960.csv\n",
            "https://raw.githubusercontent.com/umsi-data-science/si370/fa2019/data/names/yob1961.csv\n",
            "https://raw.githubusercontent.com/umsi-data-science/si370/fa2019/data/names/yob1962.csv\n",
            "https://raw.githubusercontent.com/umsi-data-science/si370/fa2019/data/names/yob1963.csv\n",
            "https://raw.githubusercontent.com/umsi-data-science/si370/fa2019/data/names/yob1964.csv\n",
            "https://raw.githubusercontent.com/umsi-data-science/si370/fa2019/data/names/yob1965.csv\n",
            "https://raw.githubusercontent.com/umsi-data-science/si370/fa2019/data/names/yob1966.csv\n",
            "https://raw.githubusercontent.com/umsi-data-science/si370/fa2019/data/names/yob1967.csv\n",
            "https://raw.githubusercontent.com/umsi-data-science/si370/fa2019/data/names/yob1968.csv\n",
            "https://raw.githubusercontent.com/umsi-data-science/si370/fa2019/data/names/yob1969.csv\n",
            "https://raw.githubusercontent.com/umsi-data-science/si370/fa2019/data/names/yob1970.csv\n",
            "https://raw.githubusercontent.com/umsi-data-science/si370/fa2019/data/names/yob1971.csv\n",
            "https://raw.githubusercontent.com/umsi-data-science/si370/fa2019/data/names/yob1972.csv\n",
            "https://raw.githubusercontent.com/umsi-data-science/si370/fa2019/data/names/yob1973.csv\n",
            "https://raw.githubusercontent.com/umsi-data-science/si370/fa2019/data/names/yob1974.csv\n",
            "https://raw.githubusercontent.com/umsi-data-science/si370/fa2019/data/names/yob1975.csv\n",
            "https://raw.githubusercontent.com/umsi-data-science/si370/fa2019/data/names/yob1976.csv\n",
            "https://raw.githubusercontent.com/umsi-data-science/si370/fa2019/data/names/yob1977.csv\n",
            "https://raw.githubusercontent.com/umsi-data-science/si370/fa2019/data/names/yob1978.csv\n",
            "https://raw.githubusercontent.com/umsi-data-science/si370/fa2019/data/names/yob1979.csv\n",
            "https://raw.githubusercontent.com/umsi-data-science/si370/fa2019/data/names/yob1980.csv\n",
            "https://raw.githubusercontent.com/umsi-data-science/si370/fa2019/data/names/yob1981.csv\n",
            "https://raw.githubusercontent.com/umsi-data-science/si370/fa2019/data/names/yob1982.csv\n",
            "https://raw.githubusercontent.com/umsi-data-science/si370/fa2019/data/names/yob1983.csv\n",
            "https://raw.githubusercontent.com/umsi-data-science/si370/fa2019/data/names/yob1984.csv\n",
            "https://raw.githubusercontent.com/umsi-data-science/si370/fa2019/data/names/yob1985.csv\n",
            "https://raw.githubusercontent.com/umsi-data-science/si370/fa2019/data/names/yob1986.csv\n",
            "https://raw.githubusercontent.com/umsi-data-science/si370/fa2019/data/names/yob1987.csv\n",
            "https://raw.githubusercontent.com/umsi-data-science/si370/fa2019/data/names/yob1988.csv\n",
            "https://raw.githubusercontent.com/umsi-data-science/si370/fa2019/data/names/yob1989.csv\n",
            "https://raw.githubusercontent.com/umsi-data-science/si370/fa2019/data/names/yob1990.csv\n",
            "https://raw.githubusercontent.com/umsi-data-science/si370/fa2019/data/names/yob1991.csv\n",
            "https://raw.githubusercontent.com/umsi-data-science/si370/fa2019/data/names/yob1992.csv\n",
            "https://raw.githubusercontent.com/umsi-data-science/si370/fa2019/data/names/yob1993.csv\n",
            "https://raw.githubusercontent.com/umsi-data-science/si370/fa2019/data/names/yob1994.csv\n",
            "https://raw.githubusercontent.com/umsi-data-science/si370/fa2019/data/names/yob1995.csv\n",
            "https://raw.githubusercontent.com/umsi-data-science/si370/fa2019/data/names/yob1996.csv\n",
            "https://raw.githubusercontent.com/umsi-data-science/si370/fa2019/data/names/yob1997.csv\n",
            "https://raw.githubusercontent.com/umsi-data-science/si370/fa2019/data/names/yob1998.csv\n",
            "https://raw.githubusercontent.com/umsi-data-science/si370/fa2019/data/names/yob1999.csv\n",
            "https://raw.githubusercontent.com/umsi-data-science/si370/fa2019/data/names/yob2000.csv\n",
            "https://raw.githubusercontent.com/umsi-data-science/si370/fa2019/data/names/yob2001.csv\n",
            "https://raw.githubusercontent.com/umsi-data-science/si370/fa2019/data/names/yob2002.csv\n",
            "https://raw.githubusercontent.com/umsi-data-science/si370/fa2019/data/names/yob2003.csv\n",
            "https://raw.githubusercontent.com/umsi-data-science/si370/fa2019/data/names/yob2004.csv\n",
            "https://raw.githubusercontent.com/umsi-data-science/si370/fa2019/data/names/yob2005.csv\n",
            "https://raw.githubusercontent.com/umsi-data-science/si370/fa2019/data/names/yob2006.csv\n",
            "https://raw.githubusercontent.com/umsi-data-science/si370/fa2019/data/names/yob2007.csv\n",
            "https://raw.githubusercontent.com/umsi-data-science/si370/fa2019/data/names/yob2008.csv\n",
            "https://raw.githubusercontent.com/umsi-data-science/si370/fa2019/data/names/yob2009.csv\n",
            "https://raw.githubusercontent.com/umsi-data-science/si370/fa2019/data/names/yob2010.csv\n",
            "https://raw.githubusercontent.com/umsi-data-science/si370/fa2019/data/names/yob2011.csv\n",
            "https://raw.githubusercontent.com/umsi-data-science/si370/fa2019/data/names/yob2012.csv\n",
            "https://raw.githubusercontent.com/umsi-data-science/si370/fa2019/data/names/yob2013.csv\n",
            "https://raw.githubusercontent.com/umsi-data-science/si370/fa2019/data/names/yob2014.csv\n"
          ],
          "name": "stdout"
        }
      ]
    },
    {
      "cell_type": "markdown",
      "metadata": {
        "id": "7kYO7VXp_ARL",
        "colab_type": "text"
      },
      "source": [
        "Execute the next block . You will see what the DataFrame looks like. It includes the number of births for each name/gender combination for each year. \"df_\" means DataFrame."
      ]
    },
    {
      "cell_type": "code",
      "metadata": {
        "id": "G9SmBQ4a_ARM",
        "colab_type": "code",
        "outputId": "9e16ecd7-7ccb-4edc-d9cd-d88950e0cea2",
        "colab": {
          "base_uri": "https://localhost:8080/",
          "height": 195
        }
      },
      "source": [
        "df_names.head()"
      ],
      "execution_count": 0,
      "outputs": [
        {
          "output_type": "execute_result",
          "data": {
            "text/html": [
              "<div>\n",
              "<style scoped>\n",
              "    .dataframe tbody tr th:only-of-type {\n",
              "        vertical-align: middle;\n",
              "    }\n",
              "\n",
              "    .dataframe tbody tr th {\n",
              "        vertical-align: top;\n",
              "    }\n",
              "\n",
              "    .dataframe thead th {\n",
              "        text-align: right;\n",
              "    }\n",
              "</style>\n",
              "<table border=\"1\" class=\"dataframe\">\n",
              "  <thead>\n",
              "    <tr style=\"text-align: right;\">\n",
              "      <th></th>\n",
              "      <th>name</th>\n",
              "      <th>gender</th>\n",
              "      <th>birth_count</th>\n",
              "      <th>year</th>\n",
              "    </tr>\n",
              "  </thead>\n",
              "  <tbody>\n",
              "    <tr>\n",
              "      <th>0</th>\n",
              "      <td>Simeon</td>\n",
              "      <td>M</td>\n",
              "      <td>23</td>\n",
              "      <td>1880</td>\n",
              "    </tr>\n",
              "    <tr>\n",
              "      <th>1</th>\n",
              "      <td>Raoul</td>\n",
              "      <td>M</td>\n",
              "      <td>7</td>\n",
              "      <td>1880</td>\n",
              "    </tr>\n",
              "    <tr>\n",
              "      <th>2</th>\n",
              "      <td>Lou</td>\n",
              "      <td>M</td>\n",
              "      <td>14</td>\n",
              "      <td>1880</td>\n",
              "    </tr>\n",
              "    <tr>\n",
              "      <th>3</th>\n",
              "      <td>Myra</td>\n",
              "      <td>F</td>\n",
              "      <td>83</td>\n",
              "      <td>1880</td>\n",
              "    </tr>\n",
              "    <tr>\n",
              "      <th>4</th>\n",
              "      <td>Alois</td>\n",
              "      <td>M</td>\n",
              "      <td>10</td>\n",
              "      <td>1880</td>\n",
              "    </tr>\n",
              "  </tbody>\n",
              "</table>\n",
              "</div>"
            ],
            "text/plain": [
              "     name gender  birth_count  year\n",
              "0  Simeon      M           23  1880\n",
              "1   Raoul      M            7  1880\n",
              "2     Lou      M           14  1880\n",
              "3    Myra      F           83  1880\n",
              "4   Alois      M           10  1880"
            ]
          },
          "metadata": {
            "tags": []
          },
          "execution_count": 11
        }
      ]
    },
    {
      "cell_type": "markdown",
      "metadata": {
        "id": "koHb6Ap4_ARP",
        "colab_type": "text"
      },
      "source": [
        "We want to visualize the number of births of a specific baby name (e.g., \"Mike\") across the years. First, execute the following code to select birth records just for \"Mike.\""
      ]
    },
    {
      "cell_type": "code",
      "metadata": {
        "id": "R1Ie3oTq_ARQ",
        "colab_type": "code",
        "colab": {}
      },
      "source": [
        "#@title Select name and gender\n",
        "name = \"Jane\" #@param {type:\"string\"}\n",
        "gender = \"F\" #@param [\"F\", \"M\"]\n",
        "\n",
        "df_filtered = df_names[(df_names.name == name) & (df_names.gender == gender)]"
      ],
      "execution_count": 0,
      "outputs": []
    },
    {
      "cell_type": "code",
      "metadata": {
        "id": "x5NMt7DE_ARS",
        "colab_type": "code",
        "outputId": "302e447a-5c73-41d5-f2e0-92c05d549c7d",
        "colab": {
          "base_uri": "https://localhost:8080/",
          "height": 195
        }
      },
      "source": [
        "df_filtered.head()"
      ],
      "execution_count": 0,
      "outputs": [
        {
          "output_type": "execute_result",
          "data": {
            "text/html": [
              "<div>\n",
              "<style scoped>\n",
              "    .dataframe tbody tr th:only-of-type {\n",
              "        vertical-align: middle;\n",
              "    }\n",
              "\n",
              "    .dataframe tbody tr th {\n",
              "        vertical-align: top;\n",
              "    }\n",
              "\n",
              "    .dataframe thead th {\n",
              "        text-align: right;\n",
              "    }\n",
              "</style>\n",
              "<table border=\"1\" class=\"dataframe\">\n",
              "  <thead>\n",
              "    <tr style=\"text-align: right;\">\n",
              "      <th></th>\n",
              "      <th>name</th>\n",
              "      <th>gender</th>\n",
              "      <th>birth_count</th>\n",
              "      <th>year</th>\n",
              "    </tr>\n",
              "  </thead>\n",
              "  <tbody>\n",
              "    <tr>\n",
              "      <th>558</th>\n",
              "      <td>Jane</td>\n",
              "      <td>F</td>\n",
              "      <td>215</td>\n",
              "      <td>1880</td>\n",
              "    </tr>\n",
              "    <tr>\n",
              "      <th>3509</th>\n",
              "      <td>Jane</td>\n",
              "      <td>F</td>\n",
              "      <td>216</td>\n",
              "      <td>1881</td>\n",
              "    </tr>\n",
              "    <tr>\n",
              "      <th>5860</th>\n",
              "      <td>Jane</td>\n",
              "      <td>F</td>\n",
              "      <td>254</td>\n",
              "      <td>1882</td>\n",
              "    </tr>\n",
              "    <tr>\n",
              "      <th>8085</th>\n",
              "      <td>Jane</td>\n",
              "      <td>F</td>\n",
              "      <td>247</td>\n",
              "      <td>1883</td>\n",
              "    </tr>\n",
              "    <tr>\n",
              "      <th>9970</th>\n",
              "      <td>Jane</td>\n",
              "      <td>F</td>\n",
              "      <td>295</td>\n",
              "      <td>1884</td>\n",
              "    </tr>\n",
              "  </tbody>\n",
              "</table>\n",
              "</div>"
            ],
            "text/plain": [
              "      name gender  birth_count  year\n",
              "558   Jane      F          215  1880\n",
              "3509  Jane      F          216  1881\n",
              "5860  Jane      F          254  1882\n",
              "8085  Jane      F          247  1883\n",
              "9970  Jane      F          295  1884"
            ]
          },
          "metadata": {
            "tags": []
          },
          "execution_count": 19
        }
      ]
    },
    {
      "cell_type": "markdown",
      "metadata": {
        "id": "TWYSwGIc_ARU",
        "colab_type": "text"
      },
      "source": [
        "To create a plot, execute the following code. The first line starting with \"%\" is a command that enables inline plotting for the matplotlib library in Jupyter Notebook. This line needs to be executed only once per session."
      ]
    },
    {
      "cell_type": "code",
      "metadata": {
        "id": "42sKAvVw_ARV",
        "colab_type": "code",
        "outputId": "b4e231d7-b2c2-4427-e510-d115069501b1",
        "colab": {
          "base_uri": "https://localhost:8080/",
          "height": 312
        }
      },
      "source": [
        "%matplotlib inline\n",
        "df_mike.plot('year', 'birth_count', title=name)"
      ],
      "execution_count": 0,
      "outputs": [
        {
          "output_type": "execute_result",
          "data": {
            "text/plain": [
              "<matplotlib.axes._subplots.AxesSubplot at 0x7f3adbd506d8>"
            ]
          },
          "metadata": {
            "tags": []
          },
          "execution_count": 20
        },
        {
          "output_type": "display_data",
          "data": {
            "image/png": "[encoded data removed]",
            "text/plain": [
              "<Figure size 432x288 with 1 Axes>"
            ]
          },
          "metadata": {
            "tags": []
          }
        }
      ]
    },
    {
      "cell_type": "markdown",
      "metadata": {
        "id": "bjkyMLfr_ARY",
        "colab_type": "text"
      },
      "source": [
        "## <font color=\"magenta\">Exercise 1 (4 points): Create a similar graph for all the female babies named \"Mike\"</font>\n",
        "Hint: Copy and paste the code above that looks like\n",
        "```df_mike = df_names[(df_names.name == 'Mike') & (df_names.gender == 'M')]``` and chamge 'M' to 'F' to get started.  You might want to assign the results to \n",
        "another DataFrame"
      ]
    },
    {
      "cell_type": "code",
      "metadata": {
        "id": "rOHEQZ8u_ARZ",
        "colab_type": "code",
        "colab": {}
      },
      "source": [
        "# insert your code here in one or more cells"
      ],
      "execution_count": 0,
      "outputs": []
    },
    {
      "cell_type": "markdown",
      "metadata": {
        "id": "v8mD9HMM_ARb",
        "colab_type": "text"
      },
      "source": [
        "## <font color=\"magenta\">Exercise 2 (3 points): Describe the differences between the two graphs in one or two paragraphs using complete sentences. </font>"
      ]
    },
    {
      "cell_type": "markdown",
      "metadata": {
        "id": "0jZ-Vlvc_ARb",
        "colab_type": "text"
      },
      "source": [
        "Replace this with your response."
      ]
    },
    {
      "cell_type": "markdown",
      "metadata": {
        "id": "XUWBSJnc_ARc",
        "colab_type": "text"
      },
      "source": [
        "## <font color=\"magenta\">Exercise 3 (3 points): Suggest or hypothesize reasons that may explain the patterns you see in the graphs and the differences between them. </font>"
      ]
    },
    {
      "cell_type": "markdown",
      "metadata": {
        "id": "i5LdeJEA_ARc",
        "colab_type": "text"
      },
      "source": [
        "Replace this with your response."
      ]
    },
    {
      "cell_type": "markdown",
      "metadata": {
        "id": "wPLuxCSI_ARd",
        "colab_type": "text"
      },
      "source": [
        "# <font color=\"magenta\">END OF NOTEBOOK</font>\n",
        "## Remember to submit this file in HTML format via Canvas."
      ]
    },
    {
      "cell_type": "code",
      "metadata": {
        "id": "VW5nfNaL_ARd",
        "colab_type": "code",
        "colab": {}
      },
      "source": [
        ""
      ],
      "execution_count": 0,
      "outputs": []
    }
  ]
}